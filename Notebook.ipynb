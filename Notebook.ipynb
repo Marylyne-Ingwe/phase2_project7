{
 "cells": [
  {
   "cell_type": "markdown",
   "metadata": {},
   "source": [
    " ## Analyzing Box Office Success Factors :  Data-Driven Insights for Strategic Movie Production\n",
    "\n",
    "                                                   "
   ]
  },
  {
   "cell_type": "markdown",
   "metadata": {},
   "source": [
    "# Introduction"
   ]
  },
  {
   "cell_type": "markdown",
   "metadata": {},
   "source": [
    "As the entertainment landscape rapidly evolves, leading companies are capitalizing on original video content to capture audience attention and drive revenue. Inspired by the success of platforms like Netflix and Amazon Studios, our company has decided to launch a new movie studio to create and distribute original films.\n",
    "\n",
    "However, entering the film industry without prior experience presents significant challenges. The movie business is inherently risky, with high production costs and unpredictable audience preferences. To make informed strategic decisions and mitigate these risks, it is critical to understand what makes a movie successful at the box office.\n",
    "\n",
    "This project seeks to explore and analyze key factors contributing to the commercial success of films. By examining historical box office data and identifying trends across genres, budgets, ratings, cast, and release timing, the goal is to generate actionable insights that will guide our studio in selecting the types of films to produce. The findings will serve as a foundational step in building a data-informed content strategy that aligns with market demand and maximizes profitability.\n",
    "\n"
   ]
  },
  {
   "cell_type": "markdown",
   "metadata": {},
   "source": [
    "# 1. Business Understanding"
   ]
  },
  {
   "cell_type": "markdown",
   "metadata": {},
   "source": [
    "### Stakeholders"
   ]
  },
  {
   "cell_type": "markdown",
   "metadata": {},
   "source": [
    "The primary stakeholders for this analysis are:\n",
    "   1. Head of movie studio: seeks to draw Data-driven insights that will help shape the studio’s production strategy, ensuring alignment with market demand. \n",
    "           \n",
    "   2. Investment team: seeks to Understand what types of films perform well, reduces financial risk and guides profitable investment decisions.\n",
    "\n",
    "   3. Operations team: seeks to Identify trends in successful film production to help streamline planning, budgeting, and resource allocation. \n",
    "\n",
    "   4. Risk management team: seeks to draw Insights into past film failures and successes to help minimize financial and reputational risks in new projects.\n",
    "   \n",
    "   5. Monitoring, Evaluation & Learning team: Performance metrics and trend analysis support continuous improvement and informed decision-making over time."
   ]
  },
  {
   "cell_type": "markdown",
   "metadata": {},
   "source": [
    "### Business Value"
   ]
  },
  {
   "cell_type": "markdown",
   "metadata": {},
   "source": [
    "This analysis delivers key strategic advantages to support the successful launch and growth of our movie studio:\n",
    "   1. Market Alignment: By identifying the genres, themes, and characteristics of high-performing films, we ensure our productions resonate with current audience preferences and market demand.\n",
    "\n",
    "   2. Investment Efficiency: Insights into budget-to-revenue trends allow us to optimize investment decisions, maximizing returns while minimizing wasteful spending on low-potential projects.\n",
    "\n",
    "   3. Content Strategy Development: A data-driven understanding of what works at the box office empowers the studio to build a focused, high-impact film portfolio from the outset.\n",
    "\n",
    "   4. Competitive Positioning: Leveraging historical box office data enables us to benchmark against industry leaders and craft a unique value proposition in a saturated content market.\n",
    "   \n",
    "   5. Risk Reduction: Analyzing past failures and successes helps us avoid common pitfalls in film production, reducing creative and financial risk in a volatile industry."
   ]
  },
  {
   "cell_type": "markdown",
   "metadata": {},
   "source": [
    "### Project goals"
   ]
  },
  {
   "cell_type": "markdown",
   "metadata": {},
   "source": [
    "1. Identify Box Office Success Drivers\n",
    "2. Understand Market Trends\n",
    "3. Develop Actionable Production Insights\n",
    "4. Support Strategic Investment Decisions\n",
    "5. Lay a Foundation for Data-Driven Content Strategy"
   ]
  },
  {
   "cell_type": "markdown",
   "metadata": {},
   "source": [
    "### Data Source"
   ]
  },
  {
   "cell_type": "markdown",
   "metadata": {},
   "source": [
    "We will be analyzing data from multiple movie industry databases, including Box Office Mojo, IMDb, and The Movie Database (TMDb). These sources contain detailed information about film characteristics, box office revenue, audience ratings, and production details for thousands of movies released globally.\n",
    "\n",
    "This comprehensive dataset will allow us to:\n",
    "\n",
    "1. Analyze box office performance across different genres and budget ranges\n",
    "\n",
    "2. Identify patterns in successful film characteristics (e.g., runtime, cast, ratings)\n",
    "\n",
    "3. To determine if release timing and marketing factors significantly affect a film’s worldwide revenue?\n",
    "\n",
    "4. Track changes in audience preferences and industry trends over time\n",
    "\n"
   ]
  },
  {
   "cell_type": "markdown",
   "metadata": {},
   "source": [
    "### Conclusion"
   ]
  },
  {
   "cell_type": "markdown",
   "metadata": {},
   "source": [
    "As our company ventures into the competitive and high-stakes movie industry, a strong understanding of what drives box office success is essential. While we are new to film production, a data-driven approach will allow us to minimize risk, align our content with market demand, and make informed decisions from the outset.\n",
    "\n",
    "This project sets the foundation for that strategy by identifying the key factors that contribute to successful films. Through analyzing industry data, we aim to uncover actionable insights that will inform content choices, guide investment decisions, and position our studio for long-term growth.\n",
    "\n",
    "By translating these findings into clear, practical recommendations, we will empower stakeholders across the organization—from creative development to finance and operations—to collaborate effectively and launch a studio built on insight, not guesswork."
   ]
  },
  {
   "cell_type": "markdown",
   "metadata": {},
   "source": [
    "# 2. DATA UNDERSTANDING\n",
    "### Data Source\n",
    "We will be analyzing data from the following websites and databases that majorly house infomation about movies. They include: Rotten Tomatoes, Box Office Mojo, IMDb, The Movie DB and The Numbers. The goal is to identify trends in high-performing movies at in these datasets to guide a new studio in choosing what types of films to produce for the best chance of commercial success."
   ]
  },
  {
   "cell_type": "markdown",
   "metadata": {},
   "source": [
    "### Initial Data Exploration\n",
    "Import the relevant libraries and read the dataset"
   ]
  },
  {
   "cell_type": "code",
   "execution_count": 2,
   "metadata": {},
   "outputs": [],
   "source": [
    "#import libraries\n",
    "import pandas as pd\n",
    "import numpy as np\n",
    "import matplotlib.pyplot as plt\n",
    "import seaborn as sns\n",
    "import gzip\n",
    "import sqlite3\n",
    "import warnings\n",
    "warnings.filterwarnings('ignore')\n"
   ]
  },
  {
   "cell_type": "markdown",
   "metadata": {},
   "source": [
    "### Exploring the Box Office Movies Dataset"
   ]
  },
  {
   "cell_type": "code",
   "execution_count": 3,
   "metadata": {},
   "outputs": [
    {
     "name": "stdout",
     "output_type": "stream",
     "text": [
      "=== Box Office Mojo Dataset Analysis ===\n",
      "\n",
      "First 5 rows of data:\n",
      "                                         title studio  domestic_gross  \\\n",
      "0                                  Toy Story 3     BV     415000000.0   \n",
      "1                   Alice in Wonderland (2010)     BV     334200000.0   \n",
      "2  Harry Potter and the Deathly Hallows Part 1     WB     296000000.0   \n",
      "3                                    Inception     WB     292600000.0   \n",
      "4                          Shrek Forever After   P/DW     238700000.0   \n",
      "\n",
      "  foreign_gross  year  \n",
      "0     652000000  2010  \n",
      "1     691300000  2010  \n",
      "2     664300000  2010  \n",
      "3     535700000  2010  \n",
      "4     513900000  2010  \n",
      "\n",
      "Dataset Overview:\n",
      "Number of records: 3387\n",
      "Number of columns: 5\n",
      "<class 'pandas.core.frame.DataFrame'>\n",
      "RangeIndex: 3387 entries, 0 to 3386\n",
      "Data columns (total 5 columns):\n",
      " #   Column          Non-Null Count  Dtype  \n",
      "---  ------          --------------  -----  \n",
      " 0   title           3387 non-null   object \n",
      " 1   studio          3382 non-null   object \n",
      " 2   domestic_gross  3359 non-null   float64\n",
      " 3   foreign_gross   2037 non-null   object \n",
      " 4   year            3387 non-null   int64  \n",
      "dtypes: float64(1), int64(1), object(3)\n",
      "memory usage: 666.5 KB\n",
      "\n",
      "Data Quality Analysis:\n",
      "Duplicate records: 0 (0.00%)\n",
      "\n",
      "Missing Values:\n",
      "studio: 5 missing (0.15%)\n",
      "domestic_gross: 28 missing (0.83%)\n",
      "foreign_gross: 1350 missing (39.86%)\n"
     ]
    }
   ],
   "source": [
    "print(\"=== Box Office Mojo Dataset Analysis ===\")\n",
    "\n",
    "# Load Box Office Mojo dataset\n",
    "BOMdf = pd.read_csv('zippedData/bom.movie_gross.csv.gz')\n",
    "\n",
    "# Display basic information\n",
    "print(\"\\nFirst 5 rows of data:\")\n",
    "print(BOMdf.head())\n",
    "\n",
    "# Display dataset info\n",
    "print(\"\\nDataset Overview:\")\n",
    "print(f\"Number of records: {len(BOMdf)}\")\n",
    "print(f\"Number of columns: {len(BOMdf.columns)}\")\n",
    "BOMdf.info(memory_usage='deep')\n",
    "\n",
    "# Check for data quality issues\n",
    "print(\"\\nData Quality Analysis:\")\n",
    "duplicates = BOMdf.duplicated().sum()\n",
    "print(f\"Duplicate records: {duplicates} ({(duplicates/len(BOMdf))*100:.2f}%)\")\n",
    "\n",
    "# Check for missing values\n",
    "null_counts = BOMdf.isnull().sum()\n",
    "print(\"\\nMissing Values:\")\n",
    "for col in BOMdf.columns:\n",
    "    if null_counts[col] > 0:\n",
    "        print(f\"{col}: {null_counts[col]} missing ({(null_counts[col]/len(BOMdf))*100:.2f}%)\")\n"
   ]
  },
  {
   "cell_type": "markdown",
   "metadata": {},
   "source": [
    "Box Mojo dataset has missing values, foreign_gross column having 39.86% missing values while the rest have less than 1% missing values"
   ]
  },
  {
   "cell_type": "code",
   "execution_count": 4,
   "metadata": {},
   "outputs": [
    {
     "data": {
      "text/html": [
       "<div>\n",
       "<style scoped>\n",
       "    .dataframe tbody tr th:only-of-type {\n",
       "        vertical-align: middle;\n",
       "    }\n",
       "\n",
       "    .dataframe tbody tr th {\n",
       "        vertical-align: top;\n",
       "    }\n",
       "\n",
       "    .dataframe thead th {\n",
       "        text-align: right;\n",
       "    }\n",
       "</style>\n",
       "<table border=\"1\" class=\"dataframe\">\n",
       "  <thead>\n",
       "    <tr style=\"text-align: right;\">\n",
       "      <th></th>\n",
       "      <th>title</th>\n",
       "      <th>studio</th>\n",
       "      <th>domestic_gross</th>\n",
       "      <th>foreign_gross</th>\n",
       "      <th>year</th>\n",
       "    </tr>\n",
       "  </thead>\n",
       "  <tbody>\n",
       "    <tr>\n",
       "      <th>0</th>\n",
       "      <td>Toy Story 3</td>\n",
       "      <td>BV</td>\n",
       "      <td>415000000.0</td>\n",
       "      <td>652000000</td>\n",
       "      <td>2010</td>\n",
       "    </tr>\n",
       "    <tr>\n",
       "      <th>1</th>\n",
       "      <td>Alice in Wonderland (2010)</td>\n",
       "      <td>BV</td>\n",
       "      <td>334200000.0</td>\n",
       "      <td>691300000</td>\n",
       "      <td>2010</td>\n",
       "    </tr>\n",
       "    <tr>\n",
       "      <th>2</th>\n",
       "      <td>Harry Potter and the Deathly Hallows Part 1</td>\n",
       "      <td>WB</td>\n",
       "      <td>296000000.0</td>\n",
       "      <td>664300000</td>\n",
       "      <td>2010</td>\n",
       "    </tr>\n",
       "    <tr>\n",
       "      <th>3</th>\n",
       "      <td>Inception</td>\n",
       "      <td>WB</td>\n",
       "      <td>292600000.0</td>\n",
       "      <td>535700000</td>\n",
       "      <td>2010</td>\n",
       "    </tr>\n",
       "    <tr>\n",
       "      <th>4</th>\n",
       "      <td>Shrek Forever After</td>\n",
       "      <td>P/DW</td>\n",
       "      <td>238700000.0</td>\n",
       "      <td>513900000</td>\n",
       "      <td>2010</td>\n",
       "    </tr>\n",
       "    <tr>\n",
       "      <th>...</th>\n",
       "      <td>...</td>\n",
       "      <td>...</td>\n",
       "      <td>...</td>\n",
       "      <td>...</td>\n",
       "      <td>...</td>\n",
       "    </tr>\n",
       "    <tr>\n",
       "      <th>3382</th>\n",
       "      <td>The Quake</td>\n",
       "      <td>Magn.</td>\n",
       "      <td>6200.0</td>\n",
       "      <td>NaN</td>\n",
       "      <td>2018</td>\n",
       "    </tr>\n",
       "    <tr>\n",
       "      <th>3383</th>\n",
       "      <td>Edward II (2018 re-release)</td>\n",
       "      <td>FM</td>\n",
       "      <td>4800.0</td>\n",
       "      <td>NaN</td>\n",
       "      <td>2018</td>\n",
       "    </tr>\n",
       "    <tr>\n",
       "      <th>3384</th>\n",
       "      <td>El Pacto</td>\n",
       "      <td>Sony</td>\n",
       "      <td>2500.0</td>\n",
       "      <td>NaN</td>\n",
       "      <td>2018</td>\n",
       "    </tr>\n",
       "    <tr>\n",
       "      <th>3385</th>\n",
       "      <td>The Swan</td>\n",
       "      <td>Synergetic</td>\n",
       "      <td>2400.0</td>\n",
       "      <td>NaN</td>\n",
       "      <td>2018</td>\n",
       "    </tr>\n",
       "    <tr>\n",
       "      <th>3386</th>\n",
       "      <td>An Actor Prepares</td>\n",
       "      <td>Grav.</td>\n",
       "      <td>1700.0</td>\n",
       "      <td>NaN</td>\n",
       "      <td>2018</td>\n",
       "    </tr>\n",
       "  </tbody>\n",
       "</table>\n",
       "<p>3387 rows × 5 columns</p>\n",
       "</div>"
      ],
      "text/plain": [
       "                                            title      studio  domestic_gross  \\\n",
       "0                                     Toy Story 3          BV     415000000.0   \n",
       "1                      Alice in Wonderland (2010)          BV     334200000.0   \n",
       "2     Harry Potter and the Deathly Hallows Part 1          WB     296000000.0   \n",
       "3                                       Inception          WB     292600000.0   \n",
       "4                             Shrek Forever After        P/DW     238700000.0   \n",
       "...                                           ...         ...             ...   \n",
       "3382                                    The Quake       Magn.          6200.0   \n",
       "3383                  Edward II (2018 re-release)          FM          4800.0   \n",
       "3384                                     El Pacto        Sony          2500.0   \n",
       "3385                                     The Swan  Synergetic          2400.0   \n",
       "3386                            An Actor Prepares       Grav.          1700.0   \n",
       "\n",
       "     foreign_gross  year  \n",
       "0        652000000  2010  \n",
       "1        691300000  2010  \n",
       "2        664300000  2010  \n",
       "3        535700000  2010  \n",
       "4        513900000  2010  \n",
       "...            ...   ...  \n",
       "3382           NaN  2018  \n",
       "3383           NaN  2018  \n",
       "3384           NaN  2018  \n",
       "3385           NaN  2018  \n",
       "3386           NaN  2018  \n",
       "\n",
       "[3387 rows x 5 columns]"
      ]
     },
     "execution_count": 4,
     "metadata": {},
     "output_type": "execute_result"
    }
   ],
   "source": [
    "BOMdf "
   ]
  },
  {
   "cell_type": "markdown",
   "metadata": {},
   "source": [
    "### data quality summary."
   ]
  },
  {
   "cell_type": "code",
   "execution_count": 5,
   "metadata": {},
   "outputs": [
    {
     "name": "stdout",
     "output_type": "stream",
     "text": [
      "=== Box Office Mojo Summary Statistics ===\n",
      "\n",
      "       domestic_gross     year\n",
      "count    3.359000e+03  3387.00\n",
      "mean     2.874585e+07  2013.96\n",
      "std      6.698250e+07     2.48\n",
      "min      1.000000e+02  2010.00\n",
      "25%      1.200000e+05  2012.00\n",
      "50%      1.400000e+06  2014.00\n",
      "75%      2.790000e+07  2016.00\n",
      "max      9.367000e+08  2018.00\n",
      "\n",
      "Distribution Analysis:\n",
      "\n",
      "Domestic Gross:\n",
      "IQR: $27,780,000.00\n",
      "Skewness: 4.72\n",
      "\n",
      "Year:\n",
      "IQR: $4.00\n",
      "Skewness: -0.01\n"
     ]
    }
   ],
   "source": [
    "print(\"=== Box Office Mojo Summary Statistics ===\\n\")\n",
    "\n",
    "# summary statistics\n",
    "summary_stats = BOMdf.describe()\n",
    "print(summary_stats.round(2))\n",
    "\n",
    "# Distribution analysis\n",
    "print(\"\\nDistribution Analysis:\")\n",
    "for col in BOMdf.select_dtypes(include=['float64', 'int64']).columns:\n",
    "    q1 = BOMdf[col].quantile(0.25)\n",
    "    q3 = BOMdf[col].quantile(0.75)\n",
    "    iqr = q3 - q1\n",
    "    print(f\"\\n{col.replace('_', ' ').title()}:\")\n",
    "    print(f\"IQR: ${iqr:,.2f}\")\n",
    "    print(f\"Skewness: {BOMdf[col].skew():.2f}\")"
   ]
  },
  {
   "cell_type": "markdown",
   "metadata": {},
   "source": [
    "### Exploring the IMDB Dataset\n",
    "Import the `zipfile` module to help access the zipped `im.db` sqlite database"
   ]
  },
  {
   "cell_type": "code",
   "execution_count": 6,
   "metadata": {},
   "outputs": [],
   "source": [
    "# unzip the im.db.zip file and eztract the database file\n",
    "import zipfile\n",
    "\n",
    "with zipfile.ZipFile('zippedData/im.db.zip', 'r') as zip_ref:\n",
    "    zip_ref.extractall('zippedData/')"
   ]
  },
  {
   "cell_type": "markdown",
   "metadata": {},
   "source": [
    "Create a connection `conn` to the database using `sqlite3` module"
   ]
  },
  {
   "cell_type": "code",
   "execution_count": 7,
   "metadata": {},
   "outputs": [
    {
     "name": "stdout",
     "output_type": "stream",
     "text": [
      "            name\n",
      "0   movie_basics\n",
      "1      directors\n",
      "2      known_for\n",
      "3     movie_akas\n",
      "4  movie_ratings\n",
      "5        persons\n",
      "6     principals\n",
      "7        writers\n"
     ]
    }
   ],
   "source": [
    "#load the dataset\n",
    "conn = sqlite3.connect('zippedData/im.db')\n",
    "#check the tables in the database\n",
    "tables = pd.read_sql(\"\"\"SELECT name FROM sqlite_master WHERE type='table';\"\"\", conn)\n",
    "print(tables)"
   ]
  },
  {
   "cell_type": "markdown",
   "metadata": {},
   "source": [
    "### data quality summary"
   ]
  },
  {
   "cell_type": "code",
   "execution_count": 8,
   "metadata": {},
   "outputs": [
    {
     "name": "stdout",
     "output_type": "stream",
     "text": [
      "=== Movie Basics Analysis ===\n",
      "\n",
      "Dataset Overview:\n",
      "<class 'pandas.core.frame.DataFrame'>\n",
      "RangeIndex: 146144 entries, 0 to 146143\n",
      "Data columns (total 6 columns):\n",
      " #   Column           Non-Null Count   Dtype  \n",
      "---  ------           --------------   -----  \n",
      " 0   movie_id         146144 non-null  object \n",
      " 1   primary_title    146144 non-null  object \n",
      " 2   original_title   146123 non-null  object \n",
      " 3   start_year       146144 non-null  int64  \n",
      " 4   runtime_minutes  114405 non-null  float64\n",
      " 5   genres           140736 non-null  object \n",
      "dtypes: float64(1), int64(1), object(4)\n",
      "memory usage: 42.3 MB\n",
      "\n",
      "Numerical Column Statistics:\n",
      "       start_year  runtime_minutes\n",
      "count   146144.00        114405.00\n",
      "mean      2014.62            86.19\n",
      "std          2.73           166.36\n",
      "min       2010.00             1.00\n",
      "25%       2012.00            70.00\n",
      "50%       2015.00            87.00\n",
      "75%       2017.00            99.00\n",
      "max       2115.00         51420.00\n",
      "\n",
      "Data Quality Analysis:\n",
      "Duplicate records: 0 (0.00%)\n",
      "\n",
      "Missing Values:\n",
      "original_title: 21 missing (0.01%)\n",
      "runtime_minutes: 31739 missing (21.72%)\n",
      "genres: 5408 missing (3.70%)\n",
      "\n",
      "Unique values in categorical columns:\n",
      "movie_id: 146144 unique values\n",
      "primary_title: 136071 unique values\n",
      "original_title: 137773 unique values\n",
      "genres: 1085 unique values\n"
     ]
    }
   ],
   "source": [
    "print(\"=== Movie Basics Analysis ===\")\n",
    "\n",
    "# Load movie basics table\n",
    "movie_basics = pd.read_sql(\"\"\"\n",
    "    SELECT * FROM movie_basics \n",
    "    ORDER BY start_year DESC;\n",
    "\"\"\", conn)\n",
    "\n",
    "# Display basic information\n",
    "print(\"\\nDataset Overview:\")\n",
    "movie_basics.info(memory_usage='deep')\n",
    "\n",
    "# Display summary statistics\n",
    "print(\"\\nNumerical Column Statistics:\")\n",
    "print(movie_basics.describe().round(2))\n",
    "\n",
    "# Check for data quality issues\n",
    "print(\"\\nData Quality Analysis:\")\n",
    "\n",
    "# Check for duplicates\n",
    "duplicates = movie_basics.duplicated().sum()\n",
    "print(f\"Duplicate records: {duplicates} ({(duplicates/len(movie_basics))*100:.2f}%)\")\n",
    "\n",
    "# Check for missing values\n",
    "null_counts = movie_basics.isnull().sum()\n",
    "print(\"\\nMissing Values:\")\n",
    "for col in movie_basics.columns:\n",
    "    if null_counts[col] > 0:\n",
    "        print(f\"{col}: {null_counts[col]} missing ({(null_counts[col]/len(movie_basics))*100:.2f}%)\")\n",
    "\n",
    "# Analyze categorical columns\n",
    "print(\"\\nUnique values in categorical columns:\")\n",
    "for col in movie_basics.select_dtypes(include=['object']).columns:\n",
    "    print(f\"{col}: {movie_basics[col].nunique()} unique values\")\n"
   ]
  },
  {
   "cell_type": "code",
   "execution_count": 9,
   "metadata": {},
   "outputs": [
    {
     "data": {
      "text/html": [
       "<div>\n",
       "<style scoped>\n",
       "    .dataframe tbody tr th:only-of-type {\n",
       "        vertical-align: middle;\n",
       "    }\n",
       "\n",
       "    .dataframe tbody tr th {\n",
       "        vertical-align: top;\n",
       "    }\n",
       "\n",
       "    .dataframe thead th {\n",
       "        text-align: right;\n",
       "    }\n",
       "</style>\n",
       "<table border=\"1\" class=\"dataframe\">\n",
       "  <thead>\n",
       "    <tr style=\"text-align: right;\">\n",
       "      <th></th>\n",
       "      <th>movie_id</th>\n",
       "      <th>primary_title</th>\n",
       "      <th>original_title</th>\n",
       "      <th>start_year</th>\n",
       "      <th>runtime_minutes</th>\n",
       "      <th>genres</th>\n",
       "    </tr>\n",
       "  </thead>\n",
       "  <tbody>\n",
       "    <tr>\n",
       "      <th>0</th>\n",
       "      <td>tt5174640</td>\n",
       "      <td>100 Years</td>\n",
       "      <td>100 Years</td>\n",
       "      <td>2115</td>\n",
       "      <td>NaN</td>\n",
       "      <td>Drama</td>\n",
       "    </tr>\n",
       "    <tr>\n",
       "      <th>1</th>\n",
       "      <td>tt5637536</td>\n",
       "      <td>Avatar 5</td>\n",
       "      <td>Avatar 5</td>\n",
       "      <td>2027</td>\n",
       "      <td>NaN</td>\n",
       "      <td>Action,Adventure,Fantasy</td>\n",
       "    </tr>\n",
       "    <tr>\n",
       "      <th>2</th>\n",
       "      <td>tt10300398</td>\n",
       "      <td>Untitled Star Wars Film</td>\n",
       "      <td>Untitled Star Wars Film</td>\n",
       "      <td>2026</td>\n",
       "      <td>NaN</td>\n",
       "      <td>Fantasy</td>\n",
       "    </tr>\n",
       "    <tr>\n",
       "      <th>3</th>\n",
       "      <td>tt3095356</td>\n",
       "      <td>Avatar 4</td>\n",
       "      <td>Avatar 4</td>\n",
       "      <td>2025</td>\n",
       "      <td>NaN</td>\n",
       "      <td>Action,Adventure,Fantasy</td>\n",
       "    </tr>\n",
       "    <tr>\n",
       "      <th>4</th>\n",
       "      <td>tt10300396</td>\n",
       "      <td>Untitled Star Wars Film</td>\n",
       "      <td>Untitled Star Wars Film</td>\n",
       "      <td>2024</td>\n",
       "      <td>NaN</td>\n",
       "      <td>None</td>\n",
       "    </tr>\n",
       "    <tr>\n",
       "      <th>...</th>\n",
       "      <td>...</td>\n",
       "      <td>...</td>\n",
       "      <td>...</td>\n",
       "      <td>...</td>\n",
       "      <td>...</td>\n",
       "      <td>...</td>\n",
       "    </tr>\n",
       "    <tr>\n",
       "      <th>146139</th>\n",
       "      <td>tt9852508</td>\n",
       "      <td>Viyapath Bambara</td>\n",
       "      <td>Viyapath Bambara</td>\n",
       "      <td>2010</td>\n",
       "      <td>120.0</td>\n",
       "      <td>Drama</td>\n",
       "    </tr>\n",
       "    <tr>\n",
       "      <th>146140</th>\n",
       "      <td>tt9875120</td>\n",
       "      <td>Frostbite</td>\n",
       "      <td>Frostbite</td>\n",
       "      <td>2010</td>\n",
       "      <td>90.0</td>\n",
       "      <td>Documentary</td>\n",
       "    </tr>\n",
       "    <tr>\n",
       "      <th>146141</th>\n",
       "      <td>tt9875242</td>\n",
       "      <td>15 Fotografii</td>\n",
       "      <td>15 Fotografii</td>\n",
       "      <td>2010</td>\n",
       "      <td>56.0</td>\n",
       "      <td>Drama</td>\n",
       "    </tr>\n",
       "    <tr>\n",
       "      <th>146142</th>\n",
       "      <td>tt9878374</td>\n",
       "      <td>Regi lagni comprensorio di stato</td>\n",
       "      <td>Regi lagni comprensorio di stato</td>\n",
       "      <td>2010</td>\n",
       "      <td>NaN</td>\n",
       "      <td>Documentary</td>\n",
       "    </tr>\n",
       "    <tr>\n",
       "      <th>146143</th>\n",
       "      <td>tt9905932</td>\n",
       "      <td>Footloose in London: All the Best Sights of ou...</td>\n",
       "      <td>Footloose in London: All the Best Sights of ou...</td>\n",
       "      <td>2010</td>\n",
       "      <td>106.0</td>\n",
       "      <td>None</td>\n",
       "    </tr>\n",
       "  </tbody>\n",
       "</table>\n",
       "<p>146144 rows × 6 columns</p>\n",
       "</div>"
      ],
      "text/plain": [
       "          movie_id                                      primary_title  \\\n",
       "0        tt5174640                                          100 Years   \n",
       "1        tt5637536                                           Avatar 5   \n",
       "2       tt10300398                            Untitled Star Wars Film   \n",
       "3        tt3095356                                           Avatar 4   \n",
       "4       tt10300396                            Untitled Star Wars Film   \n",
       "...            ...                                                ...   \n",
       "146139   tt9852508                                   Viyapath Bambara   \n",
       "146140   tt9875120                                          Frostbite   \n",
       "146141   tt9875242                                      15 Fotografii   \n",
       "146142   tt9878374                   Regi lagni comprensorio di stato   \n",
       "146143   tt9905932  Footloose in London: All the Best Sights of ou...   \n",
       "\n",
       "                                           original_title  start_year  \\\n",
       "0                                               100 Years        2115   \n",
       "1                                                Avatar 5        2027   \n",
       "2                                 Untitled Star Wars Film        2026   \n",
       "3                                                Avatar 4        2025   \n",
       "4                                 Untitled Star Wars Film        2024   \n",
       "...                                                   ...         ...   \n",
       "146139                                   Viyapath Bambara        2010   \n",
       "146140                                          Frostbite        2010   \n",
       "146141                                      15 Fotografii        2010   \n",
       "146142                   Regi lagni comprensorio di stato        2010   \n",
       "146143  Footloose in London: All the Best Sights of ou...        2010   \n",
       "\n",
       "        runtime_minutes                    genres  \n",
       "0                   NaN                     Drama  \n",
       "1                   NaN  Action,Adventure,Fantasy  \n",
       "2                   NaN                   Fantasy  \n",
       "3                   NaN  Action,Adventure,Fantasy  \n",
       "4                   NaN                      None  \n",
       "...                 ...                       ...  \n",
       "146139            120.0                     Drama  \n",
       "146140             90.0               Documentary  \n",
       "146141             56.0                     Drama  \n",
       "146142              NaN               Documentary  \n",
       "146143            106.0                      None  \n",
       "\n",
       "[146144 rows x 6 columns]"
      ]
     },
     "execution_count": 9,
     "metadata": {},
     "output_type": "execute_result"
    }
   ],
   "source": [
    "movie_basics"
   ]
  },
  {
   "cell_type": "markdown",
   "metadata": {},
   "source": [
    "### Loading and analysing of the `movie_ratings` dataframe."
   ]
  },
  {
   "cell_type": "code",
   "execution_count": 10,
   "metadata": {},
   "outputs": [
    {
     "name": "stdout",
     "output_type": "stream",
     "text": [
      "=== Movie Ratings Analysis ===\n",
      "\n",
      "Dataset Overview:\n",
      "<class 'pandas.core.frame.DataFrame'>\n",
      "RangeIndex: 73856 entries, 0 to 73855\n",
      "Data columns (total 3 columns):\n",
      " #   Column         Non-Null Count  Dtype  \n",
      "---  ------         --------------  -----  \n",
      " 0   movie_id       73856 non-null  object \n",
      " 1   averagerating  73856 non-null  float64\n",
      " 2   numvotes       73856 non-null  int64  \n",
      "dtypes: float64(1), int64(1), object(1)\n",
      "memory usage: 1.7+ MB\n",
      "\n",
      "Rating Statistics:\n",
      "       averagerating    numvotes\n",
      "count       73856.00    73856.00\n",
      "mean            6.33     3523.66\n",
      "std             1.47    30294.02\n",
      "min             1.00        5.00\n",
      "25%             5.50       14.00\n",
      "50%             6.50       49.00\n",
      "75%             7.40      282.00\n",
      "max            10.00  1841066.00\n",
      "\n",
      "Data Quality Analysis:\n",
      "Duplicate records: 0 (0.00%)\n",
      "\n",
      "Missing Values:\n",
      "\n",
      "Rating Distribution:\n",
      "(0.99, 2.8]     1531\n",
      "(2.8, 4.6]      8271\n",
      "(4.6, 6.4]     26424\n",
      "(6.4, 8.2]     31561\n",
      "(8.2, 10.0]     6069\n",
      "Name: averagerating, dtype: int64\n"
     ]
    }
   ],
   "source": [
    "print(\"=== Movie Ratings Analysis ===\")\n",
    "\n",
    "# Load movie ratings table with basic statistics\n",
    "movie_ratings = pd.read_sql(\"\"\"\n",
    "    SELECT * FROM movie_ratings;\n",
    "\"\"\", conn)\n",
    "\n",
    "# Display basic information\n",
    "print(\"\\nDataset Overview:\")\n",
    "movie_ratings.info()\n",
    "\n",
    "# Display summary statistics\n",
    "print(\"\\nRating Statistics:\")\n",
    "print(movie_ratings.describe().round(2))\n",
    "\n",
    "# Check for data quality issues\n",
    "print(\"\\nData Quality Analysis:\")\n",
    "\n",
    "# Check for duplicates\n",
    "duplicates = movie_ratings.duplicated().sum()\n",
    "print(f\"Duplicate records: {duplicates} ({(duplicates/len(movie_ratings))*100:.2f}%)\")\n",
    "\n",
    "# Check for missing values\n",
    "null_counts = movie_ratings.isnull().sum()\n",
    "print(\"\\nMissing Values:\")\n",
    "for col in movie_ratings.columns:\n",
    "    if null_counts[col] > 0:\n",
    "        print(f\"{col}: {null_counts[col]} missing ({(null_counts[col]/len(movie_ratings))*100:.2f}%)\")\n",
    "\n",
    "# Check rating distribution\n",
    "print(\"\\nRating Distribution:\")\n",
    "print(movie_ratings['averagerating'].value_counts(bins=5).sort_index())\n"
   ]
  },
  {
   "cell_type": "code",
   "execution_count": 11,
   "metadata": {},
   "outputs": [
    {
     "data": {
      "text/html": [
       "<div>\n",
       "<style scoped>\n",
       "    .dataframe tbody tr th:only-of-type {\n",
       "        vertical-align: middle;\n",
       "    }\n",
       "\n",
       "    .dataframe tbody tr th {\n",
       "        vertical-align: top;\n",
       "    }\n",
       "\n",
       "    .dataframe thead th {\n",
       "        text-align: right;\n",
       "    }\n",
       "</style>\n",
       "<table border=\"1\" class=\"dataframe\">\n",
       "  <thead>\n",
       "    <tr style=\"text-align: right;\">\n",
       "      <th></th>\n",
       "      <th>movie_id</th>\n",
       "      <th>averagerating</th>\n",
       "      <th>numvotes</th>\n",
       "    </tr>\n",
       "  </thead>\n",
       "  <tbody>\n",
       "    <tr>\n",
       "      <th>0</th>\n",
       "      <td>tt10356526</td>\n",
       "      <td>8.3</td>\n",
       "      <td>31</td>\n",
       "    </tr>\n",
       "    <tr>\n",
       "      <th>1</th>\n",
       "      <td>tt10384606</td>\n",
       "      <td>8.9</td>\n",
       "      <td>559</td>\n",
       "    </tr>\n",
       "    <tr>\n",
       "      <th>2</th>\n",
       "      <td>tt1042974</td>\n",
       "      <td>6.4</td>\n",
       "      <td>20</td>\n",
       "    </tr>\n",
       "    <tr>\n",
       "      <th>3</th>\n",
       "      <td>tt1043726</td>\n",
       "      <td>4.2</td>\n",
       "      <td>50352</td>\n",
       "    </tr>\n",
       "    <tr>\n",
       "      <th>4</th>\n",
       "      <td>tt1060240</td>\n",
       "      <td>6.5</td>\n",
       "      <td>21</td>\n",
       "    </tr>\n",
       "    <tr>\n",
       "      <th>...</th>\n",
       "      <td>...</td>\n",
       "      <td>...</td>\n",
       "      <td>...</td>\n",
       "    </tr>\n",
       "    <tr>\n",
       "      <th>73851</th>\n",
       "      <td>tt9805820</td>\n",
       "      <td>8.1</td>\n",
       "      <td>25</td>\n",
       "    </tr>\n",
       "    <tr>\n",
       "      <th>73852</th>\n",
       "      <td>tt9844256</td>\n",
       "      <td>7.5</td>\n",
       "      <td>24</td>\n",
       "    </tr>\n",
       "    <tr>\n",
       "      <th>73853</th>\n",
       "      <td>tt9851050</td>\n",
       "      <td>4.7</td>\n",
       "      <td>14</td>\n",
       "    </tr>\n",
       "    <tr>\n",
       "      <th>73854</th>\n",
       "      <td>tt9886934</td>\n",
       "      <td>7.0</td>\n",
       "      <td>5</td>\n",
       "    </tr>\n",
       "    <tr>\n",
       "      <th>73855</th>\n",
       "      <td>tt9894098</td>\n",
       "      <td>6.3</td>\n",
       "      <td>128</td>\n",
       "    </tr>\n",
       "  </tbody>\n",
       "</table>\n",
       "<p>73856 rows × 3 columns</p>\n",
       "</div>"
      ],
      "text/plain": [
       "         movie_id  averagerating  numvotes\n",
       "0      tt10356526            8.3        31\n",
       "1      tt10384606            8.9       559\n",
       "2       tt1042974            6.4        20\n",
       "3       tt1043726            4.2     50352\n",
       "4       tt1060240            6.5        21\n",
       "...           ...            ...       ...\n",
       "73851   tt9805820            8.1        25\n",
       "73852   tt9844256            7.5        24\n",
       "73853   tt9851050            4.7        14\n",
       "73854   tt9886934            7.0         5\n",
       "73855   tt9894098            6.3       128\n",
       "\n",
       "[73856 rows x 3 columns]"
      ]
     },
     "execution_count": 11,
     "metadata": {},
     "output_type": "execute_result"
    }
   ],
   "source": [
    "movie_ratings"
   ]
  },
  {
   "cell_type": "markdown",
   "metadata": {},
   "source": [
    "has 73856 rows and 3 columns"
   ]
  },
  {
   "cell_type": "markdown",
   "metadata": {},
   "source": [
    "### Loading and analysing of the \"Reviews\" dataframe.\n"
   ]
  },
  {
   "cell_type": "code",
   "execution_count": 12,
   "metadata": {},
   "outputs": [
    {
     "data": {
      "text/html": [
       "<div>\n",
       "<style scoped>\n",
       "    .dataframe tbody tr th:only-of-type {\n",
       "        vertical-align: middle;\n",
       "    }\n",
       "\n",
       "    .dataframe tbody tr th {\n",
       "        vertical-align: top;\n",
       "    }\n",
       "\n",
       "    .dataframe thead th {\n",
       "        text-align: right;\n",
       "    }\n",
       "</style>\n",
       "<table border=\"1\" class=\"dataframe\">\n",
       "  <thead>\n",
       "    <tr style=\"text-align: right;\">\n",
       "      <th></th>\n",
       "      <th>id</th>\n",
       "      <th>review</th>\n",
       "      <th>rating</th>\n",
       "      <th>fresh</th>\n",
       "      <th>critic</th>\n",
       "      <th>top_critic</th>\n",
       "      <th>publisher</th>\n",
       "      <th>date</th>\n",
       "    </tr>\n",
       "  </thead>\n",
       "  <tbody>\n",
       "    <tr>\n",
       "      <th>0</th>\n",
       "      <td>3</td>\n",
       "      <td>A distinctly gallows take on contemporary fina...</td>\n",
       "      <td>3/5</td>\n",
       "      <td>fresh</td>\n",
       "      <td>PJ Nabarro</td>\n",
       "      <td>0</td>\n",
       "      <td>Patrick Nabarro</td>\n",
       "      <td>November 10, 2018</td>\n",
       "    </tr>\n",
       "    <tr>\n",
       "      <th>1</th>\n",
       "      <td>3</td>\n",
       "      <td>It's an allegory in search of a meaning that n...</td>\n",
       "      <td>NaN</td>\n",
       "      <td>rotten</td>\n",
       "      <td>Annalee Newitz</td>\n",
       "      <td>0</td>\n",
       "      <td>io9.com</td>\n",
       "      <td>May 23, 2018</td>\n",
       "    </tr>\n",
       "    <tr>\n",
       "      <th>2</th>\n",
       "      <td>3</td>\n",
       "      <td>... life lived in a bubble in financial dealin...</td>\n",
       "      <td>NaN</td>\n",
       "      <td>fresh</td>\n",
       "      <td>Sean Axmaker</td>\n",
       "      <td>0</td>\n",
       "      <td>Stream on Demand</td>\n",
       "      <td>January 4, 2018</td>\n",
       "    </tr>\n",
       "    <tr>\n",
       "      <th>3</th>\n",
       "      <td>3</td>\n",
       "      <td>Continuing along a line introduced in last yea...</td>\n",
       "      <td>NaN</td>\n",
       "      <td>fresh</td>\n",
       "      <td>Daniel Kasman</td>\n",
       "      <td>0</td>\n",
       "      <td>MUBI</td>\n",
       "      <td>November 16, 2017</td>\n",
       "    </tr>\n",
       "    <tr>\n",
       "      <th>4</th>\n",
       "      <td>3</td>\n",
       "      <td>... a perverse twist on neorealism...</td>\n",
       "      <td>NaN</td>\n",
       "      <td>fresh</td>\n",
       "      <td>NaN</td>\n",
       "      <td>0</td>\n",
       "      <td>Cinema Scope</td>\n",
       "      <td>October 12, 2017</td>\n",
       "    </tr>\n",
       "  </tbody>\n",
       "</table>\n",
       "</div>"
      ],
      "text/plain": [
       "   id                                             review rating   fresh  \\\n",
       "0   3  A distinctly gallows take on contemporary fina...    3/5   fresh   \n",
       "1   3  It's an allegory in search of a meaning that n...    NaN  rotten   \n",
       "2   3  ... life lived in a bubble in financial dealin...    NaN   fresh   \n",
       "3   3  Continuing along a line introduced in last yea...    NaN   fresh   \n",
       "4   3             ... a perverse twist on neorealism...     NaN   fresh   \n",
       "\n",
       "           critic  top_critic         publisher               date  \n",
       "0      PJ Nabarro           0   Patrick Nabarro  November 10, 2018  \n",
       "1  Annalee Newitz           0           io9.com       May 23, 2018  \n",
       "2    Sean Axmaker           0  Stream on Demand    January 4, 2018  \n",
       "3   Daniel Kasman           0              MUBI  November 16, 2017  \n",
       "4             NaN           0      Cinema Scope   October 12, 2017  "
      ]
     },
     "execution_count": 12,
     "metadata": {},
     "output_type": "execute_result"
    }
   ],
   "source": [
    "#Load the dataset\n",
    "df_reviews = pd.read_csv('zippedData/rt.reviews.tsv.gz', sep = '\\t', encoding='latin1')\n",
    "df_reviews.head()"
   ]
  },
  {
   "cell_type": "code",
   "execution_count": 13,
   "metadata": {},
   "outputs": [
    {
     "name": "stdout",
     "output_type": "stream",
     "text": [
      "=== Reviews Dataset Analysis ===\n",
      "\n",
      "DataFrame Info:\n",
      "<class 'pandas.core.frame.DataFrame'>\n",
      "RangeIndex: 54432 entries, 0 to 54431\n",
      "Data columns (total 8 columns):\n",
      " #   Column      Non-Null Count  Dtype \n",
      "---  ------      --------------  ----- \n",
      " 0   id          54432 non-null  int64 \n",
      " 1   review      48869 non-null  object\n",
      " 2   rating      40915 non-null  object\n",
      " 3   fresh       54432 non-null  object\n",
      " 4   critic      51710 non-null  object\n",
      " 5   top_critic  54432 non-null  int64 \n",
      " 6   publisher   54123 non-null  object\n",
      " 7   date        54432 non-null  object\n",
      "dtypes: int64(2), object(6)\n",
      "memory usage: 3.3+ MB\n",
      "\n",
      "Duplicate records: 9 (0.02% of total)\n",
      "\n",
      "Missing Values Analysis:\n",
      "review: 5563 missing values (10.22%)\n",
      "rating: 13517 missing values (24.83%)\n",
      "critic: 2722 missing values (5.00%)\n",
      "publisher: 309 missing values (0.57%)\n",
      "\n",
      "Unique values in categorical columns:\n",
      "review: 48682 unique values\n",
      "rating: 186 unique values\n",
      "fresh: 2 unique values\n",
      "critic: 3496 unique values\n",
      "publisher: 1281 unique values\n",
      "date: 5963 unique values\n"
     ]
    }
   ],
   "source": [
    "print(\"=== Reviews Dataset Analysis ===\")\n",
    "print(\"\\nDataFrame Info:\")\n",
    "df_reviews.info()\n",
    "\n",
    "# Check for duplicate records\n",
    "duplicates = df_reviews.duplicated().sum()\n",
    "print(f\"\\nDuplicate records: {duplicates} ({(duplicates/len(df_reviews))*100:.2f}% of total)\")\n",
    "\n",
    "# Display null value counts and percentages\n",
    "null_counts = df_reviews.isnull().sum()\n",
    "null_percentages = (null_counts/len(df_reviews))*100\n",
    "print(\"\\nMissing Values Analysis:\")\n",
    "for col in df_reviews.columns:\n",
    "    if null_counts[col] > 0:\n",
    "        print(f\"{col}: {null_counts[col]} missing values ({null_percentages[col]:.2f}%)\")\n",
    "\n",
    "# Display unique values in categorical columns\n",
    "print(\"\\nUnique values in categorical columns:\")\n",
    "for col in df_reviews.select_dtypes(include=['object']).columns:\n",
    "    print(f\"{col}: {df_reviews[col].nunique()} unique values\")\n"
   ]
  },
  {
   "cell_type": "markdown",
   "metadata": {},
   "source": [
    "### Loading and analysing of the Movie_info dataframe."
   ]
  },
  {
   "cell_type": "code",
   "execution_count": 14,
   "metadata": {},
   "outputs": [
    {
     "data": {
      "text/html": [
       "<div>\n",
       "<style scoped>\n",
       "    .dataframe tbody tr th:only-of-type {\n",
       "        vertical-align: middle;\n",
       "    }\n",
       "\n",
       "    .dataframe tbody tr th {\n",
       "        vertical-align: top;\n",
       "    }\n",
       "\n",
       "    .dataframe thead th {\n",
       "        text-align: right;\n",
       "    }\n",
       "</style>\n",
       "<table border=\"1\" class=\"dataframe\">\n",
       "  <thead>\n",
       "    <tr style=\"text-align: right;\">\n",
       "      <th></th>\n",
       "      <th>id</th>\n",
       "      <th>synopsis</th>\n",
       "      <th>rating</th>\n",
       "      <th>genre</th>\n",
       "      <th>director</th>\n",
       "      <th>writer</th>\n",
       "      <th>theater_date</th>\n",
       "      <th>dvd_date</th>\n",
       "      <th>currency</th>\n",
       "      <th>box_office</th>\n",
       "      <th>runtime</th>\n",
       "      <th>studio</th>\n",
       "    </tr>\n",
       "  </thead>\n",
       "  <tbody>\n",
       "    <tr>\n",
       "      <th>0</th>\n",
       "      <td>1</td>\n",
       "      <td>This gritty, fast-paced, and innovative police...</td>\n",
       "      <td>R</td>\n",
       "      <td>Action and Adventure|Classics|Drama</td>\n",
       "      <td>William Friedkin</td>\n",
       "      <td>Ernest Tidyman</td>\n",
       "      <td>Oct 9, 1971</td>\n",
       "      <td>Sep 25, 2001</td>\n",
       "      <td>NaN</td>\n",
       "      <td>NaN</td>\n",
       "      <td>104 minutes</td>\n",
       "      <td>NaN</td>\n",
       "    </tr>\n",
       "    <tr>\n",
       "      <th>1</th>\n",
       "      <td>3</td>\n",
       "      <td>New York City, not-too-distant-future: Eric Pa...</td>\n",
       "      <td>R</td>\n",
       "      <td>Drama|Science Fiction and Fantasy</td>\n",
       "      <td>David Cronenberg</td>\n",
       "      <td>David Cronenberg|Don DeLillo</td>\n",
       "      <td>Aug 17, 2012</td>\n",
       "      <td>Jan 1, 2013</td>\n",
       "      <td>$</td>\n",
       "      <td>600,000</td>\n",
       "      <td>108 minutes</td>\n",
       "      <td>Entertainment One</td>\n",
       "    </tr>\n",
       "    <tr>\n",
       "      <th>2</th>\n",
       "      <td>5</td>\n",
       "      <td>Illeana Douglas delivers a superb performance ...</td>\n",
       "      <td>R</td>\n",
       "      <td>Drama|Musical and Performing Arts</td>\n",
       "      <td>Allison Anders</td>\n",
       "      <td>Allison Anders</td>\n",
       "      <td>Sep 13, 1996</td>\n",
       "      <td>Apr 18, 2000</td>\n",
       "      <td>NaN</td>\n",
       "      <td>NaN</td>\n",
       "      <td>116 minutes</td>\n",
       "      <td>NaN</td>\n",
       "    </tr>\n",
       "    <tr>\n",
       "      <th>3</th>\n",
       "      <td>6</td>\n",
       "      <td>Michael Douglas runs afoul of a treacherous su...</td>\n",
       "      <td>R</td>\n",
       "      <td>Drama|Mystery and Suspense</td>\n",
       "      <td>Barry Levinson</td>\n",
       "      <td>Paul Attanasio|Michael Crichton</td>\n",
       "      <td>Dec 9, 1994</td>\n",
       "      <td>Aug 27, 1997</td>\n",
       "      <td>NaN</td>\n",
       "      <td>NaN</td>\n",
       "      <td>128 minutes</td>\n",
       "      <td>NaN</td>\n",
       "    </tr>\n",
       "    <tr>\n",
       "      <th>4</th>\n",
       "      <td>7</td>\n",
       "      <td>NaN</td>\n",
       "      <td>NR</td>\n",
       "      <td>Drama|Romance</td>\n",
       "      <td>Rodney Bennett</td>\n",
       "      <td>Giles Cooper</td>\n",
       "      <td>NaN</td>\n",
       "      <td>NaN</td>\n",
       "      <td>NaN</td>\n",
       "      <td>NaN</td>\n",
       "      <td>200 minutes</td>\n",
       "      <td>NaN</td>\n",
       "    </tr>\n",
       "  </tbody>\n",
       "</table>\n",
       "</div>"
      ],
      "text/plain": [
       "   id                                           synopsis rating  \\\n",
       "0   1  This gritty, fast-paced, and innovative police...      R   \n",
       "1   3  New York City, not-too-distant-future: Eric Pa...      R   \n",
       "2   5  Illeana Douglas delivers a superb performance ...      R   \n",
       "3   6  Michael Douglas runs afoul of a treacherous su...      R   \n",
       "4   7                                                NaN     NR   \n",
       "\n",
       "                                 genre          director  \\\n",
       "0  Action and Adventure|Classics|Drama  William Friedkin   \n",
       "1    Drama|Science Fiction and Fantasy  David Cronenberg   \n",
       "2    Drama|Musical and Performing Arts    Allison Anders   \n",
       "3           Drama|Mystery and Suspense    Barry Levinson   \n",
       "4                        Drama|Romance    Rodney Bennett   \n",
       "\n",
       "                            writer  theater_date      dvd_date currency  \\\n",
       "0                   Ernest Tidyman   Oct 9, 1971  Sep 25, 2001      NaN   \n",
       "1     David Cronenberg|Don DeLillo  Aug 17, 2012   Jan 1, 2013        $   \n",
       "2                   Allison Anders  Sep 13, 1996  Apr 18, 2000      NaN   \n",
       "3  Paul Attanasio|Michael Crichton   Dec 9, 1994  Aug 27, 1997      NaN   \n",
       "4                     Giles Cooper           NaN           NaN      NaN   \n",
       "\n",
       "  box_office      runtime             studio  \n",
       "0        NaN  104 minutes                NaN  \n",
       "1    600,000  108 minutes  Entertainment One  \n",
       "2        NaN  116 minutes                NaN  \n",
       "3        NaN  128 minutes                NaN  \n",
       "4        NaN  200 minutes                NaN  "
      ]
     },
     "execution_count": 14,
     "metadata": {},
     "output_type": "execute_result"
    }
   ],
   "source": [
    "#load the dataset\n",
    "Movie_info_df = pd.read_csv('zippedData/rt.movie_info.tsv.gz', sep = '\\t', encoding='latin1')\n",
    "Movie_info_df.head()"
   ]
  },
  {
   "cell_type": "code",
   "execution_count": 15,
   "metadata": {},
   "outputs": [
    {
     "name": "stdout",
     "output_type": "stream",
     "text": [
      "=== Movie Info Dataset Analysis ===\n",
      "\n",
      "DataFrame Info:\n",
      "<class 'pandas.core.frame.DataFrame'>\n",
      "RangeIndex: 1560 entries, 0 to 1559\n",
      "Data columns (total 12 columns):\n",
      " #   Column        Non-Null Count  Dtype \n",
      "---  ------        --------------  ----- \n",
      " 0   id            1560 non-null   int64 \n",
      " 1   synopsis      1498 non-null   object\n",
      " 2   rating        1557 non-null   object\n",
      " 3   genre         1552 non-null   object\n",
      " 4   director      1361 non-null   object\n",
      " 5   writer        1111 non-null   object\n",
      " 6   theater_date  1201 non-null   object\n",
      " 7   dvd_date      1201 non-null   object\n",
      " 8   currency      340 non-null    object\n",
      " 9   box_office    340 non-null    object\n",
      " 10  runtime       1530 non-null   object\n",
      " 11  studio        494 non-null    object\n",
      "dtypes: int64(1), object(11)\n",
      "memory usage: 1.9 MB\n",
      "\n",
      "Duplicate records: 0 (0.00% of total)\n",
      "\n",
      "Missing Values Analysis:\n",
      "synopsis: 62 missing values (3.97%)\n",
      "rating: 3 missing values (0.19%)\n",
      "genre: 8 missing values (0.51%)\n",
      "director: 199 missing values (12.76%)\n",
      "writer: 449 missing values (28.78%)\n",
      "theater_date: 359 missing values (23.01%)\n",
      "dvd_date: 359 missing values (23.01%)\n",
      "currency: 1220 missing values (78.21%)\n",
      "box_office: 1220 missing values (78.21%)\n",
      "runtime: 30 missing values (1.92%)\n",
      "studio: 1066 missing values (68.33%)\n",
      "\n",
      "Memory Usage:\n",
      "1.9318923950195312 MB\n",
      "\n",
      "Unique values in categorical columns:\n",
      "synopsis: 1497 unique values\n",
      "rating: 6 unique values\n",
      "genre: 299 unique values\n",
      "director: 1125 unique values\n",
      "writer: 1069 unique values\n",
      "theater_date: 1025 unique values\n",
      "dvd_date: 717 unique values\n",
      "currency: 1 unique values\n",
      "box_office: 336 unique values\n",
      "runtime: 142 unique values\n",
      "studio: 200 unique values\n"
     ]
    }
   ],
   "source": [
    "print(\"=== Movie Info Dataset Analysis ===\")\n",
    "print(\"\\nDataFrame Info:\")\n",
    "Movie_info_df.info(memory_usage='deep')\n",
    "\n",
    "# Check for duplicate records\n",
    "duplicates = Movie_info_df.duplicated().sum()\n",
    "print(f\"\\nDuplicate records: {duplicates} ({(duplicates/len(Movie_info_df))*100:.2f}% of total)\")\n",
    "\n",
    "# Display null value counts and percentages\n",
    "null_counts = Movie_info_df.isnull().sum()\n",
    "null_percentages = (null_counts/len(Movie_info_df))*100\n",
    "print(\"\\nMissing Values Analysis:\")\n",
    "for col in Movie_info_df.columns:\n",
    "    if null_counts[col] > 0:\n",
    "        print(f\"{col}: {null_counts[col]} missing values ({null_percentages[col]:.2f}%)\")\n",
    "\n",
    "# Display memory usage\n",
    "print(\"\\nMemory Usage:\")\n",
    "print(Movie_info_df.memory_usage(deep=True).sum() / 1024**2, \"MB\")\n",
    "\n",
    "# Check for invalid or unexpected values in key columns\n",
    "print(\"\\nUnique values in categorical columns:\")\n",
    "for col in Movie_info_df.select_dtypes(include=['object']).columns:\n",
    "    print(f\"{col}: {Movie_info_df[col].nunique()} unique values\")"
   ]
  },
  {
   "cell_type": "markdown",
   "metadata": {},
   "source": [
    "### Loading and analysing of the Movie DB dataframe."
   ]
  },
  {
   "cell_type": "code",
   "execution_count": 16,
   "metadata": {},
   "outputs": [
    {
     "data": {
      "text/html": [
       "<div>\n",
       "<style scoped>\n",
       "    .dataframe tbody tr th:only-of-type {\n",
       "        vertical-align: middle;\n",
       "    }\n",
       "\n",
       "    .dataframe tbody tr th {\n",
       "        vertical-align: top;\n",
       "    }\n",
       "\n",
       "    .dataframe thead th {\n",
       "        text-align: right;\n",
       "    }\n",
       "</style>\n",
       "<table border=\"1\" class=\"dataframe\">\n",
       "  <thead>\n",
       "    <tr style=\"text-align: right;\">\n",
       "      <th></th>\n",
       "      <th>Unnamed: 0</th>\n",
       "      <th>genre_ids</th>\n",
       "      <th>id</th>\n",
       "      <th>original_language</th>\n",
       "      <th>original_title</th>\n",
       "      <th>popularity</th>\n",
       "      <th>release_date</th>\n",
       "      <th>title</th>\n",
       "      <th>vote_average</th>\n",
       "      <th>vote_count</th>\n",
       "    </tr>\n",
       "  </thead>\n",
       "  <tbody>\n",
       "    <tr>\n",
       "      <th>0</th>\n",
       "      <td>0</td>\n",
       "      <td>[12, 14, 10751]</td>\n",
       "      <td>12444</td>\n",
       "      <td>en</td>\n",
       "      <td>Harry Potter and the Deathly Hallows: Part 1</td>\n",
       "      <td>33.533</td>\n",
       "      <td>2010-11-19</td>\n",
       "      <td>Harry Potter and the Deathly Hallows: Part 1</td>\n",
       "      <td>7.7</td>\n",
       "      <td>10788</td>\n",
       "    </tr>\n",
       "    <tr>\n",
       "      <th>1</th>\n",
       "      <td>1</td>\n",
       "      <td>[14, 12, 16, 10751]</td>\n",
       "      <td>10191</td>\n",
       "      <td>en</td>\n",
       "      <td>How to Train Your Dragon</td>\n",
       "      <td>28.734</td>\n",
       "      <td>2010-03-26</td>\n",
       "      <td>How to Train Your Dragon</td>\n",
       "      <td>7.7</td>\n",
       "      <td>7610</td>\n",
       "    </tr>\n",
       "    <tr>\n",
       "      <th>2</th>\n",
       "      <td>2</td>\n",
       "      <td>[12, 28, 878]</td>\n",
       "      <td>10138</td>\n",
       "      <td>en</td>\n",
       "      <td>Iron Man 2</td>\n",
       "      <td>28.515</td>\n",
       "      <td>2010-05-07</td>\n",
       "      <td>Iron Man 2</td>\n",
       "      <td>6.8</td>\n",
       "      <td>12368</td>\n",
       "    </tr>\n",
       "    <tr>\n",
       "      <th>3</th>\n",
       "      <td>3</td>\n",
       "      <td>[16, 35, 10751]</td>\n",
       "      <td>862</td>\n",
       "      <td>en</td>\n",
       "      <td>Toy Story</td>\n",
       "      <td>28.005</td>\n",
       "      <td>1995-11-22</td>\n",
       "      <td>Toy Story</td>\n",
       "      <td>7.9</td>\n",
       "      <td>10174</td>\n",
       "    </tr>\n",
       "    <tr>\n",
       "      <th>4</th>\n",
       "      <td>4</td>\n",
       "      <td>[28, 878, 12]</td>\n",
       "      <td>27205</td>\n",
       "      <td>en</td>\n",
       "      <td>Inception</td>\n",
       "      <td>27.920</td>\n",
       "      <td>2010-07-16</td>\n",
       "      <td>Inception</td>\n",
       "      <td>8.3</td>\n",
       "      <td>22186</td>\n",
       "    </tr>\n",
       "  </tbody>\n",
       "</table>\n",
       "</div>"
      ],
      "text/plain": [
       "   Unnamed: 0            genre_ids     id original_language  \\\n",
       "0           0      [12, 14, 10751]  12444                en   \n",
       "1           1  [14, 12, 16, 10751]  10191                en   \n",
       "2           2        [12, 28, 878]  10138                en   \n",
       "3           3      [16, 35, 10751]    862                en   \n",
       "4           4        [28, 878, 12]  27205                en   \n",
       "\n",
       "                                 original_title  popularity release_date  \\\n",
       "0  Harry Potter and the Deathly Hallows: Part 1      33.533   2010-11-19   \n",
       "1                      How to Train Your Dragon      28.734   2010-03-26   \n",
       "2                                    Iron Man 2      28.515   2010-05-07   \n",
       "3                                     Toy Story      28.005   1995-11-22   \n",
       "4                                     Inception      27.920   2010-07-16   \n",
       "\n",
       "                                          title  vote_average  vote_count  \n",
       "0  Harry Potter and the Deathly Hallows: Part 1           7.7       10788  \n",
       "1                      How to Train Your Dragon           7.7        7610  \n",
       "2                                    Iron Man 2           6.8       12368  \n",
       "3                                     Toy Story           7.9       10174  \n",
       "4                                     Inception           8.3       22186  "
      ]
     },
     "execution_count": 16,
     "metadata": {},
     "output_type": "execute_result"
    }
   ],
   "source": [
    "#load the dataset\n",
    "movDB_df = pd.read_csv('zippedData/tmdb.movies.csv.gz')\n",
    "movDB_df.head()"
   ]
  },
  {
   "cell_type": "code",
   "execution_count": 17,
   "metadata": {},
   "outputs": [
    {
     "name": "stdout",
     "output_type": "stream",
     "text": [
      "=== Movie DB Dataset Analysis ===\n",
      "\n",
      "DataFrame Info:\n",
      "<class 'pandas.core.frame.DataFrame'>\n",
      "RangeIndex: 26517 entries, 0 to 26516\n",
      "Data columns (total 10 columns):\n",
      " #   Column             Non-Null Count  Dtype  \n",
      "---  ------             --------------  -----  \n",
      " 0   Unnamed: 0         26517 non-null  int64  \n",
      " 1   genre_ids          26517 non-null  object \n",
      " 2   id                 26517 non-null  int64  \n",
      " 3   original_language  26517 non-null  object \n",
      " 4   original_title     26517 non-null  object \n",
      " 5   popularity         26517 non-null  float64\n",
      " 6   release_date       26517 non-null  object \n",
      " 7   title              26517 non-null  object \n",
      " 8   vote_average       26517 non-null  float64\n",
      " 9   vote_count         26517 non-null  int64  \n",
      "dtypes: float64(2), int64(3), object(5)\n",
      "memory usage: 2.0+ MB\n",
      "\n",
      "Duplicate records: 0 (0.00% of total)\n",
      "\n",
      "Missing Values Analysis:\n",
      "\n",
      "Numeric Column Statistics:\n",
      "       Unnamed: 0         id  popularity  vote_average  vote_count\n",
      "count    26517.00   26517.00    26517.00      26517.00    26517.00\n",
      "mean     13258.00  295050.15        3.13          5.99      194.22\n",
      "std       7654.94  153661.62        4.36          1.85      960.96\n",
      "min          0.00      27.00        0.60          0.00        1.00\n",
      "25%       6629.00  157851.00        0.60          5.00        2.00\n",
      "50%      13258.00  309581.00        1.37          6.00        5.00\n",
      "75%      19887.00  419542.00        3.69          7.00       28.00\n",
      "max      26516.00  608444.00       80.77         10.00    22186.00\n"
     ]
    }
   ],
   "source": [
    "print(\"=== Movie DB Dataset Analysis ===\")\n",
    "print(\"\\nDataFrame Info:\")\n",
    "movDB_df.info()\n",
    "\n",
    "# Check for duplicate records\n",
    "duplicates = movDB_df.duplicated().sum()\n",
    "print(f\"\\nDuplicate records: {duplicates} ({(duplicates/len(movDB_df))*100:.2f}% of total)\")\n",
    "\n",
    "# Display null value counts and percentages\n",
    "null_counts = movDB_df.isnull().sum()\n",
    "null_percentages = (null_counts/len(movDB_df))*100\n",
    "print(\"\\nMissing Values Analysis:\")\n",
    "for col in movDB_df.columns:\n",
    "    if null_counts[col] > 0:\n",
    "        print(f\"{col}: {null_counts[col]} missing values ({null_percentages[col]:.2f}%)\")\n",
    "\n",
    "# Display basic statistics for numeric columns\n",
    "print(\"\\nNumeric Column Statistics:\")\n",
    "print(movDB_df.describe().round(2))"
   ]
  },
  {
   "cell_type": "markdown",
   "metadata": {},
   "source": [
    "### Loading and analysing the Movie Budgets Dataset"
   ]
  },
  {
   "cell_type": "code",
   "execution_count": 18,
   "metadata": {},
   "outputs": [
    {
     "data": {
      "text/html": [
       "<div>\n",
       "<style scoped>\n",
       "    .dataframe tbody tr th:only-of-type {\n",
       "        vertical-align: middle;\n",
       "    }\n",
       "\n",
       "    .dataframe tbody tr th {\n",
       "        vertical-align: top;\n",
       "    }\n",
       "\n",
       "    .dataframe thead th {\n",
       "        text-align: right;\n",
       "    }\n",
       "</style>\n",
       "<table border=\"1\" class=\"dataframe\">\n",
       "  <thead>\n",
       "    <tr style=\"text-align: right;\">\n",
       "      <th></th>\n",
       "      <th>id</th>\n",
       "      <th>release_date</th>\n",
       "      <th>movie</th>\n",
       "      <th>production_budget</th>\n",
       "      <th>domestic_gross</th>\n",
       "      <th>worldwide_gross</th>\n",
       "    </tr>\n",
       "  </thead>\n",
       "  <tbody>\n",
       "    <tr>\n",
       "      <th>0</th>\n",
       "      <td>1</td>\n",
       "      <td>Dec 18, 2009</td>\n",
       "      <td>Avatar</td>\n",
       "      <td>$425,000,000</td>\n",
       "      <td>$760,507,625</td>\n",
       "      <td>$2,776,345,279</td>\n",
       "    </tr>\n",
       "    <tr>\n",
       "      <th>1</th>\n",
       "      <td>2</td>\n",
       "      <td>May 20, 2011</td>\n",
       "      <td>Pirates of the Caribbean: On Stranger Tides</td>\n",
       "      <td>$410,600,000</td>\n",
       "      <td>$241,063,875</td>\n",
       "      <td>$1,045,663,875</td>\n",
       "    </tr>\n",
       "    <tr>\n",
       "      <th>2</th>\n",
       "      <td>3</td>\n",
       "      <td>Jun 7, 2019</td>\n",
       "      <td>Dark Phoenix</td>\n",
       "      <td>$350,000,000</td>\n",
       "      <td>$42,762,350</td>\n",
       "      <td>$149,762,350</td>\n",
       "    </tr>\n",
       "    <tr>\n",
       "      <th>3</th>\n",
       "      <td>4</td>\n",
       "      <td>May 1, 2015</td>\n",
       "      <td>Avengers: Age of Ultron</td>\n",
       "      <td>$330,600,000</td>\n",
       "      <td>$459,005,868</td>\n",
       "      <td>$1,403,013,963</td>\n",
       "    </tr>\n",
       "    <tr>\n",
       "      <th>4</th>\n",
       "      <td>5</td>\n",
       "      <td>Dec 15, 2017</td>\n",
       "      <td>Star Wars Ep. VIII: The Last Jedi</td>\n",
       "      <td>$317,000,000</td>\n",
       "      <td>$620,181,382</td>\n",
       "      <td>$1,316,721,747</td>\n",
       "    </tr>\n",
       "  </tbody>\n",
       "</table>\n",
       "</div>"
      ],
      "text/plain": [
       "   id  release_date                                        movie  \\\n",
       "0   1  Dec 18, 2009                                       Avatar   \n",
       "1   2  May 20, 2011  Pirates of the Caribbean: On Stranger Tides   \n",
       "2   3   Jun 7, 2019                                 Dark Phoenix   \n",
       "3   4   May 1, 2015                      Avengers: Age of Ultron   \n",
       "4   5  Dec 15, 2017            Star Wars Ep. VIII: The Last Jedi   \n",
       "\n",
       "  production_budget domestic_gross worldwide_gross  \n",
       "0      $425,000,000   $760,507,625  $2,776,345,279  \n",
       "1      $410,600,000   $241,063,875  $1,045,663,875  \n",
       "2      $350,000,000    $42,762,350    $149,762,350  \n",
       "3      $330,600,000   $459,005,868  $1,403,013,963  \n",
       "4      $317,000,000   $620,181,382  $1,316,721,747  "
      ]
     },
     "execution_count": 18,
     "metadata": {},
     "output_type": "execute_result"
    }
   ],
   "source": [
    "#load the dataset\n",
    "df_budgets = pd.read_csv('zippedData/tn.movie_budgets.csv.gz')\n",
    "df_budgets.head()"
   ]
  },
  {
   "cell_type": "code",
   "execution_count": 19,
   "metadata": {},
   "outputs": [
    {
     "name": "stdout",
     "output_type": "stream",
     "text": [
      "=== DataFrame Information ===\n",
      "<class 'pandas.core.frame.DataFrame'>\n",
      "RangeIndex: 5782 entries, 0 to 5781\n",
      "Data columns (total 6 columns):\n",
      " #   Column             Non-Null Count  Dtype \n",
      "---  ------             --------------  ----- \n",
      " 0   id                 5782 non-null   int64 \n",
      " 1   release_date       5782 non-null   object\n",
      " 2   movie              5782 non-null   object\n",
      " 3   production_budget  5782 non-null   object\n",
      " 4   domestic_gross     5782 non-null   object\n",
      " 5   worldwide_gross    5782 non-null   object\n",
      "dtypes: int64(1), object(5)\n",
      "memory usage: 1.9 MB\n",
      "\n",
      "=== Numeric Column Statistics ===\n"
     ]
    },
    {
     "data": {
      "text/html": [
       "<div>\n",
       "<style scoped>\n",
       "    .dataframe tbody tr th:only-of-type {\n",
       "        vertical-align: middle;\n",
       "    }\n",
       "\n",
       "    .dataframe tbody tr th {\n",
       "        vertical-align: top;\n",
       "    }\n",
       "\n",
       "    .dataframe thead th {\n",
       "        text-align: right;\n",
       "    }\n",
       "</style>\n",
       "<table border=\"1\" class=\"dataframe\">\n",
       "  <thead>\n",
       "    <tr style=\"text-align: right;\">\n",
       "      <th></th>\n",
       "      <th>id</th>\n",
       "    </tr>\n",
       "  </thead>\n",
       "  <tbody>\n",
       "    <tr>\n",
       "      <th>count</th>\n",
       "      <td>5782.000000</td>\n",
       "    </tr>\n",
       "    <tr>\n",
       "      <th>mean</th>\n",
       "      <td>50.372363</td>\n",
       "    </tr>\n",
       "    <tr>\n",
       "      <th>std</th>\n",
       "      <td>28.821076</td>\n",
       "    </tr>\n",
       "    <tr>\n",
       "      <th>min</th>\n",
       "      <td>1.000000</td>\n",
       "    </tr>\n",
       "    <tr>\n",
       "      <th>25%</th>\n",
       "      <td>25.000000</td>\n",
       "    </tr>\n",
       "    <tr>\n",
       "      <th>50%</th>\n",
       "      <td>50.000000</td>\n",
       "    </tr>\n",
       "    <tr>\n",
       "      <th>75%</th>\n",
       "      <td>75.000000</td>\n",
       "    </tr>\n",
       "    <tr>\n",
       "      <th>max</th>\n",
       "      <td>100.000000</td>\n",
       "    </tr>\n",
       "  </tbody>\n",
       "</table>\n",
       "</div>"
      ],
      "text/plain": [
       "                id\n",
       "count  5782.000000\n",
       "mean     50.372363\n",
       "std      28.821076\n",
       "min       1.000000\n",
       "25%      25.000000\n",
       "50%      50.000000\n",
       "75%      75.000000\n",
       "max     100.000000"
      ]
     },
     "execution_count": 19,
     "metadata": {},
     "output_type": "execute_result"
    }
   ],
   "source": [
    "print(\"=== DataFrame Information ===\")\n",
    "df_budgets.info(memory_usage='deep')\n",
    "\n",
    "print(\"\\n=== Numeric Column Statistics ===\") \n",
    "df_budgets.describe()\n"
   ]
  },
  {
   "cell_type": "markdown",
   "metadata": {},
   "source": [
    "### Inital Data Visualization\n",
    "\n",
    "Barplots, histplots and Heatmaps for values before cleaning in BOM.Movie dataset and Movie Basics and Ratings tables. "
   ]
  },
  {
   "cell_type": "code",
   "execution_count": 20,
   "metadata": {},
   "outputs": [
    {
     "data": {
      "image/png": "[encoded data removed]",
      "text/plain": [
       "<Figure size 720x432 with 1 Axes>"
      ]
     },
     "metadata": {
      "needs_background": "light"
     },
     "output_type": "display_data"
    },
    {
     "data": {
      "image/png": "[encoded data removed]",
      "text/plain": [
       "<Figure size 720x432 with 1 Axes>"
      ]
     },
     "metadata": {
      "needs_background": "light"
     },
     "output_type": "display_data"
    },
    {
     "data": {
      "image/png": "[encoded data removed]",
      "text/plain": [
       "<Figure size 720x432 with 1 Axes>"
      ]
     },
     "metadata": {
      "needs_background": "light"
     },
     "output_type": "display_data"
    },
    {
     "data": {
      "image/png": "[encoded data removed]",
      "text/plain": [
       "<Figure size 720x432 with 1 Axes>"
      ]
     },
     "metadata": {
      "needs_background": "light"
     },
     "output_type": "display_data"
    }
   ],
   "source": [
    "#heatmap for null values \n",
    "plt.figure(figsize=(10, 6))\n",
    "sns.heatmap(BOMdf.isnull(), cbar=False, cmap='inferno')\n",
    "plt.title('Null Values Heatmap for BOM Dataset')\n",
    "plt.show()\n",
    "\n",
    "#heatmap for null values in movie_basics\n",
    "plt.figure(figsize=(10, 6))\n",
    "sns.heatmap(movie_basics.isnull(), cbar=False, cmap='viridis')\n",
    "plt.title('Null Values Heatmap for Movies Dataset')\n",
    "plt.show()\n",
    "\n",
    "#heatmap for null values in movie_ratings\n",
    "plt.figure(figsize=(10, 6)) \n",
    "sns.heatmap(movie_ratings.isnull(), cbar=False, cmap='plasma')\n",
    "plt.title('Null Values Heatmap for Ratings Dataset')\n",
    "plt.show()\n",
    "\n",
    "#heatmap for null values in budgets\n",
    "plt.figure(figsize=(10, 6))\n",
    "sns.heatmap(df_budgets.isnull(), cbar=False, cmap='viridis')\n",
    "plt.title('Null Values Heatmap for Budgets Dataset')\n",
    "plt.show()"
   ]
  },
  {
   "cell_type": "code",
   "execution_count": 21,
   "metadata": {},
   "outputs": [
    {
     "data": {
      "image/png": "[encoded data removed]",
      "text/plain": [
       "<Figure size 864x432 with 1 Axes>"
      ]
     },
     "metadata": {
      "needs_background": "light"
     },
     "output_type": "display_data"
    },
    {
     "data": {
      "image/png": "[encoded data removed]",
      "text/plain": [
       "<Figure size 864x432 with 1 Axes>"
      ]
     },
     "metadata": {
      "needs_background": "light"
     },
     "output_type": "display_data"
    },
    {
     "data": {
      "image/png": "[encoded data removed]",
      "text/plain": [
       "<Figure size 864x432 with 1 Axes>"
      ]
     },
     "metadata": {
      "needs_background": "light"
     },
     "output_type": "display_data"
    },
    {
     "data": {
      "image/png": "[encoded data removed]",
      "text/plain": [
       "<Figure size 864x432 with 1 Axes>"
      ]
     },
     "metadata": {
      "needs_background": "light"
     },
     "output_type": "display_data"
    }
   ],
   "source": [
    "#Bar plots for categorical variables\n",
    "plt.figure(figsize=(12, 6))\n",
    "sns.countplot(data=BOMdf, x='studio', order=BOMdf['studio'].value_counts().index)\n",
    "plt.xticks(rotation=90)\n",
    "plt.title('Distribution of Movies by Studio')\n",
    "plt.show()\n",
    "\n",
    "plt.figure(figsize=(12, 6))\n",
    "sns.countplot(data=movie_basics, x='genres', order=movie_basics['genres'].value_counts().index)\n",
    "plt.xticks(rotation=90)\n",
    "plt.title('Distribution of Movies by Genre')\n",
    "plt.show()\n",
    "\n",
    "plt.figure(figsize=(12, 6))\n",
    "sns.countplot(data=movie_ratings, x='averagerating', order=movie_ratings['averagerating'].value_counts().index)\n",
    "plt.xticks(rotation=90)\n",
    "plt.title('Distribution of Movies by Average Rating')\n",
    "plt.show()\n",
    "\n",
    "plt.figure(figsize=(12, 6))\n",
    "sns.countplot(data=df_budgets, x='production_budget', order=df_budgets['production_budget'].value_counts().index)\n",
    "plt.xticks(rotation=90)\n",
    "plt.title('Distribution of Movies by Production Budget')\n",
    "plt.show()"
   ]
  },
  {
   "cell_type": "markdown",
   "metadata": {},
   "source": [
    "The BOM.Movie dataset has alot of missing values on the colums foreign gross and a few missing on the domestic gross column that need to be cleaned.\n",
    "The table movie_basics has a lot missing values on the column runtime_minutes and a few on the genre columns."
   ]
  },
  {
   "cell_type": "markdown",
   "metadata": {},
   "source": [
    "## Conclusion\n",
    "As our company ventures into the competitive and high-stakes movie industry, a strong understanding of what drives box office success is essential. While we are new to film production, a data-driven approach will allow us to minimize risk, align our content with market demand, and make informed decisions from the outset.\n",
    "\n",
    "This project sets the foundation for that strategy by identifying the key factors that contribute to successful films. Through analyzing industry data, we aim to uncover actionable insights that will inform content choices, guide investment decisions, and position our studio for long-term growth.\n",
    "\n",
    "By translating these findings into clear, practical recommendations, we will empower stakeholders across the organization—from creative development to finance and operations—to collaborate effectively and launch a studio built on insight, not guesswork.\n",
    "\n",
    "In our quest to Identify box office success drivers, understand market trends, develop actionable production insights, support strategic investment decisions and lay a foundation for data-Driven content strategy, our analysis will focus on the IM.DB and BOM.Movies, Movie_Budget datasets.\n",
    "In the IM.DB database we will focus our analysis on the Movie basics and Reviews tables."
   ]
  },
  {
   "cell_type": "markdown",
   "metadata": {},
   "source": [
    "# 3. Data Cleaning and Analysis\n",
    "## Economic Analysis\n",
    "### Preprocessing and merging datasets"
   ]
  },
  {
   "cell_type": "markdown",
   "metadata": {},
   "source": [
    "### Convert currency strings to numeric values in the `df_budgets` dataframe."
   ]
  },
  {
   "cell_type": "code",
   "execution_count": null,
   "metadata": {},
   "outputs": [],
   "source": []
  },
  {
   "cell_type": "markdown",
   "metadata": {},
   "source": [
    "### Preprocess Box Office Mojo (BOM) data"
   ]
  },
  {
   "cell_type": "code",
   "execution_count": 22,
   "metadata": {},
   "outputs": [
    {
     "name": "stdout",
     "output_type": "stream",
     "text": [
      "\n",
      "Summary statistics after preprocessing:\n",
      "       foreign_gross  domestic_gross   total_gross\n",
      "count   2.037000e+03    3.359000e+03  2.009000e+03\n",
      "mean    7.487281e+07    2.874585e+07  1.226913e+08\n",
      "std     1.374106e+08    6.698250e+07  2.074870e+08\n",
      "min     6.000000e+02    1.000000e+02  4.900000e+03\n",
      "25%     3.700000e+06    1.200000e+05  8.141000e+06\n",
      "50%     1.870000e+07    1.400000e+06  4.230000e+07\n",
      "75%     7.490000e+07    2.790000e+07  1.337000e+08\n",
      "max     9.605000e+08    9.367000e+08  1.518900e+09\n",
      "\n",
      "Remaining null values:\n",
      "foreign_gross     1350\n",
      "domestic_gross      28\n",
      "total_gross       1378\n",
      "dtype: int64\n"
     ]
    }
   ],
   "source": [
    "# Convert foreign_gross to numeric, handling comma separators\n",
    "BOMdf['foreign_gross'] = pd.to_numeric(BOMdf['foreign_gross'].str.replace(',', ''), errors='coerce')\n",
    "\n",
    "# Calculate total gross where both values are available \n",
    "BOMdf['total_gross'] = BOMdf['foreign_gross'] + BOMdf['domestic_gross']\n",
    "\n",
    "# Display basic statistics after conversion\n",
    "print(\"\\nSummary statistics after preprocessing:\")\n",
    "print(BOMdf[['foreign_gross', 'domestic_gross', 'total_gross']].describe())\n",
    "\n",
    "# Display count of remaining null values\n",
    "print(\"\\nRemaining null values:\")\n",
    "print(BOMdf[['foreign_gross', 'domestic_gross', 'total_gross']].isnull().sum())"
   ]
  },
  {
   "cell_type": "markdown",
   "metadata": {},
   "source": [
    "### Merge movie budgets with Box Office Mojo data"
   ]
  },
  {
   "cell_type": "code",
   "execution_count": 23,
   "metadata": {},
   "outputs": [],
   "source": [
    "# Select relevant columns from BOMdf and merge with budgets data\n",
    "BOM_budgets_merged = pd.merge(\n",
    "    df_budgets,\n",
    "    BOMdf[['title', 'studio', 'foreign_gross', 'year']],\n",
    "    left_on='movie',\n",
    "    right_on='title',\n",
    "    how='left'\n",
    ")"
   ]
  },
  {
   "cell_type": "code",
   "execution_count": 24,
   "metadata": {},
   "outputs": [
    {
     "data": {
      "text/html": [
       "<div>\n",
       "<style scoped>\n",
       "    .dataframe tbody tr th:only-of-type {\n",
       "        vertical-align: middle;\n",
       "    }\n",
       "\n",
       "    .dataframe tbody tr th {\n",
       "        vertical-align: top;\n",
       "    }\n",
       "\n",
       "    .dataframe thead th {\n",
       "        text-align: right;\n",
       "    }\n",
       "</style>\n",
       "<table border=\"1\" class=\"dataframe\">\n",
       "  <thead>\n",
       "    <tr style=\"text-align: right;\">\n",
       "      <th></th>\n",
       "      <th>id</th>\n",
       "      <th>release_date</th>\n",
       "      <th>movie</th>\n",
       "      <th>production_budget</th>\n",
       "      <th>domestic_gross</th>\n",
       "      <th>worldwide_gross</th>\n",
       "      <th>title</th>\n",
       "      <th>studio</th>\n",
       "      <th>foreign_gross</th>\n",
       "      <th>year</th>\n",
       "    </tr>\n",
       "  </thead>\n",
       "  <tbody>\n",
       "    <tr>\n",
       "      <th>0</th>\n",
       "      <td>1</td>\n",
       "      <td>Dec 18, 2009</td>\n",
       "      <td>Avatar</td>\n",
       "      <td>$425,000,000</td>\n",
       "      <td>$760,507,625</td>\n",
       "      <td>$2,776,345,279</td>\n",
       "      <td>NaN</td>\n",
       "      <td>NaN</td>\n",
       "      <td>NaN</td>\n",
       "      <td>NaN</td>\n",
       "    </tr>\n",
       "    <tr>\n",
       "      <th>1</th>\n",
       "      <td>2</td>\n",
       "      <td>May 20, 2011</td>\n",
       "      <td>Pirates of the Caribbean: On Stranger Tides</td>\n",
       "      <td>$410,600,000</td>\n",
       "      <td>$241,063,875</td>\n",
       "      <td>$1,045,663,875</td>\n",
       "      <td>Pirates of the Caribbean: On Stranger Tides</td>\n",
       "      <td>BV</td>\n",
       "      <td>804600000.0</td>\n",
       "      <td>2011.0</td>\n",
       "    </tr>\n",
       "    <tr>\n",
       "      <th>2</th>\n",
       "      <td>3</td>\n",
       "      <td>Jun 7, 2019</td>\n",
       "      <td>Dark Phoenix</td>\n",
       "      <td>$350,000,000</td>\n",
       "      <td>$42,762,350</td>\n",
       "      <td>$149,762,350</td>\n",
       "      <td>NaN</td>\n",
       "      <td>NaN</td>\n",
       "      <td>NaN</td>\n",
       "      <td>NaN</td>\n",
       "    </tr>\n",
       "    <tr>\n",
       "      <th>3</th>\n",
       "      <td>4</td>\n",
       "      <td>May 1, 2015</td>\n",
       "      <td>Avengers: Age of Ultron</td>\n",
       "      <td>$330,600,000</td>\n",
       "      <td>$459,005,868</td>\n",
       "      <td>$1,403,013,963</td>\n",
       "      <td>Avengers: Age of Ultron</td>\n",
       "      <td>BV</td>\n",
       "      <td>946400000.0</td>\n",
       "      <td>2015.0</td>\n",
       "    </tr>\n",
       "    <tr>\n",
       "      <th>4</th>\n",
       "      <td>5</td>\n",
       "      <td>Dec 15, 2017</td>\n",
       "      <td>Star Wars Ep. VIII: The Last Jedi</td>\n",
       "      <td>$317,000,000</td>\n",
       "      <td>$620,181,382</td>\n",
       "      <td>$1,316,721,747</td>\n",
       "      <td>NaN</td>\n",
       "      <td>NaN</td>\n",
       "      <td>NaN</td>\n",
       "      <td>NaN</td>\n",
       "    </tr>\n",
       "    <tr>\n",
       "      <th>...</th>\n",
       "      <td>...</td>\n",
       "      <td>...</td>\n",
       "      <td>...</td>\n",
       "      <td>...</td>\n",
       "      <td>...</td>\n",
       "      <td>...</td>\n",
       "      <td>...</td>\n",
       "      <td>...</td>\n",
       "      <td>...</td>\n",
       "      <td>...</td>\n",
       "    </tr>\n",
       "    <tr>\n",
       "      <th>5777</th>\n",
       "      <td>78</td>\n",
       "      <td>Dec 31, 2018</td>\n",
       "      <td>Red 11</td>\n",
       "      <td>$7,000</td>\n",
       "      <td>$0</td>\n",
       "      <td>$0</td>\n",
       "      <td>NaN</td>\n",
       "      <td>NaN</td>\n",
       "      <td>NaN</td>\n",
       "      <td>NaN</td>\n",
       "    </tr>\n",
       "    <tr>\n",
       "      <th>5778</th>\n",
       "      <td>79</td>\n",
       "      <td>Apr 2, 1999</td>\n",
       "      <td>Following</td>\n",
       "      <td>$6,000</td>\n",
       "      <td>$48,482</td>\n",
       "      <td>$240,495</td>\n",
       "      <td>NaN</td>\n",
       "      <td>NaN</td>\n",
       "      <td>NaN</td>\n",
       "      <td>NaN</td>\n",
       "    </tr>\n",
       "    <tr>\n",
       "      <th>5779</th>\n",
       "      <td>80</td>\n",
       "      <td>Jul 13, 2005</td>\n",
       "      <td>Return to the Land of Wonders</td>\n",
       "      <td>$5,000</td>\n",
       "      <td>$1,338</td>\n",
       "      <td>$1,338</td>\n",
       "      <td>NaN</td>\n",
       "      <td>NaN</td>\n",
       "      <td>NaN</td>\n",
       "      <td>NaN</td>\n",
       "    </tr>\n",
       "    <tr>\n",
       "      <th>5780</th>\n",
       "      <td>81</td>\n",
       "      <td>Sep 29, 2015</td>\n",
       "      <td>A Plague So Pleasant</td>\n",
       "      <td>$1,400</td>\n",
       "      <td>$0</td>\n",
       "      <td>$0</td>\n",
       "      <td>NaN</td>\n",
       "      <td>NaN</td>\n",
       "      <td>NaN</td>\n",
       "      <td>NaN</td>\n",
       "    </tr>\n",
       "    <tr>\n",
       "      <th>5781</th>\n",
       "      <td>82</td>\n",
       "      <td>Aug 5, 2005</td>\n",
       "      <td>My Date With Drew</td>\n",
       "      <td>$1,100</td>\n",
       "      <td>$181,041</td>\n",
       "      <td>$181,041</td>\n",
       "      <td>NaN</td>\n",
       "      <td>NaN</td>\n",
       "      <td>NaN</td>\n",
       "      <td>NaN</td>\n",
       "    </tr>\n",
       "  </tbody>\n",
       "</table>\n",
       "<p>5782 rows × 10 columns</p>\n",
       "</div>"
      ],
      "text/plain": [
       "      id  release_date                                        movie  \\\n",
       "0      1  Dec 18, 2009                                       Avatar   \n",
       "1      2  May 20, 2011  Pirates of the Caribbean: On Stranger Tides   \n",
       "2      3   Jun 7, 2019                                 Dark Phoenix   \n",
       "3      4   May 1, 2015                      Avengers: Age of Ultron   \n",
       "4      5  Dec 15, 2017            Star Wars Ep. VIII: The Last Jedi   \n",
       "...   ..           ...                                          ...   \n",
       "5777  78  Dec 31, 2018                                       Red 11   \n",
       "5778  79   Apr 2, 1999                                    Following   \n",
       "5779  80  Jul 13, 2005                Return to the Land of Wonders   \n",
       "5780  81  Sep 29, 2015                         A Plague So Pleasant   \n",
       "5781  82   Aug 5, 2005                            My Date With Drew   \n",
       "\n",
       "     production_budget domestic_gross worldwide_gross  \\\n",
       "0         $425,000,000   $760,507,625  $2,776,345,279   \n",
       "1         $410,600,000   $241,063,875  $1,045,663,875   \n",
       "2         $350,000,000    $42,762,350    $149,762,350   \n",
       "3         $330,600,000   $459,005,868  $1,403,013,963   \n",
       "4         $317,000,000   $620,181,382  $1,316,721,747   \n",
       "...                ...            ...             ...   \n",
       "5777            $7,000             $0              $0   \n",
       "5778            $6,000        $48,482        $240,495   \n",
       "5779            $5,000         $1,338          $1,338   \n",
       "5780            $1,400             $0              $0   \n",
       "5781            $1,100       $181,041        $181,041   \n",
       "\n",
       "                                            title studio  foreign_gross  \\\n",
       "0                                             NaN    NaN            NaN   \n",
       "1     Pirates of the Caribbean: On Stranger Tides     BV    804600000.0   \n",
       "2                                             NaN    NaN            NaN   \n",
       "3                         Avengers: Age of Ultron     BV    946400000.0   \n",
       "4                                             NaN    NaN            NaN   \n",
       "...                                           ...    ...            ...   \n",
       "5777                                          NaN    NaN            NaN   \n",
       "5778                                          NaN    NaN            NaN   \n",
       "5779                                          NaN    NaN            NaN   \n",
       "5780                                          NaN    NaN            NaN   \n",
       "5781                                          NaN    NaN            NaN   \n",
       "\n",
       "        year  \n",
       "0        NaN  \n",
       "1     2011.0  \n",
       "2        NaN  \n",
       "3     2015.0  \n",
       "4        NaN  \n",
       "...      ...  \n",
       "5777     NaN  \n",
       "5778     NaN  \n",
       "5779     NaN  \n",
       "5780     NaN  \n",
       "5781     NaN  \n",
       "\n",
       "[5782 rows x 10 columns]"
      ]
     },
     "execution_count": 24,
     "metadata": {},
     "output_type": "execute_result"
    }
   ],
   "source": [
    "BOM_budgets_merged"
   ]
  },
  {
   "cell_type": "markdown",
   "metadata": {},
   "source": [
    "### Verify the merge results and drop duplicate title columns if present"
   ]
  },
  {
   "cell_type": "code",
   "execution_count": 25,
   "metadata": {},
   "outputs": [
    {
     "name": "stdout",
     "output_type": "stream",
     "text": [
      "\n",
      "After merge:\n",
      "BOM_budgets_merged shape: (5782, 10)\n",
      "Null values in merged columns:\n",
      "title            4535\n",
      "studio           4536\n",
      "foreign_gross    4696\n",
      "year             4535\n",
      "dtype: int64\n"
     ]
    }
   ],
   "source": [
    "# Validate merge results\n",
    "print(\"\\nAfter merge:\")\n",
    "print(f\"BOM_budgets_merged shape: {BOM_budgets_merged.shape}\")\n",
    "print(f\"Null values in merged columns:\")\n",
    "print(BOM_budgets_merged[['title', 'studio', 'foreign_gross', 'year']].isnull().sum())\n",
    "\n",
    "# Drop duplicate title column\n",
    "BOM_budgets_merged = BOM_budgets_merged.drop('title', axis=1, errors='ignore')"
   ]
  },
  {
   "cell_type": "markdown",
   "metadata": {},
   "source": [
    "### Merge relevant tables from IMDB tables."
   ]
  },
  {
   "cell_type": "code",
   "execution_count": 26,
   "metadata": {},
   "outputs": [
    {
     "name": "stdout",
     "output_type": "stream",
     "text": [
      "=== Merging IMDb Tables ===\n",
      "movie_basics shape: (146144, 6)\n",
      "movie_ratings shape: (73856, 3)\n",
      "\n",
      "IMDb merged shape: (73856, 8)\n"
     ]
    }
   ],
   "source": [
    "# First merge IMDb tables (movie_basics and ratings)\n",
    "print(\"=== Merging IMDb Tables ===\")\n",
    "print(f\"movie_basics shape: {movie_basics.shape}\")\n",
    "print(f\"movie_ratings shape: {movie_ratings.shape}\")\n",
    "\n",
    "# Create merged IMDb dataset\n",
    "imdb_merged = pd.merge(\n",
    "    movie_basics, \n",
    "    movie_ratings,\n",
    "    on='movie_id',\n",
    "    how='inner',\n",
    "    validate='1:1'\n",
    ")\n",
    "print(f\"\\nIMDb merged shape: {imdb_merged.shape}\")"
   ]
  },
  {
   "cell_type": "markdown",
   "metadata": {},
   "source": [
    "### Create final combined Dataset `merged_df`."
   ]
  },
  {
   "cell_type": "code",
   "execution_count": 27,
   "metadata": {},
   "outputs": [
    {
     "name": "stdout",
     "output_type": "stream",
     "text": [
      "\n",
      "=== Merging with Budget/Box Office Data ===\n",
      "Current BOM_budgets_merged shape: (5782, 9)\n"
     ]
    }
   ],
   "source": [
    "# Merge IMDb data with existing budget/box office data\n",
    "print(\"\\n=== Merging with Budget/Box Office Data ===\")\n",
    "print(f\"Current BOM_budgets_merged shape: {BOM_budgets_merged.shape}\")\n",
    "\n",
    "merged_df = pd.merge(\n",
    "    BOM_budgets_merged,\n",
    "    imdb_merged,\n",
    "    left_on='movie',\n",
    "    right_on='primary_title',\n",
    "    how='left',\n",
    ")"
   ]
  },
  {
   "cell_type": "markdown",
   "metadata": {},
   "source": [
    "### Verify final results and drop duplicate columns from the `merged_df`."
   ]
  },
  {
   "cell_type": "code",
   "execution_count": 28,
   "metadata": {},
   "outputs": [
    {
     "name": "stdout",
     "output_type": "stream",
     "text": [
      "\n",
      "Final merged shape: (6473, 17)\n",
      "\n",
      "Null values in key IMDb columns:\n",
      "movie_id         3598\n",
      "averagerating    3598\n",
      "genres           3606\n",
      "dtype: int64\n",
      "\n",
      "Sample of merged data:\n",
      "                                         movie   movie_id  averagerating  \\\n",
      "0                                       Avatar  tt1775309            6.1   \n",
      "1  Pirates of the Caribbean: On Stranger Tides  tt1298650            6.6   \n",
      "2                                 Dark Phoenix  tt6565702            6.0   \n",
      "3                      Avengers: Age of Ultron  tt2395427            7.3   \n",
      "4            Star Wars Ep. VIII: The Last Jedi        NaN            NaN   \n",
      "\n",
      "                     genres  \n",
      "0                    Horror  \n",
      "1  Action,Adventure,Fantasy  \n",
      "2   Action,Adventure,Sci-Fi  \n",
      "3   Action,Adventure,Sci-Fi  \n",
      "4                       NaN  \n"
     ]
    }
   ],
   "source": [
    "# Validate final merge results\n",
    "print(f\"\\nFinal merged shape: {merged_df.shape}\")\n",
    "print(\"\\nNull values in key IMDb columns:\")\n",
    "print(merged_df[['movie_id', 'averagerating', 'genres']].isnull().sum())\n",
    "\n",
    "# Clean up duplicate columns\n",
    "merged_df = merged_df.drop('primary_title', axis=1, errors='ignore')\n",
    "\n",
    "# Display sample of merged data\n",
    "print(\"\\nSample of merged data:\")\n",
    "print(merged_df[['movie', 'movie_id', 'averagerating', 'genres']].head())"
   ]
  },
  {
   "cell_type": "markdown",
   "metadata": {},
   "source": [
    "### Calculate financial performance metrics"
   ]
  },
  {
   "cell_type": "code",
   "execution_count": 29,
   "metadata": {},
   "outputs": [
    {
     "name": "stdout",
     "output_type": "stream",
     "text": [
      "worldwide_gross        int64\n",
      "production_budget      int64\n",
      "domestic_gross         int64\n",
      "foreign_gross        float64\n",
      "ROI                  float64\n",
      "profit_margin        float64\n",
      "dtype: object\n",
      "   worldwide_gross  production_budget       ROI  profit_margin\n",
      "0       2776345279          425000000  5.532577       0.846921\n",
      "1       1045663875          410600000  1.546673       0.607331\n",
      "2        149762350          350000000 -0.572108      -1.337036\n",
      "3       1403013963          330600000  3.243841       0.764364\n",
      "4       1316721747          317000000  3.153696       0.759251\n"
     ]
    }
   ],
   "source": [
    "import numpy as np\n",
    "import pandas as pd\n",
    "\n",
    "# 1) Convert currency-like strings to numeric\n",
    "num_cols = [\"worldwide_gross\", \"production_budget\", \"domestic_gross\", \"foreign_gross\"]\n",
    "\n",
    "def to_number(s):\n",
    "    # keep digits, decimal point, sign, scientific notation (e/E), strip everything else\n",
    "    return pd.to_numeric(\n",
    "        s.astype(str).str.replace(r\"[^\\d\\.\\-eE]\", \"\", regex=True),\n",
    "        errors=\"coerce\"\n",
    "    )\n",
    "\n",
    "for c in num_cols:\n",
    "    if c in merged_df.columns:\n",
    "        merged_df[c] = to_number(merged_df[c])\n",
    "\n",
    "# 2) Compute ROI safely: (WW - Budget) / Budget   (only when budget > 0)\n",
    "mask = merged_df[\"production_budget\"] > 0\n",
    "merged_df[\"ROI\"] = np.nan\n",
    "merged_df.loc[mask, \"ROI\"] = (\n",
    "    (merged_df.loc[mask, \"worldwide_gross\"] - merged_df.loc[mask, \"production_budget\"])\n",
    "    / merged_df.loc[mask, \"production_budget\"]\n",
    ")\n",
    "\n",
    "# 3) (Optional) Profit margin: (WW - Budget) / WW   (only when WW > 0)\n",
    "mask_gross = merged_df[\"worldwide_gross\"] > 0\n",
    "merged_df[\"profit_margin\"] = np.nan\n",
    "merged_df.loc[mask_gross, \"profit_margin\"] = (\n",
    "    (merged_df.loc[mask_gross, \"worldwide_gross\"] - merged_df.loc[mask_gross, \"production_budget\"])\n",
    "    / merged_df.loc[mask_gross, \"worldwide_gross\"]\n",
    ")\n",
    "\n",
    "# 4) Quick sanity checks\n",
    "print(merged_df[num_cols + [\"ROI\", \"profit_margin\"]].dtypes)\n",
    "print(merged_df[[ \"worldwide_gross\", \"production_budget\", \"ROI\", \"profit_margin\"]].head())\n"
   ]
  },
  {
   "cell_type": "markdown",
   "metadata": {},
   "source": [
    "### Budget Analysis"
   ]
  },
  {
   "cell_type": "code",
   "execution_count": 30,
   "metadata": {},
   "outputs": [
    {
     "data": {
      "image/png": "[encoded data removed]",
      "text/plain": [
       "<Figure size 864x432 with 1 Axes>"
      ]
     },
     "metadata": {
      "needs_background": "light"
     },
     "output_type": "display_data"
    }
   ],
   "source": [
    "# Budget distribution visualization\n",
    "plt.figure(figsize=(12, 6))\n",
    "sns.histplot(merged_df['production_budget'], bins=30, kde=True)\n",
    "plt.title('Movie Budget Distribution')\n",
    "plt.xlabel('Production Budget ($)')\n",
    "plt.ylabel('Frequency')\n",
    "plt.show()"
   ]
  },
  {
   "cell_type": "markdown",
   "metadata": {},
   "source": [
    "### Revenue Analysis"
   ]
  },
  {
   "cell_type": "code",
   "execution_count": 31,
   "metadata": {},
   "outputs": [
    {
     "data": {
      "image/png": "[encoded data removed]",
      "text/plain": [
       "<Figure size 720x432 with 1 Axes>"
      ]
     },
     "metadata": {
      "needs_background": "light"
     },
     "output_type": "display_data"
    }
   ],
   "source": [
    "# Budget vs Worldwide Gross\n",
    "plt.figure(figsize=(10, 6))\n",
    "sns.scatterplot(\n",
    "    x='production_budget',\n",
    "    y='worldwide_gross',\n",
    "    data=merged_df,\n",
    "    alpha=0.6\n",
    ")\n",
    "plt.title('Production Budget vs Worldwide Gross')\n",
    "plt.xlabel('Production Budget ($ millions)')\n",
    "plt.ylabel('Worldwide Gross ($ millions)')\n",
    "plt.show()"
   ]
  },
  {
   "cell_type": "markdown",
   "metadata": {},
   "source": [
    "### Genre Performance Analysis"
   ]
  },
  {
   "cell_type": "code",
   "execution_count": 32,
   "metadata": {},
   "outputs": [
    {
     "data": {
      "image/png": "[encoded data removed]",
      "text/plain": [
       "<Figure size 864x432 with 1 Axes>"
      ]
     },
     "metadata": {
      "needs_background": "light"
     },
     "output_type": "display_data"
    }
   ],
   "source": [
    "# Genre analysis\n",
    "genre_df = merged_df.explode('genres')\n",
    "genre_performance = genre_df.groupby('genres').agg({\n",
    "    'worldwide_gross': 'median',\n",
    "    'ROI': 'median',\n",
    "    'averagerating': 'mean'\n",
    "}).sort_values('ROI', ascending=False)\n",
    "\n",
    "# Top 10 genres by ROI\n",
    "plt.figure(figsize=(12, 6))\n",
    "sns.barplot(\n",
    "    x=genre_performance.head(10).index,\n",
    "    y=genre_performance.head(10)['ROI']\n",
    ")\n",
    "plt.title('Top 10 Genres by ROI')\n",
    "plt.xticks(rotation=90)\n",
    "plt.ylabel('Median ROI')\n",
    "plt.show()"
   ]
  },
  {
   "cell_type": "markdown",
   "metadata": {},
   "source": [
    "### Release Timing Analysis"
   ]
  },
  {
   "cell_type": "code",
   "execution_count": 33,
   "metadata": {},
   "outputs": [
    {
     "name": "stdout",
     "output_type": "stream",
     "text": [
      "    release_month  worldwide_gross       ROI\n",
      "0               1       22365133.0  0.581509\n",
      "1               2       30063805.0  0.611561\n",
      "2               3       25802739.5  0.531329\n",
      "3               4       21464818.5  0.409252\n",
      "4               5       25387091.0  0.847581\n",
      "5               6       41410568.0  1.036885\n",
      "6               7       49541995.5  1.128293\n",
      "7               8       22108977.0  0.627456\n",
      "8               9       18117579.0  0.303174\n",
      "9              10       15392609.0  0.413520\n",
      "10             11       51695362.0  1.109497\n",
      "11             12       31194353.5  0.642332\n"
     ]
    }
   ],
   "source": [
    "# Make sure release_date is datetime\n",
    "merged_df['release_date'] = pd.to_datetime(merged_df['release_date'], errors='coerce')\n",
    "\n",
    "# Extract month number (1–12)\n",
    "merged_df['release_month'] = merged_df['release_date'].dt.month\n",
    "\n",
    "# Optionally add month name for readability\n",
    "merged_df['release_month_name'] = merged_df['release_date'].dt.month_name()\n",
    "\n",
    "# Now you can group by month\n",
    "monthly_performance = merged_df.groupby('release_month').agg({\n",
    "    'worldwide_gross': 'median',\n",
    "    'ROI': 'median'\n",
    "}).reset_index()\n",
    "\n",
    "print(monthly_performance)\n"
   ]
  },
  {
   "cell_type": "markdown",
   "metadata": {},
   "source": [
    "### ROI Analysis"
   ]
  },
  {
   "cell_type": "code",
   "execution_count": 34,
   "metadata": {},
   "outputs": [
    {
     "data": {
      "image/png": "[encoded data removed]",
      "text/plain": [
       "<Figure size 720x432 with 1 Axes>"
      ]
     },
     "metadata": {
      "needs_background": "light"
     },
     "output_type": "display_data"
    }
   ],
   "source": [
    "# ROI distribution\n",
    "plt.figure(figsize=(10, 6))\n",
    "sns.histplot(merged_df['ROI'], bins=50, kde=True)\n",
    "plt.title('ROI Distribution')\n",
    "plt.xlabel('Return on Investment (Multiple)')\n",
    "plt.ylabel('Frequency')\n",
    "plt.xlim(-1, 10)  # Exclude extreme outliers\n",
    "plt.show()"
   ]
  },
  {
   "cell_type": "markdown",
   "metadata": {},
   "source": [
    "## Operational Analysis\n"
   ]
  },
  {
   "cell_type": "markdown",
   "metadata": {},
   "source": [
    "### Cleaning and analysing data."
   ]
  },
  {
   "cell_type": "code",
   "execution_count": 35,
   "metadata": {},
   "outputs": [
    {
     "name": "stdout",
     "output_type": "stream",
     "text": [
      "\n",
      "Cleaned data:\n",
      "    id                                             review rating   fresh  \\\n",
      "0    3  A distinctly gallows take on contemporary fina...    3/5   fresh   \n",
      "6    3  Quickly grows repetitive and tiresome, meander...      C  rotten   \n",
      "7    3  Cronenberg is not a director to be daunted by ...    2/5  rotten   \n",
      "11   3  While not one of Cronenberg's stronger films, ...     B-   fresh   \n",
      "12   3  Robert Pattinson works mighty hard to make Cos...    2/4  rotten   \n",
      "\n",
      "            critic  top_critic           publisher               date  \n",
      "0       PJ Nabarro           0     Patrick Nabarro  November 10, 2018  \n",
      "6   Eric D. Snider           0     EricDSnider.com      July 17, 2013  \n",
      "7     Matt Kelemen           0  Las Vegas CityLife     April 21, 2013  \n",
      "11    Emanuel Levy           0     EmanuelLevy.Com   February 3, 2013  \n",
      "12  Christian Toto           0       Big Hollywood   January 15, 2013  \n",
      "\n",
      "Missing values after cleaning:\n",
      "id            0\n",
      "review        0\n",
      "rating        0\n",
      "fresh         0\n",
      "critic        0\n",
      "top_critic    0\n",
      "publisher     0\n",
      "date          0\n",
      "dtype: int64\n"
     ]
    }
   ],
   "source": [
    "#Cleaning rt.reviews.tsv\n",
    "\n",
    "df_reviews.drop_duplicates(inplace=True)\n",
    "df_reviews.columns = df_reviews.columns.str.strip().str.lower().str.replace(' ', '_')\n",
    "df_reviews.dropna(inplace=True)\n",
    "\n",
    "print(\"\\nCleaned data:\")\n",
    "print(df_reviews.head())\n",
    "print(\"\\nMissing values after cleaning:\")\n",
    "print(df_reviews.isnull().sum())\n"
   ]
  },
  {
   "cell_type": "code",
   "execution_count": 36,
   "metadata": {},
   "outputs": [
    {
     "name": "stdout",
     "output_type": "stream",
     "text": [
      "\n",
      "Harmonized data:\n",
      "    id                                             review  rating   fresh  \\\n",
      "0    3  A distinctly gallows take on contemporary fina...     3.0   fresh   \n",
      "6    3  Quickly grows repetitive and tiresome, meander...     3.0  rotten   \n",
      "7    3  Cronenberg is not a director to be daunted by ...     2.0  rotten   \n",
      "12   3  Robert Pattinson works mighty hard to make Cos...     2.0  rotten   \n",
      "13   3  The anger over the injustice of the financial ...     2.0   fresh   \n",
      "\n",
      "            critic  top_critic            publisher               date  \n",
      "0       PJ Nabarro           0      Patrick Nabarro  November 10, 2018  \n",
      "6   Eric D. Snider           0      EricDSnider.com      July 17, 2013  \n",
      "7     Matt Kelemen           0   Las Vegas CityLife     April 21, 2013  \n",
      "12  Christian Toto           0        Big Hollywood   January 15, 2013  \n",
      "13    Robert Roten           0  Laramie Movie Scope    January 7, 2013  \n",
      "\n",
      "Unique ratings after harmonization: [ 3.  2.  4.  6.  1.  8.  7.  5.  9.  0. 10.]\n"
     ]
    }
   ],
   "source": [
    "# Harmonize the rating column\n",
    "def harmonize_rating(rating):\n",
    "    mapping = {'A': 1, 'B': 2, 'C': 3, 'D': 4, 'E': 5}\n",
    "\n",
    "    if isinstance(rating, str):\n",
    "        rating = rating.strip().upper()\n",
    "        if '/' in rating:\n",
    "            # Take numerator of fraction\n",
    "            numerator_part = rating.split('/')[0].strip()\n",
    "            # Extract first digit\n",
    "            for ch in numerator_part:\n",
    "                if ch.isdigit():\n",
    "                    return int(ch)\n",
    "            return None  # no digit found\n",
    "        elif rating in mapping:\n",
    "            return mapping[rating]\n",
    "\n",
    "    # If numeric (including floats like 3.0 or 3.)\n",
    "    try:\n",
    "        numeric_rating = round(float(str(rating).strip()))\n",
    "        return int(numeric_rating)  # force to integer\n",
    "    except ValueError:\n",
    "        return None\n",
    "\n",
    "# Apply harmonization\n",
    "df_reviews['rating'] = df_reviews['rating'].apply(harmonize_rating)\n",
    "\n",
    "# Drop rows with invalid rating\n",
    "df_reviews.dropna(subset=['rating'], inplace=True)\n",
    "\n",
    "# Final check\n",
    "print(\"\\nHarmonized data:\")\n",
    "print(df_reviews.head())\n",
    "print(\"\\nUnique ratings after harmonization:\", df_reviews['rating'].unique())\n"
   ]
  },
  {
   "cell_type": "code",
   "execution_count": 37,
   "metadata": {},
   "outputs": [
    {
     "name": "stdout",
     "output_type": "stream",
     "text": [
      "\n",
      "Cleaned movie data:\n",
      "   id                                           synopsis rate  \\\n",
      "0   1  This gritty, fast-paced, and innovative police...    R   \n",
      "1   3  New York City, not-too-distant-future: Eric Pa...    R   \n",
      "2   5  Illeana Douglas delivers a superb performance ...    R   \n",
      "3   6  Michael Douglas runs afoul of a treacherous su...    R   \n",
      "4   7                                                      NR   \n",
      "\n",
      "                                 genre          director  \\\n",
      "0  Action and Adventure|Classics|Drama  William Friedkin   \n",
      "1    Drama|Science Fiction and Fantasy  David Cronenberg   \n",
      "2    Drama|Musical and Performing Arts    Allison Anders   \n",
      "3           Drama|Mystery and Suspense    Barry Levinson   \n",
      "4                        Drama|Romance    Rodney Bennett   \n",
      "\n",
      "                            writer  theater_date      dvd_date currency  \\\n",
      "0                   Ernest Tidyman   Oct 9, 1971  Sep 25, 2001            \n",
      "1     David Cronenberg|Don DeLillo  Aug 17, 2012   Jan 1, 2013        $   \n",
      "2                   Allison Anders  Sep 13, 1996  Apr 18, 2000            \n",
      "3  Paul Attanasio|Michael Crichton   Dec 9, 1994  Aug 27, 1997            \n",
      "4                     Giles Cooper                                        \n",
      "\n",
      "  box_office      runtime             studio  \n",
      "0             104 minutes                     \n",
      "1    600,000  108 minutes  Entertainment One  \n",
      "2             116 minutes                     \n",
      "3             128 minutes                     \n",
      "4             200 minutes                     \n",
      "\n",
      "Dataset shape: (1560, 12)\n",
      "\n",
      "Column names: ['id', 'synopsis', 'rate', 'genre', 'director', 'writer', 'theater_date', 'dvd_date', 'currency', 'box_office', 'runtime', 'studio']\n"
     ]
    }
   ],
   "source": [
    "#Clean the  rt.movie_info.tsv dataset\n",
    "Movie_info_df.drop_duplicates(inplace=True)  # remove duplicate rows\n",
    "Movie_info_df.columns = Movie_info_df.columns.str.strip().str.lower().str.replace(' ', '_')  # clean column names\n",
    "\n",
    "# Rename 'rating' to 'rate' if it exists\n",
    "if 'rating' in Movie_info_df.columns:\n",
    "    Movie_info_df.rename(columns={'rating': 'rate'}, inplace=True)\n",
    "\n",
    "Movie_info_df.dropna(how='all', inplace=True)  # drop rows where all values are NaN\n",
    "Movie_info_df.fillna('', inplace=True)  # fill remaining missing values with empty strings (or choose suitable fill)\n",
    "\n",
    "# Final check\n",
    "print(\"\\nCleaned movie data:\")\n",
    "print(Movie_info_df.head())\n",
    "print(\"\\nDataset shape:\", Movie_info_df.shape)\n",
    "print(\"\\nColumn names:\", Movie_info_df.columns.tolist())"
   ]
  },
  {
   "cell_type": "markdown",
   "metadata": {},
   "source": [
    "### TOP 10 Movies by ID based by rating"
   ]
  },
  {
   "cell_type": "code",
   "execution_count": 38,
   "metadata": {},
   "outputs": [
    {
     "data": {
      "image/png": "[encoded data removed]",
      "text/plain": [
       "<Figure size 720x432 with 1 Axes>"
      ]
     },
     "metadata": {
      "needs_background": "light"
     },
     "output_type": "display_data"
    }
   ],
   "source": [
    "import matplotlib.pyplot as plt\n",
    "\n",
    "# Make sure the dataframe has these columns: 'averagerating' and 'numvotes'\n",
    "# (adjust names if they are different in your data)\n",
    "\n",
    "# Step 1: Sort by rating and number of votes\n",
    "sorted_movies = merged_df.sort_values(by=['averagerating', 'numvotes'], ascending=[False, False])\n",
    "\n",
    "# Step 2: Select the top 10\n",
    "top_10_movies = sorted_movies.head(10)\n",
    "\n",
    "# Step 3: Plot\n",
    "plt.figure(figsize=(10, 6))\n",
    "plt.barh(top_10_movies['movie'], top_10_movies['averagerating'])\n",
    "plt.xlabel(\"Average Rating\")\n",
    "plt.ylabel(\"Movie Title\")\n",
    "plt.title(\"Top 10 Movies by Rating and Number of Votes\")\n",
    "plt.gca().invert_yaxis()\n",
    "plt.show()"
   ]
  },
  {
   "cell_type": "markdown",
   "metadata": {},
   "source": [
    "### Top 10 Genres with Best Average Rating"
   ]
  },
  {
   "cell_type": "code",
   "execution_count": 39,
   "metadata": {},
   "outputs": [
    {
     "data": {
      "image/png": "[encoded data removed]",
      "text/plain": [
       "<Figure size 720x432 with 1 Axes>"
      ]
     },
     "metadata": {
      "needs_background": "light"
     },
     "output_type": "display_data"
    }
   ],
   "source": [
    "import matplotlib.pyplot as plt\n",
    "import seaborn as sns\n",
    "\n",
    "# Merge reviews with movies info\n",
    "# df_reviews: id, rating\n",
    "# Movie_info_df: id, title, genre\n",
    "\n",
    "ratings_with_genre = df_reviews.merge(Movie_info_df[['id', 'genre']], on='id')\n",
    "\n",
    "# Calculate average rating and review count per genre\n",
    "genre_stats = (\n",
    "    ratings_with_genre.groupby('genre')\n",
    "    .agg(\n",
    "        avg_rating=('rating', 'mean'),\n",
    "        num_reviews=('rating', 'count')\n",
    "    )\n",
    "    .reset_index()\n",
    "    .sort_values(by='avg_rating', ascending=False)\n",
    "    .head(10)\n",
    ")\n",
    "\n",
    "# Sort for better visualization\n",
    "genre_stats = genre_stats.sort_values(by='avg_rating', ascending=True)\n",
    "# Plot\n",
    "plt.figure(figsize=(10, 6))\n",
    "ax = sns.barplot(\n",
    "    data=genre_stats,\n",
    "    x='avg_rating',\n",
    "    y='genre',\n",
    "    palette='magma'\n",
    ")\n",
    "\n",
    "# Annotate bars with avg_rating and number of reviews\n",
    "for i in ax.patches:\n",
    "    avg_rating = i.get_width()\n",
    "    genre_index = int(i.get_y() + 0.5)\n",
    "    num_reviews = genre_stats.iloc[genre_index]['num_reviews']\n",
    "    ax.text(\n",
    "        avg_rating + 0.02,\n",
    "        i.get_y() + 0.5,\n",
    "        f\"{avg_rating:.1f} ({num_reviews} reviews)\",\n",
    "        va='center'\n",
    "    )\n",
    "\n",
    "plt.xlabel('Average Rating')\n",
    "plt.ylabel('Genre')\n",
    "plt.title('Top 10 Genres with Best Average Ratings\\n(Review Counts in Brackets)')\n",
    "plt.tight_layout()\n",
    "plt.show()"
   ]
  },
  {
   "cell_type": "markdown",
   "metadata": {},
   "source": [
    "### Top 10 highly rated Directors (with at least 5 reviews)"
   ]
  },
  {
   "cell_type": "code",
   "execution_count": 40,
   "metadata": {},
   "outputs": [
    {
     "data": {
      "image/png": "[encoded data removed]",
      "text/plain": [
       "<Figure size 720x432 with 1 Axes>"
      ]
     },
     "metadata": {
      "needs_background": "light"
     },
     "output_type": "display_data"
    }
   ],
   "source": [
    "#Merge reviews with movies to get director info and ratings\n",
    "ratings_with_director = df_reviews.merge(Movie_info_df[['id', 'director']], on='id')\n",
    "\n",
    "# Calculate average rating and number of reviews per director\n",
    "director_ratings = (\n",
    "    ratings_with_director.groupby('director')\n",
    "    .agg(\n",
    "        avg_rating=('rating', 'mean'),\n",
    "        num_reviews=('rating', 'count')\n",
    "    )\n",
    "    .reset_index()\n",
    ")\n",
    "\n",
    "# Optional: filter directors with enough reviews (e.g., 5+)\n",
    "director_ratings = director_ratings[director_ratings['num_reviews'] >= 5]\n",
    "\n",
    "# Sort by avg_rating descending (highest first)\n",
    "top_directors = director_ratings.sort_values('avg_rating', ascending=False).head(10)\n",
    "\n",
    "# Plot\n",
    "plt.figure(figsize=(10, 6))\n",
    "ax = sns.barplot(\n",
    "    data=top_directors,\n",
    "    x='avg_rating',\n",
    "    y='director',\n",
    "    palette='Greens_r'\n",
    ")\n",
    "\n",
    "plt.xlabel('Average Rating')\n",
    "plt.ylabel('Director')\n",
    "plt.title('Top 10 Highest Rated Directors (with at least 5 reviews)')\n",
    "plt.tight_layout()\n",
    "plt.show()"
   ]
  },
  {
   "cell_type": "markdown",
   "metadata": {},
   "source": [
    "## Cleaning merged dataset i.e cleaning merged df "
   ]
  },
  {
   "cell_type": "code",
   "execution_count": 41,
   "metadata": {},
   "outputs": [
    {
     "data": {
      "text/html": [
       "<div>\n",
       "<style scoped>\n",
       "    .dataframe tbody tr th:only-of-type {\n",
       "        vertical-align: middle;\n",
       "    }\n",
       "\n",
       "    .dataframe tbody tr th {\n",
       "        vertical-align: top;\n",
       "    }\n",
       "\n",
       "    .dataframe thead th {\n",
       "        text-align: right;\n",
       "    }\n",
       "</style>\n",
       "<table border=\"1\" class=\"dataframe\">\n",
       "  <thead>\n",
       "    <tr style=\"text-align: right;\">\n",
       "      <th></th>\n",
       "      <th>id</th>\n",
       "      <th>release_date</th>\n",
       "      <th>movie</th>\n",
       "      <th>production_budget</th>\n",
       "      <th>domestic_gross</th>\n",
       "      <th>worldwide_gross</th>\n",
       "      <th>studio</th>\n",
       "      <th>foreign_gross</th>\n",
       "      <th>year</th>\n",
       "      <th>movie_id</th>\n",
       "      <th>original_title</th>\n",
       "      <th>start_year</th>\n",
       "      <th>runtime_minutes</th>\n",
       "      <th>genres</th>\n",
       "      <th>averagerating</th>\n",
       "      <th>numvotes</th>\n",
       "      <th>ROI</th>\n",
       "      <th>profit_margin</th>\n",
       "      <th>release_month</th>\n",
       "      <th>release_month_name</th>\n",
       "    </tr>\n",
       "  </thead>\n",
       "  <tbody>\n",
       "    <tr>\n",
       "      <th>0</th>\n",
       "      <td>1</td>\n",
       "      <td>2009-12-18</td>\n",
       "      <td>Avatar</td>\n",
       "      <td>425000000</td>\n",
       "      <td>760507625</td>\n",
       "      <td>2776345279</td>\n",
       "      <td>NaN</td>\n",
       "      <td>NaN</td>\n",
       "      <td>NaN</td>\n",
       "      <td>tt1775309</td>\n",
       "      <td>Abatâ</td>\n",
       "      <td>2011.0</td>\n",
       "      <td>93.0</td>\n",
       "      <td>Horror</td>\n",
       "      <td>6.1</td>\n",
       "      <td>43.0</td>\n",
       "      <td>5.532577</td>\n",
       "      <td>0.846921</td>\n",
       "      <td>12</td>\n",
       "      <td>December</td>\n",
       "    </tr>\n",
       "    <tr>\n",
       "      <th>1</th>\n",
       "      <td>2</td>\n",
       "      <td>2011-05-20</td>\n",
       "      <td>Pirates of the Caribbean: On Stranger Tides</td>\n",
       "      <td>410600000</td>\n",
       "      <td>241063875</td>\n",
       "      <td>1045663875</td>\n",
       "      <td>BV</td>\n",
       "      <td>804600000.0</td>\n",
       "      <td>2011.0</td>\n",
       "      <td>tt1298650</td>\n",
       "      <td>Pirates of the Caribbean: On Stranger Tides</td>\n",
       "      <td>2011.0</td>\n",
       "      <td>136.0</td>\n",
       "      <td>Action,Adventure,Fantasy</td>\n",
       "      <td>6.6</td>\n",
       "      <td>447624.0</td>\n",
       "      <td>1.546673</td>\n",
       "      <td>0.607331</td>\n",
       "      <td>5</td>\n",
       "      <td>May</td>\n",
       "    </tr>\n",
       "    <tr>\n",
       "      <th>2</th>\n",
       "      <td>3</td>\n",
       "      <td>2019-06-07</td>\n",
       "      <td>Dark Phoenix</td>\n",
       "      <td>350000000</td>\n",
       "      <td>42762350</td>\n",
       "      <td>149762350</td>\n",
       "      <td>NaN</td>\n",
       "      <td>NaN</td>\n",
       "      <td>NaN</td>\n",
       "      <td>tt6565702</td>\n",
       "      <td>Dark Phoenix</td>\n",
       "      <td>2019.0</td>\n",
       "      <td>113.0</td>\n",
       "      <td>Action,Adventure,Sci-Fi</td>\n",
       "      <td>6.0</td>\n",
       "      <td>24451.0</td>\n",
       "      <td>-0.572108</td>\n",
       "      <td>-1.337036</td>\n",
       "      <td>6</td>\n",
       "      <td>June</td>\n",
       "    </tr>\n",
       "    <tr>\n",
       "      <th>3</th>\n",
       "      <td>4</td>\n",
       "      <td>2015-05-01</td>\n",
       "      <td>Avengers: Age of Ultron</td>\n",
       "      <td>330600000</td>\n",
       "      <td>459005868</td>\n",
       "      <td>1403013963</td>\n",
       "      <td>BV</td>\n",
       "      <td>946400000.0</td>\n",
       "      <td>2015.0</td>\n",
       "      <td>tt2395427</td>\n",
       "      <td>Avengers: Age of Ultron</td>\n",
       "      <td>2015.0</td>\n",
       "      <td>141.0</td>\n",
       "      <td>Action,Adventure,Sci-Fi</td>\n",
       "      <td>7.3</td>\n",
       "      <td>665594.0</td>\n",
       "      <td>3.243841</td>\n",
       "      <td>0.764364</td>\n",
       "      <td>5</td>\n",
       "      <td>May</td>\n",
       "    </tr>\n",
       "    <tr>\n",
       "      <th>4</th>\n",
       "      <td>5</td>\n",
       "      <td>2017-12-15</td>\n",
       "      <td>Star Wars Ep. VIII: The Last Jedi</td>\n",
       "      <td>317000000</td>\n",
       "      <td>620181382</td>\n",
       "      <td>1316721747</td>\n",
       "      <td>NaN</td>\n",
       "      <td>NaN</td>\n",
       "      <td>NaN</td>\n",
       "      <td>NaN</td>\n",
       "      <td>NaN</td>\n",
       "      <td>NaN</td>\n",
       "      <td>NaN</td>\n",
       "      <td>NaN</td>\n",
       "      <td>NaN</td>\n",
       "      <td>NaN</td>\n",
       "      <td>3.153696</td>\n",
       "      <td>0.759251</td>\n",
       "      <td>12</td>\n",
       "      <td>December</td>\n",
       "    </tr>\n",
       "    <tr>\n",
       "      <th>...</th>\n",
       "      <td>...</td>\n",
       "      <td>...</td>\n",
       "      <td>...</td>\n",
       "      <td>...</td>\n",
       "      <td>...</td>\n",
       "      <td>...</td>\n",
       "      <td>...</td>\n",
       "      <td>...</td>\n",
       "      <td>...</td>\n",
       "      <td>...</td>\n",
       "      <td>...</td>\n",
       "      <td>...</td>\n",
       "      <td>...</td>\n",
       "      <td>...</td>\n",
       "      <td>...</td>\n",
       "      <td>...</td>\n",
       "      <td>...</td>\n",
       "      <td>...</td>\n",
       "      <td>...</td>\n",
       "      <td>...</td>\n",
       "    </tr>\n",
       "    <tr>\n",
       "      <th>6468</th>\n",
       "      <td>78</td>\n",
       "      <td>2018-12-31</td>\n",
       "      <td>Red 11</td>\n",
       "      <td>7000</td>\n",
       "      <td>0</td>\n",
       "      <td>0</td>\n",
       "      <td>NaN</td>\n",
       "      <td>NaN</td>\n",
       "      <td>NaN</td>\n",
       "      <td>tt7837402</td>\n",
       "      <td>Red 11</td>\n",
       "      <td>2019.0</td>\n",
       "      <td>77.0</td>\n",
       "      <td>Horror,Sci-Fi,Thriller</td>\n",
       "      <td>5.6</td>\n",
       "      <td>43.0</td>\n",
       "      <td>-1.000000</td>\n",
       "      <td>NaN</td>\n",
       "      <td>12</td>\n",
       "      <td>December</td>\n",
       "    </tr>\n",
       "    <tr>\n",
       "      <th>6469</th>\n",
       "      <td>79</td>\n",
       "      <td>1999-04-02</td>\n",
       "      <td>Following</td>\n",
       "      <td>6000</td>\n",
       "      <td>48482</td>\n",
       "      <td>240495</td>\n",
       "      <td>NaN</td>\n",
       "      <td>NaN</td>\n",
       "      <td>NaN</td>\n",
       "      <td>NaN</td>\n",
       "      <td>NaN</td>\n",
       "      <td>NaN</td>\n",
       "      <td>NaN</td>\n",
       "      <td>NaN</td>\n",
       "      <td>NaN</td>\n",
       "      <td>NaN</td>\n",
       "      <td>39.082500</td>\n",
       "      <td>0.975051</td>\n",
       "      <td>4</td>\n",
       "      <td>April</td>\n",
       "    </tr>\n",
       "    <tr>\n",
       "      <th>6470</th>\n",
       "      <td>80</td>\n",
       "      <td>2005-07-13</td>\n",
       "      <td>Return to the Land of Wonders</td>\n",
       "      <td>5000</td>\n",
       "      <td>1338</td>\n",
       "      <td>1338</td>\n",
       "      <td>NaN</td>\n",
       "      <td>NaN</td>\n",
       "      <td>NaN</td>\n",
       "      <td>NaN</td>\n",
       "      <td>NaN</td>\n",
       "      <td>NaN</td>\n",
       "      <td>NaN</td>\n",
       "      <td>NaN</td>\n",
       "      <td>NaN</td>\n",
       "      <td>NaN</td>\n",
       "      <td>-0.732400</td>\n",
       "      <td>-2.736921</td>\n",
       "      <td>7</td>\n",
       "      <td>July</td>\n",
       "    </tr>\n",
       "    <tr>\n",
       "      <th>6471</th>\n",
       "      <td>81</td>\n",
       "      <td>2015-09-29</td>\n",
       "      <td>A Plague So Pleasant</td>\n",
       "      <td>1400</td>\n",
       "      <td>0</td>\n",
       "      <td>0</td>\n",
       "      <td>NaN</td>\n",
       "      <td>NaN</td>\n",
       "      <td>NaN</td>\n",
       "      <td>tt2107644</td>\n",
       "      <td>A Plague So Pleasant</td>\n",
       "      <td>2013.0</td>\n",
       "      <td>76.0</td>\n",
       "      <td>Drama,Horror,Thriller</td>\n",
       "      <td>5.4</td>\n",
       "      <td>72.0</td>\n",
       "      <td>-1.000000</td>\n",
       "      <td>NaN</td>\n",
       "      <td>9</td>\n",
       "      <td>September</td>\n",
       "    </tr>\n",
       "    <tr>\n",
       "      <th>6472</th>\n",
       "      <td>82</td>\n",
       "      <td>2005-08-05</td>\n",
       "      <td>My Date With Drew</td>\n",
       "      <td>1100</td>\n",
       "      <td>181041</td>\n",
       "      <td>181041</td>\n",
       "      <td>NaN</td>\n",
       "      <td>NaN</td>\n",
       "      <td>NaN</td>\n",
       "      <td>NaN</td>\n",
       "      <td>NaN</td>\n",
       "      <td>NaN</td>\n",
       "      <td>NaN</td>\n",
       "      <td>NaN</td>\n",
       "      <td>NaN</td>\n",
       "      <td>NaN</td>\n",
       "      <td>163.582727</td>\n",
       "      <td>0.993924</td>\n",
       "      <td>8</td>\n",
       "      <td>August</td>\n",
       "    </tr>\n",
       "  </tbody>\n",
       "</table>\n",
       "<p>6473 rows × 20 columns</p>\n",
       "</div>"
      ],
      "text/plain": [
       "      id release_date                                        movie  \\\n",
       "0      1   2009-12-18                                       Avatar   \n",
       "1      2   2011-05-20  Pirates of the Caribbean: On Stranger Tides   \n",
       "2      3   2019-06-07                                 Dark Phoenix   \n",
       "3      4   2015-05-01                      Avengers: Age of Ultron   \n",
       "4      5   2017-12-15            Star Wars Ep. VIII: The Last Jedi   \n",
       "...   ..          ...                                          ...   \n",
       "6468  78   2018-12-31                                       Red 11   \n",
       "6469  79   1999-04-02                                    Following   \n",
       "6470  80   2005-07-13                Return to the Land of Wonders   \n",
       "6471  81   2015-09-29                         A Plague So Pleasant   \n",
       "6472  82   2005-08-05                            My Date With Drew   \n",
       "\n",
       "      production_budget  domestic_gross  worldwide_gross studio  \\\n",
       "0             425000000       760507625       2776345279    NaN   \n",
       "1             410600000       241063875       1045663875     BV   \n",
       "2             350000000        42762350        149762350    NaN   \n",
       "3             330600000       459005868       1403013963     BV   \n",
       "4             317000000       620181382       1316721747    NaN   \n",
       "...                 ...             ...              ...    ...   \n",
       "6468               7000               0                0    NaN   \n",
       "6469               6000           48482           240495    NaN   \n",
       "6470               5000            1338             1338    NaN   \n",
       "6471               1400               0                0    NaN   \n",
       "6472               1100          181041           181041    NaN   \n",
       "\n",
       "      foreign_gross    year   movie_id  \\\n",
       "0               NaN     NaN  tt1775309   \n",
       "1       804600000.0  2011.0  tt1298650   \n",
       "2               NaN     NaN  tt6565702   \n",
       "3       946400000.0  2015.0  tt2395427   \n",
       "4               NaN     NaN        NaN   \n",
       "...             ...     ...        ...   \n",
       "6468            NaN     NaN  tt7837402   \n",
       "6469            NaN     NaN        NaN   \n",
       "6470            NaN     NaN        NaN   \n",
       "6471            NaN     NaN  tt2107644   \n",
       "6472            NaN     NaN        NaN   \n",
       "\n",
       "                                   original_title  start_year  \\\n",
       "0                                           Abatâ      2011.0   \n",
       "1     Pirates of the Caribbean: On Stranger Tides      2011.0   \n",
       "2                                    Dark Phoenix      2019.0   \n",
       "3                         Avengers: Age of Ultron      2015.0   \n",
       "4                                             NaN         NaN   \n",
       "...                                           ...         ...   \n",
       "6468                                       Red 11      2019.0   \n",
       "6469                                          NaN         NaN   \n",
       "6470                                          NaN         NaN   \n",
       "6471                         A Plague So Pleasant      2013.0   \n",
       "6472                                          NaN         NaN   \n",
       "\n",
       "      runtime_minutes                    genres  averagerating  numvotes  \\\n",
       "0                93.0                    Horror            6.1      43.0   \n",
       "1               136.0  Action,Adventure,Fantasy            6.6  447624.0   \n",
       "2               113.0   Action,Adventure,Sci-Fi            6.0   24451.0   \n",
       "3               141.0   Action,Adventure,Sci-Fi            7.3  665594.0   \n",
       "4                 NaN                       NaN            NaN       NaN   \n",
       "...               ...                       ...            ...       ...   \n",
       "6468             77.0    Horror,Sci-Fi,Thriller            5.6      43.0   \n",
       "6469              NaN                       NaN            NaN       NaN   \n",
       "6470              NaN                       NaN            NaN       NaN   \n",
       "6471             76.0     Drama,Horror,Thriller            5.4      72.0   \n",
       "6472              NaN                       NaN            NaN       NaN   \n",
       "\n",
       "             ROI  profit_margin  release_month release_month_name  \n",
       "0       5.532577       0.846921             12           December  \n",
       "1       1.546673       0.607331              5                May  \n",
       "2      -0.572108      -1.337036              6               June  \n",
       "3       3.243841       0.764364              5                May  \n",
       "4       3.153696       0.759251             12           December  \n",
       "...          ...            ...            ...                ...  \n",
       "6468   -1.000000            NaN             12           December  \n",
       "6469   39.082500       0.975051              4              April  \n",
       "6470   -0.732400      -2.736921              7               July  \n",
       "6471   -1.000000            NaN              9          September  \n",
       "6472  163.582727       0.993924              8             August  \n",
       "\n",
       "[6473 rows x 20 columns]"
      ]
     },
     "execution_count": 41,
     "metadata": {},
     "output_type": "execute_result"
    }
   ],
   "source": [
    "merged_df"
   ]
  },
  {
   "cell_type": "markdown",
   "metadata": {},
   "source": [
    "## Issues to clean\n",
    "\n",
    "a. Numeric columns\n",
    "production_budget, domestic_gross, worldwide_gross, foreign_gross are floats already, but some values are NaN or 0.\n",
    "\n",
    "b. Missing values (NaN)\n",
    "Columns like studio, foreign_gross, year, genre have many NaNs.\n",
    "\n",
    "c. Dates\n",
    "release_date is a string, should be converted to datetime.\n",
    "\n",
    "d. Duplicate / irrelevant columns\n",
    "Check for duplicates (e.g., movie_id may repeat).\n",
    "\n",
    "Drop unnecessary metadata if not needed for modeling.\n",
    "\n",
    "e. String columns (genres, studios)\n",
    "\n",
    "genre column has multiple values separated by commas → may need to split or encode.\n",
    "\n",
    "studio sometimes missing."
   ]
  },
  {
   "cell_type": "code",
   "execution_count": 42,
   "metadata": {},
   "outputs": [],
   "source": [
    "import pandas as pd\n",
    "import numpy as np"
   ]
  },
  {
   "cell_type": "code",
   "execution_count": 43,
   "metadata": {},
   "outputs": [],
   "source": [
    "# 1. Convert release_date to datetime\n",
    "merged_df['release_date'] = pd.to_datetime(merged_df['release_date'], errors='coerce')"
   ]
  },
  {
   "cell_type": "code",
   "execution_count": 44,
   "metadata": {},
   "outputs": [],
   "source": [
    "# 2. Handle missing numeric values\n",
    "numeric_cols = ['production_budget', 'domestic_gross', 'worldwide_gross', 'foreign_gross']\n",
    "for col in numeric_cols:\n",
    "    merged_df[col] = pd.to_numeric(merged_df[col], errors='coerce')  # force numeric\n",
    "    merged_df[col] = merged_df[col].fillna(0)  # or merged_df[col].fillna(merged_df[col].median())"
   ]
  },
  {
   "cell_type": "code",
   "execution_count": 45,
   "metadata": {},
   "outputs": [],
   "source": [
    "# 3. Handle missing categorical values\n",
    "merged_df['studio'] = merged_df['studio'].fillna(\"Unknown\")\n",
    "merged_df['genre'] = merged_df['genres'].fillna(\"Unknown\")"
   ]
  },
  {
   "cell_type": "code",
   "execution_count": 46,
   "metadata": {},
   "outputs": [],
   "source": [
    "# 4. Drop duplicates if any\n",
    "merged_df = merged_df.drop_duplicates(subset=['movie', 'release_date'])"
   ]
  },
  {
   "cell_type": "code",
   "execution_count": 47,
   "metadata": {},
   "outputs": [],
   "source": [
    "# 5.  Extract year from release_date if needed\n",
    "merged_df['release_year'] = merged_df['release_date'].dt.year"
   ]
  },
  {
   "cell_type": "code",
   "execution_count": 48,
   "metadata": {},
   "outputs": [
    {
     "name": "stdout",
     "output_type": "stream",
     "text": [
      "id                             int64\n",
      "release_date          datetime64[ns]\n",
      "movie                         object\n",
      "production_budget              int64\n",
      "domestic_gross                 int64\n",
      "worldwide_gross                int64\n",
      "studio                        object\n",
      "foreign_gross                float64\n",
      "year                         float64\n",
      "movie_id                      object\n",
      "original_title                object\n",
      "start_year                   float64\n",
      "runtime_minutes              float64\n",
      "genres                        object\n",
      "averagerating                float64\n",
      "numvotes                     float64\n",
      "ROI                          float64\n",
      "profit_margin                float64\n",
      "release_month                  int64\n",
      "release_month_name            object\n",
      "genre                         object\n",
      "release_year                   int64\n",
      "dtype: object\n"
     ]
    }
   ],
   "source": [
    "# 6. Check data types\n",
    "print(merged_df.dtypes)"
   ]
  },
  {
   "cell_type": "code",
   "execution_count": 49,
   "metadata": {},
   "outputs": [
    {
     "name": "stdout",
     "output_type": "stream",
     "text": [
      "id                       0\n",
      "release_date             0\n",
      "movie                    0\n",
      "production_budget        0\n",
      "domestic_gross           0\n",
      "worldwide_gross          0\n",
      "studio                   0\n",
      "foreign_gross            0\n",
      "year                  4535\n",
      "movie_id              3598\n",
      "original_title        3598\n",
      "start_year            3598\n",
      "runtime_minutes       3664\n",
      "genres                3600\n",
      "averagerating         3598\n",
      "numvotes              3598\n",
      "ROI                      0\n",
      "profit_margin          367\n",
      "release_month            0\n",
      "release_month_name       0\n",
      "genre                    0\n",
      "release_year             0\n",
      "dtype: int64\n"
     ]
    }
   ],
   "source": [
    "# 7. Inspect missing values\n",
    "print(merged_df.isnull().sum())"
   ]
  },
  {
   "cell_type": "markdown",
   "metadata": {},
   "source": [
    "##some columns still have missing values\n",
    "Why These Columns Have Missing Values\n",
    "\n",
    "year, start_year, release_year:\n",
    "Some movies might not have complete release date info in the raw datasets.\n",
    "Missing years are common for older or unreleased films.\n",
    "\n",
    "movie_id, original_title:\n",
    "Missing if the dataset couldn’t match the movie to IMDb/another source.\n",
    "\n",
    "runtime_minutes:\n",
    "Missing if runtime wasn’t listed in IMDb or TheMovieDB.\n",
    "\n",
    "genres:\n",
    "Missing if the movie didn’t have genre info in the source dataset.\n",
    "\n",
    "averagerating, numvotes:\n",
    "Missing if IMDb didn’t have enough votes/ratings for that film\n",
    "\n",
    "## How to Clean These Columns"
   ]
  },
  {
   "cell_type": "code",
   "execution_count": 50,
   "metadata": {},
   "outputs": [
    {
     "name": "stdout",
     "output_type": "stream",
     "text": [
      "id                       0\n",
      "release_date             0\n",
      "movie                    0\n",
      "production_budget        0\n",
      "domestic_gross           0\n",
      "worldwide_gross          0\n",
      "studio                   0\n",
      "foreign_gross            0\n",
      "year                     0\n",
      "movie_id                 0\n",
      "original_title           0\n",
      "start_year            3598\n",
      "runtime_minutes          0\n",
      "genres                   0\n",
      "averagerating            0\n",
      "numvotes                 0\n",
      "ROI                      0\n",
      "profit_margin          367\n",
      "release_month            0\n",
      "release_month_name       0\n",
      "genre                    0\n",
      "release_year             0\n",
      "dtype: int64\n"
     ]
    }
   ],
   "source": [
    "# 1. Fill year-related columns using release_date if available\n",
    "merged_df['year'] = merged_df['release_date'].dt.year.fillna(merged_df['year'])\n",
    "\n",
    "# 2. Handle runtime_minutes (replace NaN with median runtime)\n",
    "merged_df['runtime_minutes'] = merged_df['runtime_minutes'].fillna(merged_df['runtime_minutes'].median())\n",
    "\n",
    "# 3. Handle genres (replace NaN with \"Unknown\")\n",
    "merged_df['genres'] = merged_df['genres'].fillna(\"Unknown\")\n",
    "\n",
    "# 4. Handle ratings and votes\n",
    "merged_df['averagerating'] = merged_df['averagerating'].fillna(merged_df['averagerating'].mean())\n",
    "merged_df['numvotes'] = merged_df['numvotes'].fillna(0)  # movies with no votes\n",
    "\n",
    "# 5. Handle movie_id and original_title\n",
    "merged_df['movie_id'] = merged_df['movie_id'].fillna(\"Unknown\")\n",
    "merged_df['original_title'] = merged_df['original_title'].fillna(merged_df['movie'])\n",
    "\n",
    "# 6. Double-check\n",
    "print(merged_df.isnull().sum())\n"
   ]
  },
  {
   "cell_type": "code",
   "execution_count": 51,
   "metadata": {},
   "outputs": [
    {
     "name": "stdout",
     "output_type": "stream",
     "text": [
      "id                    0\n",
      "release_date          0\n",
      "movie                 0\n",
      "production_budget     0\n",
      "domestic_gross        0\n",
      "worldwide_gross       0\n",
      "studio                0\n",
      "foreign_gross         0\n",
      "year                  0\n",
      "movie_id              0\n",
      "original_title        0\n",
      "runtime_minutes       0\n",
      "genres                0\n",
      "averagerating         0\n",
      "numvotes              0\n",
      "ROI                   0\n",
      "profit_margin         0\n",
      "release_month         0\n",
      "release_month_name    0\n",
      "genre                 0\n",
      "release_year          0\n",
      "dtype: int64\n"
     ]
    }
   ],
   "source": [
    "# Drop start_year if redundant\n",
    "if 'start_year' in merged_df.columns:\n",
    "    merged_df = merged_df.drop(columns=['start_year'])\n",
    "\n",
    "# Handle profit_margin: replace NaN with 0 (optional)\n",
    "merged_df['profit_margin'] = merged_df['profit_margin'].fillna(0)\n",
    "\n",
    "# Double check\n",
    "print(merged_df.isnull().sum())"
   ]
  },
  {
   "cell_type": "markdown",
   "metadata": {},
   "source": [
    "The dataset is clean and now reay for analysis. Fit a regression model"
   ]
  },
  {
   "cell_type": "markdown",
   "metadata": {},
   "source": [
    "# 4. REGRESSION ANALYSIS\n",
    "\n",
    "## How does a movie’s budget affect its revenue?\n",
    "### Creating the model and undertaking regression analysis"
   ]
  },
  {
   "cell_type": "markdown",
   "metadata": {},
   "source": [
    "Variables\n",
    "\n",
    "Dependent variable (response):\n",
    "Y= Worldwide gross (total revenue).\n",
    "\n",
    "Independent variable (predictor):\n",
    "X= Production budget.\n",
    "We fit a simple linear regression model\n",
    "\n",
    "y = mx + c"
   ]
  },
  {
   "cell_type": "markdown",
   "metadata": {},
   "source": [
    "First step is to formulate the hypotheses\n",
    "Hypotheses\n",
    "\n",
    "We are interested in the slope coefficient m that measures how much revenue changes when budget changes.\n",
    "\n",
    "Null Hypothesis (H₀):Budget has no effect on revenue.\n",
    "Alternative Hypothesis (H₁):Higher budget is associated with higher revenue."
   ]
  },
  {
   "cell_type": "markdown",
   "metadata": {},
   "source": [
    "4.1 Import the libraries to use"
   ]
  },
  {
   "cell_type": "code",
   "execution_count": 52,
   "metadata": {},
   "outputs": [],
   "source": [
    "import pandas as pd\n",
    "import scipy.stats as stats\n",
    "import numpy as np\n",
    "import matplotlib.pyplot as plt\n",
    "import seaborn as sns\n",
    "import statsmodels.api as sm"
   ]
  },
  {
   "cell_type": "markdown",
   "metadata": {},
   "source": [
    "Building th Regression Model"
   ]
  },
  {
   "cell_type": "code",
   "execution_count": 53,
   "metadata": {},
   "outputs": [],
   "source": [
    "# Define X (predictors) and y (response)\n",
    "X = merged_df['production_budget']\n",
    "y =  merged_df['worldwide_gross']"
   ]
  },
  {
   "cell_type": "code",
   "execution_count": 54,
   "metadata": {},
   "outputs": [],
   "source": [
    "rho = np.corrcoef(merged_df['worldwide_gross'],merged_df['production_budget'])[0,1]"
   ]
  },
  {
   "cell_type": "markdown",
   "metadata": {},
   "source": [
    "rho is the correlation between dependent variable (worldwide_gross) and independent variable(production_budget) which has to be in the range of 0 and 1"
   ]
  },
  {
   "cell_type": "code",
   "execution_count": 55,
   "metadata": {},
   "outputs": [],
   "source": [
    "s_x = merged_df[\"production_budget\"].std()\n",
    "s_y = merged_df[\"worldwide_gross\"].std()"
   ]
  },
  {
   "cell_type": "markdown",
   "metadata": {},
   "source": [
    "s_x is the variance of x and s_y is the variance of y"
   ]
  },
  {
   "cell_type": "code",
   "execution_count": 56,
   "metadata": {},
   "outputs": [],
   "source": [
    "m = rho * s_y / s_x"
   ]
  },
  {
   "cell_type": "markdown",
   "metadata": {},
   "source": [
    "m is the slope of the regression equation and is the coefficient of x"
   ]
  },
  {
   "cell_type": "code",
   "execution_count": 57,
   "metadata": {},
   "outputs": [],
   "source": [
    "c = merged_df[\"worldwide_gross\"].mean() - m * merged_df[\"production_budget\"].mean()"
   ]
  },
  {
   "cell_type": "markdown",
   "metadata": {},
   "source": [
    "c is the y intercept or a contant"
   ]
  },
  {
   "cell_type": "code",
   "execution_count": 58,
   "metadata": {},
   "outputs": [],
   "source": [
    "mean_y = merged_df[\"worldwide_gross\"].mean()\n",
    "mean_x = merged_df[\"production_budget\"].mean()"
   ]
  },
  {
   "cell_type": "markdown",
   "metadata": {},
   "source": [
    "mean_y is the mean of y and mean_x is the mean of x"
   ]
  },
  {
   "cell_type": "code",
   "execution_count": 59,
   "metadata": {},
   "outputs": [],
   "source": [
    "c = mean_y - m * mean_x"
   ]
  },
  {
   "cell_type": "code",
   "execution_count": 60,
   "metadata": {},
   "outputs": [
    {
     "name": "stdout",
     "output_type": "stream",
     "text": [
      "Regression line: y = 3.1269x + -7285667.0546\n"
     ]
    }
   ],
   "source": [
    "print(f\"Regression line: y = {round(m,4)}x + {round(c,4)}\")"
   ]
  },
  {
   "cell_type": "markdown",
   "metadata": {},
   "source": [
    "i.e  Worldwide Gross=3.1269xProduction Budget -7285667.0546, the regression equation\n",
    "Slope (3.1223)\n",
    "\n",
    "For every 1 unit increase in production budget, 1 million dollars the model predicts that worldwide gross increases by about 3.12 units.\n",
    "\n",
    "Each additional $1 million in production budget is associated with about $3.12 million more in worldwide gross\n",
    "\n",
    "Intercept (-7285667.0546)\n",
    "This is the predicted worldwide gross when the production budget is 0.\n",
    "It equals about –$7.286 million.\n",
    "\n",
    "The model suggests that movies with larger production budgets tend to earn higher worldwide gross."
   ]
  },
  {
   "cell_type": "markdown",
   "metadata": {},
   "source": [
    "Creating the Model"
   ]
  },
  {
   "cell_type": "code",
   "execution_count": 61,
   "metadata": {},
   "outputs": [],
   "source": [
    "X = merged_df['production_budget']\n",
    "y = merged_df['worldwide_gross']"
   ]
  },
  {
   "cell_type": "code",
   "execution_count": 62,
   "metadata": {},
   "outputs": [
    {
     "data": {
      "text/plain": [
       "<statsmodels.regression.linear_model.OLS at 0x203d7938310>"
      ]
     },
     "execution_count": 62,
     "metadata": {},
     "output_type": "execute_result"
    }
   ],
   "source": [
    "model = sm.OLS(endog = y, exog=sm.add_constant(X))\n",
    "model"
   ]
  },
  {
   "cell_type": "code",
   "execution_count": 63,
   "metadata": {},
   "outputs": [
    {
     "data": {
      "text/plain": [
       "<statsmodels.regression.linear_model.RegressionResultsWrapper at 0x203d7938eb0>"
      ]
     },
     "execution_count": 63,
     "metadata": {},
     "output_type": "execute_result"
    }
   ],
   "source": [
    "results = model.fit()\n",
    "results"
   ]
  },
  {
   "cell_type": "markdown",
   "metadata": {},
   "source": [
    "Model Evaluation"
   ]
  },
  {
   "cell_type": "code",
   "execution_count": 64,
   "metadata": {},
   "outputs": [
    {
     "data": {
      "text/plain": [
       "7355.224292071482"
      ]
     },
     "execution_count": 64,
     "metadata": {},
     "output_type": "execute_result"
    }
   ],
   "source": [
    "results.fvalue"
   ]
  },
  {
   "cell_type": "code",
   "execution_count": 65,
   "metadata": {},
   "outputs": [
    {
     "data": {
      "text/plain": [
       "0.0"
      ]
     },
     "execution_count": 65,
     "metadata": {},
     "output_type": "execute_result"
    }
   ],
   "source": [
    "results.f_pvalue"
   ]
  },
  {
   "cell_type": "markdown",
   "metadata": {},
   "source": [
    "The p value is less than 0.05 0r 5% level of significance"
   ]
  },
  {
   "cell_type": "code",
   "execution_count": 66,
   "metadata": {},
   "outputs": [
    {
     "data": {
      "text/plain": [
       "0.5599618345695969"
      ]
     },
     "execution_count": 66,
     "metadata": {},
     "output_type": "execute_result"
    }
   ],
   "source": [
    "results.rsquared"
   ]
  },
  {
   "cell_type": "markdown",
   "metadata": {},
   "source": [
    "R_square of0.5599618345695969 implies 56% of the variation in dependent variable is explained by independent variable i.e the model accounts for 56% variation in worldwide_gross"
   ]
  },
  {
   "cell_type": "code",
   "execution_count": 67,
   "metadata": {},
   "outputs": [
    {
     "name": "stdout",
     "output_type": "stream",
     "text": [
      "                            OLS Regression Results                            \n",
      "==============================================================================\n",
      "Dep. Variable:        worldwide_gross   R-squared:                       0.560\n",
      "Model:                            OLS   Adj. R-squared:                  0.560\n",
      "Method:                 Least Squares   F-statistic:                     7355.\n",
      "Date:                Wed, 10 Sep 2025   Prob (F-statistic):               0.00\n",
      "Time:                        18:00:46   Log-Likelihood:            -1.1557e+05\n",
      "No. Observations:                5782   AIC:                         2.311e+05\n",
      "Df Residuals:                    5780   BIC:                         2.311e+05\n",
      "Df Model:                           1                                         \n",
      "Covariance Type:            nonrobust                                         \n",
      "=====================================================================================\n",
      "                        coef    std err          t      P>|t|      [0.025      0.975]\n",
      "-------------------------------------------------------------------------------------\n",
      "const             -7.286e+06   1.91e+06     -3.813      0.000    -1.1e+07   -3.54e+06\n",
      "production_budget     3.1269      0.036     85.763      0.000       3.055       3.198\n",
      "==============================================================================\n",
      "Omnibus:                     4232.022   Durbin-Watson:                   1.005\n",
      "Prob(Omnibus):                  0.000   Jarque-Bera (JB):           172398.262\n",
      "Skew:                           3.053   Prob(JB):                         0.00\n",
      "Kurtosis:                      29.044   Cond. No.                     6.57e+07\n",
      "==============================================================================\n",
      "\n",
      "Notes:\n",
      "[1] Standard Errors assume that the covariance matrix of the errors is correctly specified.\n",
      "[2] The condition number is large, 6.57e+07. This might indicate that there are\n",
      "strong multicollinearity or other numerical problems.\n"
     ]
    }
   ],
   "source": [
    "print(results.summary())"
   ]
  },
  {
   "cell_type": "markdown",
   "metadata": {},
   "source": [
    "p_value = 0.0 which is less tha 0.05 hence we conclude budget significantly affects revenue. The f statistic or f value is 8149 and its prbability value is 0.00 which is significant"
   ]
  },
  {
   "cell_type": "markdown",
   "metadata": {},
   "source": [
    "## Objective 2: What patterns emerge from audience rating and runtimes"
   ]
  },
  {
   "cell_type": "markdown",
   "metadata": {},
   "source": [
    "Fit a regression model to answer the the question in the objective\n",
    "Formulate hypotheses"
   ]
  },
  {
   "cell_type": "markdown",
   "metadata": {},
   "source": [
    "For Runtime\n",
    "H₀: Runtime has no effect on revenue \n",
    "H₁: Runtime significantly affects revenue \n",
    "\n",
    "For Audience Rating\n",
    "H₀: Audience rating has no effect on revenue \n",
    "H₁: Audience rating significantly affects revenue \n",
    "\n",
    "Overall Model\n",
    "H₀: Both predictors together have no effect on revenue.\n",
    "H₁: At least one predictor (rating or runtime) significantly explains variation in revenue."
   ]
  },
  {
   "cell_type": "markdown",
   "metadata": {},
   "source": [
    " Model specification\n",
    "y = β + β1x1 +β2x2\n",
    "worldwide_gross = constant + β1xruntime_minutes + β2xaveragerating"
   ]
  },
  {
   "cell_type": "code",
   "execution_count": 79,
   "metadata": {},
   "outputs": [
    {
     "name": "stdout",
     "output_type": "stream",
     "text": [
      "                            OLS Regression Results                            \n",
      "==============================================================================\n",
      "Dep. Variable:        worldwide_gross   R-squared:                       0.056\n",
      "Model:                            OLS   Adj. R-squared:                  0.055\n",
      "Method:                 Least Squares   F-statistic:                     170.4\n",
      "Date:                Wed, 10 Sep 2025   Prob (F-statistic):           1.22e-72\n",
      "Time:                        19:51:54   Log-Likelihood:            -1.1777e+05\n",
      "No. Observations:                5782   AIC:                         2.356e+05\n",
      "Df Residuals:                    5779   BIC:                         2.356e+05\n",
      "Df Model:                           2                                         \n",
      "Covariance Type:            nonrobust                                         \n",
      "===================================================================================\n",
      "                      coef    std err          t      P>|t|      [0.025      0.975]\n",
      "-----------------------------------------------------------------------------------\n",
      "const           -3.527e+08   2.46e+07    -14.350      0.000   -4.01e+08   -3.05e+08\n",
      "runtime_minutes  2.669e+06   1.95e+05     13.670      0.000    2.29e+06    3.05e+06\n",
      "averagerating    2.714e+07   3.23e+06      8.391      0.000    2.08e+07    3.35e+07\n",
      "==============================================================================\n",
      "Omnibus:                     5307.161   Durbin-Watson:                   0.538\n",
      "Prob(Omnibus):                  0.000   Jarque-Bera (JB):           266081.968\n",
      "Skew:                           4.312   Prob(JB):                         0.00\n",
      "Kurtosis:                      35.095   Cond. No.                     1.15e+03\n",
      "==============================================================================\n",
      "\n",
      "Notes:\n",
      "[1] Standard Errors assume that the covariance matrix of the errors is correctly specified.\n",
      "[2] The condition number is large, 1.15e+03. This might indicate that there are\n",
      "strong multicollinearity or other numerical problems.\n"
     ]
    }
   ],
   "source": [
    "# Select relevant columns\n",
    "cols = ['worldwide_gross', 'runtime_minutes', 'averagerating']\n",
    "df_reg = merged_df[cols].dropna()\n",
    "\n",
    "# Define X and y\n",
    "X = df_reg[['runtime_minutes', 'averagerating']]\n",
    "y = df_reg['worldwide_gross']\n",
    "\n",
    "# Add constant for intercept\n",
    "X = sm.add_constant(X)\n",
    "\n",
    "# Fit regression model\n",
    "model = sm.OLS(y, X).fit()\n",
    "\n",
    "# Show summary\n",
    "print(model.summary())\n"
   ]
  },
  {
   "cell_type": "markdown",
   "metadata": {},
   "source": [
    "The Model explains only 5% of the variation in the worldwide gross being explaine by runtime minutes and average raring"
   ]
  },
  {
   "cell_type": "code",
   "execution_count": 80,
   "metadata": {},
   "outputs": [
    {
     "name": "stdout",
     "output_type": "stream",
     "text": [
      "Correlation: 0.262199903671955\n"
     ]
    }
   ],
   "source": [
    "# Correlation between runtime_minutes and averagerating\n",
    "corr_value = merged_df['runtime_minutes'].corr(merged_df['averagerating'])\n",
    "print(\"Correlation:\", corr_value)"
   ]
  },
  {
   "cell_type": "markdown",
   "metadata": {},
   "source": [
    "R-squared = 0.056\n",
    "\n",
    "Only 5.6% of the variation in worldwide gross is explained by runtime and rating together.\n",
    "\n",
    "This is very low, meaning most of the variation in movie revenue is due to other factors (e.g., budget, marketing, cast, franchise, release timing).\n",
    "\n",
    "Adjusted R-squared = 0.055\n",
    "\n",
    "Same conclusion — adjusted for the number of predictors.\n",
    "\n",
    "F-statistic = 170.4, Prob(F-statistic) = 1.22e-72\n",
    "\n",
    "The model overall is statistically significant (p < 0.001).\n",
    "\n",
    "This means that runtime and rating together significantly predict revenue, even if the explanatory power is weak."
   ]
  },
  {
   "cell_type": "markdown",
   "metadata": {},
   "source": [
    "##  Objective 3: Identify whether movie genres and directors significantly explain variation in worldwide gross (returns), and determine which ones consistently outperform others."
   ]
  },
  {
   "cell_type": "markdown",
   "metadata": {},
   "source": [
    "Variables\n",
    "\n",
    "Dependent variable (response):\n",
    "\n",
    "worldwide_gross (or ROI if you want profitability instead of raw revenue).\n",
    "\n",
    "Independent variables (predictors):\n",
    "\n",
    "genre (categorical, one-hot encoded)\n",
    "\n",
    "director (categorical, one-hot encoded)"
   ]
  },
  {
   "cell_type": "markdown",
   "metadata": {},
   "source": [
    "## Hypotheses\n",
    "\n",
    "For genres:\n",
    "H₀: Genre has no effect on revenue (all genre coefficients = 0).\n",
    "H₁: At least one genre significantly affects revenue (some coefficients ≠ 0).\n",
    "\n",
    "For directors:\n",
    "H₀: Director has no effect on revenue (all director coefficients = 0).\n",
    "H₁: At least one director significantly affects revenue (some coefficients ≠ 0).\n",
    "\n",
    "Overall model:\n",
    "H₀: Neither genre nor director explains revenue.\n",
    "H₁: At least one predictor (genre or director) significantly explains revenue."
   ]
  },
  {
   "cell_type": "markdown",
   "metadata": {},
   "source": [
    "## Model specification:\n",
    "    y = a + a1x1 + a2x2 +a3x3"
   ]
  },
  {
   "cell_type": "code",
   "execution_count": 69,
   "metadata": {},
   "outputs": [],
   "source": [
    "# Define X (predictors) and y (response)\n",
    "X =  merged_df[['runtime_minutes', 'numvotes', 'averagerating']]\n",
    "y =  merged_df['worldwide_gross']"
   ]
  },
  {
   "cell_type": "code",
   "execution_count": 70,
   "metadata": {},
   "outputs": [],
   "source": [
    "# Add constant (intercept term)\n",
    "X = sm.add_constant(X)"
   ]
  },
  {
   "cell_type": "markdown",
   "metadata": {},
   "source": [
    "Not a good model, R square is 0.209 i.e the model only eplains about 21% of the varaition  in worldwide_gross. Need to to investigate the data further"
   ]
  },
  {
   "cell_type": "code",
   "execution_count": 72,
   "metadata": {},
   "outputs": [
    {
     "name": "stdout",
     "output_type": "stream",
     "text": [
      "                 runtime_minutes  averagerating  numvotes\n",
      "runtime_minutes         1.000000       0.262200  0.407447\n",
      "averagerating           0.262200       1.000000  0.336426\n",
      "numvotes                0.407447       0.336426  1.000000\n"
     ]
    }
   ],
   "source": [
    "corr_matrix = merged_df[['runtime_minutes', 'averagerating', 'numvotes']].corr()\n",
    "\n",
    "print(corr_matrix)"
   ]
  },
  {
   "cell_type": "markdown",
   "metadata": {},
   "source": [
    "The correlation matrix only shows weak correlation between the three variables."
   ]
  },
  {
   "cell_type": "markdown",
   "metadata": {},
   "source": [
    "## Objective 3: To determine ifrelease timing and marketing factors significantly affect a film’s worldwide revenue"
   ]
  },
  {
   "cell_type": "markdown",
   "metadata": {},
   "source": [
    "Variables\n",
    "\n",
    "Dependent variable (response):\n",
    "\n",
    "worldwide_gross\n",
    "\n",
    "Independent variables (predictors):\n",
    "Examples you likely have or can engineer from your dataset:\n",
    "\n",
    "Release timing\n",
    "release_month (categorical: Jan–Dec)\n",
    "\n",
    "release_year (numeric, to capture trends over time)\n",
    "holiday_release (binary: 1 if released near holidays/summer, else 0)\n",
    "\n",
    "Marketing factors (proxies — since direct ad spend isn’t in the dataset)\n",
    "production_budget (often correlated with marketing spend)\n",
    "\n",
    "numvotes (proxy for popularity/word of mouth)\n",
    "\n",
    "averagerating (proxy for reception/critical buzz)"
   ]
  },
  {
   "cell_type": "markdown",
   "metadata": {},
   "source": [
    "# 4. Recommendations\n",
    "\n",
    "1. **Focus on Drama-Family-Fantasy Mix**: Movies that blend drama, family themes, and fantasy elements give the best return on investment. Instead of making single-genre films, create stories that mix emotions with broad family appeal.\n",
    "2. **Release Movies in July and November**: periods around July and pre-holiday November are when movies make the most money. Avoid September and October when films record low revenue collection.\n",
    "3. **Smart Spending Beats Big Spending**: You don't need huge budgets to make big profits. The data shows mid-budget films often deliver better returns on every dollar invested, reducing financial risk while still having enough resources to create quality entertainment that audiences want to see.\n",
    "4. **Work with Proven Directors**: Partner with directors who have a track record of making good movies that audiences love. Great directors help ensure both quality and return on investment are high.\n",
    "\n",
    "\n",
    "# 5. Conclusion\n",
    "\n",
    "\n",
    "The data shows that making money at the box office isn't just about spending huge amounts of money or hiring the biggest stars. What really matters is picking the right mix of genres, choosing when to release your movie, and making sure it's well-made. The best strategy is to make movies with moderate budgets that tell great stories and appeal to different types of audiences, then release them when people are most likely to go to theaters. Working with directors who have a track record of success and creating films that are both entertaining and well-crafted will help your studio reduce financial risk while still making good profits and earning positive reviews. In today's crowded movie market, smart choices matter more than big spending"
   ]
  }
 ],
 "metadata": {
  "kernelspec": {
   "display_name": "Python 3",
   "language": "python",
   "name": "python3"
  },
  "language_info": {
   "codemirror_mode": {
    "name": "ipython",
    "version": 3
   },
   "file_extension": ".py",
   "mimetype": "text/x-python",
   "name": "python",
   "nbconvert_exporter": "python",
   "pygments_lexer": "ipython3",
   "version": "3.8.5"
  }
 },
 "nbformat": 4,
 "nbformat_minor": 2
}
