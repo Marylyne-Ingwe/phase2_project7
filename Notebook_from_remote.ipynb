{
 "cells": [
  {
   "cell_type": "markdown",
   "metadata": {},
   "source": [
    " ## Analyzing Box Office Success Factors :  Data-Driven Insights for Strategic Movie Production\n",
    "\n",
    "                                                   "
   ]
  },
  {
   "cell_type": "markdown",
   "metadata": {},
   "source": [
    "# Introduction"
   ]
  },
  {
   "cell_type": "markdown",
   "metadata": {},
   "source": [
    "The global film industry is highly competitive, with major studios investing significant resources in producing movies that appeal to audiences and generate high returns at the box office. As new entrants seek to establish themselves, data-driven decision-making has become a critical factor in reducing risk and identifying opportunities for success.\n",
    "\n",
    "This project applies exploratory data analysis (EDA) techniques to movie industry datasets from multiple sources, including Box Office Mojo, IMDB, Rotten Tomatoes, TheMovieDB, and The Numbers. The aim is to uncover patterns and insights into what types of films perform best at the box office. By analyzing features such as genres, directors, production budgets, revenues, ratings, and runtimes, the project seeks to generate actionable recommendations for a business stakeholder—the head of a new movie studio—who must decide what films to produce.\n",
    "\n",
    "Through statistical analysis, visualization, and hypothesis testing, this project not only highlights trends in movie performance but also builds a foundation for predictive modeling in later phases. Ultimately, the findings will guide strategic decisions on which genres and production factors are most likely to yield commercial success.\n"
   ]
  },
  {
   "cell_type": "markdown",
   "metadata": {},
   "source": [
    "# 1. Business Understanding"
   ]
  },
  {
   "cell_type": "markdown",
   "metadata": {},
   "source": [
    "### Stakeholders"
   ]
  },
  {
   "cell_type": "markdown",
   "metadata": {},
   "source": [
    "The primary stakeholders for this analysis are:\n",
    "   1. Head of movie studio: seeks to draw Data-driven insights that will help shape the studio’s production strategy, ensuring alignment with market demand. \n",
    "           \n",
    "   2. Investment team: seeks to Understand what types of films perform well, reduces financial risk and guides profitable investment decisions.\n",
    "\n",
    "   3. Operations team: seeks to Identify trends in successful film production to help streamline planning, budgeting, and resource allocation. \n",
    "\n",
    "   4. Risk management team: seeks to draw Insights into past film failures and successes to help minimize financial and reputational risks in new projects.\n",
    "   \n",
    "   5. Monitoring, Evaluation & Learning team: Performance metrics and trend analysis support continuous improvement and informed decision-making over time."
   ]
  },
  {
   "cell_type": "markdown",
   "metadata": {},
   "source": [
    "### Business Value"
   ]
  },
  {
   "cell_type": "markdown",
   "metadata": {},
   "source": [
    "This analysis delivers key strategic advantages to support the successful launch and growth of our movie studio:\n",
    "   1. Market Alignment: By identifying the genres, themes, and characteristics of high-performing films, we ensure our productions resonate with current audience preferences and market demand.\n",
    "\n",
    "   2. Investment Efficiency: Insights into budget-to-revenue trends allow us to optimize investment decisions, maximizing returns while minimizing wasteful spending on low-potential projects.\n",
    "\n",
    "   3. Content Strategy Development: A data-driven understanding of what works at the box office empowers the studio to build a focused, high-impact film portfolio from the outset.\n",
    "\n",
    "   4. Competitive Positioning: Leveraging historical box office data enables us to benchmark against industry leaders and craft a unique value proposition in a saturated content market.\n",
    "   \n",
    "   5. Risk Reduction: Analyzing past failures and successes helps us avoid common pitfalls in film production, reducing creative and financial risk in a volatile industry."
   ]
  },
  {
   "cell_type": "markdown",
   "metadata": {},
   "source": [
    "### Project goals"
   ]
  },
  {
   "cell_type": "markdown",
   "metadata": {},
   "source": [
    "1. Identify Box Office Success Drivers\n",
    "2. Understand Market Trends\n",
    "3. Develop Actionable Production Insights\n",
    "4. Support Strategic Investment Decisions\n",
    "5. Lay a Foundation for Data-Driven Content Strategy"
   ]
  },
  {
   "cell_type": "markdown",
   "metadata": {},
   "source": [
    "### Data Source"
   ]
  },
  {
   "cell_type": "markdown",
   "metadata": {},
   "source": [
    "We will be analyzing data from multiple movie industry databases, including Box Office Mojo, IMDb, and The Movie Database (TMDb). These sources contain detailed information about film characteristics, box office revenue, audience ratings, and production details for thousands of movies released globally.\n",
    "\n",
    "This comprehensive dataset will allow us to:\n",
    "\n",
    "1. Analyze box office performance across different genres and budget ranges\n",
    "\n",
    "2. Identify patterns in successful film characteristics (e.g., runtime, cast, ratings)\n",
    "\n",
    "3. To determine if release timing and marketing factors significantly affect a film’s worldwide revenue?\n",
    "\n",
    "4. Track changes in audience preferences and industry trends over time\n",
    "\n",
    "\n",
    "Specific Objectives are:\n",
    "1. Determine if movie budget can affect its revenue\n",
    "2. Determine What patterns emerge from audience rating and runtimes\n",
    "3. Identify whether movie genres and directors significantly explain variation in worldwide gross (returns), and determine which ones consistently outperform others"
   ]
  },
  {
   "cell_type": "markdown",
   "metadata": {},
   "source": [
    "### Conclusion"
   ]
  },
  {
   "cell_type": "markdown",
   "metadata": {},
   "source": [
    "As our company ventures into the competitive and high-stakes movie industry, a strong understanding of what drives box office success is essential. While we are new to film production, a data-driven approach will allow us to minimize risk, align our content with market demand, and make informed decisions from the outset.\n",
    "\n",
    "This project sets the foundation for that strategy by identifying the key factors that contribute to successful films. Through analyzing industry data, we aim to uncover actionable insights that will inform content choices, guide investment decisions, and position our studio for long-term growth.\n",
    "\n",
    "By translating these findings into clear, practical recommendations, we will empower stakeholders across the organization—from creative development to finance and operations—to collaborate effectively and launch a studio built on insight, not guesswork."
   ]
  },
  {
   "cell_type": "markdown",
   "metadata": {},
   "source": [
    "# 2. DATA UNDERSTANDING\n",
    "### Data Source\n",
    "We will be analyzing data from the following websites and databases that majorly house infomation about movies. They include: Rotten Tomatoes, Box Office Mojo, IMDb, The Movie DB and The Numbers. The goal is to identify trends in high-performing movies at in these datasets to guide a new studio in choosing what types of films to produce for the best chance of commercial success."
   ]
  },
  {
   "cell_type": "markdown",
   "metadata": {},
   "source": [
    "### Initial Data Exploration\n",
    "Import the relevant libraries and read the dataset"
   ]
  },
  {
   "cell_type": "code",
   "execution_count": 151,
   "metadata": {},
   "outputs": [],
   "source": [
    "#import libraries\n",
    "import pandas as pd\n",
    "import numpy as np\n",
    "import matplotlib.pyplot as plt\n",
    "import seaborn as sns\n",
    "import gzip\n",
    "import sqlite3\n",
    "import warnings\n",
    "warnings.filterwarnings('ignore')\n"
   ]
  },
  {
   "cell_type": "markdown",
   "metadata": {},
   "source": [
    "### Exploring the Box Office Movies Dataset"
   ]
  },
  {
   "cell_type": "code",
   "execution_count": 152,
   "metadata": {},
   "outputs": [
    {
     "name": "stdout",
     "output_type": "stream",
     "text": [
      "=== Box Office Mojo Dataset Analysis ===\n",
      "\n",
      "First 5 rows of data:\n",
      "                                         title studio  domestic_gross  \\\n",
      "0                                  Toy Story 3     BV     415000000.0   \n",
      "1                   Alice in Wonderland (2010)     BV     334200000.0   \n",
      "2  Harry Potter and the Deathly Hallows Part 1     WB     296000000.0   \n",
      "3                                    Inception     WB     292600000.0   \n",
      "4                          Shrek Forever After   P/DW     238700000.0   \n",
      "\n",
      "  foreign_gross  year  \n",
      "0     652000000  2010  \n",
      "1     691300000  2010  \n",
      "2     664300000  2010  \n",
      "3     535700000  2010  \n",
      "4     513900000  2010  \n",
      "\n",
      "Dataset Overview:\n",
      "Number of records: 3387\n",
      "Number of columns: 5\n",
      "<class 'pandas.core.frame.DataFrame'>\n",
      "RangeIndex: 3387 entries, 0 to 3386\n",
      "Data columns (total 5 columns):\n",
      " #   Column          Non-Null Count  Dtype  \n",
      "---  ------          --------------  -----  \n",
      " 0   title           3387 non-null   object \n",
      " 1   studio          3382 non-null   object \n",
      " 2   domestic_gross  3359 non-null   float64\n",
      " 3   foreign_gross   2037 non-null   object \n",
      " 4   year            3387 non-null   int64  \n",
      "dtypes: float64(1), int64(1), object(3)\n",
      "memory usage: 666.5 KB\n",
      "\n",
      "Data Quality Analysis:\n",
      "Duplicate records: 0 (0.00%)\n",
      "\n",
      "Missing Values:\n",
      "studio: 5 missing (0.15%)\n",
      "domestic_gross: 28 missing (0.83%)\n",
      "foreign_gross: 1350 missing (39.86%)\n"
     ]
    }
   ],
   "source": [
    "print(\"=== Box Office Mojo Dataset Analysis ===\")\n",
    "\n",
    "# Load Box Office Mojo dataset\n",
    "BOMdf = pd.read_csv('zippedData/bom.movie_gross.csv.gz')\n",
    "\n",
    "# Display basic information\n",
    "print(\"\\nFirst 5 rows of data:\")\n",
    "print(BOMdf.head())\n",
    "\n",
    "# Display dataset info\n",
    "print(\"\\nDataset Overview:\")\n",
    "print(f\"Number of records: {len(BOMdf)}\")\n",
    "print(f\"Number of columns: {len(BOMdf.columns)}\")\n",
    "BOMdf.info(memory_usage='deep')\n",
    "\n",
    "# Check for data quality issues\n",
    "print(\"\\nData Quality Analysis:\")\n",
    "duplicates = BOMdf.duplicated().sum()\n",
    "print(f\"Duplicate records: {duplicates} ({(duplicates/len(BOMdf))*100:.2f}%)\")\n",
    "\n",
    "# Check for missing values\n",
    "null_counts = BOMdf.isnull().sum()\n",
    "print(\"\\nMissing Values:\")\n",
    "for col in BOMdf.columns:\n",
    "    if null_counts[col] > 0:\n",
    "        print(f\"{col}: {null_counts[col]} missing ({(null_counts[col]/len(BOMdf))*100:.2f}%)\")\n"
   ]
  },
  {
   "cell_type": "markdown",
   "metadata": {},
   "source": [
    "Box Mojo dataset has missing values, foreign_gross column having 39.86% missing values while the rest have less than 1% missing values"
   ]
  },
  {
   "cell_type": "code",
   "execution_count": 153,
   "metadata": {},
   "outputs": [
    {
     "data": {
      "text/html": [
       "<div>\n",
       "<style scoped>\n",
       "    .dataframe tbody tr th:only-of-type {\n",
       "        vertical-align: middle;\n",
       "    }\n",
       "\n",
       "    .dataframe tbody tr th {\n",
       "        vertical-align: top;\n",
       "    }\n",
       "\n",
       "    .dataframe thead th {\n",
       "        text-align: right;\n",
       "    }\n",
       "</style>\n",
       "<table border=\"1\" class=\"dataframe\">\n",
       "  <thead>\n",
       "    <tr style=\"text-align: right;\">\n",
       "      <th></th>\n",
       "      <th>title</th>\n",
       "      <th>studio</th>\n",
       "      <th>domestic_gross</th>\n",
       "      <th>foreign_gross</th>\n",
       "      <th>year</th>\n",
       "    </tr>\n",
       "  </thead>\n",
       "  <tbody>\n",
       "    <tr>\n",
       "      <th>0</th>\n",
       "      <td>Toy Story 3</td>\n",
       "      <td>BV</td>\n",
       "      <td>415000000.0</td>\n",
       "      <td>652000000</td>\n",
       "      <td>2010</td>\n",
       "    </tr>\n",
       "    <tr>\n",
       "      <th>1</th>\n",
       "      <td>Alice in Wonderland (2010)</td>\n",
       "      <td>BV</td>\n",
       "      <td>334200000.0</td>\n",
       "      <td>691300000</td>\n",
       "      <td>2010</td>\n",
       "    </tr>\n",
       "    <tr>\n",
       "      <th>2</th>\n",
       "      <td>Harry Potter and the Deathly Hallows Part 1</td>\n",
       "      <td>WB</td>\n",
       "      <td>296000000.0</td>\n",
       "      <td>664300000</td>\n",
       "      <td>2010</td>\n",
       "    </tr>\n",
       "    <tr>\n",
       "      <th>3</th>\n",
       "      <td>Inception</td>\n",
       "      <td>WB</td>\n",
       "      <td>292600000.0</td>\n",
       "      <td>535700000</td>\n",
       "      <td>2010</td>\n",
       "    </tr>\n",
       "    <tr>\n",
       "      <th>4</th>\n",
       "      <td>Shrek Forever After</td>\n",
       "      <td>P/DW</td>\n",
       "      <td>238700000.0</td>\n",
       "      <td>513900000</td>\n",
       "      <td>2010</td>\n",
       "    </tr>\n",
       "    <tr>\n",
       "      <th>...</th>\n",
       "      <td>...</td>\n",
       "      <td>...</td>\n",
       "      <td>...</td>\n",
       "      <td>...</td>\n",
       "      <td>...</td>\n",
       "    </tr>\n",
       "    <tr>\n",
       "      <th>3382</th>\n",
       "      <td>The Quake</td>\n",
       "      <td>Magn.</td>\n",
       "      <td>6200.0</td>\n",
       "      <td>NaN</td>\n",
       "      <td>2018</td>\n",
       "    </tr>\n",
       "    <tr>\n",
       "      <th>3383</th>\n",
       "      <td>Edward II (2018 re-release)</td>\n",
       "      <td>FM</td>\n",
       "      <td>4800.0</td>\n",
       "      <td>NaN</td>\n",
       "      <td>2018</td>\n",
       "    </tr>\n",
       "    <tr>\n",
       "      <th>3384</th>\n",
       "      <td>El Pacto</td>\n",
       "      <td>Sony</td>\n",
       "      <td>2500.0</td>\n",
       "      <td>NaN</td>\n",
       "      <td>2018</td>\n",
       "    </tr>\n",
       "    <tr>\n",
       "      <th>3385</th>\n",
       "      <td>The Swan</td>\n",
       "      <td>Synergetic</td>\n",
       "      <td>2400.0</td>\n",
       "      <td>NaN</td>\n",
       "      <td>2018</td>\n",
       "    </tr>\n",
       "    <tr>\n",
       "      <th>3386</th>\n",
       "      <td>An Actor Prepares</td>\n",
       "      <td>Grav.</td>\n",
       "      <td>1700.0</td>\n",
       "      <td>NaN</td>\n",
       "      <td>2018</td>\n",
       "    </tr>\n",
       "  </tbody>\n",
       "</table>\n",
       "<p>3387 rows × 5 columns</p>\n",
       "</div>"
      ],
      "text/plain": [
       "                                            title      studio  domestic_gross  \\\n",
       "0                                     Toy Story 3          BV     415000000.0   \n",
       "1                      Alice in Wonderland (2010)          BV     334200000.0   \n",
       "2     Harry Potter and the Deathly Hallows Part 1          WB     296000000.0   \n",
       "3                                       Inception          WB     292600000.0   \n",
       "4                             Shrek Forever After        P/DW     238700000.0   \n",
       "...                                           ...         ...             ...   \n",
       "3382                                    The Quake       Magn.          6200.0   \n",
       "3383                  Edward II (2018 re-release)          FM          4800.0   \n",
       "3384                                     El Pacto        Sony          2500.0   \n",
       "3385                                     The Swan  Synergetic          2400.0   \n",
       "3386                            An Actor Prepares       Grav.          1700.0   \n",
       "\n",
       "     foreign_gross  year  \n",
       "0        652000000  2010  \n",
       "1        691300000  2010  \n",
       "2        664300000  2010  \n",
       "3        535700000  2010  \n",
       "4        513900000  2010  \n",
       "...            ...   ...  \n",
       "3382           NaN  2018  \n",
       "3383           NaN  2018  \n",
       "3384           NaN  2018  \n",
       "3385           NaN  2018  \n",
       "3386           NaN  2018  \n",
       "\n",
       "[3387 rows x 5 columns]"
      ]
     },
     "execution_count": 153,
     "metadata": {},
     "output_type": "execute_result"
    }
   ],
   "source": [
    "BOMdf "
   ]
  },
  {
   "cell_type": "markdown",
   "metadata": {},
   "source": [
    "### data quality summary."
   ]
  },
  {
   "cell_type": "code",
   "execution_count": 154,
   "metadata": {},
   "outputs": [
    {
     "name": "stdout",
     "output_type": "stream",
     "text": [
      "=== Box Office Mojo Summary Statistics ===\n",
      "\n",
      "       domestic_gross     year\n",
      "count    3.359000e+03  3387.00\n",
      "mean     2.874585e+07  2013.96\n",
      "std      6.698250e+07     2.48\n",
      "min      1.000000e+02  2010.00\n",
      "25%      1.200000e+05  2012.00\n",
      "50%      1.400000e+06  2014.00\n",
      "75%      2.790000e+07  2016.00\n",
      "max      9.367000e+08  2018.00\n",
      "\n",
      "Distribution Analysis:\n",
      "\n",
      "Domestic Gross:\n",
      "IQR: $27,780,000.00\n",
      "Skewness: 4.72\n",
      "\n",
      "Year:\n",
      "IQR: $4.00\n",
      "Skewness: -0.01\n"
     ]
    }
   ],
   "source": [
    "print(\"=== Box Office Mojo Summary Statistics ===\\n\")\n",
    "\n",
    "# summary statistics\n",
    "summary_stats = BOMdf.describe()\n",
    "print(summary_stats.round(2))\n",
    "\n",
    "# Distribution analysis\n",
    "print(\"\\nDistribution Analysis:\")\n",
    "for col in BOMdf.select_dtypes(include=['float64', 'int64']).columns:\n",
    "    q1 = BOMdf[col].quantile(0.25)\n",
    "    q3 = BOMdf[col].quantile(0.75)\n",
    "    iqr = q3 - q1\n",
    "    print(f\"\\n{col.replace('_', ' ').title()}:\")\n",
    "    print(f\"IQR: ${iqr:,.2f}\")\n",
    "    print(f\"Skewness: {BOMdf[col].skew():.2f}\")"
   ]
  },
  {
   "cell_type": "markdown",
   "metadata": {},
   "source": [
    "### Exploring the IMDB Dataset\n",
    "Import the `zipfile` module to help access the zipped `im.db` sqlite database"
   ]
  },
  {
   "cell_type": "code",
   "execution_count": 155,
   "metadata": {},
   "outputs": [],
   "source": [
    "# unzip the im.db.zip file and eztract the database file\n",
    "import zipfile\n",
    "\n",
    "with zipfile.ZipFile('zippedData/im.db.zip', 'r') as zip_ref:\n",
    "    zip_ref.extractall('zippedData/')"
   ]
  },
  {
   "cell_type": "markdown",
   "metadata": {},
   "source": [
    "Create a connection `conn` to the database using `sqlite3` module"
   ]
  },
  {
   "cell_type": "code",
   "execution_count": 156,
   "metadata": {},
   "outputs": [
    {
     "name": "stdout",
     "output_type": "stream",
     "text": [
      "            name\n",
      "0   movie_basics\n",
      "1      directors\n",
      "2      known_for\n",
      "3     movie_akas\n",
      "4  movie_ratings\n",
      "5        persons\n",
      "6     principals\n",
      "7        writers\n"
     ]
    }
   ],
   "source": [
    "#load the dataset\n",
    "conn = sqlite3.connect('zippedData/im.db')\n",
    "#check the tables in the database\n",
    "tables = pd.read_sql(\"\"\"SELECT name FROM sqlite_master WHERE type='table';\"\"\", conn)\n",
    "print(tables)"
   ]
  },
  {
   "cell_type": "markdown",
   "metadata": {},
   "source": [
    "### data quality summary"
   ]
  },
  {
   "cell_type": "code",
   "execution_count": 157,
   "metadata": {},
   "outputs": [
    {
     "name": "stdout",
     "output_type": "stream",
     "text": [
      "=== Movie Basics Analysis ===\n",
      "\n",
      "Dataset Overview:\n",
      "<class 'pandas.core.frame.DataFrame'>\n",
      "RangeIndex: 146144 entries, 0 to 146143\n",
      "Data columns (total 6 columns):\n",
      " #   Column           Non-Null Count   Dtype  \n",
      "---  ------           --------------   -----  \n",
      " 0   movie_id         146144 non-null  object \n",
      " 1   primary_title    146144 non-null  object \n",
      " 2   original_title   146123 non-null  object \n",
      " 3   start_year       146144 non-null  int64  \n",
      " 4   runtime_minutes  114405 non-null  float64\n",
      " 5   genres           140736 non-null  object \n",
      "dtypes: float64(1), int64(1), object(4)\n",
      "memory usage: 42.3 MB\n",
      "\n",
      "Numerical Column Statistics:\n",
      "       start_year  runtime_minutes\n",
      "count   146144.00        114405.00\n",
      "mean      2014.62            86.19\n",
      "std          2.73           166.36\n",
      "min       2010.00             1.00\n",
      "25%       2012.00            70.00\n",
      "50%       2015.00            87.00\n",
      "75%       2017.00            99.00\n",
      "max       2115.00         51420.00\n",
      "\n",
      "Data Quality Analysis:\n",
      "Duplicate records: 0 (0.00%)\n",
      "\n",
      "Missing Values:\n",
      "original_title: 21 missing (0.01%)\n",
      "runtime_minutes: 31739 missing (21.72%)\n",
      "genres: 5408 missing (3.70%)\n",
      "\n",
      "Unique values in categorical columns:\n",
      "movie_id: 146144 unique values\n",
      "primary_title: 136071 unique values\n",
      "original_title: 137773 unique values\n",
      "genres: 1085 unique values\n"
     ]
    }
   ],
   "source": [
    "print(\"=== Movie Basics Analysis ===\")\n",
    "\n",
    "# Load movie basics table\n",
    "movie_basics = pd.read_sql(\"\"\"\n",
    "    SELECT * FROM movie_basics \n",
    "    ORDER BY start_year DESC;\n",
    "\"\"\", conn)\n",
    "\n",
    "# Display basic information\n",
    "print(\"\\nDataset Overview:\")\n",
    "movie_basics.info(memory_usage='deep')\n",
    "\n",
    "# Display summary statistics\n",
    "print(\"\\nNumerical Column Statistics:\")\n",
    "print(movie_basics.describe().round(2))\n",
    "\n",
    "# Check for data quality issues\n",
    "print(\"\\nData Quality Analysis:\")\n",
    "\n",
    "# Check for duplicates\n",
    "duplicates = movie_basics.duplicated().sum()\n",
    "print(f\"Duplicate records: {duplicates} ({(duplicates/len(movie_basics))*100:.2f}%)\")\n",
    "\n",
    "# Check for missing values\n",
    "null_counts = movie_basics.isnull().sum()\n",
    "print(\"\\nMissing Values:\")\n",
    "for col in movie_basics.columns:\n",
    "    if null_counts[col] > 0:\n",
    "        print(f\"{col}: {null_counts[col]} missing ({(null_counts[col]/len(movie_basics))*100:.2f}%)\")\n",
    "\n",
    "# Analyze categorical columns\n",
    "print(\"\\nUnique values in categorical columns:\")\n",
    "for col in movie_basics.select_dtypes(include=['object']).columns:\n",
    "    print(f\"{col}: {movie_basics[col].nunique()} unique values\")\n"
   ]
  },
  {
   "cell_type": "code",
   "execution_count": 158,
   "metadata": {},
   "outputs": [
    {
     "data": {
      "text/html": [
       "<div>\n",
       "<style scoped>\n",
       "    .dataframe tbody tr th:only-of-type {\n",
       "        vertical-align: middle;\n",
       "    }\n",
       "\n",
       "    .dataframe tbody tr th {\n",
       "        vertical-align: top;\n",
       "    }\n",
       "\n",
       "    .dataframe thead th {\n",
       "        text-align: right;\n",
       "    }\n",
       "</style>\n",
       "<table border=\"1\" class=\"dataframe\">\n",
       "  <thead>\n",
       "    <tr style=\"text-align: right;\">\n",
       "      <th></th>\n",
       "      <th>movie_id</th>\n",
       "      <th>primary_title</th>\n",
       "      <th>original_title</th>\n",
       "      <th>start_year</th>\n",
       "      <th>runtime_minutes</th>\n",
       "      <th>genres</th>\n",
       "    </tr>\n",
       "  </thead>\n",
       "  <tbody>\n",
       "    <tr>\n",
       "      <th>0</th>\n",
       "      <td>tt5174640</td>\n",
       "      <td>100 Years</td>\n",
       "      <td>100 Years</td>\n",
       "      <td>2115</td>\n",
       "      <td>NaN</td>\n",
       "      <td>Drama</td>\n",
       "    </tr>\n",
       "    <tr>\n",
       "      <th>1</th>\n",
       "      <td>tt5637536</td>\n",
       "      <td>Avatar 5</td>\n",
       "      <td>Avatar 5</td>\n",
       "      <td>2027</td>\n",
       "      <td>NaN</td>\n",
       "      <td>Action,Adventure,Fantasy</td>\n",
       "    </tr>\n",
       "    <tr>\n",
       "      <th>2</th>\n",
       "      <td>tt10300398</td>\n",
       "      <td>Untitled Star Wars Film</td>\n",
       "      <td>Untitled Star Wars Film</td>\n",
       "      <td>2026</td>\n",
       "      <td>NaN</td>\n",
       "      <td>Fantasy</td>\n",
       "    </tr>\n",
       "    <tr>\n",
       "      <th>3</th>\n",
       "      <td>tt3095356</td>\n",
       "      <td>Avatar 4</td>\n",
       "      <td>Avatar 4</td>\n",
       "      <td>2025</td>\n",
       "      <td>NaN</td>\n",
       "      <td>Action,Adventure,Fantasy</td>\n",
       "    </tr>\n",
       "    <tr>\n",
       "      <th>4</th>\n",
       "      <td>tt10300396</td>\n",
       "      <td>Untitled Star Wars Film</td>\n",
       "      <td>Untitled Star Wars Film</td>\n",
       "      <td>2024</td>\n",
       "      <td>NaN</td>\n",
       "      <td>None</td>\n",
       "    </tr>\n",
       "    <tr>\n",
       "      <th>...</th>\n",
       "      <td>...</td>\n",
       "      <td>...</td>\n",
       "      <td>...</td>\n",
       "      <td>...</td>\n",
       "      <td>...</td>\n",
       "      <td>...</td>\n",
       "    </tr>\n",
       "    <tr>\n",
       "      <th>146139</th>\n",
       "      <td>tt9852508</td>\n",
       "      <td>Viyapath Bambara</td>\n",
       "      <td>Viyapath Bambara</td>\n",
       "      <td>2010</td>\n",
       "      <td>120.0</td>\n",
       "      <td>Drama</td>\n",
       "    </tr>\n",
       "    <tr>\n",
       "      <th>146140</th>\n",
       "      <td>tt9875120</td>\n",
       "      <td>Frostbite</td>\n",
       "      <td>Frostbite</td>\n",
       "      <td>2010</td>\n",
       "      <td>90.0</td>\n",
       "      <td>Documentary</td>\n",
       "    </tr>\n",
       "    <tr>\n",
       "      <th>146141</th>\n",
       "      <td>tt9875242</td>\n",
       "      <td>15 Fotografii</td>\n",
       "      <td>15 Fotografii</td>\n",
       "      <td>2010</td>\n",
       "      <td>56.0</td>\n",
       "      <td>Drama</td>\n",
       "    </tr>\n",
       "    <tr>\n",
       "      <th>146142</th>\n",
       "      <td>tt9878374</td>\n",
       "      <td>Regi lagni comprensorio di stato</td>\n",
       "      <td>Regi lagni comprensorio di stato</td>\n",
       "      <td>2010</td>\n",
       "      <td>NaN</td>\n",
       "      <td>Documentary</td>\n",
       "    </tr>\n",
       "    <tr>\n",
       "      <th>146143</th>\n",
       "      <td>tt9905932</td>\n",
       "      <td>Footloose in London: All the Best Sights of ou...</td>\n",
       "      <td>Footloose in London: All the Best Sights of ou...</td>\n",
       "      <td>2010</td>\n",
       "      <td>106.0</td>\n",
       "      <td>None</td>\n",
       "    </tr>\n",
       "  </tbody>\n",
       "</table>\n",
       "<p>146144 rows × 6 columns</p>\n",
       "</div>"
      ],
      "text/plain": [
       "          movie_id                                      primary_title  \\\n",
       "0        tt5174640                                          100 Years   \n",
       "1        tt5637536                                           Avatar 5   \n",
       "2       tt10300398                            Untitled Star Wars Film   \n",
       "3        tt3095356                                           Avatar 4   \n",
       "4       tt10300396                            Untitled Star Wars Film   \n",
       "...            ...                                                ...   \n",
       "146139   tt9852508                                   Viyapath Bambara   \n",
       "146140   tt9875120                                          Frostbite   \n",
       "146141   tt9875242                                      15 Fotografii   \n",
       "146142   tt9878374                   Regi lagni comprensorio di stato   \n",
       "146143   tt9905932  Footloose in London: All the Best Sights of ou...   \n",
       "\n",
       "                                           original_title  start_year  \\\n",
       "0                                               100 Years        2115   \n",
       "1                                                Avatar 5        2027   \n",
       "2                                 Untitled Star Wars Film        2026   \n",
       "3                                                Avatar 4        2025   \n",
       "4                                 Untitled Star Wars Film        2024   \n",
       "...                                                   ...         ...   \n",
       "146139                                   Viyapath Bambara        2010   \n",
       "146140                                          Frostbite        2010   \n",
       "146141                                      15 Fotografii        2010   \n",
       "146142                   Regi lagni comprensorio di stato        2010   \n",
       "146143  Footloose in London: All the Best Sights of ou...        2010   \n",
       "\n",
       "        runtime_minutes                    genres  \n",
       "0                   NaN                     Drama  \n",
       "1                   NaN  Action,Adventure,Fantasy  \n",
       "2                   NaN                   Fantasy  \n",
       "3                   NaN  Action,Adventure,Fantasy  \n",
       "4                   NaN                      None  \n",
       "...                 ...                       ...  \n",
       "146139            120.0                     Drama  \n",
       "146140             90.0               Documentary  \n",
       "146141             56.0                     Drama  \n",
       "146142              NaN               Documentary  \n",
       "146143            106.0                      None  \n",
       "\n",
       "[146144 rows x 6 columns]"
      ]
     },
     "execution_count": 158,
     "metadata": {},
     "output_type": "execute_result"
    }
   ],
   "source": [
    "movie_basics"
   ]
  },
  {
   "cell_type": "markdown",
   "metadata": {},
   "source": [
    "### Loading and analysing of the `movie_ratings` dataframe."
   ]
  },
  {
   "cell_type": "code",
   "execution_count": 159,
   "metadata": {},
   "outputs": [
    {
     "name": "stdout",
     "output_type": "stream",
     "text": [
      "=== Movie Ratings Analysis ===\n",
      "\n",
      "Dataset Overview:\n",
      "<class 'pandas.core.frame.DataFrame'>\n",
      "RangeIndex: 73856 entries, 0 to 73855\n",
      "Data columns (total 3 columns):\n",
      " #   Column         Non-Null Count  Dtype  \n",
      "---  ------         --------------  -----  \n",
      " 0   movie_id       73856 non-null  object \n",
      " 1   averagerating  73856 non-null  float64\n",
      " 2   numvotes       73856 non-null  int64  \n",
      "dtypes: float64(1), int64(1), object(1)\n",
      "memory usage: 1.7+ MB\n",
      "\n",
      "Rating Statistics:\n",
      "       averagerating    numvotes\n",
      "count       73856.00    73856.00\n",
      "mean            6.33     3523.66\n",
      "std             1.47    30294.02\n",
      "min             1.00        5.00\n",
      "25%             5.50       14.00\n",
      "50%             6.50       49.00\n",
      "75%             7.40      282.00\n",
      "max            10.00  1841066.00\n",
      "\n",
      "Data Quality Analysis:\n",
      "Duplicate records: 0 (0.00%)\n",
      "\n",
      "Missing Values:\n",
      "\n",
      "Rating Distribution:\n",
      "(0.99, 2.8]     1531\n",
      "(2.8, 4.6]      8271\n",
      "(4.6, 6.4]     26424\n",
      "(6.4, 8.2]     31561\n",
      "(8.2, 10.0]     6069\n",
      "Name: averagerating, dtype: int64\n"
     ]
    }
   ],
   "source": [
    "print(\"=== Movie Ratings Analysis ===\")\n",
    "\n",
    "# Load movie ratings table with basic statistics\n",
    "movie_ratings = pd.read_sql(\"\"\"\n",
    "    SELECT * FROM movie_ratings;\n",
    "\"\"\", conn)\n",
    "\n",
    "# Display basic information\n",
    "print(\"\\nDataset Overview:\")\n",
    "movie_ratings.info()\n",
    "\n",
    "# Display summary statistics\n",
    "print(\"\\nRating Statistics:\")\n",
    "print(movie_ratings.describe().round(2))\n",
    "\n",
    "# Check for data quality issues\n",
    "print(\"\\nData Quality Analysis:\")\n",
    "\n",
    "# Check for duplicates\n",
    "duplicates = movie_ratings.duplicated().sum()\n",
    "print(f\"Duplicate records: {duplicates} ({(duplicates/len(movie_ratings))*100:.2f}%)\")\n",
    "\n",
    "# Check for missing values\n",
    "null_counts = movie_ratings.isnull().sum()\n",
    "print(\"\\nMissing Values:\")\n",
    "for col in movie_ratings.columns:\n",
    "    if null_counts[col] > 0:\n",
    "        print(f\"{col}: {null_counts[col]} missing ({(null_counts[col]/len(movie_ratings))*100:.2f}%)\")\n",
    "\n",
    "# Check rating distribution\n",
    "print(\"\\nRating Distribution:\")\n",
    "print(movie_ratings['averagerating'].value_counts(bins=5).sort_index())\n"
   ]
  },
  {
   "cell_type": "code",
   "execution_count": 160,
   "metadata": {},
   "outputs": [
    {
     "data": {
      "text/html": [
       "<div>\n",
       "<style scoped>\n",
       "    .dataframe tbody tr th:only-of-type {\n",
       "        vertical-align: middle;\n",
       "    }\n",
       "\n",
       "    .dataframe tbody tr th {\n",
       "        vertical-align: top;\n",
       "    }\n",
       "\n",
       "    .dataframe thead th {\n",
       "        text-align: right;\n",
       "    }\n",
       "</style>\n",
       "<table border=\"1\" class=\"dataframe\">\n",
       "  <thead>\n",
       "    <tr style=\"text-align: right;\">\n",
       "      <th></th>\n",
       "      <th>movie_id</th>\n",
       "      <th>averagerating</th>\n",
       "      <th>numvotes</th>\n",
       "    </tr>\n",
       "  </thead>\n",
       "  <tbody>\n",
       "    <tr>\n",
       "      <th>0</th>\n",
       "      <td>tt10356526</td>\n",
       "      <td>8.3</td>\n",
       "      <td>31</td>\n",
       "    </tr>\n",
       "    <tr>\n",
       "      <th>1</th>\n",
       "      <td>tt10384606</td>\n",
       "      <td>8.9</td>\n",
       "      <td>559</td>\n",
       "    </tr>\n",
       "    <tr>\n",
       "      <th>2</th>\n",
       "      <td>tt1042974</td>\n",
       "      <td>6.4</td>\n",
       "      <td>20</td>\n",
       "    </tr>\n",
       "    <tr>\n",
       "      <th>3</th>\n",
       "      <td>tt1043726</td>\n",
       "      <td>4.2</td>\n",
       "      <td>50352</td>\n",
       "    </tr>\n",
       "    <tr>\n",
       "      <th>4</th>\n",
       "      <td>tt1060240</td>\n",
       "      <td>6.5</td>\n",
       "      <td>21</td>\n",
       "    </tr>\n",
       "    <tr>\n",
       "      <th>...</th>\n",
       "      <td>...</td>\n",
       "      <td>...</td>\n",
       "      <td>...</td>\n",
       "    </tr>\n",
       "    <tr>\n",
       "      <th>73851</th>\n",
       "      <td>tt9805820</td>\n",
       "      <td>8.1</td>\n",
       "      <td>25</td>\n",
       "    </tr>\n",
       "    <tr>\n",
       "      <th>73852</th>\n",
       "      <td>tt9844256</td>\n",
       "      <td>7.5</td>\n",
       "      <td>24</td>\n",
       "    </tr>\n",
       "    <tr>\n",
       "      <th>73853</th>\n",
       "      <td>tt9851050</td>\n",
       "      <td>4.7</td>\n",
       "      <td>14</td>\n",
       "    </tr>\n",
       "    <tr>\n",
       "      <th>73854</th>\n",
       "      <td>tt9886934</td>\n",
       "      <td>7.0</td>\n",
       "      <td>5</td>\n",
       "    </tr>\n",
       "    <tr>\n",
       "      <th>73855</th>\n",
       "      <td>tt9894098</td>\n",
       "      <td>6.3</td>\n",
       "      <td>128</td>\n",
       "    </tr>\n",
       "  </tbody>\n",
       "</table>\n",
       "<p>73856 rows × 3 columns</p>\n",
       "</div>"
      ],
      "text/plain": [
       "         movie_id  averagerating  numvotes\n",
       "0      tt10356526            8.3        31\n",
       "1      tt10384606            8.9       559\n",
       "2       tt1042974            6.4        20\n",
       "3       tt1043726            4.2     50352\n",
       "4       tt1060240            6.5        21\n",
       "...           ...            ...       ...\n",
       "73851   tt9805820            8.1        25\n",
       "73852   tt9844256            7.5        24\n",
       "73853   tt9851050            4.7        14\n",
       "73854   tt9886934            7.0         5\n",
       "73855   tt9894098            6.3       128\n",
       "\n",
       "[73856 rows x 3 columns]"
      ]
     },
     "execution_count": 160,
     "metadata": {},
     "output_type": "execute_result"
    }
   ],
   "source": [
    "movie_ratings"
   ]
  },
  {
   "cell_type": "markdown",
   "metadata": {},
   "source": [
    "has 73856 rows and 3 columns"
   ]
  },
  {
   "cell_type": "markdown",
   "metadata": {},
   "source": [
    "### Loading and analysing of the \"Reviews\" dataframe.\n"
   ]
  },
  {
   "cell_type": "code",
   "execution_count": 161,
   "metadata": {},
   "outputs": [
    {
     "data": {
      "text/html": [
       "<div>\n",
       "<style scoped>\n",
       "    .dataframe tbody tr th:only-of-type {\n",
       "        vertical-align: middle;\n",
       "    }\n",
       "\n",
       "    .dataframe tbody tr th {\n",
       "        vertical-align: top;\n",
       "    }\n",
       "\n",
       "    .dataframe thead th {\n",
       "        text-align: right;\n",
       "    }\n",
       "</style>\n",
       "<table border=\"1\" class=\"dataframe\">\n",
       "  <thead>\n",
       "    <tr style=\"text-align: right;\">\n",
       "      <th></th>\n",
       "      <th>id</th>\n",
       "      <th>review</th>\n",
       "      <th>rating</th>\n",
       "      <th>fresh</th>\n",
       "      <th>critic</th>\n",
       "      <th>top_critic</th>\n",
       "      <th>publisher</th>\n",
       "      <th>date</th>\n",
       "    </tr>\n",
       "  </thead>\n",
       "  <tbody>\n",
       "    <tr>\n",
       "      <th>0</th>\n",
       "      <td>3</td>\n",
       "      <td>A distinctly gallows take on contemporary fina...</td>\n",
       "      <td>3/5</td>\n",
       "      <td>fresh</td>\n",
       "      <td>PJ Nabarro</td>\n",
       "      <td>0</td>\n",
       "      <td>Patrick Nabarro</td>\n",
       "      <td>November 10, 2018</td>\n",
       "    </tr>\n",
       "    <tr>\n",
       "      <th>1</th>\n",
       "      <td>3</td>\n",
       "      <td>It's an allegory in search of a meaning that n...</td>\n",
       "      <td>NaN</td>\n",
       "      <td>rotten</td>\n",
       "      <td>Annalee Newitz</td>\n",
       "      <td>0</td>\n",
       "      <td>io9.com</td>\n",
       "      <td>May 23, 2018</td>\n",
       "    </tr>\n",
       "    <tr>\n",
       "      <th>2</th>\n",
       "      <td>3</td>\n",
       "      <td>... life lived in a bubble in financial dealin...</td>\n",
       "      <td>NaN</td>\n",
       "      <td>fresh</td>\n",
       "      <td>Sean Axmaker</td>\n",
       "      <td>0</td>\n",
       "      <td>Stream on Demand</td>\n",
       "      <td>January 4, 2018</td>\n",
       "    </tr>\n",
       "    <tr>\n",
       "      <th>3</th>\n",
       "      <td>3</td>\n",
       "      <td>Continuing along a line introduced in last yea...</td>\n",
       "      <td>NaN</td>\n",
       "      <td>fresh</td>\n",
       "      <td>Daniel Kasman</td>\n",
       "      <td>0</td>\n",
       "      <td>MUBI</td>\n",
       "      <td>November 16, 2017</td>\n",
       "    </tr>\n",
       "    <tr>\n",
       "      <th>4</th>\n",
       "      <td>3</td>\n",
       "      <td>... a perverse twist on neorealism...</td>\n",
       "      <td>NaN</td>\n",
       "      <td>fresh</td>\n",
       "      <td>NaN</td>\n",
       "      <td>0</td>\n",
       "      <td>Cinema Scope</td>\n",
       "      <td>October 12, 2017</td>\n",
       "    </tr>\n",
       "  </tbody>\n",
       "</table>\n",
       "</div>"
      ],
      "text/plain": [
       "   id                                             review rating   fresh  \\\n",
       "0   3  A distinctly gallows take on contemporary fina...    3/5   fresh   \n",
       "1   3  It's an allegory in search of a meaning that n...    NaN  rotten   \n",
       "2   3  ... life lived in a bubble in financial dealin...    NaN   fresh   \n",
       "3   3  Continuing along a line introduced in last yea...    NaN   fresh   \n",
       "4   3             ... a perverse twist on neorealism...     NaN   fresh   \n",
       "\n",
       "           critic  top_critic         publisher               date  \n",
       "0      PJ Nabarro           0   Patrick Nabarro  November 10, 2018  \n",
       "1  Annalee Newitz           0           io9.com       May 23, 2018  \n",
       "2    Sean Axmaker           0  Stream on Demand    January 4, 2018  \n",
       "3   Daniel Kasman           0              MUBI  November 16, 2017  \n",
       "4             NaN           0      Cinema Scope   October 12, 2017  "
      ]
     },
     "execution_count": 161,
     "metadata": {},
     "output_type": "execute_result"
    }
   ],
   "source": [
    "#Load the dataset\n",
    "df_reviews = pd.read_csv('zippedData/rt.reviews.tsv.gz', sep = '\\t', encoding='latin1')\n",
    "df_reviews.head()"
   ]
  },
  {
   "cell_type": "code",
   "execution_count": 162,
   "metadata": {},
   "outputs": [
    {
     "name": "stdout",
     "output_type": "stream",
     "text": [
      "=== Reviews Dataset Analysis ===\n",
      "\n",
      "DataFrame Info:\n",
      "<class 'pandas.core.frame.DataFrame'>\n",
      "RangeIndex: 54432 entries, 0 to 54431\n",
      "Data columns (total 8 columns):\n",
      " #   Column      Non-Null Count  Dtype \n",
      "---  ------      --------------  ----- \n",
      " 0   id          54432 non-null  int64 \n",
      " 1   review      48869 non-null  object\n",
      " 2   rating      40915 non-null  object\n",
      " 3   fresh       54432 non-null  object\n",
      " 4   critic      51710 non-null  object\n",
      " 5   top_critic  54432 non-null  int64 \n",
      " 6   publisher   54123 non-null  object\n",
      " 7   date        54432 non-null  object\n",
      "dtypes: int64(2), object(6)\n",
      "memory usage: 3.3+ MB\n",
      "\n",
      "Duplicate records: 9 (0.02% of total)\n",
      "\n",
      "Missing Values Analysis:\n",
      "review: 5563 missing values (10.22%)\n",
      "rating: 13517 missing values (24.83%)\n",
      "critic: 2722 missing values (5.00%)\n",
      "publisher: 309 missing values (0.57%)\n",
      "\n",
      "Unique values in categorical columns:\n",
      "review: 48682 unique values\n",
      "rating: 186 unique values\n",
      "fresh: 2 unique values\n",
      "critic: 3496 unique values\n",
      "publisher: 1281 unique values\n",
      "date: 5963 unique values\n"
     ]
    }
   ],
   "source": [
    "print(\"=== Reviews Dataset Analysis ===\")\n",
    "print(\"\\nDataFrame Info:\")\n",
    "df_reviews.info()\n",
    "\n",
    "# Check for duplicate records\n",
    "duplicates = df_reviews.duplicated().sum()\n",
    "print(f\"\\nDuplicate records: {duplicates} ({(duplicates/len(df_reviews))*100:.2f}% of total)\")\n",
    "\n",
    "# Display null value counts and percentages\n",
    "null_counts = df_reviews.isnull().sum()\n",
    "null_percentages = (null_counts/len(df_reviews))*100\n",
    "print(\"\\nMissing Values Analysis:\")\n",
    "for col in df_reviews.columns:\n",
    "    if null_counts[col] > 0:\n",
    "        print(f\"{col}: {null_counts[col]} missing values ({null_percentages[col]:.2f}%)\")\n",
    "\n",
    "# Display unique values in categorical columns\n",
    "print(\"\\nUnique values in categorical columns:\")\n",
    "for col in df_reviews.select_dtypes(include=['object']).columns:\n",
    "    print(f\"{col}: {df_reviews[col].nunique()} unique values\")\n"
   ]
  },
  {
   "cell_type": "markdown",
   "metadata": {},
   "source": [
    "### Loading and analysing of the Movie_info dataframe."
   ]
  },
  {
   "cell_type": "code",
   "execution_count": 163,
   "metadata": {},
   "outputs": [
    {
     "data": {
      "text/html": [
       "<div>\n",
       "<style scoped>\n",
       "    .dataframe tbody tr th:only-of-type {\n",
       "        vertical-align: middle;\n",
       "    }\n",
       "\n",
       "    .dataframe tbody tr th {\n",
       "        vertical-align: top;\n",
       "    }\n",
       "\n",
       "    .dataframe thead th {\n",
       "        text-align: right;\n",
       "    }\n",
       "</style>\n",
       "<table border=\"1\" class=\"dataframe\">\n",
       "  <thead>\n",
       "    <tr style=\"text-align: right;\">\n",
       "      <th></th>\n",
       "      <th>id</th>\n",
       "      <th>synopsis</th>\n",
       "      <th>rating</th>\n",
       "      <th>genre</th>\n",
       "      <th>director</th>\n",
       "      <th>writer</th>\n",
       "      <th>theater_date</th>\n",
       "      <th>dvd_date</th>\n",
       "      <th>currency</th>\n",
       "      <th>box_office</th>\n",
       "      <th>runtime</th>\n",
       "      <th>studio</th>\n",
       "    </tr>\n",
       "  </thead>\n",
       "  <tbody>\n",
       "    <tr>\n",
       "      <th>0</th>\n",
       "      <td>1</td>\n",
       "      <td>This gritty, fast-paced, and innovative police...</td>\n",
       "      <td>R</td>\n",
       "      <td>Action and Adventure|Classics|Drama</td>\n",
       "      <td>William Friedkin</td>\n",
       "      <td>Ernest Tidyman</td>\n",
       "      <td>Oct 9, 1971</td>\n",
       "      <td>Sep 25, 2001</td>\n",
       "      <td>NaN</td>\n",
       "      <td>NaN</td>\n",
       "      <td>104 minutes</td>\n",
       "      <td>NaN</td>\n",
       "    </tr>\n",
       "    <tr>\n",
       "      <th>1</th>\n",
       "      <td>3</td>\n",
       "      <td>New York City, not-too-distant-future: Eric Pa...</td>\n",
       "      <td>R</td>\n",
       "      <td>Drama|Science Fiction and Fantasy</td>\n",
       "      <td>David Cronenberg</td>\n",
       "      <td>David Cronenberg|Don DeLillo</td>\n",
       "      <td>Aug 17, 2012</td>\n",
       "      <td>Jan 1, 2013</td>\n",
       "      <td>$</td>\n",
       "      <td>600,000</td>\n",
       "      <td>108 minutes</td>\n",
       "      <td>Entertainment One</td>\n",
       "    </tr>\n",
       "    <tr>\n",
       "      <th>2</th>\n",
       "      <td>5</td>\n",
       "      <td>Illeana Douglas delivers a superb performance ...</td>\n",
       "      <td>R</td>\n",
       "      <td>Drama|Musical and Performing Arts</td>\n",
       "      <td>Allison Anders</td>\n",
       "      <td>Allison Anders</td>\n",
       "      <td>Sep 13, 1996</td>\n",
       "      <td>Apr 18, 2000</td>\n",
       "      <td>NaN</td>\n",
       "      <td>NaN</td>\n",
       "      <td>116 minutes</td>\n",
       "      <td>NaN</td>\n",
       "    </tr>\n",
       "    <tr>\n",
       "      <th>3</th>\n",
       "      <td>6</td>\n",
       "      <td>Michael Douglas runs afoul of a treacherous su...</td>\n",
       "      <td>R</td>\n",
       "      <td>Drama|Mystery and Suspense</td>\n",
       "      <td>Barry Levinson</td>\n",
       "      <td>Paul Attanasio|Michael Crichton</td>\n",
       "      <td>Dec 9, 1994</td>\n",
       "      <td>Aug 27, 1997</td>\n",
       "      <td>NaN</td>\n",
       "      <td>NaN</td>\n",
       "      <td>128 minutes</td>\n",
       "      <td>NaN</td>\n",
       "    </tr>\n",
       "    <tr>\n",
       "      <th>4</th>\n",
       "      <td>7</td>\n",
       "      <td>NaN</td>\n",
       "      <td>NR</td>\n",
       "      <td>Drama|Romance</td>\n",
       "      <td>Rodney Bennett</td>\n",
       "      <td>Giles Cooper</td>\n",
       "      <td>NaN</td>\n",
       "      <td>NaN</td>\n",
       "      <td>NaN</td>\n",
       "      <td>NaN</td>\n",
       "      <td>200 minutes</td>\n",
       "      <td>NaN</td>\n",
       "    </tr>\n",
       "  </tbody>\n",
       "</table>\n",
       "</div>"
      ],
      "text/plain": [
       "   id                                           synopsis rating  \\\n",
       "0   1  This gritty, fast-paced, and innovative police...      R   \n",
       "1   3  New York City, not-too-distant-future: Eric Pa...      R   \n",
       "2   5  Illeana Douglas delivers a superb performance ...      R   \n",
       "3   6  Michael Douglas runs afoul of a treacherous su...      R   \n",
       "4   7                                                NaN     NR   \n",
       "\n",
       "                                 genre          director  \\\n",
       "0  Action and Adventure|Classics|Drama  William Friedkin   \n",
       "1    Drama|Science Fiction and Fantasy  David Cronenberg   \n",
       "2    Drama|Musical and Performing Arts    Allison Anders   \n",
       "3           Drama|Mystery and Suspense    Barry Levinson   \n",
       "4                        Drama|Romance    Rodney Bennett   \n",
       "\n",
       "                            writer  theater_date      dvd_date currency  \\\n",
       "0                   Ernest Tidyman   Oct 9, 1971  Sep 25, 2001      NaN   \n",
       "1     David Cronenberg|Don DeLillo  Aug 17, 2012   Jan 1, 2013        $   \n",
       "2                   Allison Anders  Sep 13, 1996  Apr 18, 2000      NaN   \n",
       "3  Paul Attanasio|Michael Crichton   Dec 9, 1994  Aug 27, 1997      NaN   \n",
       "4                     Giles Cooper           NaN           NaN      NaN   \n",
       "\n",
       "  box_office      runtime             studio  \n",
       "0        NaN  104 minutes                NaN  \n",
       "1    600,000  108 minutes  Entertainment One  \n",
       "2        NaN  116 minutes                NaN  \n",
       "3        NaN  128 minutes                NaN  \n",
       "4        NaN  200 minutes                NaN  "
      ]
     },
     "execution_count": 163,
     "metadata": {},
     "output_type": "execute_result"
    }
   ],
   "source": [
    "#load the dataset\n",
    "Movie_info_df = pd.read_csv('zippedData/rt.movie_info.tsv.gz', sep = '\\t', encoding='latin1')\n",
    "Movie_info_df.head()"
   ]
  },
  {
   "cell_type": "code",
   "execution_count": 164,
   "metadata": {},
   "outputs": [
    {
     "name": "stdout",
     "output_type": "stream",
     "text": [
      "=== Movie Info Dataset Analysis ===\n",
      "\n",
      "DataFrame Info:\n",
      "<class 'pandas.core.frame.DataFrame'>\n",
      "RangeIndex: 1560 entries, 0 to 1559\n",
      "Data columns (total 12 columns):\n",
      " #   Column        Non-Null Count  Dtype \n",
      "---  ------        --------------  ----- \n",
      " 0   id            1560 non-null   int64 \n",
      " 1   synopsis      1498 non-null   object\n",
      " 2   rating        1557 non-null   object\n",
      " 3   genre         1552 non-null   object\n",
      " 4   director      1361 non-null   object\n",
      " 5   writer        1111 non-null   object\n",
      " 6   theater_date  1201 non-null   object\n",
      " 7   dvd_date      1201 non-null   object\n",
      " 8   currency      340 non-null    object\n",
      " 9   box_office    340 non-null    object\n",
      " 10  runtime       1530 non-null   object\n",
      " 11  studio        494 non-null    object\n",
      "dtypes: int64(1), object(11)\n",
      "memory usage: 1.9 MB\n",
      "\n",
      "Duplicate records: 0 (0.00% of total)\n",
      "\n",
      "Missing Values Analysis:\n",
      "synopsis: 62 missing values (3.97%)\n",
      "rating: 3 missing values (0.19%)\n",
      "genre: 8 missing values (0.51%)\n",
      "director: 199 missing values (12.76%)\n",
      "writer: 449 missing values (28.78%)\n",
      "theater_date: 359 missing values (23.01%)\n",
      "dvd_date: 359 missing values (23.01%)\n",
      "currency: 1220 missing values (78.21%)\n",
      "box_office: 1220 missing values (78.21%)\n",
      "runtime: 30 missing values (1.92%)\n",
      "studio: 1066 missing values (68.33%)\n",
      "\n",
      "Memory Usage:\n",
      "1.9318923950195312 MB\n",
      "\n",
      "Unique values in categorical columns:\n",
      "synopsis: 1497 unique values\n",
      "rating: 6 unique values\n",
      "genre: 299 unique values\n",
      "director: 1125 unique values\n",
      "writer: 1069 unique values\n",
      "theater_date: 1025 unique values\n",
      "dvd_date: 717 unique values\n",
      "currency: 1 unique values\n",
      "box_office: 336 unique values\n",
      "runtime: 142 unique values\n",
      "studio: 200 unique values\n"
     ]
    }
   ],
   "source": [
    "print(\"=== Movie Info Dataset Analysis ===\")\n",
    "print(\"\\nDataFrame Info:\")\n",
    "Movie_info_df.info(memory_usage='deep')\n",
    "\n",
    "# Check for duplicate records\n",
    "duplicates = Movie_info_df.duplicated().sum()\n",
    "print(f\"\\nDuplicate records: {duplicates} ({(duplicates/len(Movie_info_df))*100:.2f}% of total)\")\n",
    "\n",
    "# Display null value counts and percentages\n",
    "null_counts = Movie_info_df.isnull().sum()\n",
    "null_percentages = (null_counts/len(Movie_info_df))*100\n",
    "print(\"\\nMissing Values Analysis:\")\n",
    "for col in Movie_info_df.columns:\n",
    "    if null_counts[col] > 0:\n",
    "        print(f\"{col}: {null_counts[col]} missing values ({null_percentages[col]:.2f}%)\")\n",
    "\n",
    "# Display memory usage\n",
    "print(\"\\nMemory Usage:\")\n",
    "print(Movie_info_df.memory_usage(deep=True).sum() / 1024**2, \"MB\")\n",
    "\n",
    "# Check for invalid or unexpected values in key columns\n",
    "print(\"\\nUnique values in categorical columns:\")\n",
    "for col in Movie_info_df.select_dtypes(include=['object']).columns:\n",
    "    print(f\"{col}: {Movie_info_df[col].nunique()} unique values\")"
   ]
  },
  {
   "cell_type": "markdown",
   "metadata": {},
   "source": [
    "### Loading and analysing of the Movie DB dataframe."
   ]
  },
  {
   "cell_type": "code",
   "execution_count": 165,
   "metadata": {},
   "outputs": [
    {
     "data": {
      "text/html": [
       "<div>\n",
       "<style scoped>\n",
       "    .dataframe tbody tr th:only-of-type {\n",
       "        vertical-align: middle;\n",
       "    }\n",
       "\n",
       "    .dataframe tbody tr th {\n",
       "        vertical-align: top;\n",
       "    }\n",
       "\n",
       "    .dataframe thead th {\n",
       "        text-align: right;\n",
       "    }\n",
       "</style>\n",
       "<table border=\"1\" class=\"dataframe\">\n",
       "  <thead>\n",
       "    <tr style=\"text-align: right;\">\n",
       "      <th></th>\n",
       "      <th>Unnamed: 0</th>\n",
       "      <th>genre_ids</th>\n",
       "      <th>id</th>\n",
       "      <th>original_language</th>\n",
       "      <th>original_title</th>\n",
       "      <th>popularity</th>\n",
       "      <th>release_date</th>\n",
       "      <th>title</th>\n",
       "      <th>vote_average</th>\n",
       "      <th>vote_count</th>\n",
       "    </tr>\n",
       "  </thead>\n",
       "  <tbody>\n",
       "    <tr>\n",
       "      <th>0</th>\n",
       "      <td>0</td>\n",
       "      <td>[12, 14, 10751]</td>\n",
       "      <td>12444</td>\n",
       "      <td>en</td>\n",
       "      <td>Harry Potter and the Deathly Hallows: Part 1</td>\n",
       "      <td>33.533</td>\n",
       "      <td>2010-11-19</td>\n",
       "      <td>Harry Potter and the Deathly Hallows: Part 1</td>\n",
       "      <td>7.7</td>\n",
       "      <td>10788</td>\n",
       "    </tr>\n",
       "    <tr>\n",
       "      <th>1</th>\n",
       "      <td>1</td>\n",
       "      <td>[14, 12, 16, 10751]</td>\n",
       "      <td>10191</td>\n",
       "      <td>en</td>\n",
       "      <td>How to Train Your Dragon</td>\n",
       "      <td>28.734</td>\n",
       "      <td>2010-03-26</td>\n",
       "      <td>How to Train Your Dragon</td>\n",
       "      <td>7.7</td>\n",
       "      <td>7610</td>\n",
       "    </tr>\n",
       "    <tr>\n",
       "      <th>2</th>\n",
       "      <td>2</td>\n",
       "      <td>[12, 28, 878]</td>\n",
       "      <td>10138</td>\n",
       "      <td>en</td>\n",
       "      <td>Iron Man 2</td>\n",
       "      <td>28.515</td>\n",
       "      <td>2010-05-07</td>\n",
       "      <td>Iron Man 2</td>\n",
       "      <td>6.8</td>\n",
       "      <td>12368</td>\n",
       "    </tr>\n",
       "    <tr>\n",
       "      <th>3</th>\n",
       "      <td>3</td>\n",
       "      <td>[16, 35, 10751]</td>\n",
       "      <td>862</td>\n",
       "      <td>en</td>\n",
       "      <td>Toy Story</td>\n",
       "      <td>28.005</td>\n",
       "      <td>1995-11-22</td>\n",
       "      <td>Toy Story</td>\n",
       "      <td>7.9</td>\n",
       "      <td>10174</td>\n",
       "    </tr>\n",
       "    <tr>\n",
       "      <th>4</th>\n",
       "      <td>4</td>\n",
       "      <td>[28, 878, 12]</td>\n",
       "      <td>27205</td>\n",
       "      <td>en</td>\n",
       "      <td>Inception</td>\n",
       "      <td>27.920</td>\n",
       "      <td>2010-07-16</td>\n",
       "      <td>Inception</td>\n",
       "      <td>8.3</td>\n",
       "      <td>22186</td>\n",
       "    </tr>\n",
       "  </tbody>\n",
       "</table>\n",
       "</div>"
      ],
      "text/plain": [
       "   Unnamed: 0            genre_ids     id original_language  \\\n",
       "0           0      [12, 14, 10751]  12444                en   \n",
       "1           1  [14, 12, 16, 10751]  10191                en   \n",
       "2           2        [12, 28, 878]  10138                en   \n",
       "3           3      [16, 35, 10751]    862                en   \n",
       "4           4        [28, 878, 12]  27205                en   \n",
       "\n",
       "                                 original_title  popularity release_date  \\\n",
       "0  Harry Potter and the Deathly Hallows: Part 1      33.533   2010-11-19   \n",
       "1                      How to Train Your Dragon      28.734   2010-03-26   \n",
       "2                                    Iron Man 2      28.515   2010-05-07   \n",
       "3                                     Toy Story      28.005   1995-11-22   \n",
       "4                                     Inception      27.920   2010-07-16   \n",
       "\n",
       "                                          title  vote_average  vote_count  \n",
       "0  Harry Potter and the Deathly Hallows: Part 1           7.7       10788  \n",
       "1                      How to Train Your Dragon           7.7        7610  \n",
       "2                                    Iron Man 2           6.8       12368  \n",
       "3                                     Toy Story           7.9       10174  \n",
       "4                                     Inception           8.3       22186  "
      ]
     },
     "execution_count": 165,
     "metadata": {},
     "output_type": "execute_result"
    }
   ],
   "source": [
    "#load the dataset\n",
    "movDB_df = pd.read_csv('zippedData/tmdb.movies.csv.gz')\n",
    "movDB_df.head()"
   ]
  },
  {
   "cell_type": "code",
   "execution_count": 166,
   "metadata": {},
   "outputs": [
    {
     "name": "stdout",
     "output_type": "stream",
     "text": [
      "=== Movie DB Dataset Analysis ===\n",
      "\n",
      "DataFrame Info:\n",
      "<class 'pandas.core.frame.DataFrame'>\n",
      "RangeIndex: 26517 entries, 0 to 26516\n",
      "Data columns (total 10 columns):\n",
      " #   Column             Non-Null Count  Dtype  \n",
      "---  ------             --------------  -----  \n",
      " 0   Unnamed: 0         26517 non-null  int64  \n",
      " 1   genre_ids          26517 non-null  object \n",
      " 2   id                 26517 non-null  int64  \n",
      " 3   original_language  26517 non-null  object \n",
      " 4   original_title     26517 non-null  object \n",
      " 5   popularity         26517 non-null  float64\n",
      " 6   release_date       26517 non-null  object \n",
      " 7   title              26517 non-null  object \n",
      " 8   vote_average       26517 non-null  float64\n",
      " 9   vote_count         26517 non-null  int64  \n",
      "dtypes: float64(2), int64(3), object(5)\n",
      "memory usage: 2.0+ MB\n",
      "\n",
      "Duplicate records: 0 (0.00% of total)\n",
      "\n",
      "Missing Values Analysis:\n",
      "\n",
      "Numeric Column Statistics:\n",
      "       Unnamed: 0         id  popularity  vote_average  vote_count\n",
      "count    26517.00   26517.00    26517.00      26517.00    26517.00\n",
      "mean     13258.00  295050.15        3.13          5.99      194.22\n",
      "std       7654.94  153661.62        4.36          1.85      960.96\n",
      "min          0.00      27.00        0.60          0.00        1.00\n",
      "25%       6629.00  157851.00        0.60          5.00        2.00\n",
      "50%      13258.00  309581.00        1.37          6.00        5.00\n",
      "75%      19887.00  419542.00        3.69          7.00       28.00\n",
      "max      26516.00  608444.00       80.77         10.00    22186.00\n"
     ]
    }
   ],
   "source": [
    "print(\"=== Movie DB Dataset Analysis ===\")\n",
    "print(\"\\nDataFrame Info:\")\n",
    "movDB_df.info()\n",
    "\n",
    "# Check for duplicate records\n",
    "duplicates = movDB_df.duplicated().sum()\n",
    "print(f\"\\nDuplicate records: {duplicates} ({(duplicates/len(movDB_df))*100:.2f}% of total)\")\n",
    "\n",
    "# Display null value counts and percentages\n",
    "null_counts = movDB_df.isnull().sum()\n",
    "null_percentages = (null_counts/len(movDB_df))*100\n",
    "print(\"\\nMissing Values Analysis:\")\n",
    "for col in movDB_df.columns:\n",
    "    if null_counts[col] > 0:\n",
    "        print(f\"{col}: {null_counts[col]} missing values ({null_percentages[col]:.2f}%)\")\n",
    "\n",
    "# Display basic statistics for numeric columns\n",
    "print(\"\\nNumeric Column Statistics:\")\n",
    "print(movDB_df.describe().round(2))"
   ]
  },
  {
   "cell_type": "markdown",
   "metadata": {},
   "source": [
    "### Loading and analysing the Movie Budgets Dataset"
   ]
  },
  {
   "cell_type": "code",
   "execution_count": 167,
   "metadata": {},
   "outputs": [
    {
     "data": {
      "text/html": [
       "<div>\n",
       "<style scoped>\n",
       "    .dataframe tbody tr th:only-of-type {\n",
       "        vertical-align: middle;\n",
       "    }\n",
       "\n",
       "    .dataframe tbody tr th {\n",
       "        vertical-align: top;\n",
       "    }\n",
       "\n",
       "    .dataframe thead th {\n",
       "        text-align: right;\n",
       "    }\n",
       "</style>\n",
       "<table border=\"1\" class=\"dataframe\">\n",
       "  <thead>\n",
       "    <tr style=\"text-align: right;\">\n",
       "      <th></th>\n",
       "      <th>id</th>\n",
       "      <th>release_date</th>\n",
       "      <th>movie</th>\n",
       "      <th>production_budget</th>\n",
       "      <th>domestic_gross</th>\n",
       "      <th>worldwide_gross</th>\n",
       "    </tr>\n",
       "  </thead>\n",
       "  <tbody>\n",
       "    <tr>\n",
       "      <th>0</th>\n",
       "      <td>1</td>\n",
       "      <td>Dec 18, 2009</td>\n",
       "      <td>Avatar</td>\n",
       "      <td>$425,000,000</td>\n",
       "      <td>$760,507,625</td>\n",
       "      <td>$2,776,345,279</td>\n",
       "    </tr>\n",
       "    <tr>\n",
       "      <th>1</th>\n",
       "      <td>2</td>\n",
       "      <td>May 20, 2011</td>\n",
       "      <td>Pirates of the Caribbean: On Stranger Tides</td>\n",
       "      <td>$410,600,000</td>\n",
       "      <td>$241,063,875</td>\n",
       "      <td>$1,045,663,875</td>\n",
       "    </tr>\n",
       "    <tr>\n",
       "      <th>2</th>\n",
       "      <td>3</td>\n",
       "      <td>Jun 7, 2019</td>\n",
       "      <td>Dark Phoenix</td>\n",
       "      <td>$350,000,000</td>\n",
       "      <td>$42,762,350</td>\n",
       "      <td>$149,762,350</td>\n",
       "    </tr>\n",
       "    <tr>\n",
       "      <th>3</th>\n",
       "      <td>4</td>\n",
       "      <td>May 1, 2015</td>\n",
       "      <td>Avengers: Age of Ultron</td>\n",
       "      <td>$330,600,000</td>\n",
       "      <td>$459,005,868</td>\n",
       "      <td>$1,403,013,963</td>\n",
       "    </tr>\n",
       "    <tr>\n",
       "      <th>4</th>\n",
       "      <td>5</td>\n",
       "      <td>Dec 15, 2017</td>\n",
       "      <td>Star Wars Ep. VIII: The Last Jedi</td>\n",
       "      <td>$317,000,000</td>\n",
       "      <td>$620,181,382</td>\n",
       "      <td>$1,316,721,747</td>\n",
       "    </tr>\n",
       "  </tbody>\n",
       "</table>\n",
       "</div>"
      ],
      "text/plain": [
       "   id  release_date                                        movie  \\\n",
       "0   1  Dec 18, 2009                                       Avatar   \n",
       "1   2  May 20, 2011  Pirates of the Caribbean: On Stranger Tides   \n",
       "2   3   Jun 7, 2019                                 Dark Phoenix   \n",
       "3   4   May 1, 2015                      Avengers: Age of Ultron   \n",
       "4   5  Dec 15, 2017            Star Wars Ep. VIII: The Last Jedi   \n",
       "\n",
       "  production_budget domestic_gross worldwide_gross  \n",
       "0      $425,000,000   $760,507,625  $2,776,345,279  \n",
       "1      $410,600,000   $241,063,875  $1,045,663,875  \n",
       "2      $350,000,000    $42,762,350    $149,762,350  \n",
       "3      $330,600,000   $459,005,868  $1,403,013,963  \n",
       "4      $317,000,000   $620,181,382  $1,316,721,747  "
      ]
     },
     "execution_count": 167,
     "metadata": {},
     "output_type": "execute_result"
    }
   ],
   "source": [
    "#load the dataset\n",
    "df_budgets = pd.read_csv('zippedData/tn.movie_budgets.csv.gz')\n",
    "df_budgets.head()"
   ]
  },
  {
   "cell_type": "code",
   "execution_count": 168,
   "metadata": {},
   "outputs": [
    {
     "name": "stdout",
     "output_type": "stream",
     "text": [
      "=== DataFrame Information ===\n",
      "<class 'pandas.core.frame.DataFrame'>\n",
      "RangeIndex: 5782 entries, 0 to 5781\n",
      "Data columns (total 6 columns):\n",
      " #   Column             Non-Null Count  Dtype \n",
      "---  ------             --------------  ----- \n",
      " 0   id                 5782 non-null   int64 \n",
      " 1   release_date       5782 non-null   object\n",
      " 2   movie              5782 non-null   object\n",
      " 3   production_budget  5782 non-null   object\n",
      " 4   domestic_gross     5782 non-null   object\n",
      " 5   worldwide_gross    5782 non-null   object\n",
      "dtypes: int64(1), object(5)\n",
      "memory usage: 1.9 MB\n",
      "\n",
      "=== Numeric Column Statistics ===\n"
     ]
    },
    {
     "data": {
      "text/html": [
       "<div>\n",
       "<style scoped>\n",
       "    .dataframe tbody tr th:only-of-type {\n",
       "        vertical-align: middle;\n",
       "    }\n",
       "\n",
       "    .dataframe tbody tr th {\n",
       "        vertical-align: top;\n",
       "    }\n",
       "\n",
       "    .dataframe thead th {\n",
       "        text-align: right;\n",
       "    }\n",
       "</style>\n",
       "<table border=\"1\" class=\"dataframe\">\n",
       "  <thead>\n",
       "    <tr style=\"text-align: right;\">\n",
       "      <th></th>\n",
       "      <th>id</th>\n",
       "    </tr>\n",
       "  </thead>\n",
       "  <tbody>\n",
       "    <tr>\n",
       "      <th>count</th>\n",
       "      <td>5782.000000</td>\n",
       "    </tr>\n",
       "    <tr>\n",
       "      <th>mean</th>\n",
       "      <td>50.372363</td>\n",
       "    </tr>\n",
       "    <tr>\n",
       "      <th>std</th>\n",
       "      <td>28.821076</td>\n",
       "    </tr>\n",
       "    <tr>\n",
       "      <th>min</th>\n",
       "      <td>1.000000</td>\n",
       "    </tr>\n",
       "    <tr>\n",
       "      <th>25%</th>\n",
       "      <td>25.000000</td>\n",
       "    </tr>\n",
       "    <tr>\n",
       "      <th>50%</th>\n",
       "      <td>50.000000</td>\n",
       "    </tr>\n",
       "    <tr>\n",
       "      <th>75%</th>\n",
       "      <td>75.000000</td>\n",
       "    </tr>\n",
       "    <tr>\n",
       "      <th>max</th>\n",
       "      <td>100.000000</td>\n",
       "    </tr>\n",
       "  </tbody>\n",
       "</table>\n",
       "</div>"
      ],
      "text/plain": [
       "                id\n",
       "count  5782.000000\n",
       "mean     50.372363\n",
       "std      28.821076\n",
       "min       1.000000\n",
       "25%      25.000000\n",
       "50%      50.000000\n",
       "75%      75.000000\n",
       "max     100.000000"
      ]
     },
     "execution_count": 168,
     "metadata": {},
     "output_type": "execute_result"
    }
   ],
   "source": [
    "print(\"=== DataFrame Information ===\")\n",
    "df_budgets.info(memory_usage='deep')\n",
    "\n",
    "print(\"\\n=== Numeric Column Statistics ===\") \n",
    "df_budgets.describe()\n"
   ]
  },
  {
   "cell_type": "markdown",
   "metadata": {},
   "source": [
    "### Inital Data Visualization\n",
    "\n",
    "Barplots, histplots and Heatmaps for values before cleaning in BOM.Movie dataset and Movie Basics and Ratings tables. "
   ]
  },
  {
   "cell_type": "code",
   "execution_count": 169,
   "metadata": {},
   "outputs": [
    {
     "data": {
      "image/png": "[encoded data removed]",
      "text/plain": [
       "<Figure size 720x432 with 1 Axes>"
      ]
     },
     "metadata": {
      "needs_background": "light"
     },
     "output_type": "display_data"
    },
    {
     "data": {
      "image/png": "[encoded data removed]",
      "text/plain": [
       "<Figure size 720x432 with 1 Axes>"
      ]
     },
     "metadata": {
      "needs_background": "light"
     },
     "output_type": "display_data"
    },
    {
     "data": {
      "image/png": "[encoded data removed]",
      "text/plain": [
       "<Figure size 720x432 with 1 Axes>"
      ]
     },
     "metadata": {
      "needs_background": "light"
     },
     "output_type": "display_data"
    },
    {
     "data": {
      "image/png": "[encoded data removed]",
      "text/plain": [
       "<Figure size 720x432 with 1 Axes>"
      ]
     },
     "metadata": {
      "needs_background": "light"
     },
     "output_type": "display_data"
    }
   ],
   "source": [
    "#heatmap for null values \n",
    "plt.figure(figsize=(10, 6))\n",
    "sns.heatmap(BOMdf.isnull(), cbar=False, cmap='inferno')\n",
    "plt.title('Null Values Heatmap for BOM Dataset')\n",
    "plt.show()\n",
    "\n",
    "#heatmap for null values in movie_basics\n",
    "plt.figure(figsize=(10, 6))\n",
    "sns.heatmap(movie_basics.isnull(), cbar=False, cmap='viridis')\n",
    "plt.title('Null Values Heatmap for Movies Dataset')\n",
    "plt.show()\n",
    "\n",
    "#heatmap for null values in movie_ratings\n",
    "plt.figure(figsize=(10, 6)) \n",
    "sns.heatmap(movie_ratings.isnull(), cbar=False, cmap='plasma')\n",
    "plt.title('Null Values Heatmap for Ratings Dataset')\n",
    "plt.show()\n",
    "\n",
    "#heatmap for null values in budgets\n",
    "plt.figure(figsize=(10, 6))\n",
    "sns.heatmap(df_budgets.isnull(), cbar=False, cmap='viridis')\n",
    "plt.title('Null Values Heatmap for Budgets Dataset')\n",
    "plt.show()"
   ]
  },
  {
   "cell_type": "markdown",
   "metadata": {},
   "source": [
    "BOM dataset heatmap shows that foreign_gross is the least complete variable, while title and year are reliable. Missingness is scattered across rows but concentrated in financial columns. This highlights the need for careful cleaning and imputation strategies before regression modeling.\n",
    "studio: Has some missing values scattered across the dataset (thin yellow lines). This means a few movies don’t have studio information recorded.\n",
    "domestic_gross: Several rows are missing domestic box office values. Missingness is irregular, but present in noticeable chunks.\n",
    "foreign_gross: This column has the largest proportion of missing values — many rows lack foreign gross figures. This is common in movie datasets, as not all films are released or reported internationally.\n",
    "\n",
    "Movies dataset is generally complete, with runtime_minutes and genres being the only columns with missing values. Careful handling of these missing values is essential before regression modeling, especially since genres are tied to Objective 1 (genre analysis) and runtime ties to Objective 3 (audience-related factors).\n",
    "\n",
    "Ratings dataset is clean and complete. Every movie in this dataset has valid ratings and vote counts, making it a strong and trustworthy component for regression and correlation analysis.\n",
    "\n",
    "Budgets dataset is clean and complete, with zero missing values across all key variables. It is ready for direct use in exploratory analysis and regression modeling without requiring imputation or row-dropping."
   ]
  },
  {
   "cell_type": "code",
   "execution_count": 170,
   "metadata": {},
   "outputs": [
    {
     "data": {
      "image/png": "[encoded data removed]",
      "text/plain": [
       "<Figure size 864x432 with 1 Axes>"
      ]
     },
     "metadata": {
      "needs_background": "light"
     },
     "output_type": "display_data"
    },
    {
     "data": {
      "image/png": "[encoded data removed]",
      "text/plain": [
       "<Figure size 864x432 with 1 Axes>"
      ]
     },
     "metadata": {
      "needs_background": "light"
     },
     "output_type": "display_data"
    },
    {
     "data": {
      "image/png": "[encoded data removed]",
      "text/plain": [
       "<Figure size 864x432 with 1 Axes>"
      ]
     },
     "metadata": {
      "needs_background": "light"
     },
     "output_type": "display_data"
    },
    {
     "data": {
      "image/png": "[encoded data removed]",
      "text/plain": [
       "<Figure size 864x432 with 1 Axes>"
      ]
     },
     "metadata": {
      "needs_background": "light"
     },
     "output_type": "display_data"
    }
   ],
   "source": [
    "#Bar plots for categorical variables\n",
    "plt.figure(figsize=(12, 6))\n",
    "sns.countplot(data=BOMdf, x='studio', order=BOMdf['studio'].value_counts().index)\n",
    "plt.xticks(rotation=90)\n",
    "plt.title('Distribution of Movies by Studio')\n",
    "plt.show()\n",
    "\n",
    "plt.figure(figsize=(12, 6))\n",
    "sns.countplot(data=movie_basics, x='genres', order=movie_basics['genres'].value_counts().index)\n",
    "plt.xticks(rotation=90)\n",
    "plt.title('Distribution of Movies by Genre')\n",
    "plt.show()\n",
    "\n",
    "plt.figure(figsize=(12, 6))\n",
    "sns.countplot(data=movie_ratings, x='averagerating', order=movie_ratings['averagerating'].value_counts().index)\n",
    "plt.xticks(rotation=90)\n",
    "plt.title('Distribution of Movies by Average Rating')\n",
    "plt.show()\n",
    "\n",
    "plt.figure(figsize=(12, 6))\n",
    "sns.countplot(data=df_budgets, x='production_budget', order=df_budgets['production_budget'].value_counts().index)\n",
    "plt.xticks(rotation=90)\n",
    "plt.title('Distribution of Movies by Production Budget')\n",
    "plt.show()"
   ]
  },
  {
   "cell_type": "markdown",
   "metadata": {},
   "source": [
    "The BOM.Movie dataset has alot of missing values on the colums foreign gross and a few missing on the domestic gross column that need to be cleaned.\n",
    "The table movie_basics has a lot missing values on the column runtime_minutes and a few on the genre columns."
   ]
  },
  {
   "cell_type": "markdown",
   "metadata": {},
   "source": [
    "## Conclusion\n",
    "As our company ventures into the competitive and high-stakes movie industry, a strong understanding of what drives box office success is essential. While we are new to film production, a data-driven approach will allow us to minimize risk, align our content with market demand, and make informed decisions from the outset.\n",
    "\n",
    "This project sets the foundation for that strategy by identifying the key factors that contribute to successful films. Through analyzing industry data, we aim to uncover actionable insights that will inform content choices, guide investment decisions, and position our studio for long-term growth.\n",
    "\n",
    "By translating these findings into clear, practical recommendations, we will empower stakeholders across the organization—from creative development to finance and operations—to collaborate effectively and launch a studio built on insight, not guesswork.\n",
    "\n",
    "In our quest to Identify box office success drivers, understand market trends, develop actionable production insights, support strategic investment decisions and lay a foundation for data-Driven content strategy, our analysis will focus on the IM.DB and BOM.Movies, Movie_Budget datasets.\n",
    "In the IM.DB database we will focus our analysis on the Movie basics and Reviews tables."
   ]
  },
  {
   "cell_type": "markdown",
   "metadata": {},
   "source": [
    "# 3. Data Cleaning and Analysis\n",
    "## Economic Analysis\n",
    "### Preprocessing and merging datasets"
   ]
  },
  {
   "cell_type": "markdown",
   "metadata": {},
   "source": [
    "### Convert currency strings to numeric values in the `df_budgets` dataframe."
   ]
  },
  {
   "cell_type": "code",
   "execution_count": 171,
   "metadata": {},
   "outputs": [
    {
     "name": "stdout",
     "output_type": "stream",
     "text": [
      "   production_budget  domestic_gross  worldwide_gross\n",
      "0        425000000.0     760507625.0     2.776345e+09\n",
      "1        410600000.0     241063875.0     1.045664e+09\n",
      "2        350000000.0      42762350.0     1.497624e+08\n",
      "3        330600000.0     459005868.0     1.403014e+09\n",
      "4        317000000.0     620181382.0     1.316722e+09\n",
      "production_budget    float64\n",
      "domestic_gross       float64\n",
      "worldwide_gross      float64\n",
      "dtype: object\n"
     ]
    }
   ],
   "source": [
    "# Columns to clean\n",
    "currency_cols = ['production_budget', 'domestic_gross', 'worldwide_gross']\n",
    "\n",
    "# Remove $ and commas, then convert to numeric\n",
    "for col in currency_cols:\n",
    "    df_budgets[col] = df_budgets[col].replace('[\\$,]', '', regex=True).astype(float)\n",
    "\n",
    "# Quick check\n",
    "print(df_budgets[currency_cols].head())\n",
    "print(df_budgets[currency_cols].dtypes)"
   ]
  },
  {
   "cell_type": "markdown",
   "metadata": {},
   "source": [
    "### Preprocess Box Office Mojo (BOM) data"
   ]
  },
  {
   "cell_type": "code",
   "execution_count": 172,
   "metadata": {},
   "outputs": [
    {
     "name": "stdout",
     "output_type": "stream",
     "text": [
      "\n",
      "Summary statistics after preprocessing:\n",
      "       foreign_gross  domestic_gross   total_gross\n",
      "count   2.037000e+03    3.359000e+03  2.009000e+03\n",
      "mean    7.487281e+07    2.874585e+07  1.226913e+08\n",
      "std     1.374106e+08    6.698250e+07  2.074870e+08\n",
      "min     6.000000e+02    1.000000e+02  4.900000e+03\n",
      "25%     3.700000e+06    1.200000e+05  8.141000e+06\n",
      "50%     1.870000e+07    1.400000e+06  4.230000e+07\n",
      "75%     7.490000e+07    2.790000e+07  1.337000e+08\n",
      "max     9.605000e+08    9.367000e+08  1.518900e+09\n",
      "\n",
      "Remaining null values:\n",
      "foreign_gross     1350\n",
      "domestic_gross      28\n",
      "total_gross       1378\n",
      "dtype: int64\n"
     ]
    }
   ],
   "source": [
    "# Convert foreign_gross to numeric, handling comma separators\n",
    "BOMdf['foreign_gross'] = pd.to_numeric(BOMdf['foreign_gross'].str.replace(',', ''), errors='coerce')\n",
    "\n",
    "# Calculate total gross where both values are available \n",
    "BOMdf['total_gross'] = BOMdf['foreign_gross'] + BOMdf['domestic_gross']\n",
    "\n",
    "# Display basic statistics after conversion\n",
    "print(\"\\nSummary statistics after preprocessing:\")\n",
    "print(BOMdf[['foreign_gross', 'domestic_gross', 'total_gross']].describe())\n",
    "\n",
    "# Display count of remaining null values\n",
    "print(\"\\nRemaining null values:\")\n",
    "print(BOMdf[['foreign_gross', 'domestic_gross', 'total_gross']].isnull().sum())"
   ]
  },
  {
   "cell_type": "markdown",
   "metadata": {},
   "source": [
    "### Merge movie budgets with Box Office Mojo data"
   ]
  },
  {
   "cell_type": "code",
   "execution_count": 173,
   "metadata": {},
   "outputs": [],
   "source": [
    "# Select relevant columns from BOMdf and merge with budgets data\n",
    "BOM_budgets_merged = pd.merge(\n",
    "    df_budgets,\n",
    "    BOMdf[['title', 'studio', 'foreign_gross', 'year']],\n",
    "    left_on='movie',\n",
    "    right_on='title',\n",
    "    how='left'\n",
    ")"
   ]
  },
  {
   "cell_type": "code",
   "execution_count": 174,
   "metadata": {},
   "outputs": [
    {
     "data": {
      "text/html": [
       "<div>\n",
       "<style scoped>\n",
       "    .dataframe tbody tr th:only-of-type {\n",
       "        vertical-align: middle;\n",
       "    }\n",
       "\n",
       "    .dataframe tbody tr th {\n",
       "        vertical-align: top;\n",
       "    }\n",
       "\n",
       "    .dataframe thead th {\n",
       "        text-align: right;\n",
       "    }\n",
       "</style>\n",
       "<table border=\"1\" class=\"dataframe\">\n",
       "  <thead>\n",
       "    <tr style=\"text-align: right;\">\n",
       "      <th></th>\n",
       "      <th>id</th>\n",
       "      <th>release_date</th>\n",
       "      <th>movie</th>\n",
       "      <th>production_budget</th>\n",
       "      <th>domestic_gross</th>\n",
       "      <th>worldwide_gross</th>\n",
       "      <th>title</th>\n",
       "      <th>studio</th>\n",
       "      <th>foreign_gross</th>\n",
       "      <th>year</th>\n",
       "    </tr>\n",
       "  </thead>\n",
       "  <tbody>\n",
       "    <tr>\n",
       "      <th>0</th>\n",
       "      <td>1</td>\n",
       "      <td>Dec 18, 2009</td>\n",
       "      <td>Avatar</td>\n",
       "      <td>425000000.0</td>\n",
       "      <td>760507625.0</td>\n",
       "      <td>2.776345e+09</td>\n",
       "      <td>NaN</td>\n",
       "      <td>NaN</td>\n",
       "      <td>NaN</td>\n",
       "      <td>NaN</td>\n",
       "    </tr>\n",
       "    <tr>\n",
       "      <th>1</th>\n",
       "      <td>2</td>\n",
       "      <td>May 20, 2011</td>\n",
       "      <td>Pirates of the Caribbean: On Stranger Tides</td>\n",
       "      <td>410600000.0</td>\n",
       "      <td>241063875.0</td>\n",
       "      <td>1.045664e+09</td>\n",
       "      <td>Pirates of the Caribbean: On Stranger Tides</td>\n",
       "      <td>BV</td>\n",
       "      <td>804600000.0</td>\n",
       "      <td>2011.0</td>\n",
       "    </tr>\n",
       "    <tr>\n",
       "      <th>2</th>\n",
       "      <td>3</td>\n",
       "      <td>Jun 7, 2019</td>\n",
       "      <td>Dark Phoenix</td>\n",
       "      <td>350000000.0</td>\n",
       "      <td>42762350.0</td>\n",
       "      <td>1.497624e+08</td>\n",
       "      <td>NaN</td>\n",
       "      <td>NaN</td>\n",
       "      <td>NaN</td>\n",
       "      <td>NaN</td>\n",
       "    </tr>\n",
       "    <tr>\n",
       "      <th>3</th>\n",
       "      <td>4</td>\n",
       "      <td>May 1, 2015</td>\n",
       "      <td>Avengers: Age of Ultron</td>\n",
       "      <td>330600000.0</td>\n",
       "      <td>459005868.0</td>\n",
       "      <td>1.403014e+09</td>\n",
       "      <td>Avengers: Age of Ultron</td>\n",
       "      <td>BV</td>\n",
       "      <td>946400000.0</td>\n",
       "      <td>2015.0</td>\n",
       "    </tr>\n",
       "    <tr>\n",
       "      <th>4</th>\n",
       "      <td>5</td>\n",
       "      <td>Dec 15, 2017</td>\n",
       "      <td>Star Wars Ep. VIII: The Last Jedi</td>\n",
       "      <td>317000000.0</td>\n",
       "      <td>620181382.0</td>\n",
       "      <td>1.316722e+09</td>\n",
       "      <td>NaN</td>\n",
       "      <td>NaN</td>\n",
       "      <td>NaN</td>\n",
       "      <td>NaN</td>\n",
       "    </tr>\n",
       "    <tr>\n",
       "      <th>...</th>\n",
       "      <td>...</td>\n",
       "      <td>...</td>\n",
       "      <td>...</td>\n",
       "      <td>...</td>\n",
       "      <td>...</td>\n",
       "      <td>...</td>\n",
       "      <td>...</td>\n",
       "      <td>...</td>\n",
       "      <td>...</td>\n",
       "      <td>...</td>\n",
       "    </tr>\n",
       "    <tr>\n",
       "      <th>5777</th>\n",
       "      <td>78</td>\n",
       "      <td>Dec 31, 2018</td>\n",
       "      <td>Red 11</td>\n",
       "      <td>7000.0</td>\n",
       "      <td>0.0</td>\n",
       "      <td>0.000000e+00</td>\n",
       "      <td>NaN</td>\n",
       "      <td>NaN</td>\n",
       "      <td>NaN</td>\n",
       "      <td>NaN</td>\n",
       "    </tr>\n",
       "    <tr>\n",
       "      <th>5778</th>\n",
       "      <td>79</td>\n",
       "      <td>Apr 2, 1999</td>\n",
       "      <td>Following</td>\n",
       "      <td>6000.0</td>\n",
       "      <td>48482.0</td>\n",
       "      <td>2.404950e+05</td>\n",
       "      <td>NaN</td>\n",
       "      <td>NaN</td>\n",
       "      <td>NaN</td>\n",
       "      <td>NaN</td>\n",
       "    </tr>\n",
       "    <tr>\n",
       "      <th>5779</th>\n",
       "      <td>80</td>\n",
       "      <td>Jul 13, 2005</td>\n",
       "      <td>Return to the Land of Wonders</td>\n",
       "      <td>5000.0</td>\n",
       "      <td>1338.0</td>\n",
       "      <td>1.338000e+03</td>\n",
       "      <td>NaN</td>\n",
       "      <td>NaN</td>\n",
       "      <td>NaN</td>\n",
       "      <td>NaN</td>\n",
       "    </tr>\n",
       "    <tr>\n",
       "      <th>5780</th>\n",
       "      <td>81</td>\n",
       "      <td>Sep 29, 2015</td>\n",
       "      <td>A Plague So Pleasant</td>\n",
       "      <td>1400.0</td>\n",
       "      <td>0.0</td>\n",
       "      <td>0.000000e+00</td>\n",
       "      <td>NaN</td>\n",
       "      <td>NaN</td>\n",
       "      <td>NaN</td>\n",
       "      <td>NaN</td>\n",
       "    </tr>\n",
       "    <tr>\n",
       "      <th>5781</th>\n",
       "      <td>82</td>\n",
       "      <td>Aug 5, 2005</td>\n",
       "      <td>My Date With Drew</td>\n",
       "      <td>1100.0</td>\n",
       "      <td>181041.0</td>\n",
       "      <td>1.810410e+05</td>\n",
       "      <td>NaN</td>\n",
       "      <td>NaN</td>\n",
       "      <td>NaN</td>\n",
       "      <td>NaN</td>\n",
       "    </tr>\n",
       "  </tbody>\n",
       "</table>\n",
       "<p>5782 rows × 10 columns</p>\n",
       "</div>"
      ],
      "text/plain": [
       "      id  release_date                                        movie  \\\n",
       "0      1  Dec 18, 2009                                       Avatar   \n",
       "1      2  May 20, 2011  Pirates of the Caribbean: On Stranger Tides   \n",
       "2      3   Jun 7, 2019                                 Dark Phoenix   \n",
       "3      4   May 1, 2015                      Avengers: Age of Ultron   \n",
       "4      5  Dec 15, 2017            Star Wars Ep. VIII: The Last Jedi   \n",
       "...   ..           ...                                          ...   \n",
       "5777  78  Dec 31, 2018                                       Red 11   \n",
       "5778  79   Apr 2, 1999                                    Following   \n",
       "5779  80  Jul 13, 2005                Return to the Land of Wonders   \n",
       "5780  81  Sep 29, 2015                         A Plague So Pleasant   \n",
       "5781  82   Aug 5, 2005                            My Date With Drew   \n",
       "\n",
       "      production_budget  domestic_gross  worldwide_gross  \\\n",
       "0           425000000.0     760507625.0     2.776345e+09   \n",
       "1           410600000.0     241063875.0     1.045664e+09   \n",
       "2           350000000.0      42762350.0     1.497624e+08   \n",
       "3           330600000.0     459005868.0     1.403014e+09   \n",
       "4           317000000.0     620181382.0     1.316722e+09   \n",
       "...                 ...             ...              ...   \n",
       "5777             7000.0             0.0     0.000000e+00   \n",
       "5778             6000.0         48482.0     2.404950e+05   \n",
       "5779             5000.0          1338.0     1.338000e+03   \n",
       "5780             1400.0             0.0     0.000000e+00   \n",
       "5781             1100.0        181041.0     1.810410e+05   \n",
       "\n",
       "                                            title studio  foreign_gross  \\\n",
       "0                                             NaN    NaN            NaN   \n",
       "1     Pirates of the Caribbean: On Stranger Tides     BV    804600000.0   \n",
       "2                                             NaN    NaN            NaN   \n",
       "3                         Avengers: Age of Ultron     BV    946400000.0   \n",
       "4                                             NaN    NaN            NaN   \n",
       "...                                           ...    ...            ...   \n",
       "5777                                          NaN    NaN            NaN   \n",
       "5778                                          NaN    NaN            NaN   \n",
       "5779                                          NaN    NaN            NaN   \n",
       "5780                                          NaN    NaN            NaN   \n",
       "5781                                          NaN    NaN            NaN   \n",
       "\n",
       "        year  \n",
       "0        NaN  \n",
       "1     2011.0  \n",
       "2        NaN  \n",
       "3     2015.0  \n",
       "4        NaN  \n",
       "...      ...  \n",
       "5777     NaN  \n",
       "5778     NaN  \n",
       "5779     NaN  \n",
       "5780     NaN  \n",
       "5781     NaN  \n",
       "\n",
       "[5782 rows x 10 columns]"
      ]
     },
     "execution_count": 174,
     "metadata": {},
     "output_type": "execute_result"
    }
   ],
   "source": [
    "BOM_budgets_merged"
   ]
  },
  {
   "cell_type": "markdown",
   "metadata": {},
   "source": [
    "### Verify the merge results and drop duplicate title columns if present"
   ]
  },
  {
   "cell_type": "code",
   "execution_count": 175,
   "metadata": {},
   "outputs": [
    {
     "name": "stdout",
     "output_type": "stream",
     "text": [
      "\n",
      "After merge:\n",
      "BOM_budgets_merged shape: (5782, 10)\n",
      "Null values in merged columns:\n",
      "title            4535\n",
      "studio           4536\n",
      "foreign_gross    4696\n",
      "year             4535\n",
      "dtype: int64\n"
     ]
    }
   ],
   "source": [
    "# Validate merge results\n",
    "print(\"\\nAfter merge:\")\n",
    "print(f\"BOM_budgets_merged shape: {BOM_budgets_merged.shape}\")\n",
    "print(f\"Null values in merged columns:\")\n",
    "print(BOM_budgets_merged[['title', 'studio', 'foreign_gross', 'year']].isnull().sum())\n",
    "\n",
    "# Drop duplicate title column\n",
    "BOM_budgets_merged = BOM_budgets_merged.drop('title', axis=1, errors='ignore')"
   ]
  },
  {
   "cell_type": "markdown",
   "metadata": {},
   "source": [
    "### Merge relevant tables from IMDB tables."
   ]
  },
  {
   "cell_type": "code",
   "execution_count": 176,
   "metadata": {},
   "outputs": [
    {
     "name": "stdout",
     "output_type": "stream",
     "text": [
      "=== Merging IMDb Tables ===\n",
      "movie_basics shape: (146144, 6)\n",
      "movie_ratings shape: (73856, 3)\n",
      "\n",
      "IMDb merged shape: (73856, 8)\n"
     ]
    }
   ],
   "source": [
    "# First merge IMDb tables (movie_basics and ratings)\n",
    "print(\"=== Merging IMDb Tables ===\")\n",
    "print(f\"movie_basics shape: {movie_basics.shape}\")\n",
    "print(f\"movie_ratings shape: {movie_ratings.shape}\")\n",
    "\n",
    "# Create merged IMDb dataset\n",
    "imdb_merged = pd.merge(\n",
    "    movie_basics, \n",
    "    movie_ratings,\n",
    "    on='movie_id',\n",
    "    how='inner',\n",
    "    validate='1:1'\n",
    ")\n",
    "print(f\"\\nIMDb merged shape: {imdb_merged.shape}\")"
   ]
  },
  {
   "cell_type": "markdown",
   "metadata": {},
   "source": [
    "### Create final combined Dataset `merged_df`."
   ]
  },
  {
   "cell_type": "code",
   "execution_count": 177,
   "metadata": {},
   "outputs": [
    {
     "name": "stdout",
     "output_type": "stream",
     "text": [
      "\n",
      "=== Merging with Budget/Box Office Data ===\n",
      "Current BOM_budgets_merged shape: (5782, 9)\n"
     ]
    }
   ],
   "source": [
    "# Merge IMDb data with existing budget/box office data\n",
    "print(\"\\n=== Merging with Budget/Box Office Data ===\")\n",
    "print(f\"Current BOM_budgets_merged shape: {BOM_budgets_merged.shape}\")\n",
    "\n",
    "merged_df = pd.merge(\n",
    "    BOM_budgets_merged,\n",
    "    imdb_merged,\n",
    "    left_on='movie',\n",
    "    right_on='primary_title',\n",
    "    how='left',\n",
    ")"
   ]
  },
  {
   "cell_type": "markdown",
   "metadata": {},
   "source": [
    "### Verify final results and drop duplicate columns from the `merged_df`."
   ]
  },
  {
   "cell_type": "code",
   "execution_count": 178,
   "metadata": {},
   "outputs": [
    {
     "name": "stdout",
     "output_type": "stream",
     "text": [
      "\n",
      "Final merged shape: (6473, 17)\n",
      "\n",
      "Null values in key IMDb columns:\n",
      "movie_id         3598\n",
      "averagerating    3598\n",
      "genres           3606\n",
      "dtype: int64\n",
      "\n",
      "Sample of merged data:\n",
      "                                         movie   movie_id  averagerating  \\\n",
      "0                                       Avatar  tt1775309            6.1   \n",
      "1  Pirates of the Caribbean: On Stranger Tides  tt1298650            6.6   \n",
      "2                                 Dark Phoenix  tt6565702            6.0   \n",
      "3                      Avengers: Age of Ultron  tt2395427            7.3   \n",
      "4            Star Wars Ep. VIII: The Last Jedi        NaN            NaN   \n",
      "\n",
      "                     genres  \n",
      "0                    Horror  \n",
      "1  Action,Adventure,Fantasy  \n",
      "2   Action,Adventure,Sci-Fi  \n",
      "3   Action,Adventure,Sci-Fi  \n",
      "4                       NaN  \n"
     ]
    }
   ],
   "source": [
    "# Validate final merge results\n",
    "print(f\"\\nFinal merged shape: {merged_df.shape}\")\n",
    "print(\"\\nNull values in key IMDb columns:\")\n",
    "print(merged_df[['movie_id', 'averagerating', 'genres']].isnull().sum())\n",
    "\n",
    "# Clean up duplicate columns\n",
    "merged_df = merged_df.drop('primary_title', axis=1, errors='ignore')\n",
    "\n",
    "# Display sample of merged data\n",
    "print(\"\\nSample of merged data:\")\n",
    "print(merged_df[['movie', 'movie_id', 'averagerating', 'genres']].head())"
   ]
  },
  {
   "cell_type": "markdown",
   "metadata": {},
   "source": [
    "### Calculate financial performance metrics"
   ]
  },
  {
   "cell_type": "code",
   "execution_count": 179,
   "metadata": {},
   "outputs": [
    {
     "name": "stdout",
     "output_type": "stream",
     "text": [
      "worldwide_gross      float64\n",
      "production_budget    float64\n",
      "domestic_gross       float64\n",
      "foreign_gross        float64\n",
      "ROI                  float64\n",
      "profit_margin        float64\n",
      "dtype: object\n",
      "   worldwide_gross  production_budget       ROI  profit_margin\n",
      "0     2.776345e+09        425000000.0  5.532577       0.846921\n",
      "1     1.045664e+09        410600000.0  1.546673       0.607331\n",
      "2     1.497624e+08        350000000.0 -0.572108      -1.337036\n",
      "3     1.403014e+09        330600000.0  3.243841       0.764364\n",
      "4     1.316722e+09        317000000.0  3.153696       0.759251\n"
     ]
    }
   ],
   "source": [
    "import numpy as np\n",
    "import pandas as pd\n",
    "\n",
    "# 1) Convert currency-like strings to numeric\n",
    "num_cols = [\"worldwide_gross\", \"production_budget\", \"domestic_gross\", \"foreign_gross\"]\n",
    "\n",
    "def to_number(s):\n",
    "    # keep digits, decimal point, sign, scientific notation (e/E), strip everything else\n",
    "    return pd.to_numeric(\n",
    "        s.astype(str).str.replace(r\"[^\\d\\.\\-eE]\", \"\", regex=True),\n",
    "        errors=\"coerce\"\n",
    "    )\n",
    "\n",
    "for c in num_cols:\n",
    "    if c in merged_df.columns:\n",
    "        merged_df[c] = to_number(merged_df[c])\n",
    "\n",
    "# 2) Compute ROI safely: (WW - Budget) / Budget   (only when budget > 0)\n",
    "mask = merged_df[\"production_budget\"] > 0\n",
    "merged_df[\"ROI\"] = np.nan\n",
    "merged_df.loc[mask, \"ROI\"] = (\n",
    "    (merged_df.loc[mask, \"worldwide_gross\"] - merged_df.loc[mask, \"production_budget\"])\n",
    "    / merged_df.loc[mask, \"production_budget\"]\n",
    ")\n",
    "\n",
    "# 3) (Optional) Profit margin: (WW - Budget) / WW   (only when WW > 0)\n",
    "mask_gross = merged_df[\"worldwide_gross\"] > 0\n",
    "merged_df[\"profit_margin\"] = np.nan\n",
    "merged_df.loc[mask_gross, \"profit_margin\"] = (\n",
    "    (merged_df.loc[mask_gross, \"worldwide_gross\"] - merged_df.loc[mask_gross, \"production_budget\"])\n",
    "    / merged_df.loc[mask_gross, \"worldwide_gross\"]\n",
    ")\n",
    "\n",
    "# 4) Quick sanity checks\n",
    "print(merged_df[num_cols + [\"ROI\", \"profit_margin\"]].dtypes)\n",
    "print(merged_df[[ \"worldwide_gross\", \"production_budget\", \"ROI\", \"profit_margin\"]].head())\n"
   ]
  },
  {
   "cell_type": "markdown",
   "metadata": {},
   "source": [
    "### Budget Analysis"
   ]
  },
  {
   "cell_type": "code",
   "execution_count": 180,
   "metadata": {},
   "outputs": [
    {
     "data": {
      "image/png": "[encoded data removed]",
      "text/plain": [
       "<Figure size 864x432 with 1 Axes>"
      ]
     },
     "metadata": {
      "needs_background": "light"
     },
     "output_type": "display_data"
    }
   ],
   "source": [
    "# Budget distribution visualization\n",
    "plt.figure(figsize=(12, 6))\n",
    "sns.histplot(merged_df['production_budget'], bins=30, kde=True)\n",
    "plt.title('Movie Budget Distribution')\n",
    "plt.xlabel('Production Budget ($)')\n",
    "plt.ylabel('Frequency')\n",
    "plt.show()"
   ]
  },
  {
   "cell_type": "markdown",
   "metadata": {},
   "source": [
    "The histogram shows that most movies are produced on relatively small budgets, while a few high-cost blockbusters significantly skew the distribution. A log transformation is recommended before including production budgets in regression models.\n",
    "\n",
    "Implications for Analysis\n",
    "Modeling: Because the data is skewed, applying a log transformation (e.g., log(production_budget)) will normalize the distribution, making it more suitable for regression analysis.\n",
    "Business Insight: Since most films are made on smaller budgets, but a few blockbusters require massive investment, studios need to balance low-risk, low-budget films with high-risk, high-reward blockbusters.\n",
    "ROI Analysis: Large budgets don’t necessarily guarantee profits; therefore, ROI is a better measure than raw budget when evaluating financial performance."
   ]
  },
  {
   "cell_type": "markdown",
   "metadata": {},
   "source": [
    "### Revenue Analysis"
   ]
  },
  {
   "cell_type": "code",
   "execution_count": 181,
   "metadata": {},
   "outputs": [
    {
     "data": {
      "image/png": "[encoded data removed]",
      "text/plain": [
       "<Figure size 720x432 with 1 Axes>"
      ]
     },
     "metadata": {
      "needs_background": "light"
     },
     "output_type": "display_data"
    }
   ],
   "source": [
    "# Budget vs Worldwide Gross\n",
    "plt.figure(figsize=(10, 6))\n",
    "sns.scatterplot(\n",
    "    x='production_budget',\n",
    "    y='worldwide_gross',\n",
    "    data=merged_df,\n",
    "    alpha=0.6\n",
    ")\n",
    "plt.title('Production Budget vs Worldwide Gross')\n",
    "plt.xlabel('Production Budget ($ millions)')\n",
    "plt.ylabel('Worldwide Gross ($ millions)')\n",
    "plt.show()"
   ]
  },
  {
   "cell_type": "markdown",
   "metadata": {},
   "source": [
    "General Trend\n",
    "\n",
    "The points show a positive relationship: as production budget increases, worldwide gross tends to increase.\n",
    "This means higher investments generally lead to higher revenues, though the relationship is not perfectly linear.\n",
    "\n",
    "Clustering\n",
    "A large cluster of movies is concentrated at low to mid-level budgets (< $50 million) with grosses ranging from very low to moderate.\n",
    "This suggests that most movies are made on relatively smaller budgets, with varying levels of financial success.\n",
    "\n",
    "Implications\n",
    "For analysis: The scatter plot indicates heteroscedasticity (variance increases with budget). A log–log transformation (e.g., log(worldwide_gross) ~ log(production_budget)) would help stabilize variance and improve regression modeling.\n",
    "For business decisions: Investing more in production generally pays off, but with diminishing returns. Beyond a certain budget, additional spending does not guarantee proportional increases in gross revenue."
   ]
  },
  {
   "cell_type": "markdown",
   "metadata": {},
   "source": [
    "### Genre Performance Analysis"
   ]
  },
  {
   "cell_type": "code",
   "execution_count": 182,
   "metadata": {},
   "outputs": [
    {
     "data": {
      "image/png": "[encoded data removed]",
      "text/plain": [
       "<Figure size 864x432 with 1 Axes>"
      ]
     },
     "metadata": {
      "needs_background": "light"
     },
     "output_type": "display_data"
    }
   ],
   "source": [
    "# Genre analysis\n",
    "genre_df = merged_df.explode('genres')\n",
    "genre_performance = genre_df.groupby('genres').agg({\n",
    "    'worldwide_gross': 'median',\n",
    "    'ROI': 'median',\n",
    "    'averagerating': 'mean'\n",
    "}).sort_values('ROI', ascending=False)\n",
    "\n",
    "# Top 10 genres by ROI\n",
    "plt.figure(figsize=(12, 6))\n",
    "sns.barplot(\n",
    "    x=genre_performance.head(10).index,\n",
    "    y=genre_performance.head(10)['ROI']\n",
    ")\n",
    "plt.title('Top 10 Genres by ROI')\n",
    "plt.xticks(rotation=90)\n",
    "plt.ylabel('Median ROI')\n",
    "plt.show()"
   ]
  },
  {
   "cell_type": "markdown",
   "metadata": {},
   "source": [
    "### Release Timing Analysis"
   ]
  },
  {
   "cell_type": "code",
   "execution_count": 183,
   "metadata": {},
   "outputs": [
    {
     "name": "stdout",
     "output_type": "stream",
     "text": [
      "    release_month  worldwide_gross       ROI\n",
      "0               1       22365133.0  0.581509\n",
      "1               2       30063805.0  0.611561\n",
      "2               3       25802739.5  0.531329\n",
      "3               4       21464818.5  0.409252\n",
      "4               5       25387091.0  0.847581\n",
      "5               6       41410568.0  1.036885\n",
      "6               7       49541995.5  1.128293\n",
      "7               8       22108977.0  0.627456\n",
      "8               9       18117579.0  0.303174\n",
      "9              10       15392609.0  0.413520\n",
      "10             11       51695362.0  1.109497\n",
      "11             12       31194353.5  0.642332\n"
     ]
    }
   ],
   "source": [
    "# Make sure release_date is datetime\n",
    "merged_df['release_date'] = pd.to_datetime(merged_df['release_date'], errors='coerce')\n",
    "\n",
    "# Extract month number (1–12)\n",
    "merged_df['release_month'] = merged_df['release_date'].dt.month\n",
    "\n",
    "# Optionally add month name for readability\n",
    "merged_df['release_month_name'] = merged_df['release_date'].dt.month_name()\n",
    "\n",
    "# Now you can group by month\n",
    "monthly_performance = merged_df.groupby('release_month').agg({\n",
    "    'worldwide_gross': 'median',\n",
    "    'ROI': 'median'\n",
    "}).reset_index()\n",
    "\n",
    "print(monthly_performance)\n"
   ]
  },
  {
   "cell_type": "markdown",
   "metadata": {},
   "source": [
    "### ROI Analysis"
   ]
  },
  {
   "cell_type": "code",
   "execution_count": 184,
   "metadata": {},
   "outputs": [
    {
     "data": {
      "image/png": "[encoded data removed]",
      "text/plain": [
       "<Figure size 720x432 with 1 Axes>"
      ]
     },
     "metadata": {
      "needs_background": "light"
     },
     "output_type": "display_data"
    }
   ],
   "source": [
    "# ROI distribution\n",
    "plt.figure(figsize=(10, 6))\n",
    "sns.histplot(merged_df['ROI'], bins=50, kde=True)\n",
    "plt.title('ROI Distribution')\n",
    "plt.xlabel('Return on Investment (Multiple)')\n",
    "plt.ylabel('Frequency')\n",
    "plt.xlim(-1, 10)  # Exclude extreme outliers\n",
    "plt.show()"
   ]
  },
  {
   "cell_type": "markdown",
   "metadata": {},
   "source": [
    "## Operational Analysis\n"
   ]
  },
  {
   "cell_type": "markdown",
   "metadata": {},
   "source": [
    "### Cleaning and analysing data."
   ]
  },
  {
   "cell_type": "code",
   "execution_count": 185,
   "metadata": {},
   "outputs": [
    {
     "name": "stdout",
     "output_type": "stream",
     "text": [
      "\n",
      "Cleaned data:\n",
      "    id                                             review rating   fresh  \\\n",
      "0    3  A distinctly gallows take on contemporary fina...    3/5   fresh   \n",
      "6    3  Quickly grows repetitive and tiresome, meander...      C  rotten   \n",
      "7    3  Cronenberg is not a director to be daunted by ...    2/5  rotten   \n",
      "11   3  While not one of Cronenberg's stronger films, ...     B-   fresh   \n",
      "12   3  Robert Pattinson works mighty hard to make Cos...    2/4  rotten   \n",
      "\n",
      "            critic  top_critic           publisher               date  \n",
      "0       PJ Nabarro           0     Patrick Nabarro  November 10, 2018  \n",
      "6   Eric D. Snider           0     EricDSnider.com      July 17, 2013  \n",
      "7     Matt Kelemen           0  Las Vegas CityLife     April 21, 2013  \n",
      "11    Emanuel Levy           0     EmanuelLevy.Com   February 3, 2013  \n",
      "12  Christian Toto           0       Big Hollywood   January 15, 2013  \n",
      "\n",
      "Missing values after cleaning:\n",
      "id            0\n",
      "review        0\n",
      "rating        0\n",
      "fresh         0\n",
      "critic        0\n",
      "top_critic    0\n",
      "publisher     0\n",
      "date          0\n",
      "dtype: int64\n"
     ]
    }
   ],
   "source": [
    "#Cleaning rt.reviews.tsv\n",
    "\n",
    "df_reviews.drop_duplicates(inplace=True)\n",
    "df_reviews.columns = df_reviews.columns.str.strip().str.lower().str.replace(' ', '_')\n",
    "df_reviews.dropna(inplace=True)\n",
    "\n",
    "print(\"\\nCleaned data:\")\n",
    "print(df_reviews.head())\n",
    "print(\"\\nMissing values after cleaning:\")\n",
    "print(df_reviews.isnull().sum())\n"
   ]
  },
  {
   "cell_type": "code",
   "execution_count": 186,
   "metadata": {},
   "outputs": [
    {
     "name": "stdout",
     "output_type": "stream",
     "text": [
      "\n",
      "Harmonized data:\n",
      "    id                                             review  rating   fresh  \\\n",
      "0    3  A distinctly gallows take on contemporary fina...     3.0   fresh   \n",
      "6    3  Quickly grows repetitive and tiresome, meander...     3.0  rotten   \n",
      "7    3  Cronenberg is not a director to be daunted by ...     2.0  rotten   \n",
      "12   3  Robert Pattinson works mighty hard to make Cos...     2.0  rotten   \n",
      "13   3  The anger over the injustice of the financial ...     2.0   fresh   \n",
      "\n",
      "            critic  top_critic            publisher               date  \n",
      "0       PJ Nabarro           0      Patrick Nabarro  November 10, 2018  \n",
      "6   Eric D. Snider           0      EricDSnider.com      July 17, 2013  \n",
      "7     Matt Kelemen           0   Las Vegas CityLife     April 21, 2013  \n",
      "12  Christian Toto           0        Big Hollywood   January 15, 2013  \n",
      "13    Robert Roten           0  Laramie Movie Scope    January 7, 2013  \n",
      "\n",
      "Unique ratings after harmonization: [ 3.  2.  4.  6.  1.  8.  7.  5.  9.  0. 10.]\n"
     ]
    }
   ],
   "source": [
    "# Harmonize the rating column\n",
    "def harmonize_rating(rating):\n",
    "    mapping = {'A': 1, 'B': 2, 'C': 3, 'D': 4, 'E': 5}\n",
    "\n",
    "    if isinstance(rating, str):\n",
    "        rating = rating.strip().upper()\n",
    "        if '/' in rating:\n",
    "            # Take numerator of fraction\n",
    "            numerator_part = rating.split('/')[0].strip()\n",
    "            # Extract first digit\n",
    "            for ch in numerator_part:\n",
    "                if ch.isdigit():\n",
    "                    return int(ch)\n",
    "            return None  # no digit found\n",
    "        elif rating in mapping:\n",
    "            return mapping[rating]\n",
    "\n",
    "    # If numeric (including floats like 3.0 or 3.)\n",
    "    try:\n",
    "        numeric_rating = round(float(str(rating).strip()))\n",
    "        return int(numeric_rating)  # force to integer\n",
    "    except ValueError:\n",
    "        return None\n",
    "\n",
    "# Apply harmonization\n",
    "df_reviews['rating'] = df_reviews['rating'].apply(harmonize_rating)\n",
    "\n",
    "# Drop rows with invalid rating\n",
    "df_reviews.dropna(subset=['rating'], inplace=True)\n",
    "\n",
    "# Final check\n",
    "print(\"\\nHarmonized data:\")\n",
    "print(df_reviews.head())\n",
    "print(\"\\nUnique ratings after harmonization:\", df_reviews['rating'].unique())\n"
   ]
  },
  {
   "cell_type": "code",
   "execution_count": 187,
   "metadata": {},
   "outputs": [
    {
     "name": "stdout",
     "output_type": "stream",
     "text": [
      "\n",
      "Cleaned movie data:\n",
      "   id                                           synopsis rate  \\\n",
      "0   1  This gritty, fast-paced, and innovative police...    R   \n",
      "1   3  New York City, not-too-distant-future: Eric Pa...    R   \n",
      "2   5  Illeana Douglas delivers a superb performance ...    R   \n",
      "3   6  Michael Douglas runs afoul of a treacherous su...    R   \n",
      "4   7                                                      NR   \n",
      "\n",
      "                                 genre          director  \\\n",
      "0  Action and Adventure|Classics|Drama  William Friedkin   \n",
      "1    Drama|Science Fiction and Fantasy  David Cronenberg   \n",
      "2    Drama|Musical and Performing Arts    Allison Anders   \n",
      "3           Drama|Mystery and Suspense    Barry Levinson   \n",
      "4                        Drama|Romance    Rodney Bennett   \n",
      "\n",
      "                            writer  theater_date      dvd_date currency  \\\n",
      "0                   Ernest Tidyman   Oct 9, 1971  Sep 25, 2001            \n",
      "1     David Cronenberg|Don DeLillo  Aug 17, 2012   Jan 1, 2013        $   \n",
      "2                   Allison Anders  Sep 13, 1996  Apr 18, 2000            \n",
      "3  Paul Attanasio|Michael Crichton   Dec 9, 1994  Aug 27, 1997            \n",
      "4                     Giles Cooper                                        \n",
      "\n",
      "  box_office      runtime             studio  \n",
      "0             104 minutes                     \n",
      "1    600,000  108 minutes  Entertainment One  \n",
      "2             116 minutes                     \n",
      "3             128 minutes                     \n",
      "4             200 minutes                     \n",
      "\n",
      "Dataset shape: (1560, 12)\n",
      "\n",
      "Column names: ['id', 'synopsis', 'rate', 'genre', 'director', 'writer', 'theater_date', 'dvd_date', 'currency', 'box_office', 'runtime', 'studio']\n"
     ]
    }
   ],
   "source": [
    "#Clean the  rt.movie_info.tsv dataset\n",
    "Movie_info_df.drop_duplicates(inplace=True)  # remove duplicate rows\n",
    "Movie_info_df.columns = Movie_info_df.columns.str.strip().str.lower().str.replace(' ', '_')  # clean column names\n",
    "\n",
    "# Rename 'rating' to 'rate' if it exists\n",
    "if 'rating' in Movie_info_df.columns:\n",
    "    Movie_info_df.rename(columns={'rating': 'rate'}, inplace=True)\n",
    "\n",
    "Movie_info_df.dropna(how='all', inplace=True)  # drop rows where all values are NaN\n",
    "Movie_info_df.fillna('', inplace=True)  # fill remaining missing values with empty strings (or choose suitable fill)\n",
    "\n",
    "# Final check\n",
    "print(\"\\nCleaned movie data:\")\n",
    "print(Movie_info_df.head())\n",
    "print(\"\\nDataset shape:\", Movie_info_df.shape)\n",
    "print(\"\\nColumn names:\", Movie_info_df.columns.tolist())"
   ]
  },
  {
   "cell_type": "markdown",
   "metadata": {},
   "source": [
    "### TOP 10 Movies by ID based by rating"
   ]
  },
  {
   "cell_type": "code",
   "execution_count": 188,
   "metadata": {},
   "outputs": [
    {
     "data": {
      "image/png": "[encoded data removed]",
      "text/plain": [
       "<Figure size 720x432 with 1 Axes>"
      ]
     },
     "metadata": {
      "needs_background": "light"
     },
     "output_type": "display_data"
    }
   ],
   "source": [
    "import matplotlib.pyplot as plt\n",
    "\n",
    "# Make sure the dataframe has these columns: 'averagerating' and 'numvotes'\n",
    "# (adjust names if they are different in your data)\n",
    "\n",
    "# Step 1: Sort by rating and number of votes\n",
    "sorted_movies = merged_df.sort_values(by=['averagerating', 'numvotes'], ascending=[False, False])\n",
    "\n",
    "# Step 2: Select the top 10\n",
    "top_10_movies = sorted_movies.head(10)\n",
    "\n",
    "# Step 3: Plot\n",
    "plt.figure(figsize=(10, 6))\n",
    "plt.barh(top_10_movies['movie'], top_10_movies['averagerating'])\n",
    "plt.xlabel(\"Average Rating\")\n",
    "plt.ylabel(\"Movie Title\")\n",
    "plt.title(\"Top 10 Movies by Rating and Number of Votes\")\n",
    "plt.gca().invert_yaxis()\n",
    "plt.show()"
   ]
  },
  {
   "cell_type": "markdown",
   "metadata": {},
   "source": [
    "### Top 10 Genres with Best Average Rating"
   ]
  },
  {
   "cell_type": "code",
   "execution_count": 189,
   "metadata": {},
   "outputs": [
    {
     "data": {
      "image/png": "[encoded data removed]",
      "text/plain": [
       "<Figure size 720x432 with 1 Axes>"
      ]
     },
     "metadata": {
      "needs_background": "light"
     },
     "output_type": "display_data"
    }
   ],
   "source": [
    "import matplotlib.pyplot as plt\n",
    "import seaborn as sns\n",
    "\n",
    "# Merge reviews with movies info\n",
    "# df_reviews: id, rating\n",
    "# Movie_info_df: id, title, genre\n",
    "\n",
    "ratings_with_genre = df_reviews.merge(Movie_info_df[['id', 'genre']], on='id')\n",
    "\n",
    "# Calculate average rating and review count per genre\n",
    "genre_stats = (\n",
    "    ratings_with_genre.groupby('genre')\n",
    "    .agg(\n",
    "        avg_rating=('rating', 'mean'),\n",
    "        num_reviews=('rating', 'count')\n",
    "    )\n",
    "    .reset_index()\n",
    "    .sort_values(by='avg_rating', ascending=False)\n",
    "    .head(10)\n",
    ")\n",
    "\n",
    "# Sort for better visualization\n",
    "genre_stats = genre_stats.sort_values(by='avg_rating', ascending=True)\n",
    "# Plot\n",
    "plt.figure(figsize=(10, 6))\n",
    "ax = sns.barplot(\n",
    "    data=genre_stats,\n",
    "    x='avg_rating',\n",
    "    y='genre',\n",
    "    palette='magma'\n",
    ")\n",
    "\n",
    "# Annotate bars with avg_rating and number of reviews\n",
    "for i in ax.patches:\n",
    "    avg_rating = i.get_width()\n",
    "    genre_index = int(i.get_y() + 0.5)\n",
    "    num_reviews = genre_stats.iloc[genre_index]['num_reviews']\n",
    "    ax.text(\n",
    "        avg_rating + 0.02,\n",
    "        i.get_y() + 0.5,\n",
    "        f\"{avg_rating:.1f} ({num_reviews} reviews)\",\n",
    "        va='center'\n",
    "    )\n",
    "\n",
    "plt.xlabel('Average Rating')\n",
    "plt.ylabel('Genre')\n",
    "plt.title('Top 10 Genres with Best Average Ratings\\n(Review Counts in Brackets)')\n",
    "plt.tight_layout()\n",
    "plt.show()"
   ]
  },
  {
   "cell_type": "markdown",
   "metadata": {},
   "source": [
    "### Top 10 highly rated Directors (with at least 5 reviews)"
   ]
  },
  {
   "cell_type": "code",
   "execution_count": 190,
   "metadata": {},
   "outputs": [
    {
     "data": {
      "image/png": "[encoded data removed]",
      "text/plain": [
       "<Figure size 720x432 with 1 Axes>"
      ]
     },
     "metadata": {
      "needs_background": "light"
     },
     "output_type": "display_data"
    }
   ],
   "source": [
    "#Merge reviews with movies to get director info and ratings\n",
    "ratings_with_director = df_reviews.merge(Movie_info_df[['id', 'director']], on='id')\n",
    "\n",
    "# Calculate average rating and number of reviews per director\n",
    "director_ratings = (\n",
    "    ratings_with_director.groupby('director')\n",
    "    .agg(\n",
    "        avg_rating=('rating', 'mean'),\n",
    "        num_reviews=('rating', 'count')\n",
    "    )\n",
    "    .reset_index()\n",
    ")\n",
    "\n",
    "# Optional: filter directors with enough reviews (e.g., 5+)\n",
    "director_ratings = director_ratings[director_ratings['num_reviews'] >= 5]\n",
    "\n",
    "# Sort by avg_rating descending (highest first)\n",
    "top_directors = director_ratings.sort_values('avg_rating', ascending=False).head(10)\n",
    "\n",
    "# Plot\n",
    "plt.figure(figsize=(10, 6))\n",
    "ax = sns.barplot(\n",
    "    data=top_directors,\n",
    "    x='avg_rating',\n",
    "    y='director',\n",
    "    palette='Greens_r'\n",
    ")\n",
    "\n",
    "plt.xlabel('Average Rating')\n",
    "plt.ylabel('Director')\n",
    "plt.title('Top 10 Highest Rated Directors (with at least 5 reviews)')\n",
    "plt.tight_layout()\n",
    "plt.show()"
   ]
  },
  {
   "cell_type": "markdown",
   "metadata": {},
   "source": [
    "## Cleaning merged dataset i.e cleaning merged df "
   ]
  },
  {
   "cell_type": "code",
   "execution_count": 191,
   "metadata": {},
   "outputs": [
    {
     "data": {
      "text/html": [
       "<div>\n",
       "<style scoped>\n",
       "    .dataframe tbody tr th:only-of-type {\n",
       "        vertical-align: middle;\n",
       "    }\n",
       "\n",
       "    .dataframe tbody tr th {\n",
       "        vertical-align: top;\n",
       "    }\n",
       "\n",
       "    .dataframe thead th {\n",
       "        text-align: right;\n",
       "    }\n",
       "</style>\n",
       "<table border=\"1\" class=\"dataframe\">\n",
       "  <thead>\n",
       "    <tr style=\"text-align: right;\">\n",
       "      <th></th>\n",
       "      <th>id</th>\n",
       "      <th>release_date</th>\n",
       "      <th>movie</th>\n",
       "      <th>production_budget</th>\n",
       "      <th>domestic_gross</th>\n",
       "      <th>worldwide_gross</th>\n",
       "      <th>studio</th>\n",
       "      <th>foreign_gross</th>\n",
       "      <th>year</th>\n",
       "      <th>movie_id</th>\n",
       "      <th>original_title</th>\n",
       "      <th>start_year</th>\n",
       "      <th>runtime_minutes</th>\n",
       "      <th>genres</th>\n",
       "      <th>averagerating</th>\n",
       "      <th>numvotes</th>\n",
       "      <th>ROI</th>\n",
       "      <th>profit_margin</th>\n",
       "      <th>release_month</th>\n",
       "      <th>release_month_name</th>\n",
       "    </tr>\n",
       "  </thead>\n",
       "  <tbody>\n",
       "    <tr>\n",
       "      <th>0</th>\n",
       "      <td>1</td>\n",
       "      <td>2009-12-18</td>\n",
       "      <td>Avatar</td>\n",
       "      <td>425000000.0</td>\n",
       "      <td>760507625.0</td>\n",
       "      <td>2.776345e+09</td>\n",
       "      <td>NaN</td>\n",
       "      <td>NaN</td>\n",
       "      <td>NaN</td>\n",
       "      <td>tt1775309</td>\n",
       "      <td>Abatâ</td>\n",
       "      <td>2011.0</td>\n",
       "      <td>93.0</td>\n",
       "      <td>Horror</td>\n",
       "      <td>6.1</td>\n",
       "      <td>43.0</td>\n",
       "      <td>5.532577</td>\n",
       "      <td>0.846921</td>\n",
       "      <td>12</td>\n",
       "      <td>December</td>\n",
       "    </tr>\n",
       "    <tr>\n",
       "      <th>1</th>\n",
       "      <td>2</td>\n",
       "      <td>2011-05-20</td>\n",
       "      <td>Pirates of the Caribbean: On Stranger Tides</td>\n",
       "      <td>410600000.0</td>\n",
       "      <td>241063875.0</td>\n",
       "      <td>1.045664e+09</td>\n",
       "      <td>BV</td>\n",
       "      <td>804600000.0</td>\n",
       "      <td>2011.0</td>\n",
       "      <td>tt1298650</td>\n",
       "      <td>Pirates of the Caribbean: On Stranger Tides</td>\n",
       "      <td>2011.0</td>\n",
       "      <td>136.0</td>\n",
       "      <td>Action,Adventure,Fantasy</td>\n",
       "      <td>6.6</td>\n",
       "      <td>447624.0</td>\n",
       "      <td>1.546673</td>\n",
       "      <td>0.607331</td>\n",
       "      <td>5</td>\n",
       "      <td>May</td>\n",
       "    </tr>\n",
       "    <tr>\n",
       "      <th>2</th>\n",
       "      <td>3</td>\n",
       "      <td>2019-06-07</td>\n",
       "      <td>Dark Phoenix</td>\n",
       "      <td>350000000.0</td>\n",
       "      <td>42762350.0</td>\n",
       "      <td>1.497624e+08</td>\n",
       "      <td>NaN</td>\n",
       "      <td>NaN</td>\n",
       "      <td>NaN</td>\n",
       "      <td>tt6565702</td>\n",
       "      <td>Dark Phoenix</td>\n",
       "      <td>2019.0</td>\n",
       "      <td>113.0</td>\n",
       "      <td>Action,Adventure,Sci-Fi</td>\n",
       "      <td>6.0</td>\n",
       "      <td>24451.0</td>\n",
       "      <td>-0.572108</td>\n",
       "      <td>-1.337036</td>\n",
       "      <td>6</td>\n",
       "      <td>June</td>\n",
       "    </tr>\n",
       "    <tr>\n",
       "      <th>3</th>\n",
       "      <td>4</td>\n",
       "      <td>2015-05-01</td>\n",
       "      <td>Avengers: Age of Ultron</td>\n",
       "      <td>330600000.0</td>\n",
       "      <td>459005868.0</td>\n",
       "      <td>1.403014e+09</td>\n",
       "      <td>BV</td>\n",
       "      <td>946400000.0</td>\n",
       "      <td>2015.0</td>\n",
       "      <td>tt2395427</td>\n",
       "      <td>Avengers: Age of Ultron</td>\n",
       "      <td>2015.0</td>\n",
       "      <td>141.0</td>\n",
       "      <td>Action,Adventure,Sci-Fi</td>\n",
       "      <td>7.3</td>\n",
       "      <td>665594.0</td>\n",
       "      <td>3.243841</td>\n",
       "      <td>0.764364</td>\n",
       "      <td>5</td>\n",
       "      <td>May</td>\n",
       "    </tr>\n",
       "    <tr>\n",
       "      <th>4</th>\n",
       "      <td>5</td>\n",
       "      <td>2017-12-15</td>\n",
       "      <td>Star Wars Ep. VIII: The Last Jedi</td>\n",
       "      <td>317000000.0</td>\n",
       "      <td>620181382.0</td>\n",
       "      <td>1.316722e+09</td>\n",
       "      <td>NaN</td>\n",
       "      <td>NaN</td>\n",
       "      <td>NaN</td>\n",
       "      <td>NaN</td>\n",
       "      <td>NaN</td>\n",
       "      <td>NaN</td>\n",
       "      <td>NaN</td>\n",
       "      <td>NaN</td>\n",
       "      <td>NaN</td>\n",
       "      <td>NaN</td>\n",
       "      <td>3.153696</td>\n",
       "      <td>0.759251</td>\n",
       "      <td>12</td>\n",
       "      <td>December</td>\n",
       "    </tr>\n",
       "    <tr>\n",
       "      <th>...</th>\n",
       "      <td>...</td>\n",
       "      <td>...</td>\n",
       "      <td>...</td>\n",
       "      <td>...</td>\n",
       "      <td>...</td>\n",
       "      <td>...</td>\n",
       "      <td>...</td>\n",
       "      <td>...</td>\n",
       "      <td>...</td>\n",
       "      <td>...</td>\n",
       "      <td>...</td>\n",
       "      <td>...</td>\n",
       "      <td>...</td>\n",
       "      <td>...</td>\n",
       "      <td>...</td>\n",
       "      <td>...</td>\n",
       "      <td>...</td>\n",
       "      <td>...</td>\n",
       "      <td>...</td>\n",
       "      <td>...</td>\n",
       "    </tr>\n",
       "    <tr>\n",
       "      <th>6468</th>\n",
       "      <td>78</td>\n",
       "      <td>2018-12-31</td>\n",
       "      <td>Red 11</td>\n",
       "      <td>7000.0</td>\n",
       "      <td>0.0</td>\n",
       "      <td>0.000000e+00</td>\n",
       "      <td>NaN</td>\n",
       "      <td>NaN</td>\n",
       "      <td>NaN</td>\n",
       "      <td>tt7837402</td>\n",
       "      <td>Red 11</td>\n",
       "      <td>2019.0</td>\n",
       "      <td>77.0</td>\n",
       "      <td>Horror,Sci-Fi,Thriller</td>\n",
       "      <td>5.6</td>\n",
       "      <td>43.0</td>\n",
       "      <td>-1.000000</td>\n",
       "      <td>NaN</td>\n",
       "      <td>12</td>\n",
       "      <td>December</td>\n",
       "    </tr>\n",
       "    <tr>\n",
       "      <th>6469</th>\n",
       "      <td>79</td>\n",
       "      <td>1999-04-02</td>\n",
       "      <td>Following</td>\n",
       "      <td>6000.0</td>\n",
       "      <td>48482.0</td>\n",
       "      <td>2.404950e+05</td>\n",
       "      <td>NaN</td>\n",
       "      <td>NaN</td>\n",
       "      <td>NaN</td>\n",
       "      <td>NaN</td>\n",
       "      <td>NaN</td>\n",
       "      <td>NaN</td>\n",
       "      <td>NaN</td>\n",
       "      <td>NaN</td>\n",
       "      <td>NaN</td>\n",
       "      <td>NaN</td>\n",
       "      <td>39.082500</td>\n",
       "      <td>0.975051</td>\n",
       "      <td>4</td>\n",
       "      <td>April</td>\n",
       "    </tr>\n",
       "    <tr>\n",
       "      <th>6470</th>\n",
       "      <td>80</td>\n",
       "      <td>2005-07-13</td>\n",
       "      <td>Return to the Land of Wonders</td>\n",
       "      <td>5000.0</td>\n",
       "      <td>1338.0</td>\n",
       "      <td>1.338000e+03</td>\n",
       "      <td>NaN</td>\n",
       "      <td>NaN</td>\n",
       "      <td>NaN</td>\n",
       "      <td>NaN</td>\n",
       "      <td>NaN</td>\n",
       "      <td>NaN</td>\n",
       "      <td>NaN</td>\n",
       "      <td>NaN</td>\n",
       "      <td>NaN</td>\n",
       "      <td>NaN</td>\n",
       "      <td>-0.732400</td>\n",
       "      <td>-2.736921</td>\n",
       "      <td>7</td>\n",
       "      <td>July</td>\n",
       "    </tr>\n",
       "    <tr>\n",
       "      <th>6471</th>\n",
       "      <td>81</td>\n",
       "      <td>2015-09-29</td>\n",
       "      <td>A Plague So Pleasant</td>\n",
       "      <td>1400.0</td>\n",
       "      <td>0.0</td>\n",
       "      <td>0.000000e+00</td>\n",
       "      <td>NaN</td>\n",
       "      <td>NaN</td>\n",
       "      <td>NaN</td>\n",
       "      <td>tt2107644</td>\n",
       "      <td>A Plague So Pleasant</td>\n",
       "      <td>2013.0</td>\n",
       "      <td>76.0</td>\n",
       "      <td>Drama,Horror,Thriller</td>\n",
       "      <td>5.4</td>\n",
       "      <td>72.0</td>\n",
       "      <td>-1.000000</td>\n",
       "      <td>NaN</td>\n",
       "      <td>9</td>\n",
       "      <td>September</td>\n",
       "    </tr>\n",
       "    <tr>\n",
       "      <th>6472</th>\n",
       "      <td>82</td>\n",
       "      <td>2005-08-05</td>\n",
       "      <td>My Date With Drew</td>\n",
       "      <td>1100.0</td>\n",
       "      <td>181041.0</td>\n",
       "      <td>1.810410e+05</td>\n",
       "      <td>NaN</td>\n",
       "      <td>NaN</td>\n",
       "      <td>NaN</td>\n",
       "      <td>NaN</td>\n",
       "      <td>NaN</td>\n",
       "      <td>NaN</td>\n",
       "      <td>NaN</td>\n",
       "      <td>NaN</td>\n",
       "      <td>NaN</td>\n",
       "      <td>NaN</td>\n",
       "      <td>163.582727</td>\n",
       "      <td>0.993924</td>\n",
       "      <td>8</td>\n",
       "      <td>August</td>\n",
       "    </tr>\n",
       "  </tbody>\n",
       "</table>\n",
       "<p>6473 rows × 20 columns</p>\n",
       "</div>"
      ],
      "text/plain": [
       "      id release_date                                        movie  \\\n",
       "0      1   2009-12-18                                       Avatar   \n",
       "1      2   2011-05-20  Pirates of the Caribbean: On Stranger Tides   \n",
       "2      3   2019-06-07                                 Dark Phoenix   \n",
       "3      4   2015-05-01                      Avengers: Age of Ultron   \n",
       "4      5   2017-12-15            Star Wars Ep. VIII: The Last Jedi   \n",
       "...   ..          ...                                          ...   \n",
       "6468  78   2018-12-31                                       Red 11   \n",
       "6469  79   1999-04-02                                    Following   \n",
       "6470  80   2005-07-13                Return to the Land of Wonders   \n",
       "6471  81   2015-09-29                         A Plague So Pleasant   \n",
       "6472  82   2005-08-05                            My Date With Drew   \n",
       "\n",
       "      production_budget  domestic_gross  worldwide_gross studio  \\\n",
       "0           425000000.0     760507625.0     2.776345e+09    NaN   \n",
       "1           410600000.0     241063875.0     1.045664e+09     BV   \n",
       "2           350000000.0      42762350.0     1.497624e+08    NaN   \n",
       "3           330600000.0     459005868.0     1.403014e+09     BV   \n",
       "4           317000000.0     620181382.0     1.316722e+09    NaN   \n",
       "...                 ...             ...              ...    ...   \n",
       "6468             7000.0             0.0     0.000000e+00    NaN   \n",
       "6469             6000.0         48482.0     2.404950e+05    NaN   \n",
       "6470             5000.0          1338.0     1.338000e+03    NaN   \n",
       "6471             1400.0             0.0     0.000000e+00    NaN   \n",
       "6472             1100.0        181041.0     1.810410e+05    NaN   \n",
       "\n",
       "      foreign_gross    year   movie_id  \\\n",
       "0               NaN     NaN  tt1775309   \n",
       "1       804600000.0  2011.0  tt1298650   \n",
       "2               NaN     NaN  tt6565702   \n",
       "3       946400000.0  2015.0  tt2395427   \n",
       "4               NaN     NaN        NaN   \n",
       "...             ...     ...        ...   \n",
       "6468            NaN     NaN  tt7837402   \n",
       "6469            NaN     NaN        NaN   \n",
       "6470            NaN     NaN        NaN   \n",
       "6471            NaN     NaN  tt2107644   \n",
       "6472            NaN     NaN        NaN   \n",
       "\n",
       "                                   original_title  start_year  \\\n",
       "0                                           Abatâ      2011.0   \n",
       "1     Pirates of the Caribbean: On Stranger Tides      2011.0   \n",
       "2                                    Dark Phoenix      2019.0   \n",
       "3                         Avengers: Age of Ultron      2015.0   \n",
       "4                                             NaN         NaN   \n",
       "...                                           ...         ...   \n",
       "6468                                       Red 11      2019.0   \n",
       "6469                                          NaN         NaN   \n",
       "6470                                          NaN         NaN   \n",
       "6471                         A Plague So Pleasant      2013.0   \n",
       "6472                                          NaN         NaN   \n",
       "\n",
       "      runtime_minutes                    genres  averagerating  numvotes  \\\n",
       "0                93.0                    Horror            6.1      43.0   \n",
       "1               136.0  Action,Adventure,Fantasy            6.6  447624.0   \n",
       "2               113.0   Action,Adventure,Sci-Fi            6.0   24451.0   \n",
       "3               141.0   Action,Adventure,Sci-Fi            7.3  665594.0   \n",
       "4                 NaN                       NaN            NaN       NaN   \n",
       "...               ...                       ...            ...       ...   \n",
       "6468             77.0    Horror,Sci-Fi,Thriller            5.6      43.0   \n",
       "6469              NaN                       NaN            NaN       NaN   \n",
       "6470              NaN                       NaN            NaN       NaN   \n",
       "6471             76.0     Drama,Horror,Thriller            5.4      72.0   \n",
       "6472              NaN                       NaN            NaN       NaN   \n",
       "\n",
       "             ROI  profit_margin  release_month release_month_name  \n",
       "0       5.532577       0.846921             12           December  \n",
       "1       1.546673       0.607331              5                May  \n",
       "2      -0.572108      -1.337036              6               June  \n",
       "3       3.243841       0.764364              5                May  \n",
       "4       3.153696       0.759251             12           December  \n",
       "...          ...            ...            ...                ...  \n",
       "6468   -1.000000            NaN             12           December  \n",
       "6469   39.082500       0.975051              4              April  \n",
       "6470   -0.732400      -2.736921              7               July  \n",
       "6471   -1.000000            NaN              9          September  \n",
       "6472  163.582727       0.993924              8             August  \n",
       "\n",
       "[6473 rows x 20 columns]"
      ]
     },
     "execution_count": 191,
     "metadata": {},
     "output_type": "execute_result"
    }
   ],
   "source": [
    "merged_df"
   ]
  },
  {
   "cell_type": "markdown",
   "metadata": {},
   "source": [
    "## Issues to clean\n",
    "\n",
    "a. Numeric columns\n",
    "production_budget, domestic_gross, worldwide_gross, foreign_gross are floats already, but some values are NaN or 0.\n",
    "\n",
    "b. Missing values (NaN)\n",
    "Columns like studio, foreign_gross, year, genre have many NaNs.\n",
    "\n",
    "c. Dates\n",
    "release_date is a string, should be converted to datetime.\n",
    "\n",
    "d. Duplicate / irrelevant columns\n",
    "Check for duplicates (e.g., movie_id may repeat).\n",
    "\n",
    "Drop unnecessary metadata if not needed for modeling.\n",
    "\n",
    "e. String columns (genres, studios)\n",
    "\n",
    "genre column has multiple values separated by commas → may need to split or encode.\n",
    "\n",
    "studio sometimes missing."
   ]
  },
  {
   "cell_type": "code",
   "execution_count": 192,
   "metadata": {},
   "outputs": [],
   "source": [
    "import pandas as pd\n",
    "import numpy as np"
   ]
  },
  {
   "cell_type": "code",
   "execution_count": 193,
   "metadata": {},
   "outputs": [],
   "source": [
    "# 1. Convert release_date to datetime\n",
    "merged_df['release_date'] = pd.to_datetime(merged_df['release_date'], errors='coerce')"
   ]
  },
  {
   "cell_type": "code",
   "execution_count": 194,
   "metadata": {},
   "outputs": [],
   "source": [
    "# 2. Handle missing numeric values\n",
    "numeric_cols = ['production_budget', 'domestic_gross', 'worldwide_gross', 'foreign_gross']\n",
    "for col in numeric_cols:\n",
    "    merged_df[col] = pd.to_numeric(merged_df[col], errors='coerce')  # force numeric\n",
    "    merged_df[col] = merged_df[col].fillna(0)  # or merged_df[col].fillna(merged_df[col].median())"
   ]
  },
  {
   "cell_type": "code",
   "execution_count": 195,
   "metadata": {},
   "outputs": [],
   "source": [
    "# 3. Handle missing categorical values\n",
    "merged_df['studio'] = merged_df['studio'].fillna(\"Unknown\")\n",
    "merged_df['genre'] = merged_df['genres'].fillna(\"Unknown\")"
   ]
  },
  {
   "cell_type": "code",
   "execution_count": 196,
   "metadata": {},
   "outputs": [],
   "source": [
    "# 4. Drop duplicates if any\n",
    "merged_df = merged_df.drop_duplicates(subset=['movie', 'release_date'])"
   ]
  },
  {
   "cell_type": "code",
   "execution_count": 197,
   "metadata": {},
   "outputs": [],
   "source": [
    "# 5.  Extract year from release_date if needed\n",
    "merged_df['release_year'] = merged_df['release_date'].dt.year"
   ]
  },
  {
   "cell_type": "code",
   "execution_count": 198,
   "metadata": {},
   "outputs": [
    {
     "name": "stdout",
     "output_type": "stream",
     "text": [
      "id                             int64\n",
      "release_date          datetime64[ns]\n",
      "movie                         object\n",
      "production_budget            float64\n",
      "domestic_gross               float64\n",
      "worldwide_gross              float64\n",
      "studio                        object\n",
      "foreign_gross                float64\n",
      "year                         float64\n",
      "movie_id                      object\n",
      "original_title                object\n",
      "start_year                   float64\n",
      "runtime_minutes              float64\n",
      "genres                        object\n",
      "averagerating                float64\n",
      "numvotes                     float64\n",
      "ROI                          float64\n",
      "profit_margin                float64\n",
      "release_month                  int64\n",
      "release_month_name            object\n",
      "genre                         object\n",
      "release_year                   int64\n",
      "dtype: object\n"
     ]
    }
   ],
   "source": [
    "# 6. Check data types\n",
    "print(merged_df.dtypes)"
   ]
  },
  {
   "cell_type": "code",
   "execution_count": 199,
   "metadata": {},
   "outputs": [
    {
     "name": "stdout",
     "output_type": "stream",
     "text": [
      "id                       0\n",
      "release_date             0\n",
      "movie                    0\n",
      "production_budget        0\n",
      "domestic_gross           0\n",
      "worldwide_gross          0\n",
      "studio                   0\n",
      "foreign_gross            0\n",
      "year                  4535\n",
      "movie_id              3598\n",
      "original_title        3598\n",
      "start_year            3598\n",
      "runtime_minutes       3664\n",
      "genres                3600\n",
      "averagerating         3598\n",
      "numvotes              3598\n",
      "ROI                      0\n",
      "profit_margin          367\n",
      "release_month            0\n",
      "release_month_name       0\n",
      "genre                    0\n",
      "release_year             0\n",
      "dtype: int64\n"
     ]
    }
   ],
   "source": [
    "# 7. Inspect missing values\n",
    "print(merged_df.isnull().sum())"
   ]
  },
  {
   "cell_type": "markdown",
   "metadata": {},
   "source": [
    "##some columns still have missing values\n",
    "Why These Columns Have Missing Values\n",
    "\n",
    "year, start_year, release_year:\n",
    "Some movies might not have complete release date info in the raw datasets.\n",
    "Missing years are common for older or unreleased films.\n",
    "\n",
    "movie_id, original_title:\n",
    "Missing if the dataset couldn’t match the movie to IMDb/another source.\n",
    "\n",
    "runtime_minutes:\n",
    "Missing if runtime wasn’t listed in IMDb or TheMovieDB.\n",
    "\n",
    "genres:\n",
    "Missing if the movie didn’t have genre info in the source dataset.\n",
    "\n",
    "averagerating, numvotes:\n",
    "Missing if IMDb didn’t have enough votes/ratings for that film\n",
    "\n",
    "## How to Clean These Columns"
   ]
  },
  {
   "cell_type": "code",
   "execution_count": 200,
   "metadata": {},
   "outputs": [
    {
     "name": "stdout",
     "output_type": "stream",
     "text": [
      "id                       0\n",
      "release_date             0\n",
      "movie                    0\n",
      "production_budget        0\n",
      "domestic_gross           0\n",
      "worldwide_gross          0\n",
      "studio                   0\n",
      "foreign_gross            0\n",
      "year                     0\n",
      "movie_id                 0\n",
      "original_title           0\n",
      "start_year            3598\n",
      "runtime_minutes          0\n",
      "genres                   0\n",
      "averagerating            0\n",
      "numvotes                 0\n",
      "ROI                      0\n",
      "profit_margin          367\n",
      "release_month            0\n",
      "release_month_name       0\n",
      "genre                    0\n",
      "release_year             0\n",
      "dtype: int64\n"
     ]
    }
   ],
   "source": [
    "# 1. Fill year-related columns using release_date if available\n",
    "merged_df['year'] = merged_df['release_date'].dt.year.fillna(merged_df['year'])\n",
    "\n",
    "# 2. Handle runtime_minutes (replace NaN with median runtime)\n",
    "merged_df['runtime_minutes'] = merged_df['runtime_minutes'].fillna(merged_df['runtime_minutes'].median())\n",
    "\n",
    "# 3. Handle genres (replace NaN with \"Unknown\")\n",
    "merged_df['genres'] = merged_df['genres'].fillna(\"Unknown\")\n",
    "\n",
    "# 4. Handle ratings and votes\n",
    "merged_df['averagerating'] = merged_df['averagerating'].fillna(merged_df['averagerating'].mean())\n",
    "merged_df['numvotes'] = merged_df['numvotes'].fillna(0)  # movies with no votes\n",
    "\n",
    "# 5. Handle movie_id and original_title\n",
    "merged_df['movie_id'] = merged_df['movie_id'].fillna(\"Unknown\")\n",
    "merged_df['original_title'] = merged_df['original_title'].fillna(merged_df['movie'])\n",
    "\n",
    "# 6. Double-check\n",
    "print(merged_df.isnull().sum())\n"
   ]
  },
  {
   "cell_type": "code",
   "execution_count": 201,
   "metadata": {},
   "outputs": [
    {
     "name": "stdout",
     "output_type": "stream",
     "text": [
      "id                    0\n",
      "release_date          0\n",
      "movie                 0\n",
      "production_budget     0\n",
      "domestic_gross        0\n",
      "worldwide_gross       0\n",
      "studio                0\n",
      "foreign_gross         0\n",
      "year                  0\n",
      "movie_id              0\n",
      "original_title        0\n",
      "runtime_minutes       0\n",
      "genres                0\n",
      "averagerating         0\n",
      "numvotes              0\n",
      "ROI                   0\n",
      "profit_margin         0\n",
      "release_month         0\n",
      "release_month_name    0\n",
      "genre                 0\n",
      "release_year          0\n",
      "dtype: int64\n"
     ]
    }
   ],
   "source": [
    "# Drop start_year if redundant\n",
    "if 'start_year' in merged_df.columns:\n",
    "    merged_df = merged_df.drop(columns=['start_year'])\n",
    "\n",
    "# Handle profit_margin: replace NaN with 0 (optional)\n",
    "merged_df['profit_margin'] = merged_df['profit_margin'].fillna(0)\n",
    "\n",
    "# Double check\n",
    "print(merged_df.isnull().sum())"
   ]
  },
  {
   "cell_type": "markdown",
   "metadata": {},
   "source": [
    "The dataset is clean and now reay for analysis. Fit a regression model"
   ]
  },
  {
   "cell_type": "markdown",
   "metadata": {},
   "source": [
    "# 4. REGRESSION ANALYSIS\n",
    "\n",
    "## How does a movie’s budget affect its revenue?\n",
    "### Creating the model and undertaking regression analysis"
   ]
  },
  {
   "cell_type": "markdown",
   "metadata": {},
   "source": [
    "Variables\n",
    "\n",
    "Dependent variable (response):\n",
    "Y= Worldwide gross (total revenue).\n",
    "\n",
    "Independent variable (predictor):\n",
    "X= Production budget.\n",
    "We fit a simple linear regression model\n",
    "\n",
    "y = mx + c"
   ]
  },
  {
   "cell_type": "markdown",
   "metadata": {},
   "source": [
    "First step is to formulate the hypotheses\n",
    "Hypotheses\n",
    "\n",
    "We are interested in the slope coefficient m that measures how much revenue changes when budget changes.\n",
    "\n",
    "Null Hypothesis (H₀):Budget has no effect on revenue.\n",
    "Alternative Hypothesis (H₁):Higher budget is associated with higher revenue."
   ]
  },
  {
   "cell_type": "markdown",
   "metadata": {},
   "source": [
    "4.1 Import the libraries to use"
   ]
  },
  {
   "cell_type": "code",
   "execution_count": 202,
   "metadata": {},
   "outputs": [],
   "source": [
    "import pandas as pd\n",
    "import scipy.stats as stats\n",
    "import numpy as np\n",
    "import matplotlib.pyplot as plt\n",
    "import seaborn as sns\n",
    "import statsmodels.api as sm"
   ]
  },
  {
   "cell_type": "markdown",
   "metadata": {},
   "source": [
    "Building th Regression Model"
   ]
  },
  {
   "cell_type": "code",
   "execution_count": 203,
   "metadata": {},
   "outputs": [],
   "source": [
    "# Define X (predictors) and y (response)\n",
    "X = merged_df['production_budget']\n",
    "y =  merged_df['worldwide_gross']"
   ]
  },
  {
   "cell_type": "code",
   "execution_count": 204,
   "metadata": {},
   "outputs": [],
   "source": [
    "rho = np.corrcoef(merged_df['worldwide_gross'],merged_df['production_budget'])[0,1]"
   ]
  },
  {
   "cell_type": "markdown",
   "metadata": {},
   "source": [
    "rho is the correlation between dependent variable (worldwide_gross) and independent variable(production_budget) which has to be in the range of 0 and 1"
   ]
  },
  {
   "cell_type": "code",
   "execution_count": 205,
   "metadata": {},
   "outputs": [],
   "source": [
    "s_x = merged_df[\"production_budget\"].std()\n",
    "s_y = merged_df[\"worldwide_gross\"].std()"
   ]
  },
  {
   "cell_type": "markdown",
   "metadata": {},
   "source": [
    "s_x is the variance of x and s_y is the variance of y"
   ]
  },
  {
   "cell_type": "code",
   "execution_count": 206,
   "metadata": {},
   "outputs": [],
   "source": [
    "m = rho * s_y / s_x"
   ]
  },
  {
   "cell_type": "markdown",
   "metadata": {},
   "source": [
    "m is the slope of the regression equation and is the coefficient of x"
   ]
  },
  {
   "cell_type": "code",
   "execution_count": 207,
   "metadata": {},
   "outputs": [],
   "source": [
    "c = merged_df[\"worldwide_gross\"].mean() - m * merged_df[\"production_budget\"].mean()"
   ]
  },
  {
   "cell_type": "markdown",
   "metadata": {},
   "source": [
    "c is the y intercept or a contant"
   ]
  },
  {
   "cell_type": "code",
   "execution_count": 208,
   "metadata": {},
   "outputs": [],
   "source": [
    "mean_y = merged_df[\"worldwide_gross\"].mean()\n",
    "mean_x = merged_df[\"production_budget\"].mean()"
   ]
  },
  {
   "cell_type": "markdown",
   "metadata": {},
   "source": [
    "mean_y is the mean of y and mean_x is the mean of x"
   ]
  },
  {
   "cell_type": "code",
   "execution_count": 209,
   "metadata": {},
   "outputs": [],
   "source": [
    "c = mean_y - m * mean_x"
   ]
  },
  {
   "cell_type": "code",
   "execution_count": 210,
   "metadata": {},
   "outputs": [
    {
     "name": "stdout",
     "output_type": "stream",
     "text": [
      "Regression line: y = 3.1269x + -7285667.0546\n"
     ]
    }
   ],
   "source": [
    "print(f\"Regression line: y = {round(m,4)}x + {round(c,4)}\")"
   ]
  },
  {
   "cell_type": "markdown",
   "metadata": {},
   "source": [
    "i.e  Worldwide Gross=3.1269xProduction Budget -7285667.0546, the regression equation\n",
    "Slope (3.1223)\n",
    "\n",
    "For every 1 unit increase in production budget, 1 million dollars the model predicts that worldwide gross increases by about 3.12 units.\n",
    "\n",
    "Each additional $1 million in production budget is associated with about $3.12 million more in worldwide gross\n",
    "\n",
    "Intercept (-7285667.0546)\n",
    "This is the predicted worldwide gross when the production budget is 0.\n",
    "It equals about –$7.286 million.\n",
    "\n",
    "The model suggests that movies with larger production budgets tend to earn higher worldwide gross."
   ]
  },
  {
   "cell_type": "markdown",
   "metadata": {},
   "source": [
    "Creating the Model"
   ]
  },
  {
   "cell_type": "code",
   "execution_count": 211,
   "metadata": {},
   "outputs": [],
   "source": [
    "X = merged_df['production_budget']\n",
    "y = merged_df['worldwide_gross']"
   ]
  },
  {
   "cell_type": "code",
   "execution_count": 212,
   "metadata": {},
   "outputs": [
    {
     "data": {
      "text/plain": [
       "<statsmodels.regression.linear_model.OLS at 0x1e6108cf460>"
      ]
     },
     "execution_count": 212,
     "metadata": {},
     "output_type": "execute_result"
    }
   ],
   "source": [
    "model = sm.OLS(endog = y, exog=sm.add_constant(X))\n",
    "model"
   ]
  },
  {
   "cell_type": "code",
   "execution_count": 213,
   "metadata": {},
   "outputs": [
    {
     "data": {
      "text/plain": [
       "<statsmodels.regression.linear_model.RegressionResultsWrapper at 0x1e6108cf310>"
      ]
     },
     "execution_count": 213,
     "metadata": {},
     "output_type": "execute_result"
    }
   ],
   "source": [
    "results = model.fit()\n",
    "results"
   ]
  },
  {
   "cell_type": "markdown",
   "metadata": {},
   "source": [
    "Model Evaluation"
   ]
  },
  {
   "cell_type": "code",
   "execution_count": 214,
   "metadata": {},
   "outputs": [
    {
     "data": {
      "text/plain": [
       "7355.224292071482"
      ]
     },
     "execution_count": 214,
     "metadata": {},
     "output_type": "execute_result"
    }
   ],
   "source": [
    "results.fvalue"
   ]
  },
  {
   "cell_type": "code",
   "execution_count": 215,
   "metadata": {},
   "outputs": [
    {
     "data": {
      "text/plain": [
       "0.0"
      ]
     },
     "execution_count": 215,
     "metadata": {},
     "output_type": "execute_result"
    }
   ],
   "source": [
    "results.f_pvalue"
   ]
  },
  {
   "cell_type": "markdown",
   "metadata": {},
   "source": [
    "The p value is less than 0.05 0r 5% level of significance"
   ]
  },
  {
   "cell_type": "code",
   "execution_count": 216,
   "metadata": {},
   "outputs": [
    {
     "data": {
      "text/plain": [
       "0.5599618345695969"
      ]
     },
     "execution_count": 216,
     "metadata": {},
     "output_type": "execute_result"
    }
   ],
   "source": [
    "results.rsquared"
   ]
  },
  {
   "cell_type": "markdown",
   "metadata": {},
   "source": [
    "R_square of0.5599618345695969 implies 56% of the variation in dependent variable is explained by independent variable i.e the model accounts for 56% variation in worldwide_gross"
   ]
  },
  {
   "cell_type": "code",
   "execution_count": 217,
   "metadata": {},
   "outputs": [
    {
     "name": "stdout",
     "output_type": "stream",
     "text": [
      "                            OLS Regression Results                            \n",
      "==============================================================================\n",
      "Dep. Variable:        worldwide_gross   R-squared:                       0.560\n",
      "Model:                            OLS   Adj. R-squared:                  0.560\n",
      "Method:                 Least Squares   F-statistic:                     7355.\n",
      "Date:                Fri, 12 Sep 2025   Prob (F-statistic):               0.00\n",
      "Time:                        19:21:06   Log-Likelihood:            -1.1557e+05\n",
      "No. Observations:                5782   AIC:                         2.311e+05\n",
      "Df Residuals:                    5780   BIC:                         2.311e+05\n",
      "Df Model:                           1                                         \n",
      "Covariance Type:            nonrobust                                         \n",
      "=====================================================================================\n",
      "                        coef    std err          t      P>|t|      [0.025      0.975]\n",
      "-------------------------------------------------------------------------------------\n",
      "const             -7.286e+06   1.91e+06     -3.813      0.000    -1.1e+07   -3.54e+06\n",
      "production_budget     3.1269      0.036     85.763      0.000       3.055       3.198\n",
      "==============================================================================\n",
      "Omnibus:                     4232.022   Durbin-Watson:                   1.005\n",
      "Prob(Omnibus):                  0.000   Jarque-Bera (JB):           172398.262\n",
      "Skew:                           3.053   Prob(JB):                         0.00\n",
      "Kurtosis:                      29.044   Cond. No.                     6.57e+07\n",
      "==============================================================================\n",
      "\n",
      "Notes:\n",
      "[1] Standard Errors assume that the covariance matrix of the errors is correctly specified.\n",
      "[2] The condition number is large, 6.57e+07. This might indicate that there are\n",
      "strong multicollinearity or other numerical problems.\n"
     ]
    }
   ],
   "source": [
    "print(results.summary())"
   ]
  },
  {
   "cell_type": "markdown",
   "metadata": {},
   "source": [
    "p_value = 0.0 which is less tha 0.05 hence we conclude budget significantly affects revenue. The f statistic or f value is 8149 and its prbability value is 0.00 which is significant"
   ]
  },
  {
   "cell_type": "markdown",
   "metadata": {},
   "source": [
    "Perform log–log transformation (e.g., log(worldwide_gross) ~ log(production_budget)) would help stabilize variance and improve regression modeling. instead of a simple linear regression"
   ]
  },
  {
   "cell_type": "code",
   "execution_count": 218,
   "metadata": {},
   "outputs": [],
   "source": [
    "# Keep only rows with positive values\n",
    "df_model = df_budgets[(df_budgets['production_budget'] > 0) & \n",
    "                      (df_budgets['worldwide_gross'] > 0)].copy()\n",
    "\n",
    "# Log transformation\n",
    "df_model['log_budget'] = np.log(df_model['production_budget'])\n",
    "df_model['log_gross'] = np.log(df_model['worldwide_gross'])\n"
   ]
  },
  {
   "cell_type": "code",
   "execution_count": 219,
   "metadata": {},
   "outputs": [
    {
     "name": "stdout",
     "output_type": "stream",
     "text": [
      "                            OLS Regression Results                            \n",
      "==============================================================================\n",
      "Dep. Variable:              log_gross   R-squared:                       0.482\n",
      "Model:                            OLS   Adj. R-squared:                  0.482\n",
      "Method:                 Least Squares   F-statistic:                     5039.\n",
      "Date:                Fri, 12 Sep 2025   Prob (F-statistic):               0.00\n",
      "Time:                        19:21:06   Log-Likelihood:                -10890.\n",
      "No. Observations:                5415   AIC:                         2.178e+04\n",
      "Df Residuals:                    5413   BIC:                         2.180e+04\n",
      "Df Model:                           1                                         \n",
      "Covariance Type:            nonrobust                                         \n",
      "==============================================================================\n",
      "                 coef    std err          t      P>|t|      [0.025      0.975]\n",
      "------------------------------------------------------------------------------\n",
      "Intercept     -0.9920      0.252     -3.943      0.000      -1.485      -0.499\n",
      "log_budget     1.0798      0.015     70.983      0.000       1.050       1.110\n",
      "==============================================================================\n",
      "Omnibus:                     1069.770   Durbin-Watson:                   0.873\n",
      "Prob(Omnibus):                  0.000   Jarque-Bera (JB):             2910.168\n",
      "Skew:                          -1.054   Prob(JB):                         0.00\n",
      "Kurtosis:                       5.908   Cond. No.                         170.\n",
      "==============================================================================\n",
      "\n",
      "Notes:\n",
      "[1] Standard Errors assume that the covariance matrix of the errors is correctly specified.\n"
     ]
    }
   ],
   "source": [
    " #Fit the log log model\n",
    " # Fit OLS regression: log(worldwide_gross) ~ log(production_budget)\n",
    "model = smf.ols('log_gross ~ log_budget', data=df_model).fit()\n",
    "\n",
    "# Model summary\n",
    "print(model.summary())"
   ]
  },
  {
   "cell_type": "markdown",
   "metadata": {},
   "source": [
    "Model Fit (Goodness of Fit)\n",
    "\n",
    "R-squared = 0.482 (48.2%)\n",
    "\n",
    "About half of the variation in worldwide gross is explained by production budget (on the log scale).\n",
    "\n",
    "This is a moderately strong relationship for real-world movie data, where many other factors (genre, star power, release timing, marketing, etc.) also matter.\n",
    "\n",
    "F-statistic = 5039, p < 0.001\n",
    "\n",
    "The model overall is highly statistically significant.\n",
    "\n",
    "2. Coefficients\n",
    "\n",
    "Intercept = -0.9920 (p < 0.001)\n",
    "\n",
    "This is the baseline log(gross) when log(budget) = 0.\n",
    "\n",
    "Not very interpretable in practical terms, since budget = 1 dollar is unrealistic.\n",
    "\n",
    "log_budget = 1.0798 (p < 0.001)\n",
    "\n",
    "Statistically significant at a very high confidence level.\n",
    "\n",
    "Interpretation: A 1% increase in production budget is associated with about a 1.08% increase in worldwide gross (on average).\n",
    "Since the coefficient is slightly above 1, returns are slightly more than proportional, but diminishing effects likely appear once other variables are included.\n",
    "\n",
    "Residual Diagnostics (from bottom of summary)\n",
    "Omnibus / Jarque-Bera test (p < 0.001) → residuals are not perfectly normal.\n",
    "Skew = -1.05 → distribution of residuals is left-skewed.\n",
    "Kurtosis = 5.9 → heavy tails (leptokurtic).\n",
    "Durbin-Watson = 0.873 → indicates some autocorrelation in residuals (common in time-related data like release years).\n",
    "\n",
    "Summary of Findings\n",
    "Budget strongly predicts worldwide revenue.\n",
    "Elasticity ≈ 1.08: if a studio doubles a movie’s budget, expected worldwide gross is more than doubled (but with wide variation).\n",
    "However, the model explains only about half of the variation (48.2%) → meaning other drivers like genre, directors, ratings, and release factors are also crucial.\n",
    "Residual tests suggest heteroscedasticity and non-normality — confirming the need to extend the model with additional predictors.\n",
    "\n",
    "Is not a better model compared to a simple linear regression model which explains 56% of variation in thw worldwide gross"
   ]
  },
  {
   "cell_type": "markdown",
   "metadata": {},
   "source": [
    "## Objective 2: What patterns emerge from audience rating and runtimes"
   ]
  },
  {
   "cell_type": "markdown",
   "metadata": {},
   "source": [
    "Fit a regression model to answer the the question in the objective\n",
    "Formulate hypotheses"
   ]
  },
  {
   "cell_type": "markdown",
   "metadata": {},
   "source": [
    "For Runtime\n",
    "H₀: Runtime has no effect on revenue \n",
    "H₁: Runtime significantly affects revenue \n",
    "\n",
    "For Audience Rating\n",
    "H₀: Audience rating has no effect on revenue \n",
    "H₁: Audience rating significantly affects revenue \n",
    "\n",
    "Overall Model\n",
    "H₀: Both predictors together have no effect on revenue.\n",
    "H₁: At least one predictor (rating or runtime) significantly explains variation in revenue."
   ]
  },
  {
   "cell_type": "markdown",
   "metadata": {},
   "source": [
    " Model specification\n",
    "y = β + β1x1 +β2x2\n",
    "worldwide_gross = constant + β1xruntime_minutes + β2xaveragerating"
   ]
  },
  {
   "cell_type": "code",
   "execution_count": 220,
   "metadata": {},
   "outputs": [
    {
     "name": "stdout",
     "output_type": "stream",
     "text": [
      "                            OLS Regression Results                            \n",
      "==============================================================================\n",
      "Dep. Variable:        worldwide_gross   R-squared:                       0.056\n",
      "Model:                            OLS   Adj. R-squared:                  0.055\n",
      "Method:                 Least Squares   F-statistic:                     170.4\n",
      "Date:                Fri, 12 Sep 2025   Prob (F-statistic):           1.22e-72\n",
      "Time:                        19:21:06   Log-Likelihood:            -1.1777e+05\n",
      "No. Observations:                5782   AIC:                         2.356e+05\n",
      "Df Residuals:                    5779   BIC:                         2.356e+05\n",
      "Df Model:                           2                                         \n",
      "Covariance Type:            nonrobust                                         \n",
      "===================================================================================\n",
      "                      coef    std err          t      P>|t|      [0.025      0.975]\n",
      "-----------------------------------------------------------------------------------\n",
      "const           -3.527e+08   2.46e+07    -14.350      0.000   -4.01e+08   -3.05e+08\n",
      "runtime_minutes  2.669e+06   1.95e+05     13.670      0.000    2.29e+06    3.05e+06\n",
      "averagerating    2.714e+07   3.23e+06      8.391      0.000    2.08e+07    3.35e+07\n",
      "==============================================================================\n",
      "Omnibus:                     5307.161   Durbin-Watson:                   0.538\n",
      "Prob(Omnibus):                  0.000   Jarque-Bera (JB):           266081.968\n",
      "Skew:                           4.312   Prob(JB):                         0.00\n",
      "Kurtosis:                      35.095   Cond. No.                     1.15e+03\n",
      "==============================================================================\n",
      "\n",
      "Notes:\n",
      "[1] Standard Errors assume that the covariance matrix of the errors is correctly specified.\n",
      "[2] The condition number is large, 1.15e+03. This might indicate that there are\n",
      "strong multicollinearity or other numerical problems.\n"
     ]
    }
   ],
   "source": [
    "# Select relevant columns\n",
    "cols = ['worldwide_gross', 'runtime_minutes', 'averagerating']\n",
    "df_reg = merged_df[cols].dropna()\n",
    "\n",
    "# Define X and y\n",
    "X = df_reg[['runtime_minutes', 'averagerating']]\n",
    "y = df_reg['worldwide_gross']\n",
    "\n",
    "# Add constant for intercept\n",
    "X = sm.add_constant(X)\n",
    "\n",
    "# Fit regression model\n",
    "model = sm.OLS(y, X).fit()\n",
    "\n",
    "# Show summary\n",
    "print(model.summary())\n"
   ]
  },
  {
   "cell_type": "markdown",
   "metadata": {},
   "source": [
    "The Model explains only 5% of the variation in the worldwide gross being explaine by runtime minutes and average raring"
   ]
  },
  {
   "cell_type": "code",
   "execution_count": 221,
   "metadata": {},
   "outputs": [
    {
     "name": "stdout",
     "output_type": "stream",
     "text": [
      "Correlation: 0.262199903671955\n"
     ]
    }
   ],
   "source": [
    "# Correlation between runtime_minutes and averagerating\n",
    "corr_value = merged_df['runtime_minutes'].corr(merged_df['averagerating'])\n",
    "print(\"Correlation:\", corr_value)"
   ]
  },
  {
   "cell_type": "markdown",
   "metadata": {},
   "source": [
    "The two predictor variables have a weak positive correlation. Hence multicollinearity is not a major problem"
   ]
  },
  {
   "cell_type": "markdown",
   "metadata": {},
   "source": [
    "## Deductions from the summary\n",
    "\n",
    "1. The Model Has Some Predictive Power, But It's Weak\n",
    "\n",
    "The R-squared of 0.056 means that only about 5.6% of the variation in how much money a movie makes can be explained by how long it is and what its average rating is.\n",
    "\n",
    "This is a very low number. It tells us that while these factors have a statistically measurable effect, they are not the main drivers of a movie's financial success. Other factors not included here (like marketing budget, franchise power, star actors, genre, competition, etc.) are far more important.\n",
    "\n",
    "2. The Relationship Between Factors and Money\n",
    "\n",
    "Longer Movies Make More Money: For each additional minute a movie runs, the model predicts it will make about $2.66 million more. This makes intuitive sense, as longer films are often bigger-budget blockbusters.\n",
    "\n",
    "Higher Ratings Make More Money: For each additional point on a 10-point rating scale, a movie is predicted to make about $27.1 million more. This confirms that better-reviewed movies tend to perform better at the box office."
   ]
  },
  {
   "cell_type": "markdown",
   "metadata": {},
   "source": [
    "##  Objective 3: Identify whether movie genres and directors significantly explain variation in worldwide gross (returns), and determine which ones consistently outperform others."
   ]
  },
  {
   "cell_type": "markdown",
   "metadata": {},
   "source": [
    "Variables\n",
    "\n",
    "Dependent variable (response):\n",
    "\n",
    "worldwide_gross (or ROI if you want profitability instead of raw revenue).\n",
    "\n",
    "Independent variables (predictors):\n",
    "\n",
    "genre (categorical, one-hot encoded)\n",
    "\n",
    "director (categorical, one-hot encoded)"
   ]
  },
  {
   "cell_type": "markdown",
   "metadata": {},
   "source": [
    "## Hypotheses\n",
    "\n",
    "Overall Model Hypotheses\n",
    "\n",
    "Null Hypothesis (H₀):\n",
    "Movie genres and directors do not significantly explain variation in worldwide gross.\n",
    "(All genre and director coefficients = 0 after controlling for others.)\n",
    "\n",
    "Alternative Hypothesis (H₁):\n",
    "At least one genre or one director has a significant effect on worldwide gross.\n",
    "(At least one coefficient ≠ 0.)\n",
    "\n",
    "2. Hypotheses for Genres\n",
    "\n",
    "H₀ (Genres): Average worldwide gross is the same across all movie genres.\n",
    "H₁ (Genres):\n",
    "At least one genre has a different average worldwide gross compared to others.\n",
    "(Some genres systematically outperform or underperform.)\n",
    "\n",
    "3. Hypotheses for Directors\n",
    "\n",
    "H₀ (Directors):\n",
    "Average worldwide gross does not differ significantly by director.\n",
    "H₁ (Directors):\n",
    "At least one director consistently yields significantly different worldwide gross than others."
   ]
  },
  {
   "cell_type": "markdown",
   "metadata": {},
   "source": [
    "## Model specification:\n",
    "    y = β0​+β1x1 + β2x2 + ϵ"
   ]
  },
  {
   "cell_type": "code",
   "execution_count": 222,
   "metadata": {},
   "outputs": [],
   "source": [
    "final_df = pd.merge(\n",
    "    merged_df,\n",
    "    ratings_with_director,\n",
    "    on=\"id\",     \n",
    "    how=\"inner\"   \n",
    ")"
   ]
  },
  {
   "cell_type": "code",
   "execution_count": 223,
   "metadata": {},
   "outputs": [
    {
     "data": {
      "text/html": [
       "<div>\n",
       "<style scoped>\n",
       "    .dataframe tbody tr th:only-of-type {\n",
       "        vertical-align: middle;\n",
       "    }\n",
       "\n",
       "    .dataframe tbody tr th {\n",
       "        vertical-align: top;\n",
       "    }\n",
       "\n",
       "    .dataframe thead th {\n",
       "        text-align: right;\n",
       "    }\n",
       "</style>\n",
       "<table border=\"1\" class=\"dataframe\">\n",
       "  <thead>\n",
       "    <tr style=\"text-align: right;\">\n",
       "      <th></th>\n",
       "      <th>id</th>\n",
       "      <th>release_date</th>\n",
       "      <th>movie</th>\n",
       "      <th>production_budget</th>\n",
       "      <th>domestic_gross</th>\n",
       "      <th>worldwide_gross</th>\n",
       "      <th>studio</th>\n",
       "      <th>foreign_gross</th>\n",
       "      <th>year</th>\n",
       "      <th>movie_id</th>\n",
       "      <th>...</th>\n",
       "      <th>genre</th>\n",
       "      <th>release_year</th>\n",
       "      <th>review</th>\n",
       "      <th>rating</th>\n",
       "      <th>fresh</th>\n",
       "      <th>critic</th>\n",
       "      <th>top_critic</th>\n",
       "      <th>publisher</th>\n",
       "      <th>date</th>\n",
       "      <th>director</th>\n",
       "    </tr>\n",
       "  </thead>\n",
       "  <tbody>\n",
       "    <tr>\n",
       "      <th>0</th>\n",
       "      <td>3</td>\n",
       "      <td>2019-06-07</td>\n",
       "      <td>Dark Phoenix</td>\n",
       "      <td>350000000.0</td>\n",
       "      <td>42762350.0</td>\n",
       "      <td>149762350.0</td>\n",
       "      <td>Unknown</td>\n",
       "      <td>0.0</td>\n",
       "      <td>2019</td>\n",
       "      <td>tt6565702</td>\n",
       "      <td>...</td>\n",
       "      <td>Action,Adventure,Sci-Fi</td>\n",
       "      <td>2019</td>\n",
       "      <td>A distinctly gallows take on contemporary fina...</td>\n",
       "      <td>3.0</td>\n",
       "      <td>fresh</td>\n",
       "      <td>PJ Nabarro</td>\n",
       "      <td>0</td>\n",
       "      <td>Patrick Nabarro</td>\n",
       "      <td>November 10, 2018</td>\n",
       "      <td>David Cronenberg</td>\n",
       "    </tr>\n",
       "    <tr>\n",
       "      <th>1</th>\n",
       "      <td>3</td>\n",
       "      <td>2019-06-07</td>\n",
       "      <td>Dark Phoenix</td>\n",
       "      <td>350000000.0</td>\n",
       "      <td>42762350.0</td>\n",
       "      <td>149762350.0</td>\n",
       "      <td>Unknown</td>\n",
       "      <td>0.0</td>\n",
       "      <td>2019</td>\n",
       "      <td>tt6565702</td>\n",
       "      <td>...</td>\n",
       "      <td>Action,Adventure,Sci-Fi</td>\n",
       "      <td>2019</td>\n",
       "      <td>Quickly grows repetitive and tiresome, meander...</td>\n",
       "      <td>3.0</td>\n",
       "      <td>rotten</td>\n",
       "      <td>Eric D. Snider</td>\n",
       "      <td>0</td>\n",
       "      <td>EricDSnider.com</td>\n",
       "      <td>July 17, 2013</td>\n",
       "      <td>David Cronenberg</td>\n",
       "    </tr>\n",
       "    <tr>\n",
       "      <th>2</th>\n",
       "      <td>3</td>\n",
       "      <td>2019-06-07</td>\n",
       "      <td>Dark Phoenix</td>\n",
       "      <td>350000000.0</td>\n",
       "      <td>42762350.0</td>\n",
       "      <td>149762350.0</td>\n",
       "      <td>Unknown</td>\n",
       "      <td>0.0</td>\n",
       "      <td>2019</td>\n",
       "      <td>tt6565702</td>\n",
       "      <td>...</td>\n",
       "      <td>Action,Adventure,Sci-Fi</td>\n",
       "      <td>2019</td>\n",
       "      <td>Cronenberg is not a director to be daunted by ...</td>\n",
       "      <td>2.0</td>\n",
       "      <td>rotten</td>\n",
       "      <td>Matt Kelemen</td>\n",
       "      <td>0</td>\n",
       "      <td>Las Vegas CityLife</td>\n",
       "      <td>April 21, 2013</td>\n",
       "      <td>David Cronenberg</td>\n",
       "    </tr>\n",
       "    <tr>\n",
       "      <th>3</th>\n",
       "      <td>3</td>\n",
       "      <td>2019-06-07</td>\n",
       "      <td>Dark Phoenix</td>\n",
       "      <td>350000000.0</td>\n",
       "      <td>42762350.0</td>\n",
       "      <td>149762350.0</td>\n",
       "      <td>Unknown</td>\n",
       "      <td>0.0</td>\n",
       "      <td>2019</td>\n",
       "      <td>tt6565702</td>\n",
       "      <td>...</td>\n",
       "      <td>Action,Adventure,Sci-Fi</td>\n",
       "      <td>2019</td>\n",
       "      <td>Robert Pattinson works mighty hard to make Cos...</td>\n",
       "      <td>2.0</td>\n",
       "      <td>rotten</td>\n",
       "      <td>Christian Toto</td>\n",
       "      <td>0</td>\n",
       "      <td>Big Hollywood</td>\n",
       "      <td>January 15, 2013</td>\n",
       "      <td>David Cronenberg</td>\n",
       "    </tr>\n",
       "    <tr>\n",
       "      <th>4</th>\n",
       "      <td>3</td>\n",
       "      <td>2019-06-07</td>\n",
       "      <td>Dark Phoenix</td>\n",
       "      <td>350000000.0</td>\n",
       "      <td>42762350.0</td>\n",
       "      <td>149762350.0</td>\n",
       "      <td>Unknown</td>\n",
       "      <td>0.0</td>\n",
       "      <td>2019</td>\n",
       "      <td>tt6565702</td>\n",
       "      <td>...</td>\n",
       "      <td>Action,Adventure,Sci-Fi</td>\n",
       "      <td>2019</td>\n",
       "      <td>The anger over the injustice of the financial ...</td>\n",
       "      <td>2.0</td>\n",
       "      <td>fresh</td>\n",
       "      <td>Robert Roten</td>\n",
       "      <td>0</td>\n",
       "      <td>Laramie Movie Scope</td>\n",
       "      <td>January 7, 2013</td>\n",
       "      <td>David Cronenberg</td>\n",
       "    </tr>\n",
       "    <tr>\n",
       "      <th>...</th>\n",
       "      <td>...</td>\n",
       "      <td>...</td>\n",
       "      <td>...</td>\n",
       "      <td>...</td>\n",
       "      <td>...</td>\n",
       "      <td>...</td>\n",
       "      <td>...</td>\n",
       "      <td>...</td>\n",
       "      <td>...</td>\n",
       "      <td>...</td>\n",
       "      <td>...</td>\n",
       "      <td>...</td>\n",
       "      <td>...</td>\n",
       "      <td>...</td>\n",
       "      <td>...</td>\n",
       "      <td>...</td>\n",
       "      <td>...</td>\n",
       "      <td>...</td>\n",
       "      <td>...</td>\n",
       "      <td>...</td>\n",
       "      <td>...</td>\n",
       "    </tr>\n",
       "    <tr>\n",
       "      <th>104053</th>\n",
       "      <td>99</td>\n",
       "      <td>2015-07-07</td>\n",
       "      <td>Tiger Orange</td>\n",
       "      <td>100000.0</td>\n",
       "      <td>0.0</td>\n",
       "      <td>0.0</td>\n",
       "      <td>Unknown</td>\n",
       "      <td>0.0</td>\n",
       "      <td>2015</td>\n",
       "      <td>tt2866824</td>\n",
       "      <td>...</td>\n",
       "      <td>Drama</td>\n",
       "      <td>2015</td>\n",
       "      <td>Two Weeks Notice will find its audience of mid...</td>\n",
       "      <td>1.0</td>\n",
       "      <td>rotten</td>\n",
       "      <td>Walter Chaw</td>\n",
       "      <td>0</td>\n",
       "      <td>Film Freak Central</td>\n",
       "      <td>December 19, 2002</td>\n",
       "      <td></td>\n",
       "    </tr>\n",
       "    <tr>\n",
       "      <th>104054</th>\n",
       "      <td>99</td>\n",
       "      <td>2015-07-07</td>\n",
       "      <td>Tiger Orange</td>\n",
       "      <td>100000.0</td>\n",
       "      <td>0.0</td>\n",
       "      <td>0.0</td>\n",
       "      <td>Unknown</td>\n",
       "      <td>0.0</td>\n",
       "      <td>2015</td>\n",
       "      <td>tt2866824</td>\n",
       "      <td>...</td>\n",
       "      <td>Drama</td>\n",
       "      <td>2015</td>\n",
       "      <td>Like a medium-grade network sitcom--mostly ino...</td>\n",
       "      <td>3.0</td>\n",
       "      <td>rotten</td>\n",
       "      <td>Frank Swietek</td>\n",
       "      <td>0</td>\n",
       "      <td>One Guy's Opinion</td>\n",
       "      <td>December 18, 2002</td>\n",
       "      <td></td>\n",
       "    </tr>\n",
       "    <tr>\n",
       "      <th>104055</th>\n",
       "      <td>99</td>\n",
       "      <td>2015-07-07</td>\n",
       "      <td>Tiger Orange</td>\n",
       "      <td>100000.0</td>\n",
       "      <td>0.0</td>\n",
       "      <td>0.0</td>\n",
       "      <td>Unknown</td>\n",
       "      <td>0.0</td>\n",
       "      <td>2015</td>\n",
       "      <td>tt2866824</td>\n",
       "      <td>...</td>\n",
       "      <td>Drama</td>\n",
       "      <td>2015</td>\n",
       "      <td>Bullock and Grant, who made for memorable inte...</td>\n",
       "      <td>2.0</td>\n",
       "      <td>fresh</td>\n",
       "      <td>Laura Clifford</td>\n",
       "      <td>0</td>\n",
       "      <td>Reeling Reviews</td>\n",
       "      <td>December 18, 2002</td>\n",
       "      <td></td>\n",
       "    </tr>\n",
       "    <tr>\n",
       "      <th>104056</th>\n",
       "      <td>99</td>\n",
       "      <td>2015-07-07</td>\n",
       "      <td>Tiger Orange</td>\n",
       "      <td>100000.0</td>\n",
       "      <td>0.0</td>\n",
       "      <td>0.0</td>\n",
       "      <td>Unknown</td>\n",
       "      <td>0.0</td>\n",
       "      <td>2015</td>\n",
       "      <td>tt2866824</td>\n",
       "      <td>...</td>\n",
       "      <td>Drama</td>\n",
       "      <td>2015</td>\n",
       "      <td>What can I write about Two Weeks Notice that I...</td>\n",
       "      <td>2.0</td>\n",
       "      <td>rotten</td>\n",
       "      <td>James Berardinelli</td>\n",
       "      <td>1</td>\n",
       "      <td>ReelViews</td>\n",
       "      <td>December 17, 2002</td>\n",
       "      <td></td>\n",
       "    </tr>\n",
       "    <tr>\n",
       "      <th>104057</th>\n",
       "      <td>99</td>\n",
       "      <td>2015-07-07</td>\n",
       "      <td>Tiger Orange</td>\n",
       "      <td>100000.0</td>\n",
       "      <td>0.0</td>\n",
       "      <td>0.0</td>\n",
       "      <td>Unknown</td>\n",
       "      <td>0.0</td>\n",
       "      <td>2015</td>\n",
       "      <td>tt2866824</td>\n",
       "      <td>...</td>\n",
       "      <td>Drama</td>\n",
       "      <td>2015</td>\n",
       "      <td>Two Weeks Notice is a defiantly unoriginal fil...</td>\n",
       "      <td>4.0</td>\n",
       "      <td>rotten</td>\n",
       "      <td>Philip Martin</td>\n",
       "      <td>0</td>\n",
       "      <td>Arkansas Democrat-Gazette</td>\n",
       "      <td>December 16, 2002</td>\n",
       "      <td></td>\n",
       "    </tr>\n",
       "  </tbody>\n",
       "</table>\n",
       "<p>104058 rows × 29 columns</p>\n",
       "</div>"
      ],
      "text/plain": [
       "        id release_date         movie  production_budget  domestic_gross  \\\n",
       "0        3   2019-06-07  Dark Phoenix        350000000.0      42762350.0   \n",
       "1        3   2019-06-07  Dark Phoenix        350000000.0      42762350.0   \n",
       "2        3   2019-06-07  Dark Phoenix        350000000.0      42762350.0   \n",
       "3        3   2019-06-07  Dark Phoenix        350000000.0      42762350.0   \n",
       "4        3   2019-06-07  Dark Phoenix        350000000.0      42762350.0   \n",
       "...     ..          ...           ...                ...             ...   \n",
       "104053  99   2015-07-07  Tiger Orange           100000.0             0.0   \n",
       "104054  99   2015-07-07  Tiger Orange           100000.0             0.0   \n",
       "104055  99   2015-07-07  Tiger Orange           100000.0             0.0   \n",
       "104056  99   2015-07-07  Tiger Orange           100000.0             0.0   \n",
       "104057  99   2015-07-07  Tiger Orange           100000.0             0.0   \n",
       "\n",
       "        worldwide_gross   studio  foreign_gross  year   movie_id  ...  \\\n",
       "0           149762350.0  Unknown            0.0  2019  tt6565702  ...   \n",
       "1           149762350.0  Unknown            0.0  2019  tt6565702  ...   \n",
       "2           149762350.0  Unknown            0.0  2019  tt6565702  ...   \n",
       "3           149762350.0  Unknown            0.0  2019  tt6565702  ...   \n",
       "4           149762350.0  Unknown            0.0  2019  tt6565702  ...   \n",
       "...                 ...      ...            ...   ...        ...  ...   \n",
       "104053              0.0  Unknown            0.0  2015  tt2866824  ...   \n",
       "104054              0.0  Unknown            0.0  2015  tt2866824  ...   \n",
       "104055              0.0  Unknown            0.0  2015  tt2866824  ...   \n",
       "104056              0.0  Unknown            0.0  2015  tt2866824  ...   \n",
       "104057              0.0  Unknown            0.0  2015  tt2866824  ...   \n",
       "\n",
       "                          genre  release_year  \\\n",
       "0       Action,Adventure,Sci-Fi          2019   \n",
       "1       Action,Adventure,Sci-Fi          2019   \n",
       "2       Action,Adventure,Sci-Fi          2019   \n",
       "3       Action,Adventure,Sci-Fi          2019   \n",
       "4       Action,Adventure,Sci-Fi          2019   \n",
       "...                         ...           ...   \n",
       "104053                    Drama          2015   \n",
       "104054                    Drama          2015   \n",
       "104055                    Drama          2015   \n",
       "104056                    Drama          2015   \n",
       "104057                    Drama          2015   \n",
       "\n",
       "                                                   review  rating   fresh  \\\n",
       "0       A distinctly gallows take on contemporary fina...     3.0   fresh   \n",
       "1       Quickly grows repetitive and tiresome, meander...     3.0  rotten   \n",
       "2       Cronenberg is not a director to be daunted by ...     2.0  rotten   \n",
       "3       Robert Pattinson works mighty hard to make Cos...     2.0  rotten   \n",
       "4       The anger over the injustice of the financial ...     2.0   fresh   \n",
       "...                                                   ...     ...     ...   \n",
       "104053  Two Weeks Notice will find its audience of mid...     1.0  rotten   \n",
       "104054  Like a medium-grade network sitcom--mostly ino...     3.0  rotten   \n",
       "104055  Bullock and Grant, who made for memorable inte...     2.0   fresh   \n",
       "104056  What can I write about Two Weeks Notice that I...     2.0  rotten   \n",
       "104057  Two Weeks Notice is a defiantly unoriginal fil...     4.0  rotten   \n",
       "\n",
       "                    critic  top_critic                  publisher  \\\n",
       "0               PJ Nabarro           0            Patrick Nabarro   \n",
       "1           Eric D. Snider           0            EricDSnider.com   \n",
       "2             Matt Kelemen           0         Las Vegas CityLife   \n",
       "3           Christian Toto           0              Big Hollywood   \n",
       "4             Robert Roten           0        Laramie Movie Scope   \n",
       "...                    ...         ...                        ...   \n",
       "104053         Walter Chaw           0         Film Freak Central   \n",
       "104054       Frank Swietek           0          One Guy's Opinion   \n",
       "104055      Laura Clifford           0            Reeling Reviews   \n",
       "104056  James Berardinelli           1                  ReelViews   \n",
       "104057       Philip Martin           0  Arkansas Democrat-Gazette   \n",
       "\n",
       "                     date          director  \n",
       "0       November 10, 2018  David Cronenberg  \n",
       "1           July 17, 2013  David Cronenberg  \n",
       "2          April 21, 2013  David Cronenberg  \n",
       "3        January 15, 2013  David Cronenberg  \n",
       "4         January 7, 2013  David Cronenberg  \n",
       "...                   ...               ...  \n",
       "104053  December 19, 2002                    \n",
       "104054  December 18, 2002                    \n",
       "104055  December 18, 2002                    \n",
       "104056  December 17, 2002                    \n",
       "104057  December 16, 2002                    \n",
       "\n",
       "[104058 rows x 29 columns]"
      ]
     },
     "execution_count": 223,
     "metadata": {},
     "output_type": "execute_result"
    }
   ],
   "source": [
    "final_df"
   ]
  },
  {
   "cell_type": "markdown",
   "metadata": {},
   "source": [
    "## Visualizing the Dataset\n",
    "\n",
    "You can explore the distribution of the rating column and also how ratings vary by director, critic, or freshness"
   ]
  },
  {
   "cell_type": "markdown",
   "metadata": {},
   "source": [
    "a. 1. Distribution of Production Budget & Gross"
   ]
  },
  {
   "cell_type": "code",
   "execution_count": 224,
   "metadata": {},
   "outputs": [
    {
     "data": {
      "image/png": "[encoded data removed]",
      "text/plain": [
       "<Figure size 1296x360 with 3 Axes>"
      ]
     },
     "metadata": {
      "needs_background": "light"
     },
     "output_type": "display_data"
    }
   ],
   "source": [
    "import seaborn as sns\n",
    "import matplotlib.pyplot as plt\n",
    "\n",
    "fig, axes = plt.subplots(1, 3, figsize=(18,5))\n",
    "\n",
    "sns.histplot(final_df['production_budget'], bins=30, kde=True, ax=axes[0])\n",
    "axes[0].set_title(\"Distribution of Production Budgets\")\n",
    "\n",
    "sns.histplot(final_df['domestic_gross'], bins=30, kde=True, ax=axes[1])\n",
    "axes[1].set_title(\"Distribution of Domestic Gross\")\n",
    "\n",
    "sns.histplot(final_df['worldwide_gross'], bins=30, kde=True, ax=axes[2])\n",
    "axes[2].set_title(\"Distribution of Worldwide Gross\")\n",
    "\n",
    "plt.tight_layout()\n",
    "plt.show()\n",
    "\n"
   ]
  },
  {
   "cell_type": "markdown",
   "metadata": {},
   "source": [
    "Interpretation\n",
    "1. Production Budget\n",
    "Shape: Strong right skew.\n",
    "Most movies have low to moderate budgets, clustered below $50M.\n",
    "A few films have extremely high budgets (hundreds of millions), which are outliers compared to the bulk of films.\n",
    "Implication: The movie industry is dominated by low-to-mid budget films, but a handful of blockbusters pull the distribution’s tail far to the right.\n",
    "\n",
    "2. Domestic Gross\n",
    "Shape: Again highly right skewed.\n",
    "Most movies earn under $50M domestically.\n",
    "Very few films exceed $200M in U.S. box office, but those that do are extreme outliers.\n",
    "Implication: Only a small fraction of films become major domestic hits, while the majority gross relatively little.\n",
    "\n",
    "3. Worldwide Gross\n",
    "Shape: Also strongly right skewed.\n",
    "Most movies worldwide gross under $100M.\n",
    "A very small number of global blockbusters exceed $1B, stretching the distribution dramatically.\n",
    "Implication: The global box office is heavily driven by a few mega-hits, while the vast majority of films make modest amounts."
   ]
  },
  {
   "cell_type": "markdown",
   "metadata": {},
   "source": [
    "The loglinear model\n",
    "\n",
    "log(Worldwide Gross)=β0​+β1​(Genre)+β2​(Director)"
   ]
  },
  {
   "cell_type": "code",
   "execution_count": 225,
   "metadata": {},
   "outputs": [
    {
     "name": "stdout",
     "output_type": "stream",
     "text": [
      "                            OLS Regression Results                            \n",
      "==============================================================================\n",
      "Dep. Variable:              log_gross   R-squared:                       0.176\n",
      "Model:                            OLS   Adj. R-squared:                  0.173\n",
      "Method:                 Least Squares   F-statistic:                     82.50\n",
      "Date:                Fri, 12 Sep 2025   Prob (F-statistic):               0.00\n",
      "Time:                        19:21:30   Log-Likelihood:            -3.0217e+05\n",
      "No. Observations:              104058   AIC:                         6.049e+05\n",
      "Df Residuals:                  103789   BIC:                         6.075e+05\n",
      "Df Model:                         268                                         \n",
      "Covariance Type:            nonrobust                                         \n",
      "======================================================================================================================\n",
      "                                                         coef    std err          t      P>|t|      [0.025      0.975]\n",
      "----------------------------------------------------------------------------------------------------------------------\n",
      "Intercept                                             17.1103      0.296     57.902      0.000      16.531      17.689\n",
      "C(genre)[T.Action,Adventure]                          -7.9741      0.652    -12.233      0.000      -9.252      -6.696\n",
      "C(genre)[T.Action,Adventure,Animation]                 3.0498      0.424      7.186      0.000       2.218       3.882\n",
      "C(genre)[T.Action,Adventure,Biography]                 1.9103      0.532      3.592      0.000       0.868       2.953\n",
      "C(genre)[T.Action,Adventure,Comedy]                   -2.1028      0.366     -5.744      0.000      -2.820      -1.385\n",
      "C(genre)[T.Action,Adventure,Crime]                     1.5759      0.444      3.547      0.000       0.705       2.447\n",
      "C(genre)[T.Action,Adventure,Drama]                     1.3400      0.346      3.868      0.000       0.661       2.019\n",
      "C(genre)[T.Action,Adventure,Family]                    2.1493      1.440      1.492      0.136      -0.673       4.972\n",
      "C(genre)[T.Action,Adventure,Fantasy]                   1.8215      0.348      5.234      0.000       1.139       2.504\n",
      "C(genre)[T.Action,Adventure,Horror]                    1.7992      0.735      2.449      0.014       0.360       3.239\n",
      "C(genre)[T.Action,Adventure,Mystery]                  -2.9442      0.487     -6.051      0.000      -3.898      -1.991\n",
      "C(genre)[T.Action,Adventure,Sci-Fi]                    2.4919      0.340      7.333      0.000       1.826       3.158\n",
      "C(genre)[T.Action,Adventure,Thriller]                  2.9109      0.469      6.201      0.000       1.991       3.831\n",
      "C(genre)[T.Action,Adventure,Western]                   1.6762      0.588      2.851      0.004       0.524       2.829\n",
      "C(genre)[T.Action,Animation,Comedy]                    0.0703      0.413      0.170      0.865      -0.740       0.880\n",
      "C(genre)[T.Action,Biography,Crime]                    -2.2858      0.579     -3.951      0.000      -3.420      -1.152\n",
      "C(genre)[T.Action,Biography,Documentary]              -9.4862      0.493    -19.260      0.000     -10.452      -8.521\n",
      "C(genre)[T.Action,Biography,Drama]                     1.8849      0.424      4.444      0.000       1.054       2.716\n",
      "C(genre)[T.Action,Comedy]                              0.6913      0.620      1.115      0.265      -0.524       1.906\n",
      "C(genre)[T.Action,Comedy,Crime]                       -1.4373      0.356     -4.033      0.000      -2.136      -0.739\n",
      "C(genre)[T.Action,Comedy,Drama]                       -7.5358      0.427    -17.634      0.000      -8.373      -6.698\n",
      "C(genre)[T.Action,Comedy,Family]                       1.4055      0.661      2.128      0.033       0.111       2.700\n",
      "C(genre)[T.Action,Comedy,Horror]                      -0.5990      0.567     -1.057      0.291      -1.710       0.512\n",
      "C(genre)[T.Action,Comedy,Sci-Fi]                       1.2632      2.017      0.626      0.531      -2.689       5.216\n",
      "C(genre)[T.Action,Comedy,Sport]                        1.1066      0.879      1.258      0.208      -0.617       2.830\n",
      "C(genre)[T.Action,Crime]                              -1.0213      0.937     -1.090      0.276      -2.858       0.816\n",
      "C(genre)[T.Action,Crime,Drama]                        -0.1802      0.333     -0.541      0.589      -0.833       0.473\n",
      "C(genre)[T.Action,Crime,Fantasy]                     -17.4729      1.844     -9.477      0.000     -21.087     -13.859\n",
      "C(genre)[T.Action,Crime,Sci-Fi]                        0.0369      0.555      0.067      0.947      -1.051       1.125\n",
      "C(genre)[T.Action,Crime,Sport]                         0.9451      0.721      1.311      0.190      -0.468       2.358\n",
      "C(genre)[T.Action,Crime,Thriller]                     -0.2312      0.341     -0.678      0.497      -0.899       0.437\n",
      "C(genre)[T.Action,Documentary,Drama]                   1.1814      2.250      0.525      0.599      -3.228       5.590\n",
      "C(genre)[T.Action,Drama]                              -0.3212      0.456     -0.704      0.481      -1.215       0.573\n",
      "C(genre)[T.Action,Drama,Family]                        2.3771      0.489      4.861      0.000       1.419       3.336\n",
      "C(genre)[T.Action,Drama,Fantasy]                      -0.4473      0.417     -1.073      0.283      -1.264       0.369\n",
      "C(genre)[T.Action,Drama,History]                      -1.7312      0.506     -3.424      0.001      -2.722      -0.740\n",
      "C(genre)[T.Action,Drama,Mystery]                       1.5201      0.609      2.496      0.013       0.326       2.714\n",
      "C(genre)[T.Action,Drama,Romance]                     -17.2778      0.627    -27.540      0.000     -18.507     -16.048\n",
      "C(genre)[T.Action,Drama,Sci-Fi]                        1.0413      0.549      1.898      0.058      -0.034       2.117\n",
      "C(genre)[T.Action,Drama,Thriller]                     -2.1768      0.398     -5.463      0.000      -2.958      -1.396\n",
      "C(genre)[T.Action,Drama,War]                           1.4040      4.470      0.314      0.753      -7.357      10.165\n",
      "C(genre)[T.Action,Fantasy,Horror]                      1.3380      0.423      3.164      0.002       0.509       2.167\n",
      "C(genre)[T.Action,Fantasy,War]                         2.3391      0.627      3.728      0.000       1.110       3.569\n",
      "C(genre)[T.Action,Fantasy,Western]                    -1.0372      0.493     -2.106      0.035      -2.003      -0.072\n",
      "C(genre)[T.Action,Horror]                            -11.5724      1.315     -8.798      0.000     -14.150      -8.994\n",
      "C(genre)[T.Action,Horror,Sci-Fi]                      -0.9451      1.441     -0.656      0.512      -3.770       1.880\n",
      "C(genre)[T.Action,Horror,Thriller]                    -9.9819      0.472    -21.138      0.000     -10.907      -9.056\n",
      "C(genre)[T.Action,Mystery,Sci-Fi]                      2.0836      4.470      0.466      0.641      -6.678      10.845\n",
      "C(genre)[T.Action,Romance,Thriller]                  -16.8331      1.272    -13.234      0.000     -19.326     -14.340\n",
      "C(genre)[T.Action,Sci-Fi]                              3.0075      0.551      5.456      0.000       1.927       4.088\n",
      "C(genre)[T.Action,Sci-Fi,Thriller]                    -3.9562      0.364    -10.876      0.000      -4.669      -3.243\n",
      "C(genre)[T.Action,Sport]                              -7.3554      0.976     -7.536      0.000      -9.269      -5.442\n",
      "C(genre)[T.Action,Thriller]                           -9.4052      0.363    -25.931      0.000     -10.116      -8.694\n",
      "C(genre)[T.Adventure]                                 -0.3468      0.373     -0.929      0.353      -1.079       0.385\n",
      "C(genre)[T.Adventure,Animation]                       -2.9189      0.519     -5.621      0.000      -3.937      -1.901\n",
      "C(genre)[T.Adventure,Animation,Comedy]                 2.5538      0.323      7.902      0.000       1.920       3.187\n",
      "C(genre)[T.Adventure,Animation,Family]                 0.1294      0.405      0.319      0.750      -0.665       0.924\n",
      "C(genre)[T.Adventure,Biography,Documentary]          -10.5034      1.619     -6.488      0.000     -13.676      -7.331\n",
      "C(genre)[T.Adventure,Biography,Drama]                 -7.2321      0.392    -18.436      0.000      -8.001      -6.463\n",
      "C(genre)[T.Adventure,Comedy]                           0.0522      0.507      0.103      0.918      -0.942       1.046\n",
      "C(genre)[T.Adventure,Comedy,Crime]                    -0.8975      0.639     -1.405      0.160      -2.150       0.355\n",
      "C(genre)[T.Adventure,Comedy,Drama]                     0.5462      0.422      1.295      0.195      -0.281       1.373\n",
      "C(genre)[T.Adventure,Comedy,Family]                    2.2320      0.508      4.390      0.000       1.235       3.229\n",
      "C(genre)[T.Adventure,Crime,Drama]                     -1.4413      1.017     -1.417      0.157      -3.435       0.553\n",
      "C(genre)[T.Adventure,Crime,Thriller]                  -4.0757      1.228     -3.318      0.001      -6.483      -1.668\n",
      "C(genre)[T.Adventure,Documentary,History]             -5.3755      2.592     -2.074      0.038     -10.455      -0.296\n",
      "C(genre)[T.Adventure,Drama]                           -3.3271      0.492     -6.764      0.000      -4.291      -2.363\n",
      "C(genre)[T.Adventure,Drama,Family]                     0.9760      3.168      0.308      0.758      -5.233       7.185\n",
      "C(genre)[T.Adventure,Drama,Fantasy]                   -0.6251      1.263     -0.495      0.621      -3.100       1.850\n",
      "C(genre)[T.Adventure,Drama,Horror]                    -4.0420      0.490     -8.243      0.000      -5.003      -3.081\n",
      "C(genre)[T.Adventure,Drama,Romance]                   -1.8605      1.189     -1.564      0.118      -4.191       0.470\n",
      "C(genre)[T.Adventure,Drama,Sci-Fi]                   -13.6367      0.606    -22.485      0.000     -14.825     -12.448\n",
      "C(genre)[T.Adventure,Drama,Thriller]                  -1.6502      0.569     -2.903      0.004      -2.765      -0.536\n",
      "C(genre)[T.Adventure,Family,Fantasy]                   2.1649      0.397      5.459      0.000       1.388       2.942\n",
      "C(genre)[T.Adventure,Fantasy]                          3.5161      2.593      1.356      0.175      -1.566       8.598\n",
      "C(genre)[T.Adventure,Fantasy,Mystery]                 -0.1213      0.656     -0.185      0.853      -1.408       1.165\n",
      "C(genre)[T.Adventure,Horror,Sci-Fi]                   -5.4938      0.976     -5.628      0.000      -7.407      -3.581\n",
      "C(genre)[T.Animation]                                -11.2362      0.879    -12.776      0.000     -12.960      -9.512\n",
      "C(genre)[T.Animation,Comedy,Drama]                    -1.4056      0.879     -1.599      0.110      -3.129       0.318\n",
      "C(genre)[T.Animation,Comedy,Family]                   -0.7269      1.845     -0.394      0.694      -4.343       2.889\n",
      "C(genre)[T.Animation,Drama,Fantasy]                    0.3575      0.721      0.496      0.620      -1.056       1.771\n",
      "C(genre)[T.Biography]                                 -6.0041      1.121     -5.354      0.000      -8.202      -3.806\n",
      "C(genre)[T.Biography,Comedy,Crime]                    -1.2751      0.631     -2.021      0.043      -2.512      -0.038\n",
      "C(genre)[T.Biography,Comedy,Drama]                    -0.6089      0.387     -1.575      0.115      -1.367       0.149\n",
      "C(genre)[T.Biography,Crime,Drama]                     -0.0443      0.408     -0.109      0.914      -0.843       0.755\n",
      "C(genre)[T.Biography,Documentary]                    -16.6051      0.616    -26.945      0.000     -17.813     -15.397\n",
      "C(genre)[T.Biography,Documentary,Drama]                0.9247      0.643      1.437      0.151      -0.336       2.186\n",
      "C(genre)[T.Biography,Documentary,History]             -1.5755      0.455     -3.461      0.001      -2.468      -0.683\n",
      "C(genre)[T.Biography,Documentary,Music]               -0.2790      2.592     -0.108      0.914      -5.359       4.801\n",
      "C(genre)[T.Biography,Drama]                           -0.6053      0.416     -1.456      0.145      -1.420       0.210\n",
      "C(genre)[T.Biography,Drama,Family]                    -0.0652      0.602     -0.108      0.914      -1.245       1.115\n",
      "C(genre)[T.Biography,Drama,Fantasy]                    0.9156      0.556      1.648      0.099      -0.173       2.004\n",
      "C(genre)[T.Biography,Drama,History]                   -0.2902      0.370     -0.784      0.433      -1.016       0.436\n",
      "C(genre)[T.Biography,Drama,Music]                     -0.3853      1.092     -0.353      0.724      -2.526       1.755\n",
      "C(genre)[T.Biography,Drama,Musical]                    1.8056      0.976      1.850      0.064      -0.108       3.719\n",
      "C(genre)[T.Biography,Drama,Mystery]                   -1.8084      0.627     -2.883      0.004      -3.038      -0.579\n",
      "C(genre)[T.Biography,Drama,Romance]                   -0.2244      0.764     -0.293      0.769      -1.723       1.274\n",
      "C(genre)[T.Biography,Drama,Sport]                     -0.3739      0.384     -0.974      0.330      -1.126       0.379\n",
      "C(genre)[T.Biography,Drama,Thriller]                  -0.1461      0.376     -0.388      0.698      -0.884       0.592\n",
      "C(genre)[T.Biography,Drama,War]                       -1.9597      2.593     -0.756      0.450      -7.041       3.122\n",
      "C(genre)[T.Comedy]                                    -1.6610      0.324     -5.121      0.000      -2.297      -1.025\n",
      "C(genre)[T.Comedy,Crime]                              -0.3892      0.495     -0.786      0.432      -1.359       0.581\n",
      "C(genre)[T.Comedy,Crime,Drama]                        -3.4243      0.356     -9.608      0.000      -4.123      -2.726\n",
      "C(genre)[T.Comedy,Crime,Romance]                      -1.3901      0.497     -2.797      0.005      -2.364      -0.416\n",
      "C(genre)[T.Comedy,Crime,Thriller]                     -0.3400      0.530     -0.642      0.521      -1.378       0.698\n",
      "C(genre)[T.Comedy,Documentary]                         0.2189      1.040      0.210      0.833      -1.820       2.258\n",
      "C(genre)[T.Comedy,Drama]                              -5.3188      0.316    -16.815      0.000      -5.939      -4.699\n",
      "C(genre)[T.Comedy,Drama,Family]                       -1.5923      0.459     -3.469      0.001      -2.492      -0.693\n",
      "C(genre)[T.Comedy,Drama,Fantasy]                       1.6149      0.556      2.907      0.004       0.526       2.704\n",
      "C(genre)[T.Comedy,Drama,History]                      -2.6762      0.574     -4.663      0.000      -3.801      -1.551\n",
      "C(genre)[T.Comedy,Drama,Horror]                       -2.6595      4.430     -0.600      0.548     -11.343       6.024\n",
      "C(genre)[T.Comedy,Drama,Music]                        -3.5532      0.396     -8.970      0.000      -4.330      -2.777\n",
      "C(genre)[T.Comedy,Drama,Musical]                      -0.0368      0.639     -0.058      0.954      -1.290       1.216\n",
      "C(genre)[T.Comedy,Drama,Mystery]                      -0.2412      1.272     -0.190      0.850      -2.734       2.252\n",
      "C(genre)[T.Comedy,Drama,Romance]                      -2.9795      0.316     -9.435      0.000      -3.598      -2.361\n",
      "C(genre)[T.Comedy,Drama,Sport]                         0.8157      0.497      1.643      0.100      -0.158       1.789\n",
      "C(genre)[T.Comedy,Family]                              0.8024      0.491      1.634      0.102      -0.160       1.765\n",
      "C(genre)[T.Comedy,Family,Fantasy]                      2.6678      1.321      2.019      0.043       0.078       5.257\n",
      "C(genre)[T.Comedy,Family,Romance]                      2.1659      2.250      0.963      0.336      -2.244       6.576\n",
      "C(genre)[T.Comedy,Fantasy]                             1.5589      2.593      0.601      0.548      -3.522       6.640\n",
      "C(genre)[T.Comedy,Fantasy,Horror]                     -0.7403      0.545     -1.359      0.174      -1.808       0.328\n",
      "C(genre)[T.Comedy,Fantasy,Romance]                     0.8960      2.593      0.346      0.730      -4.186       5.978\n",
      "C(genre)[T.Comedy,Fantasy,Sci-Fi]                     -0.7488      0.656     -1.141      0.254      -2.035       0.538\n",
      "C(genre)[T.Comedy,Fantasy,Thriller]                   -3.6092      1.515     -2.383      0.017      -6.578      -0.640\n",
      "C(genre)[T.Comedy,Horror]                             -4.3126      0.484     -8.919      0.000      -5.260      -3.365\n",
      "C(genre)[T.Comedy,Horror,Mystery]                    -16.9812      1.321    -12.854      0.000     -19.570     -14.392\n",
      "C(genre)[T.Comedy,Horror,Romance]                      0.8552      0.735      1.164      0.244      -0.584       2.295\n",
      "C(genre)[T.Comedy,Horror,Sci-Fi]                     -13.6448      1.320    -10.336      0.000     -16.232     -11.057\n",
      "C(genre)[T.Comedy,Horror,Thriller]                     0.8360      2.569      0.325      0.745      -4.200       5.872\n",
      "C(genre)[T.Comedy,Music]                               1.9943      0.879      2.268      0.023       0.271       3.718\n",
      "C(genre)[T.Comedy,Music,Romance]                     -16.0805      0.466    -34.535      0.000     -16.993     -15.168\n",
      "C(genre)[T.Comedy,Music,War]                          -2.0751      4.430     -0.468      0.640     -10.759       6.608\n",
      "C(genre)[T.Comedy,Mystery]                            -3.1977      2.593     -1.233      0.217      -8.279       1.884\n",
      "C(genre)[T.Comedy,Mystery,Sci-Fi]                      1.2666      4.470      0.283      0.777      -7.494      10.028\n",
      "C(genre)[T.Comedy,Romance]                            -1.8226      0.320     -5.687      0.000      -2.451      -1.194\n",
      "C(genre)[T.Comedy,Romance,Sci-Fi]                      3.1528      2.593      1.216      0.224      -1.929       8.234\n",
      "C(genre)[T.Comedy,Romance,Sport]                      -3.1298      4.470     -0.700      0.484     -11.890       5.631\n",
      "C(genre)[T.Comedy,Romance,Thriller]                  -17.0760      1.228    -13.903      0.000     -19.483     -14.669\n",
      "C(genre)[T.Comedy,Sci-Fi]                              0.5012      0.685      0.731      0.465      -0.842       1.844\n",
      "C(genre)[T.Comedy,Western]                           -17.0027      0.879    -19.333      0.000     -18.726     -15.279\n",
      "C(genre)[T.Crime,Documentary]                         -1.2408      0.665     -1.865      0.062      -2.545       0.063\n",
      "C(genre)[T.Crime,Documentary,Drama]                    1.0283      3.167      0.325      0.745      -5.179       7.236\n",
      "C(genre)[T.Crime,Drama]                               -2.7823      0.466     -5.966      0.000      -3.696      -1.868\n",
      "C(genre)[T.Crime,Drama,History]                       -0.8906      1.844     -0.483      0.629      -4.504       2.723\n",
      "C(genre)[T.Crime,Drama,Horror]                        -6.9866      0.390    -17.917      0.000      -7.751      -6.222\n",
      "C(genre)[T.Crime,Drama,Mystery]                        0.8004      0.400      2.000      0.045       0.016       1.585\n",
      "C(genre)[T.Crime,Drama,Romance]                       -2.5055      1.122     -2.234      0.025      -4.704      -0.307\n",
      "C(genre)[T.Crime,Drama,Thriller]                      -2.6515      0.359     -7.391      0.000      -3.355      -1.948\n",
      "C(genre)[T.Crime,Horror,Mystery]                       0.5764      0.574      1.004      0.315      -0.549       1.702\n",
      "C(genre)[T.Crime,Horror,Thriller]                     -3.2751      2.592     -1.263      0.206      -8.356       1.805\n",
      "C(genre)[T.Crime,Mystery,Thriller]                    -6.7862      0.513    -13.225      0.000      -7.792      -5.780\n",
      "C(genre)[T.Crime,Thriller]                            -0.4205      0.620     -0.678      0.498      -1.636       0.795\n",
      "C(genre)[T.Documentary]                               -4.6624      0.312    -14.964      0.000      -5.273      -4.052\n",
      "C(genre)[T.Documentary,Drama]                        -10.5569      1.712     -6.168      0.000     -13.912      -7.202\n",
      "C(genre)[T.Documentary,Drama,News]                     0.8734      0.631      1.384      0.166      -0.364       2.111\n",
      "C(genre)[T.Documentary,Drama,Sport]                    1.6663      1.189      1.401      0.161      -0.665       3.997\n",
      "C(genre)[T.Documentary,Family]                        -6.2640      1.434     -4.369      0.000      -9.074      -3.454\n",
      "C(genre)[T.Documentary,Music]                          3.1903      3.167      1.007      0.314      -3.017       9.398\n",
      "C(genre)[T.Documentary,News]                          -0.0013      1.516     -0.001      0.999      -2.972       2.969\n",
      "C(genre)[T.Documentary,Sport]                         -5.2787      0.627     -8.414      0.000      -6.508      -4.049\n",
      "C(genre)[T.Documentary,War]                           -3.7002      1.122     -3.299      0.001      -5.899      -1.502\n",
      "C(genre)[T.Drama]                                     -4.2020      0.306    -13.714      0.000      -4.803      -3.601\n",
      "C(genre)[T.Drama,Family]                               1.2402      0.475      2.613      0.009       0.310       2.170\n",
      "C(genre)[T.Drama,Family,Fantasy]                       3.3104      0.631      5.245      0.000       2.073       4.548\n",
      "C(genre)[T.Drama,Family,Music]                        -1.3089      1.829     -0.716      0.474      -4.893       2.275\n",
      "C(genre)[T.Drama,Family,Sport]                        -3.1771      1.122     -2.833      0.005      -5.375      -0.979\n",
      "C(genre)[T.Drama,Fantasy]                             -1.6722      0.577     -2.899      0.004      -2.803      -0.542\n",
      "C(genre)[T.Drama,Fantasy,Horror]                      -0.0193      0.475     -0.041      0.968      -0.950       0.911\n",
      "C(genre)[T.Drama,Fantasy,Musical]                     -3.9007      1.368     -2.851      0.004      -6.583      -1.219\n",
      "C(genre)[T.Drama,Fantasy,Mystery]                     -3.0716      4.470     -0.687      0.492     -11.833       5.690\n",
      "C(genre)[T.Drama,Fantasy,Romance]                      0.5907      0.506      1.168      0.243      -0.400       1.582\n",
      "C(genre)[T.Drama,History]                             -1.3821      0.665     -2.078      0.038      -2.686      -0.078\n",
      "C(genre)[T.Drama,History,Romance]                     -1.4342      1.040     -1.379      0.168      -3.473       0.604\n",
      "C(genre)[T.Drama,History,Sport]                       -4.9260      0.879     -5.602      0.000      -6.649      -3.203\n",
      "C(genre)[T.Drama,History,Thriller]                     1.4027      0.685      2.047      0.041       0.059       2.746\n",
      "C(genre)[T.Drama,History,War]                         -1.1138      0.420     -2.654      0.008      -1.936      -0.291\n",
      "C(genre)[T.Drama,Horror]                              -0.0522      0.516     -0.101      0.919      -1.064       0.960\n",
      "C(genre)[T.Drama,Horror,Mystery]                      -1.7473      0.463     -3.777      0.000      -2.654      -0.841\n",
      "C(genre)[T.Drama,Horror,Sci-Fi]                      -16.5283      0.656    -25.196      0.000     -17.814     -15.243\n",
      "C(genre)[T.Drama,Horror,Thriller]                      0.6702      0.591      1.134      0.257      -0.488       1.828\n",
      "C(genre)[T.Drama,Music]                               -2.4133      0.450     -5.368      0.000      -3.294      -1.532\n",
      "C(genre)[T.Drama,Music,Musical]                       -3.1640      0.708     -4.466      0.000      -4.553      -1.775\n",
      "C(genre)[T.Drama,Music,Romance]                        1.3596      1.122      1.212      0.225      -0.839       3.558\n",
      "C(genre)[T.Drama,Musical,Romance]                     -5.4455      0.976     -5.579      0.000      -7.359      -3.532\n",
      "C(genre)[T.Drama,Mystery]                             -0.5693      1.040     -0.547      0.584      -2.608       1.469\n",
      "C(genre)[T.Drama,Mystery,Romance]                     -0.1333      1.152     -0.116      0.908      -2.391       2.124\n",
      "C(genre)[T.Drama,Mystery,Sci-Fi]                      -0.7023      0.472     -1.487      0.137      -1.628       0.223\n",
      "C(genre)[T.Drama,Mystery,Thriller]                    -0.4032      0.371     -1.088      0.277      -1.130       0.323\n",
      "C(genre)[T.Drama,Romance]                             -1.0427      0.334     -3.122      0.002      -1.697      -0.388\n",
      "C(genre)[T.Drama,Romance,Sci-Fi]                      -3.4216      0.691     -4.955      0.000      -4.775      -2.068\n",
      "C(genre)[T.Drama,Romance,Thriller]                    -2.0559      0.585     -3.516      0.000      -3.202      -0.910\n",
      "C(genre)[T.Drama,Romance,War]                          0.7798      0.430      1.814      0.070      -0.063       1.623\n",
      "C(genre)[T.Drama,Sci-Fi]                              -6.3911      0.691     -9.250      0.000      -7.745      -5.037\n",
      "C(genre)[T.Drama,Sport]                               -1.1571      1.441     -0.803      0.422      -3.982       1.668\n",
      "C(genre)[T.Drama,Thriller]                            -5.6085      0.347    -16.182      0.000      -6.288      -4.929\n",
      "C(genre)[T.Drama,Thriller,Western]                    -6.1133      1.829     -3.343      0.001      -9.697      -2.529\n",
      "C(genre)[T.Drama,War]                                  0.4555      0.485      0.939      0.348      -0.496       1.407\n",
      "C(genre)[T.Drama,Western]                             -2.5719      0.521     -4.937      0.000      -3.593      -1.551\n",
      "C(genre)[T.Family]                                    -4.3273      0.452     -9.565      0.000      -5.214      -3.441\n",
      "C(genre)[T.Family,Fantasy]                            -0.1731      2.592     -0.067      0.947      -5.253       4.907\n",
      "C(genre)[T.Family,Fantasy,Musical]                     3.3810      1.604      2.107      0.035       0.236       6.526\n",
      "C(genre)[T.Family,Sci-Fi]                            -17.5728      1.604    -10.952      0.000     -20.718     -14.428\n",
      "C(genre)[T.Fantasy]                                   -0.0974      0.497     -0.196      0.844      -1.071       0.876\n",
      "C(genre)[T.Fantasy,Horror]                            -1.1089      4.470     -0.248      0.804      -9.871       7.653\n",
      "C(genre)[T.Fantasy,Horror,Thriller]                    1.1305      0.493      2.294      0.022       0.165       2.096\n",
      "C(genre)[T.Horror]                                    -2.2614      0.329     -6.863      0.000      -2.907      -1.616\n",
      "C(genre)[T.Horror,Music,Thriller]                     -1.6807      1.272     -1.321      0.186      -4.174       0.812\n",
      "C(genre)[T.Horror,Musical]                           -17.6659      0.728    -24.282      0.000     -19.092     -16.240\n",
      "C(genre)[T.Horror,Mystery]                             1.0150      2.593      0.392      0.695      -4.066       6.096\n",
      "C(genre)[T.Horror,Mystery,Sci-Fi]                     -0.1132      0.497     -0.228      0.820      -1.087       0.860\n",
      "C(genre)[T.Horror,Mystery,Thriller]                   -1.4148      0.345     -4.099      0.000      -2.091      -0.738\n",
      "C(genre)[T.Horror,Sci-Fi,Thriller]                     0.8726      0.515      1.696      0.090      -0.136       1.881\n",
      "C(genre)[T.Horror,Thriller]                           -5.9753      0.388    -15.401      0.000      -6.736      -5.215\n",
      "C(genre)[T.Mystery,Sci-Fi,Thriller]                    2.4812      1.377      1.802      0.072      -0.217       5.180\n",
      "C(genre)[T.Mystery,Thriller]                           1.1579      0.831      1.394      0.163      -0.470       2.786\n",
      "C(genre)[T.Romance]                                   -2.4112      0.976     -2.471      0.013      -4.324      -0.498\n",
      "C(genre)[T.Sci-Fi]                                   -16.6360      1.189    -13.989      0.000     -18.967     -14.305\n",
      "C(genre)[T.Sci-Fi,Thriller]                           -5.3032      0.629     -8.433      0.000      -6.536      -4.071\n",
      "C(genre)[T.Sport]                                     -2.0746      4.470     -0.464      0.643     -10.835       6.686\n",
      "C(genre)[T.Thriller]                                  -5.9984      0.385    -15.589      0.000      -6.753      -5.244\n",
      "C(genre)[T.Unknown]                                   -1.2180      0.295     -4.127      0.000      -1.796      -0.640\n",
      "C(genre)[T.Western]                                  -17.1103      0.665    -25.718      0.000     -18.414     -15.806\n",
      "C(director)[T.Alan Alda]                              -0.3202      0.303     -1.058      0.290      -0.914       0.273\n",
      "C(director)[T.Allen Hughes|Albert Hughes]             -0.0343      0.163     -0.210      0.833      -0.354       0.286\n",
      "C(director)[T.Allison Anders]                         -0.4133      0.417     -0.992      0.321      -1.230       0.403\n",
      "C(director)[T.Anatole Litvak]                          0.6498      0.594      1.093      0.274      -0.515       1.815\n",
      "C(director)[T.Andy Sidaris]                            0.5282      0.592      0.892      0.372      -0.633       1.689\n",
      "C(director)[T.Barry Levinson]                         -0.1477      0.115     -1.289      0.197      -0.372       0.077\n",
      "C(director)[T.Ben Younger]                            -0.4176      0.073     -5.698      0.000      -0.561      -0.274\n",
      "C(director)[T.Bill Froehlich]                          0.4747      0.597      0.795      0.427      -0.696       1.646\n",
      "C(director)[T.Bruce Beresford]                         0.5556      0.094      5.891      0.000       0.371       0.740\n",
      "C(director)[T.Carl Erik Rinsch]                        0.8572      0.130      6.574      0.000       0.602       1.113\n",
      "C(director)[T.David Cronenberg]                        0.1945      0.068      2.878      0.004       0.062       0.327\n",
      "C(director)[T.Ernst Lubitsch]                         -0.2231      0.182     -1.228      0.219      -0.579       0.133\n",
      "C(director)[T.Frank Marshall]                         -0.4743      0.159     -2.976      0.003      -0.787      -0.162\n",
      "C(director)[T.Jake Kasdan]                             0.3932      0.088      4.448      0.000       0.220       0.566\n",
      "C(director)[T.James Wong]                              0.2317      0.086      2.681      0.007       0.062       0.401\n",
      "C(director)[T.Jay Russell]                             0.0553      0.137      0.404      0.686      -0.213       0.323\n",
      "C(director)[T.Jim Jarmusch]                            0.1675      0.083      2.029      0.042       0.006       0.329\n",
      "C(director)[T.John Gilling]                            0.1096      0.298      0.368      0.713      -0.475       0.694\n",
      "C(director)[T.John Sayles]                             0.4444      0.082      5.443      0.000       0.284       0.604\n",
      "C(director)[T.John Woo]                                0.1230      0.090      1.365      0.172      -0.054       0.300\n",
      "C(director)[T.Jon Turteltaub]                         -0.1076      0.116     -0.926      0.355      -0.336       0.120\n",
      "C(director)[T.Keith Gordon]                            0.1899      0.263      0.722      0.470      -0.326       0.705\n",
      "C(director)[T.Ken Loach]                               0.1854      0.095      1.951      0.051      -0.001       0.372\n",
      "C(director)[T.Kevin Lima]                             -0.1159      0.061     -1.890      0.059      -0.236       0.004\n",
      "C(director)[T.Matt Bettinelli-Olpin|Tyler Gillett]     0.4553      0.101      4.496      0.000       0.257       0.654\n",
      "C(director)[T.Michael Polish]                          0.4625      0.213      2.166      0.030       0.044       0.881\n",
      "C(director)[T.Otto Preminger]                         -0.5230      0.348     -1.501      0.133      -1.206       0.160\n",
      "C(director)[T.Paolo Sorrentino]                        0.3601      0.089      4.068      0.000       0.187       0.534\n",
      "C(director)[T.Pat Proft]                              -0.7170      0.150     -4.792      0.000      -1.010      -0.424\n",
      "C(director)[T.Pauly Shore]                            -0.5681      0.201     -2.822      0.005      -0.963      -0.173\n",
      "C(director)[T.Peter Baldwin]                           0.0565      0.350      0.162      0.872      -0.629       0.742\n",
      "C(director)[T.Peter Cattaneo]                         -0.2772      0.169     -1.637      0.102      -0.609       0.055\n",
      "C(director)[T.Ray Lawrence]                           -0.3238      0.083     -3.879      0.000      -0.487      -0.160\n",
      "C(director)[T.Richard Kelly]                           0.3319      0.090      3.708      0.000       0.156       0.507\n",
      "C(director)[T.Richard Linklater]                      -0.4789      0.421     -1.137      0.256      -1.305       0.347\n",
      "C(director)[T.Rick Rosenthal]                          0.6655      0.414      1.606      0.108      -0.147       1.478\n",
      "C(director)[T.Roy Ward Baker]                          0.8385      0.342      2.452      0.014       0.168       1.509\n",
      "C(director)[T.Steve Boyum]                            -0.1291      0.175     -0.737      0.461      -0.473       0.214\n",
      "C(director)[T.Steven Spielberg]                        0.5960      0.096      6.180      0.000       0.407       0.785\n",
      "C(director)[T.Taylor Hackford]                        -0.0377      0.138     -0.273      0.785      -0.309       0.233\n",
      "C(director)[T.Terence Young]                          -0.3418      0.298     -1.145      0.252      -0.927       0.243\n",
      "C(director)[T.Tom Hanks]                               0.1353      0.064      2.108      0.035       0.009       0.261\n",
      "C(director)[T.Werner Herzog]                           0.3626      0.244      1.487      0.137      -0.115       0.841\n",
      "C(director)[T.William Friedkin]                        0.2812      0.412      0.682      0.495      -0.527       1.089\n",
      "C(director)[T.William Wellman]                         0.1622      0.345      0.470      0.638      -0.514       0.839\n",
      "C(director)[T.Woody Allen]                             0.8469      0.200      4.239      0.000       0.455       1.239\n",
      "C(director)[T.Yimou Zhang]                             0.0035      0.418      0.008      0.993      -0.815       0.822\n",
      "==============================================================================\n",
      "Omnibus:                    43477.327   Durbin-Watson:                   0.050\n",
      "Prob(Omnibus):                  0.000   Jarque-Bera (JB):           184189.207\n",
      "Skew:                          -2.080   Prob(JB):                         0.00\n",
      "Kurtosis:                       8.017   Cond. No.                         443.\n",
      "==============================================================================\n",
      "\n",
      "Notes:\n",
      "[1] Standard Errors assume that the covariance matrix of the errors is correctly specified.\n",
      "\n",
      "ANOVA Results:\n"
     ]
    },
    {
     "name": "stdout",
     "output_type": "stream",
     "text": [
      "                    sum_sq        df          F        PR(>F)\n",
      "C(genre)     4.208219e+05     221.0  97.444935  0.000000e+00\n",
      "C(director)  7.619068e+03      47.0   8.295779  2.018942e-55\n",
      "Residual     2.028141e+06  103789.0        NaN           NaN\n",
      "\n",
      "Percentage Effects vs Baseline:\n",
      " Intercept                                   2.697156e+09\n",
      "C(genre)[T.Action,Adventure]               -9.996557e+01\n",
      "C(genre)[T.Action,Adventure,Animation]      2.011035e+03\n",
      "C(genre)[T.Action,Adventure,Biography]      5.754924e+02\n",
      "C(genre)[T.Action,Adventure,Comedy]        -8.778867e+01\n",
      "C(genre)[T.Action,Adventure,Crime]          3.834993e+02\n",
      "C(genre)[T.Action,Adventure,Drama]          2.818891e+02\n",
      "C(genre)[T.Action,Adventure,Family]         7.578859e+02\n",
      "C(genre)[T.Action,Adventure,Fantasy]        5.180904e+02\n",
      "C(genre)[T.Action,Adventure,Horror]         5.044766e+02\n",
      "C(genre)[T.Action,Adventure,Mystery]       -9.473567e+01\n",
      "C(genre)[T.Action,Adventure,Sci-Fi]         1.108384e+03\n",
      "C(genre)[T.Action,Adventure,Thriller]       1.737302e+03\n",
      "C(genre)[T.Action,Adventure,Western]        4.345240e+02\n",
      "C(genre)[T.Action,Animation,Comedy]         7.287552e+00\n",
      "C(genre)[T.Action,Biography,Crime]         -8.983032e+01\n",
      "C(genre)[T.Action,Biography,Documentary]   -9.999241e+01\n",
      "C(genre)[T.Action,Biography,Drama]          5.585453e+02\n",
      "C(genre)[T.Action,Comedy]                   9.963694e+01\n",
      "C(genre)[T.Action,Comedy,Crime]            -7.624242e+01\n",
      "dtype: float64\n"
     ]
    }
   ],
   "source": [
    "import statsmodels.formula.api as smf\n",
    "from statsmodels.stats.anova import anova_lm\n",
    "\n",
    "# --- Prepare the data ---\n",
    "df = final_df[['worldwide_gross', 'genre', 'director']].dropna()\n",
    "df['log_gross'] = np.log1p(df['worldwide_gross'])  # log(1+x) handles zeros safely\n",
    "\n",
    "# --- Fit log-linear regression ---\n",
    "model = smf.ols(\"log_gross ~ C(genre) + C(director)\", data=df).fit()\n",
    "\n",
    "# --- Model summary ---\n",
    "print(model.summary())\n",
    "\n",
    "# --- ANOVA: test if genres and directors jointly explain variation ---\n",
    "anova_results = anova_lm(model, typ=2)\n",
    "print(\"\\nANOVA Results:\\n\", anova_results)\n",
    "\n",
    "# --- Convert log-coefficients to percentage effects ---\n",
    "effects = (np.exp(model.params) - 1) * 100\n",
    "print(\"\\nPercentage Effects vs Baseline:\\n\", effects.head(20))\n"
   ]
  },
  {
   "cell_type": "code",
   "execution_count": 226,
   "metadata": {},
   "outputs": [
    {
     "name": "stdout",
     "output_type": "stream",
     "text": [
      "Chi-square Statistic: 332087.9522120169\n",
      "Degrees of Freedom: 10387\n",
      "p-value: 0.0\n",
      "❌ Reject H₀: There is a significant association between directors and genres.\n",
      "Cramér's V (0=weak, 1=strong): 0.25652963419299984\n"
     ]
    }
   ],
   "source": [
    "import pandas as pd\n",
    "import scipy.stats as stats\n",
    "import numpy as np\n",
    "\n",
    "# --- Step 1: Build contingency table ---\n",
    "contingency = pd.crosstab(final_df['director'], final_df['genre'])\n",
    "\n",
    "# --- Step 2: Chi-Square Test of Independence ---\n",
    "chi2, p, dof, expected = stats.chi2_contingency(contingency)\n",
    "\n",
    "print(\"Chi-square Statistic:\", chi2)\n",
    "print(\"Degrees of Freedom:\", dof)\n",
    "print(\"p-value:\", p)\n",
    "\n",
    "# --- Step 3: Interpret result ---\n",
    "if p < 0.05:\n",
    "    print(\"❌ Reject H₀: There is a significant association between directors and genres.\")\n",
    "else:\n",
    "    print(\"✅ Fail to reject H₀: No significant association between directors and genres.\")\n",
    "\n",
    "# --- Step 4: Compute Cramér's V (strength of association) ---\n",
    "n = contingency.sum().sum()\n",
    "phi2 = chi2 / n\n",
    "r, k = contingency.shape\n",
    "phi2corr = max(0, phi2 - ((k-1)*(r-1))/(n-1))\n",
    "rcorr = r - ((r-1)**2)/(n-1)\n",
    "kcorr = k - ((k-1)**2)/(n-1)\n",
    "cramers_v = np.sqrt(phi2corr / min((kcorr-1), (rcorr-1)))\n",
    "\n",
    "print(\"Cramér's V (0=weak, 1=strong):\", cramers_v)\n"
   ]
  },
  {
   "cell_type": "markdown",
   "metadata": {},
   "source": [
    "A chi square test of indepence indicates that the variables genre and directors are independent of each other i.e no association between them."
   ]
  },
  {
   "cell_type": "markdown",
   "metadata": {},
   "source": [
    "The null hypothesis is rejected → Both genre and director significantly explain variation in worldwide gross.\n",
    "\n",
    "Some genres (e.g., Action+Adventure+Animation, Action+Adventure+Biography) outperform, while others (Action+Adventure, Action+Adventure+Comedy) underperform relative to the baseline.\n",
    "\n",
    "Effect sizes are large because coefficients are in log scale → small changes translate into big differences in revenue.\n",
    "\n",
    "R² is modest (17%), showing that while genre/director matter, other factors (budget, stars, marketing, release date) also strongly influence revenue."
   ]
  },
  {
   "cell_type": "markdown",
   "metadata": {},
   "source": [
    "# 4. Recommendations\n",
    "\n",
    "1. **Focus on Drama-Family-Fantasy Mix**: Movies that blend drama, family themes, and fantasy elements give the best return on investment. Instead of making single-genre films, create stories that mix emotions with broad family appeal.\n",
    "2. **Release Movies in July and November**: periods around July and pre-holiday November are when movies make the most money. Avoid September and October when films record low revenue collection.\n",
    "3. **Smart Spending Beats Big Spending**: You don't need huge budgets to make big profits. The data shows mid-budget films often deliver better returns on every dollar invested, reducing financial risk while still having enough resources to create quality entertainment that audiences want to see.\n",
    "4. **Work with Proven Directors**: Partner with directors who have a track record of making good movies that audiences love. Great directors help ensure both quality and return on investment are high.\n",
    "\n",
    "\n",
    "# 5. Conclusion\n",
    "\n",
    "\n",
    "The data shows that making money at the box office isn't just about spending huge amounts of money or hiring the biggest stars. What really matters is picking the right mix of genres, choosing when to release your movie, and making sure it's well-made. The best strategy is to make movies with moderate budgets that tell great stories and appeal to different types of audiences, then release them when people are most likely to go to theaters. Working with directors who have a track record of success and creating films that are both entertaining and well-crafted will help your studio reduce financial risk while still making good profits and earning positive reviews. In today's crowded movie market, smart choices matter more than big spending"
   ]
  }
 ],
 "metadata": {
  "kernelspec": {
   "display_name": "Python 3",
   "language": "python",
   "name": "python3"
  },
  "language_info": {
   "codemirror_mode": {
    "name": "ipython",
    "version": 3
   },
   "file_extension": ".py",
   "mimetype": "text/x-python",
   "name": "python",
   "nbconvert_exporter": "python",
   "pygments_lexer": "ipython3",
   "version": "3.8.5"
  }
 },
 "nbformat": 4,
 "nbformat_minor": 2
}
